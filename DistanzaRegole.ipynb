{
  "nbformat": 4,
  "nbformat_minor": 0,
  "metadata": {
    "colab": {
      "name": "DistanzaRegole.ipynb",
      "provenance": [],
      "collapsed_sections": [
        "OaelgBBHCIO3",
        "cm5oNWKdgJl4"
      ],
      "toc_visible": true
    },
    "kernelspec": {
      "display_name": "Python 3",
      "name": "python3"
    },
    "language_info": {
      "name": "python"
    }
  },
  "cells": [
    {
      "cell_type": "code",
      "metadata": {
        "colab": {
          "base_uri": "https://localhost:8080/"
        },
        "id": "nrxulc4cU7DW",
        "outputId": "797f97de-ef40-4294-a6f2-4a0759869466"
      },
      "source": [
        "from google.colab import drive\n",
        "drive.mount ('/content/gdrive', force_remount=True)\n",
        "root_dir = \"/content/gdrive/My Drive/\"\n",
        "base_dir = root_dir + 'Colab Notebooks/Maurizio/Platooning/DistanzaRegole/Import/'"
      ],
      "execution_count": null,
      "outputs": [
        {
          "output_type": "stream",
          "text": [
            "Mounted at /content/gdrive\n"
          ],
          "name": "stdout"
        }
      ]
    },
    {
      "cell_type": "markdown",
      "metadata": {
        "id": "-w0wBRCQU99y"
      },
      "source": [
        "#Import da file csv di Rulex"
      ]
    },
    {
      "cell_type": "code",
      "metadata": {
        "id": "3TJ_Xr7PVnIy"
      },
      "source": [
        "# Import librairies\n",
        "import pandas as pd\n",
        "\n",
        "# Load the data\n",
        "Regole = pd.read_csv(base_dir+\"PERalta_rules.csv\", header=None) \n",
        "Regole['Set'] = 'PER High'\n",
        "\n",
        "RegolePERbassa = pd.read_csv(base_dir+\"PERbassa_rules.csv\", header=None) \n",
        "RegolePERbassa['Set'] = 'PER Low'\n",
        "\n",
        "\n",
        "RegolePERbassa['Regola'] = RegolePERbassa.apply(lambda x: x[0][x[0].find('IF')+3:x[0].find('THEN')-1], axis=1)\n",
        "RegolePERbassa['Covering'] = RegolePERbassa.apply(lambda x: x[1][x[1].find(':')+2:], axis=1)\n",
        "RegolePERbassa['Error'] = RegolePERbassa.apply(lambda x: x[2][x[2].find(':')+2:], axis=1)\n",
        "RegolePERbassa['Class'] = RegolePERbassa.apply(lambda x: x[0][x[0].find('\"')+1:x[0].find('\"')+2], axis=1)\n",
        "RegolePERbassa.drop(Regole.iloc[:,0:3] , axis=1, inplace=True)\n",
        "\n",
        "Regole['Regola'] = Regole.apply(lambda x: x[0][x[0].find('IF')+3:x[0].find('THEN')-1], axis=1)\n",
        "Regole['Covering'] = Regole.apply(lambda x: x[1][x[1].find(':')+2:], axis=1)\n",
        "Regole['Error'] = Regole.apply(lambda x: x[2][x[2].find(':')+2:], axis=1)\n",
        "Regole['Class'] = Regole.apply(lambda x: x[0][x[0].find('\"')+1:x[0].find('\"')+2], axis=1)\n",
        "Regole.drop(Regole.iloc[:,0:3] , axis=1, inplace=True)\n",
        "\n",
        "Regole = pd.concat([Regole, RegolePERbassa], ignore_index=True)"
      ],
      "execution_count": null,
      "outputs": []
    },
    {
      "cell_type": "code",
      "metadata": {
        "colab": {
          "base_uri": "https://localhost:8080/",
          "height": 1000
        },
        "id": "NOgojw8cJV1A",
        "outputId": "d9a86c6b-4b11-4e77-f1d8-87c89d9dae56"
      },
      "source": [
        "Regole"
      ],
      "execution_count": null,
      "outputs": [
        {
          "output_type": "execute_result",
          "data": {
            "text/html": [
              "<div>\n",
              "<style scoped>\n",
              "    .dataframe tbody tr th:only-of-type {\n",
              "        vertical-align: middle;\n",
              "    }\n",
              "\n",
              "    .dataframe tbody tr th {\n",
              "        vertical-align: top;\n",
              "    }\n",
              "\n",
              "    .dataframe thead th {\n",
              "        text-align: right;\n",
              "    }\n",
              "</style>\n",
              "<table border=\"1\" class=\"dataframe\">\n",
              "  <thead>\n",
              "    <tr style=\"text-align: right;\">\n",
              "      <th></th>\n",
              "      <th>Set</th>\n",
              "      <th>Regola</th>\n",
              "      <th>Covering</th>\n",
              "      <th>Error</th>\n",
              "      <th>Class</th>\n",
              "    </tr>\n",
              "  </thead>\n",
              "  <tbody>\n",
              "    <tr>\n",
              "      <th>0</th>\n",
              "      <td>PER High</td>\n",
              "      <td>PER &gt; 0.815000 AND v0 &gt; 17</td>\n",
              "      <td>0.468216</td>\n",
              "      <td>0.047756</td>\n",
              "      <td>1</td>\n",
              "    </tr>\n",
              "    <tr>\n",
              "      <th>1</th>\n",
              "      <td>PER High</td>\n",
              "      <td>N &gt; 3 AND PER &gt; 0.765000 AND v0 &gt; 27</td>\n",
              "      <td>0.453869</td>\n",
              "      <td>0.031700</td>\n",
              "      <td>1</td>\n",
              "    </tr>\n",
              "    <tr>\n",
              "      <th>2</th>\n",
              "      <td>PER High</td>\n",
              "      <td>N &gt; 3 AND F0 &lt;= -2 AND PER &gt; 0.605000 AND v0 &gt; 51</td>\n",
              "      <td>0.431529</td>\n",
              "      <td>0.048580</td>\n",
              "      <td>1</td>\n",
              "    </tr>\n",
              "    <tr>\n",
              "      <th>3</th>\n",
              "      <td>PER High</td>\n",
              "      <td>PER &gt; 0.765000 AND v0 &gt; 39</td>\n",
              "      <td>0.416455</td>\n",
              "      <td>0.045286</td>\n",
              "      <td>1</td>\n",
              "    </tr>\n",
              "    <tr>\n",
              "      <th>4</th>\n",
              "      <td>PER High</td>\n",
              "      <td>N &gt; 5 AND PER &gt; 0.685000 AND v0 &gt; 28</td>\n",
              "      <td>0.414094</td>\n",
              "      <td>0.038287</td>\n",
              "      <td>1</td>\n",
              "    </tr>\n",
              "    <tr>\n",
              "      <th>5</th>\n",
              "      <td>PER High</td>\n",
              "      <td>N &gt; 3 AND d0 &gt; 5.345500 AND PER &gt; 0.725000 AND...</td>\n",
              "      <td>0.374682</td>\n",
              "      <td>0.046110</td>\n",
              "      <td>1</td>\n",
              "    </tr>\n",
              "    <tr>\n",
              "      <th>6</th>\n",
              "      <td>PER High</td>\n",
              "      <td>N &gt; 7 AND PER &gt; 0.645000</td>\n",
              "      <td>0.369415</td>\n",
              "      <td>0.048991</td>\n",
              "      <td>1</td>\n",
              "    </tr>\n",
              "    <tr>\n",
              "      <th>7</th>\n",
              "      <td>PER High</td>\n",
              "      <td>N &gt; 8</td>\n",
              "      <td>0.345260</td>\n",
              "      <td>0.049403</td>\n",
              "      <td>1</td>\n",
              "    </tr>\n",
              "    <tr>\n",
              "      <th>8</th>\n",
              "      <td>PER High</td>\n",
              "      <td>N &gt; 6 AND d0 &gt; 5.052500 AND PER &gt; 0.635000 AND...</td>\n",
              "      <td>0.327279</td>\n",
              "      <td>0.039934</td>\n",
              "      <td>1</td>\n",
              "    </tr>\n",
              "    <tr>\n",
              "      <th>9</th>\n",
              "      <td>PER High</td>\n",
              "      <td>N &gt; 3 AND F0 &lt;= -2 AND PER &gt; 0.575000 AND v0 &gt; 63</td>\n",
              "      <td>0.315292</td>\n",
              "      <td>0.039522</td>\n",
              "      <td>1</td>\n",
              "    </tr>\n",
              "    <tr>\n",
              "      <th>10</th>\n",
              "      <td>PER High</td>\n",
              "      <td>N &gt; 3 AND d0 &gt; 5.909500 AND PER &gt; 0.695000 AND...</td>\n",
              "      <td>0.304214</td>\n",
              "      <td>0.039111</td>\n",
              "      <td>1</td>\n",
              "    </tr>\n",
              "    <tr>\n",
              "      <th>11</th>\n",
              "      <td>PER High</td>\n",
              "      <td>N &gt; 3 AND d0 &lt;= 6.883500 AND PER &gt; 0.625000 AN...</td>\n",
              "      <td>0.286596</td>\n",
              "      <td>0.035817</td>\n",
              "      <td>1</td>\n",
              "    </tr>\n",
              "    <tr>\n",
              "      <th>12</th>\n",
              "      <td>PER High</td>\n",
              "      <td>F0 &gt; -5 AND d0 &lt;= 8.130500 AND PER &gt; 0.755000 ...</td>\n",
              "      <td>0.221213</td>\n",
              "      <td>0.042816</td>\n",
              "      <td>1</td>\n",
              "    </tr>\n",
              "    <tr>\n",
              "      <th>13</th>\n",
              "      <td>PER High</td>\n",
              "      <td>F0 &lt;= -5 AND PER &gt; 0.575000 AND v0 &gt; 60</td>\n",
              "      <td>0.220668</td>\n",
              "      <td>0.044051</td>\n",
              "      <td>1</td>\n",
              "    </tr>\n",
              "    <tr>\n",
              "      <th>14</th>\n",
              "      <td>PER High</td>\n",
              "      <td>N &lt;= 9 AND PER &lt;= 0.805000 AND v0 &lt;= 34</td>\n",
              "      <td>0.405517</td>\n",
              "      <td>0.047948</td>\n",
              "      <td>0</td>\n",
              "    </tr>\n",
              "    <tr>\n",
              "      <th>15</th>\n",
              "      <td>PER High</td>\n",
              "      <td>N &lt;= 8 AND d0 &gt; 5.326000 AND PER &lt;= 0.845000 A...</td>\n",
              "      <td>0.379992</td>\n",
              "      <td>0.043770</td>\n",
              "      <td>0</td>\n",
              "    </tr>\n",
              "    <tr>\n",
              "      <th>16</th>\n",
              "      <td>PER High</td>\n",
              "      <td>N &lt;= 8 AND PER &lt;= 0.605000</td>\n",
              "      <td>0.373816</td>\n",
              "      <td>0.046495</td>\n",
              "      <td>0</td>\n",
              "    </tr>\n",
              "    <tr>\n",
              "      <th>17</th>\n",
              "      <td>PER High</td>\n",
              "      <td>N &lt;= 7 AND F0 &gt; -8 AND d0 &gt; 5.207500 AND PER &lt;...</td>\n",
              "      <td>0.360642</td>\n",
              "      <td>0.047766</td>\n",
              "      <td>0</td>\n",
              "    </tr>\n",
              "    <tr>\n",
              "      <th>18</th>\n",
              "      <td>PER High</td>\n",
              "      <td>N &lt;= 9 AND PER &lt;= 0.645000 AND v0 &lt;= 56</td>\n",
              "      <td>0.359407</td>\n",
              "      <td>0.036506</td>\n",
              "      <td>0</td>\n",
              "    </tr>\n",
              "    <tr>\n",
              "      <th>19</th>\n",
              "      <td>PER High</td>\n",
              "      <td>N &lt;= 5 AND F0 &gt; -8 AND d0 &gt; 4.475500 AND PER &lt;...</td>\n",
              "      <td>0.332235</td>\n",
              "      <td>0.047948</td>\n",
              "      <td>0</td>\n",
              "    </tr>\n",
              "    <tr>\n",
              "      <th>20</th>\n",
              "      <td>PER High</td>\n",
              "      <td>N &lt;= 7 AND PER &lt;= 0.935000 AND v0 &lt;= 27</td>\n",
              "      <td>0.323178</td>\n",
              "      <td>0.038140</td>\n",
              "      <td>0</td>\n",
              "    </tr>\n",
              "    <tr>\n",
              "      <th>21</th>\n",
              "      <td>PER High</td>\n",
              "      <td>N &lt;= 9 AND PER &lt;= 0.885000 AND v0 &lt;= 24</td>\n",
              "      <td>0.319061</td>\n",
              "      <td>0.039593</td>\n",
              "      <td>0</td>\n",
              "    </tr>\n",
              "    <tr>\n",
              "      <th>22</th>\n",
              "      <td>PER High</td>\n",
              "      <td>N &lt;= 7 AND F0 &lt;= -3 AND d0 &lt;= 7.924500 AND PER...</td>\n",
              "      <td>0.258131</td>\n",
              "      <td>0.049582</td>\n",
              "      <td>0</td>\n",
              "    </tr>\n",
              "    <tr>\n",
              "      <th>23</th>\n",
              "      <td>PER High</td>\n",
              "      <td>N &lt;= 3 AND PER &lt;= 0.905000</td>\n",
              "      <td>0.243310</td>\n",
              "      <td>0.036687</td>\n",
              "      <td>0</td>\n",
              "    </tr>\n",
              "    <tr>\n",
              "      <th>24</th>\n",
              "      <td>PER High</td>\n",
              "      <td>N &lt;= 4 AND F0 &gt; -8 AND d0 &lt;= 8.278500 AND PER ...</td>\n",
              "      <td>0.242898</td>\n",
              "      <td>0.042499</td>\n",
              "      <td>0</td>\n",
              "    </tr>\n",
              "    <tr>\n",
              "      <th>25</th>\n",
              "      <td>PER High</td>\n",
              "      <td>N &lt;= 8 AND F0 &gt; -3 AND PER &lt;= 0.815000</td>\n",
              "      <td>0.218608</td>\n",
              "      <td>0.032147</td>\n",
              "      <td>0</td>\n",
              "    </tr>\n",
              "    <tr>\n",
              "      <th>26</th>\n",
              "      <td>PER High</td>\n",
              "      <td>F0 &gt; -7 AND d0 &lt;= 7.357500 AND PER &lt;= 0.695000...</td>\n",
              "      <td>0.217785</td>\n",
              "      <td>0.045405</td>\n",
              "      <td>0</td>\n",
              "    </tr>\n",
              "    <tr>\n",
              "      <th>27</th>\n",
              "      <td>PER Low</td>\n",
              "      <td>N &gt; 8 AND v0 &gt; 42</td>\n",
              "      <td>0.570453</td>\n",
              "      <td>0.045398</td>\n",
              "      <td>1</td>\n",
              "    </tr>\n",
              "    <tr>\n",
              "      <th>28</th>\n",
              "      <td>PER Low</td>\n",
              "      <td>N &gt; 9</td>\n",
              "      <td>0.540658</td>\n",
              "      <td>0.015339</td>\n",
              "      <td>1</td>\n",
              "    </tr>\n",
              "    <tr>\n",
              "      <th>29</th>\n",
              "      <td>PER Low</td>\n",
              "      <td>N &gt; 8 AND PER &lt;= 0.365000 AND v0 &gt; 36</td>\n",
              "      <td>0.428305</td>\n",
              "      <td>0.044469</td>\n",
              "      <td>1</td>\n",
              "    </tr>\n",
              "    <tr>\n",
              "      <th>30</th>\n",
              "      <td>PER Low</td>\n",
              "      <td>N &gt; 8 AND v0 &lt;= 36</td>\n",
              "      <td>0.210428</td>\n",
              "      <td>0.048187</td>\n",
              "      <td>1</td>\n",
              "    </tr>\n",
              "    <tr>\n",
              "      <th>31</th>\n",
              "      <td>PER Low</td>\n",
              "      <td>N &lt;= 8 AND PER &lt;= 0.385000</td>\n",
              "      <td>0.702510</td>\n",
              "      <td>0.040968</td>\n",
              "      <td>0</td>\n",
              "    </tr>\n",
              "    <tr>\n",
              "      <th>32</th>\n",
              "      <td>PER Low</td>\n",
              "      <td>N &lt;= 7 AND PER &lt;= 0.425000</td>\n",
              "      <td>0.646576</td>\n",
              "      <td>0.043451</td>\n",
              "      <td>0</td>\n",
              "    </tr>\n",
              "    <tr>\n",
              "      <th>33</th>\n",
              "      <td>PER Low</td>\n",
              "      <td>N &lt;= 8 AND v0 &lt;= 57</td>\n",
              "      <td>0.556399</td>\n",
              "      <td>0.028554</td>\n",
              "      <td>0</td>\n",
              "    </tr>\n",
              "    <tr>\n",
              "      <th>34</th>\n",
              "      <td>PER Low</td>\n",
              "      <td>N &lt;= 5</td>\n",
              "      <td>0.456771</td>\n",
              "      <td>0.040968</td>\n",
              "      <td>0</td>\n",
              "    </tr>\n",
              "    <tr>\n",
              "      <th>35</th>\n",
              "      <td>PER Low</td>\n",
              "      <td>N &lt;= 8 AND F0 &gt; -5</td>\n",
              "      <td>0.413387</td>\n",
              "      <td>0.027312</td>\n",
              "      <td>0</td>\n",
              "    </tr>\n",
              "    <tr>\n",
              "      <th>36</th>\n",
              "      <td>PER Low</td>\n",
              "      <td>N &lt;= 9 AND v0 &lt;= 32</td>\n",
              "      <td>0.300589</td>\n",
              "      <td>0.048417</td>\n",
              "      <td>0</td>\n",
              "    </tr>\n",
              "    <tr>\n",
              "      <th>37</th>\n",
              "      <td>PER Low</td>\n",
              "      <td>N &lt;= 9 AND F0 &gt; -8 AND d0 &gt; 7.485000 AND PER &lt;...</td>\n",
              "      <td>0.218159</td>\n",
              "      <td>0.047796</td>\n",
              "      <td>0</td>\n",
              "    </tr>\n",
              "    <tr>\n",
              "      <th>38</th>\n",
              "      <td>PER Low</td>\n",
              "      <td>N &lt;= 9 AND PER &lt;= 0.145000 AND v0 &gt; 32</td>\n",
              "      <td>0.201890</td>\n",
              "      <td>0.046555</td>\n",
              "      <td>0</td>\n",
              "    </tr>\n",
              "  </tbody>\n",
              "</table>\n",
              "</div>"
            ],
            "text/plain": [
              "         Set                                             Regola  ...     Error Class\n",
              "0   PER High                         PER > 0.815000 AND v0 > 17  ...  0.047756     1\n",
              "1   PER High               N > 3 AND PER > 0.765000 AND v0 > 27  ...  0.031700     1\n",
              "2   PER High  N > 3 AND F0 <= -2 AND PER > 0.605000 AND v0 > 51  ...  0.048580     1\n",
              "3   PER High                         PER > 0.765000 AND v0 > 39  ...  0.045286     1\n",
              "4   PER High               N > 5 AND PER > 0.685000 AND v0 > 28  ...  0.038287     1\n",
              "5   PER High  N > 3 AND d0 > 5.345500 AND PER > 0.725000 AND...  ...  0.046110     1\n",
              "6   PER High                           N > 7 AND PER > 0.645000  ...  0.048991     1\n",
              "7   PER High                                              N > 8  ...  0.049403     1\n",
              "8   PER High  N > 6 AND d0 > 5.052500 AND PER > 0.635000 AND...  ...  0.039934     1\n",
              "9   PER High  N > 3 AND F0 <= -2 AND PER > 0.575000 AND v0 > 63  ...  0.039522     1\n",
              "10  PER High  N > 3 AND d0 > 5.909500 AND PER > 0.695000 AND...  ...  0.039111     1\n",
              "11  PER High  N > 3 AND d0 <= 6.883500 AND PER > 0.625000 AN...  ...  0.035817     1\n",
              "12  PER High  F0 > -5 AND d0 <= 8.130500 AND PER > 0.755000 ...  ...  0.042816     1\n",
              "13  PER High            F0 <= -5 AND PER > 0.575000 AND v0 > 60  ...  0.044051     1\n",
              "14  PER High            N <= 9 AND PER <= 0.805000 AND v0 <= 34  ...  0.047948     0\n",
              "15  PER High  N <= 8 AND d0 > 5.326000 AND PER <= 0.845000 A...  ...  0.043770     0\n",
              "16  PER High                         N <= 8 AND PER <= 0.605000  ...  0.046495     0\n",
              "17  PER High  N <= 7 AND F0 > -8 AND d0 > 5.207500 AND PER <...  ...  0.047766     0\n",
              "18  PER High            N <= 9 AND PER <= 0.645000 AND v0 <= 56  ...  0.036506     0\n",
              "19  PER High  N <= 5 AND F0 > -8 AND d0 > 4.475500 AND PER <...  ...  0.047948     0\n",
              "20  PER High            N <= 7 AND PER <= 0.935000 AND v0 <= 27  ...  0.038140     0\n",
              "21  PER High            N <= 9 AND PER <= 0.885000 AND v0 <= 24  ...  0.039593     0\n",
              "22  PER High  N <= 7 AND F0 <= -3 AND d0 <= 7.924500 AND PER...  ...  0.049582     0\n",
              "23  PER High                         N <= 3 AND PER <= 0.905000  ...  0.036687     0\n",
              "24  PER High  N <= 4 AND F0 > -8 AND d0 <= 8.278500 AND PER ...  ...  0.042499     0\n",
              "25  PER High             N <= 8 AND F0 > -3 AND PER <= 0.815000  ...  0.032147     0\n",
              "26  PER High  F0 > -7 AND d0 <= 7.357500 AND PER <= 0.695000...  ...  0.045405     0\n",
              "27   PER Low                                  N > 8 AND v0 > 42  ...  0.045398     1\n",
              "28   PER Low                                              N > 9  ...  0.015339     1\n",
              "29   PER Low              N > 8 AND PER <= 0.365000 AND v0 > 36  ...  0.044469     1\n",
              "30   PER Low                                 N > 8 AND v0 <= 36  ...  0.048187     1\n",
              "31   PER Low                         N <= 8 AND PER <= 0.385000  ...  0.040968     0\n",
              "32   PER Low                         N <= 7 AND PER <= 0.425000  ...  0.043451     0\n",
              "33   PER Low                                N <= 8 AND v0 <= 57  ...  0.028554     0\n",
              "34   PER Low                                             N <= 5  ...  0.040968     0\n",
              "35   PER Low                                 N <= 8 AND F0 > -5  ...  0.027312     0\n",
              "36   PER Low                                N <= 9 AND v0 <= 32  ...  0.048417     0\n",
              "37   PER Low  N <= 9 AND F0 > -8 AND d0 > 7.485000 AND PER <...  ...  0.047796     0\n",
              "38   PER Low             N <= 9 AND PER <= 0.145000 AND v0 > 32  ...  0.046555     0\n",
              "\n",
              "[39 rows x 5 columns]"
            ]
          },
          "metadata": {
            "tags": []
          },
          "execution_count": 3
        }
      ]
    },
    {
      "cell_type": "code",
      "metadata": {
        "id": "pRCcLIU18HlA",
        "colab": {
          "base_uri": "https://localhost:8080/"
        },
        "outputId": "4d2978b0-b99b-4945-b875-5948985b9c7e"
      },
      "source": [
        "Regole.loc[(Regole.Set=='PER Low') ].count()"
      ],
      "execution_count": null,
      "outputs": [
        {
          "output_type": "execute_result",
          "data": {
            "text/plain": [
              "Set         12\n",
              "Regola      12\n",
              "Covering    12\n",
              "Error       12\n",
              "Class       12\n",
              "dtype: int64"
            ]
          },
          "metadata": {
            "tags": []
          },
          "execution_count": 3
        }
      ]
    },
    {
      "cell_type": "markdown",
      "metadata": {
        "id": "vzNvxzRwF4Yr"
      },
      "source": [
        "def convert_litteral(class):\n",
        " if class == '1':\n",
        "    date_as_string = str(date_in_some_format)  # cast to string\n",
        "    year_as_string = date_in_some_format[-4:] # last four characters\n",
        "    return int(year_as_string)\n",
        "\n",
        "df['Date'] = df['Date'].apply(convert_to_year)"
      ]
    },
    {
      "cell_type": "code",
      "metadata": {
        "id": "P18e81OuGSNi"
      },
      "source": [
        "def convert_litteral(classe):\n",
        "  if classe == '1':\n",
        "    return 'Collision'\n",
        "  else:\n",
        "    return 'Non collision'\n",
        "\n",
        "Regole['Class'] = Regole['Class'].apply(convert_litteral)"
      ],
      "execution_count": null,
      "outputs": []
    },
    {
      "cell_type": "code",
      "metadata": {
        "id": "gApx84m6EnEg"
      },
      "source": [
        "Regole"
      ],
      "execution_count": null,
      "outputs": []
    },
    {
      "cell_type": "markdown",
      "metadata": {
        "id": "b6oyftSzjHwP"
      },
      "source": [
        "#Creazione della matrice di vettori di cui calcolare la distanza"
      ]
    },
    {
      "cell_type": "code",
      "metadata": {
        "id": "fQVShDD4LEZg"
      },
      "source": [
        "del RegoleCollisione\n",
        "#del matriceNLP"
      ],
      "execution_count": null,
      "outputs": []
    },
    {
      "cell_type": "markdown",
      "metadata": {
        "id": "9X2O-u4FjPha"
      },
      "source": [
        "Seleziono solo le regole che mi interessano (0 = non collisione, 1 = collisione)"
      ]
    },
    {
      "cell_type": "code",
      "metadata": {
        "id": "9ZmHxZPjkb9x",
        "colab": {
          "base_uri": "https://localhost:8080/",
          "height": 1000
        },
        "outputId": "78212c2f-386a-4187-f03f-271578bee995"
      },
      "source": [
        "RegoleCollisione = Regole.copy()\n",
        "RegoleCollisione.reset_index(drop=True, inplace=True)\n",
        "RegoleCollisione"
      ],
      "execution_count": null,
      "outputs": [
        {
          "output_type": "execute_result",
          "data": {
            "text/html": [
              "<div>\n",
              "<style scoped>\n",
              "    .dataframe tbody tr th:only-of-type {\n",
              "        vertical-align: middle;\n",
              "    }\n",
              "\n",
              "    .dataframe tbody tr th {\n",
              "        vertical-align: top;\n",
              "    }\n",
              "\n",
              "    .dataframe thead th {\n",
              "        text-align: right;\n",
              "    }\n",
              "</style>\n",
              "<table border=\"1\" class=\"dataframe\">\n",
              "  <thead>\n",
              "    <tr style=\"text-align: right;\">\n",
              "      <th></th>\n",
              "      <th>Set</th>\n",
              "      <th>Regola</th>\n",
              "      <th>Covering</th>\n",
              "      <th>Error</th>\n",
              "      <th>Class</th>\n",
              "    </tr>\n",
              "  </thead>\n",
              "  <tbody>\n",
              "    <tr>\n",
              "      <th>0</th>\n",
              "      <td>PER High</td>\n",
              "      <td>PER &gt; 0.815000 AND v0 &gt; 17</td>\n",
              "      <td>0.468216</td>\n",
              "      <td>0.047756</td>\n",
              "      <td>Collision</td>\n",
              "    </tr>\n",
              "    <tr>\n",
              "      <th>1</th>\n",
              "      <td>PER High</td>\n",
              "      <td>N &gt; 3 AND PER &gt; 0.765000 AND v0 &gt; 27</td>\n",
              "      <td>0.453869</td>\n",
              "      <td>0.031700</td>\n",
              "      <td>Collision</td>\n",
              "    </tr>\n",
              "    <tr>\n",
              "      <th>2</th>\n",
              "      <td>PER High</td>\n",
              "      <td>N &gt; 3 AND F0 &lt;= -2 AND PER &gt; 0.605000 AND v0 &gt; 51</td>\n",
              "      <td>0.431529</td>\n",
              "      <td>0.048580</td>\n",
              "      <td>Collision</td>\n",
              "    </tr>\n",
              "    <tr>\n",
              "      <th>3</th>\n",
              "      <td>PER High</td>\n",
              "      <td>PER &gt; 0.765000 AND v0 &gt; 39</td>\n",
              "      <td>0.416455</td>\n",
              "      <td>0.045286</td>\n",
              "      <td>Collision</td>\n",
              "    </tr>\n",
              "    <tr>\n",
              "      <th>4</th>\n",
              "      <td>PER High</td>\n",
              "      <td>N &gt; 5 AND PER &gt; 0.685000 AND v0 &gt; 28</td>\n",
              "      <td>0.414094</td>\n",
              "      <td>0.038287</td>\n",
              "      <td>Collision</td>\n",
              "    </tr>\n",
              "    <tr>\n",
              "      <th>5</th>\n",
              "      <td>PER High</td>\n",
              "      <td>N &gt; 3 AND d0 &gt; 5.345500 AND PER &gt; 0.725000 AND...</td>\n",
              "      <td>0.374682</td>\n",
              "      <td>0.046110</td>\n",
              "      <td>Collision</td>\n",
              "    </tr>\n",
              "    <tr>\n",
              "      <th>6</th>\n",
              "      <td>PER High</td>\n",
              "      <td>N &gt; 7 AND PER &gt; 0.645000</td>\n",
              "      <td>0.369415</td>\n",
              "      <td>0.048991</td>\n",
              "      <td>Collision</td>\n",
              "    </tr>\n",
              "    <tr>\n",
              "      <th>7</th>\n",
              "      <td>PER High</td>\n",
              "      <td>N &gt; 8</td>\n",
              "      <td>0.345260</td>\n",
              "      <td>0.049403</td>\n",
              "      <td>Collision</td>\n",
              "    </tr>\n",
              "    <tr>\n",
              "      <th>8</th>\n",
              "      <td>PER High</td>\n",
              "      <td>N &gt; 6 AND d0 &gt; 5.052500 AND PER &gt; 0.635000 AND...</td>\n",
              "      <td>0.327279</td>\n",
              "      <td>0.039934</td>\n",
              "      <td>Collision</td>\n",
              "    </tr>\n",
              "    <tr>\n",
              "      <th>9</th>\n",
              "      <td>PER High</td>\n",
              "      <td>N &gt; 3 AND F0 &lt;= -2 AND PER &gt; 0.575000 AND v0 &gt; 63</td>\n",
              "      <td>0.315292</td>\n",
              "      <td>0.039522</td>\n",
              "      <td>Collision</td>\n",
              "    </tr>\n",
              "    <tr>\n",
              "      <th>10</th>\n",
              "      <td>PER High</td>\n",
              "      <td>N &gt; 3 AND d0 &gt; 5.909500 AND PER &gt; 0.695000 AND...</td>\n",
              "      <td>0.304214</td>\n",
              "      <td>0.039111</td>\n",
              "      <td>Collision</td>\n",
              "    </tr>\n",
              "    <tr>\n",
              "      <th>11</th>\n",
              "      <td>PER High</td>\n",
              "      <td>N &gt; 3 AND d0 &lt;= 6.883500 AND PER &gt; 0.625000 AN...</td>\n",
              "      <td>0.286596</td>\n",
              "      <td>0.035817</td>\n",
              "      <td>Collision</td>\n",
              "    </tr>\n",
              "    <tr>\n",
              "      <th>12</th>\n",
              "      <td>PER High</td>\n",
              "      <td>F0 &gt; -5 AND d0 &lt;= 8.130500 AND PER &gt; 0.755000 ...</td>\n",
              "      <td>0.221213</td>\n",
              "      <td>0.042816</td>\n",
              "      <td>Collision</td>\n",
              "    </tr>\n",
              "    <tr>\n",
              "      <th>13</th>\n",
              "      <td>PER High</td>\n",
              "      <td>F0 &lt;= -5 AND PER &gt; 0.575000 AND v0 &gt; 60</td>\n",
              "      <td>0.220668</td>\n",
              "      <td>0.044051</td>\n",
              "      <td>Collision</td>\n",
              "    </tr>\n",
              "    <tr>\n",
              "      <th>14</th>\n",
              "      <td>PER High</td>\n",
              "      <td>N &lt;= 9 AND PER &lt;= 0.805000 AND v0 &lt;= 34</td>\n",
              "      <td>0.405517</td>\n",
              "      <td>0.047948</td>\n",
              "      <td>Non collision</td>\n",
              "    </tr>\n",
              "    <tr>\n",
              "      <th>15</th>\n",
              "      <td>PER High</td>\n",
              "      <td>N &lt;= 8 AND d0 &gt; 5.326000 AND PER &lt;= 0.845000 A...</td>\n",
              "      <td>0.379992</td>\n",
              "      <td>0.043770</td>\n",
              "      <td>Non collision</td>\n",
              "    </tr>\n",
              "    <tr>\n",
              "      <th>16</th>\n",
              "      <td>PER High</td>\n",
              "      <td>N &lt;= 8 AND PER &lt;= 0.605000</td>\n",
              "      <td>0.373816</td>\n",
              "      <td>0.046495</td>\n",
              "      <td>Non collision</td>\n",
              "    </tr>\n",
              "    <tr>\n",
              "      <th>17</th>\n",
              "      <td>PER High</td>\n",
              "      <td>N &lt;= 7 AND F0 &gt; -8 AND d0 &gt; 5.207500 AND PER &lt;...</td>\n",
              "      <td>0.360642</td>\n",
              "      <td>0.047766</td>\n",
              "      <td>Non collision</td>\n",
              "    </tr>\n",
              "    <tr>\n",
              "      <th>18</th>\n",
              "      <td>PER High</td>\n",
              "      <td>N &lt;= 9 AND PER &lt;= 0.645000 AND v0 &lt;= 56</td>\n",
              "      <td>0.359407</td>\n",
              "      <td>0.036506</td>\n",
              "      <td>Non collision</td>\n",
              "    </tr>\n",
              "    <tr>\n",
              "      <th>19</th>\n",
              "      <td>PER High</td>\n",
              "      <td>N &lt;= 5 AND F0 &gt; -8 AND d0 &gt; 4.475500 AND PER &lt;...</td>\n",
              "      <td>0.332235</td>\n",
              "      <td>0.047948</td>\n",
              "      <td>Non collision</td>\n",
              "    </tr>\n",
              "    <tr>\n",
              "      <th>20</th>\n",
              "      <td>PER High</td>\n",
              "      <td>N &lt;= 7 AND PER &lt;= 0.935000 AND v0 &lt;= 27</td>\n",
              "      <td>0.323178</td>\n",
              "      <td>0.038140</td>\n",
              "      <td>Non collision</td>\n",
              "    </tr>\n",
              "    <tr>\n",
              "      <th>21</th>\n",
              "      <td>PER High</td>\n",
              "      <td>N &lt;= 9 AND PER &lt;= 0.885000 AND v0 &lt;= 24</td>\n",
              "      <td>0.319061</td>\n",
              "      <td>0.039593</td>\n",
              "      <td>Non collision</td>\n",
              "    </tr>\n",
              "    <tr>\n",
              "      <th>22</th>\n",
              "      <td>PER High</td>\n",
              "      <td>N &lt;= 7 AND F0 &lt;= -3 AND d0 &lt;= 7.924500 AND PER...</td>\n",
              "      <td>0.258131</td>\n",
              "      <td>0.049582</td>\n",
              "      <td>Non collision</td>\n",
              "    </tr>\n",
              "    <tr>\n",
              "      <th>23</th>\n",
              "      <td>PER High</td>\n",
              "      <td>N &lt;= 3 AND PER &lt;= 0.905000</td>\n",
              "      <td>0.243310</td>\n",
              "      <td>0.036687</td>\n",
              "      <td>Non collision</td>\n",
              "    </tr>\n",
              "    <tr>\n",
              "      <th>24</th>\n",
              "      <td>PER High</td>\n",
              "      <td>N &lt;= 4 AND F0 &gt; -8 AND d0 &lt;= 8.278500 AND PER ...</td>\n",
              "      <td>0.242898</td>\n",
              "      <td>0.042499</td>\n",
              "      <td>Non collision</td>\n",
              "    </tr>\n",
              "    <tr>\n",
              "      <th>25</th>\n",
              "      <td>PER High</td>\n",
              "      <td>N &lt;= 8 AND F0 &gt; -3 AND PER &lt;= 0.815000</td>\n",
              "      <td>0.218608</td>\n",
              "      <td>0.032147</td>\n",
              "      <td>Non collision</td>\n",
              "    </tr>\n",
              "    <tr>\n",
              "      <th>26</th>\n",
              "      <td>PER High</td>\n",
              "      <td>F0 &gt; -7 AND d0 &lt;= 7.357500 AND PER &lt;= 0.695000...</td>\n",
              "      <td>0.217785</td>\n",
              "      <td>0.045405</td>\n",
              "      <td>Non collision</td>\n",
              "    </tr>\n",
              "    <tr>\n",
              "      <th>27</th>\n",
              "      <td>PER Low</td>\n",
              "      <td>N &gt; 8 AND v0 &gt; 42</td>\n",
              "      <td>0.570453</td>\n",
              "      <td>0.045398</td>\n",
              "      <td>Collision</td>\n",
              "    </tr>\n",
              "    <tr>\n",
              "      <th>28</th>\n",
              "      <td>PER Low</td>\n",
              "      <td>N &gt; 9</td>\n",
              "      <td>0.540658</td>\n",
              "      <td>0.015339</td>\n",
              "      <td>Collision</td>\n",
              "    </tr>\n",
              "    <tr>\n",
              "      <th>29</th>\n",
              "      <td>PER Low</td>\n",
              "      <td>N &gt; 8 AND PER &lt;= 0.365000 AND v0 &gt; 36</td>\n",
              "      <td>0.428305</td>\n",
              "      <td>0.044469</td>\n",
              "      <td>Collision</td>\n",
              "    </tr>\n",
              "    <tr>\n",
              "      <th>30</th>\n",
              "      <td>PER Low</td>\n",
              "      <td>N &gt; 8 AND v0 &lt;= 36</td>\n",
              "      <td>0.210428</td>\n",
              "      <td>0.048187</td>\n",
              "      <td>Collision</td>\n",
              "    </tr>\n",
              "    <tr>\n",
              "      <th>31</th>\n",
              "      <td>PER Low</td>\n",
              "      <td>N &lt;= 8 AND PER &lt;= 0.385000</td>\n",
              "      <td>0.702510</td>\n",
              "      <td>0.040968</td>\n",
              "      <td>Non collision</td>\n",
              "    </tr>\n",
              "    <tr>\n",
              "      <th>32</th>\n",
              "      <td>PER Low</td>\n",
              "      <td>N &lt;= 7 AND PER &lt;= 0.425000</td>\n",
              "      <td>0.646576</td>\n",
              "      <td>0.043451</td>\n",
              "      <td>Non collision</td>\n",
              "    </tr>\n",
              "    <tr>\n",
              "      <th>33</th>\n",
              "      <td>PER Low</td>\n",
              "      <td>N &lt;= 8 AND v0 &lt;= 57</td>\n",
              "      <td>0.556399</td>\n",
              "      <td>0.028554</td>\n",
              "      <td>Non collision</td>\n",
              "    </tr>\n",
              "    <tr>\n",
              "      <th>34</th>\n",
              "      <td>PER Low</td>\n",
              "      <td>N &lt;= 5</td>\n",
              "      <td>0.456771</td>\n",
              "      <td>0.040968</td>\n",
              "      <td>Non collision</td>\n",
              "    </tr>\n",
              "    <tr>\n",
              "      <th>35</th>\n",
              "      <td>PER Low</td>\n",
              "      <td>N &lt;= 8 AND F0 &gt; -5</td>\n",
              "      <td>0.413387</td>\n",
              "      <td>0.027312</td>\n",
              "      <td>Non collision</td>\n",
              "    </tr>\n",
              "    <tr>\n",
              "      <th>36</th>\n",
              "      <td>PER Low</td>\n",
              "      <td>N &lt;= 9 AND v0 &lt;= 32</td>\n",
              "      <td>0.300589</td>\n",
              "      <td>0.048417</td>\n",
              "      <td>Non collision</td>\n",
              "    </tr>\n",
              "    <tr>\n",
              "      <th>37</th>\n",
              "      <td>PER Low</td>\n",
              "      <td>N &lt;= 9 AND F0 &gt; -8 AND d0 &gt; 7.485000 AND PER &lt;...</td>\n",
              "      <td>0.218159</td>\n",
              "      <td>0.047796</td>\n",
              "      <td>Non collision</td>\n",
              "    </tr>\n",
              "    <tr>\n",
              "      <th>38</th>\n",
              "      <td>PER Low</td>\n",
              "      <td>N &lt;= 9 AND PER &lt;= 0.145000 AND v0 &gt; 32</td>\n",
              "      <td>0.201890</td>\n",
              "      <td>0.046555</td>\n",
              "      <td>Non collision</td>\n",
              "    </tr>\n",
              "  </tbody>\n",
              "</table>\n",
              "</div>"
            ],
            "text/plain": [
              "         Set  ...          Class\n",
              "0   PER High  ...      Collision\n",
              "1   PER High  ...      Collision\n",
              "2   PER High  ...      Collision\n",
              "3   PER High  ...      Collision\n",
              "4   PER High  ...      Collision\n",
              "5   PER High  ...      Collision\n",
              "6   PER High  ...      Collision\n",
              "7   PER High  ...      Collision\n",
              "8   PER High  ...      Collision\n",
              "9   PER High  ...      Collision\n",
              "10  PER High  ...      Collision\n",
              "11  PER High  ...      Collision\n",
              "12  PER High  ...      Collision\n",
              "13  PER High  ...      Collision\n",
              "14  PER High  ...  Non collision\n",
              "15  PER High  ...  Non collision\n",
              "16  PER High  ...  Non collision\n",
              "17  PER High  ...  Non collision\n",
              "18  PER High  ...  Non collision\n",
              "19  PER High  ...  Non collision\n",
              "20  PER High  ...  Non collision\n",
              "21  PER High  ...  Non collision\n",
              "22  PER High  ...  Non collision\n",
              "23  PER High  ...  Non collision\n",
              "24  PER High  ...  Non collision\n",
              "25  PER High  ...  Non collision\n",
              "26  PER High  ...  Non collision\n",
              "27   PER Low  ...      Collision\n",
              "28   PER Low  ...      Collision\n",
              "29   PER Low  ...      Collision\n",
              "30   PER Low  ...      Collision\n",
              "31   PER Low  ...  Non collision\n",
              "32   PER Low  ...  Non collision\n",
              "33   PER Low  ...  Non collision\n",
              "34   PER Low  ...  Non collision\n",
              "35   PER Low  ...  Non collision\n",
              "36   PER Low  ...  Non collision\n",
              "37   PER Low  ...  Non collision\n",
              "38   PER Low  ...  Non collision\n",
              "\n",
              "[39 rows x 5 columns]"
            ]
          },
          "metadata": {
            "tags": []
          },
          "execution_count": 5
        }
      ]
    },
    {
      "cell_type": "code",
      "metadata": {
        "id": "u1LyI0aubDNw",
        "colab": {
          "base_uri": "https://localhost:8080/",
          "height": 49
        },
        "outputId": "41f3b8a6-1be0-4f71-ba02-f90ab4da23f8"
      },
      "source": [
        "RegoleCollisione = Regole.loc[(Regole.Class == '0')].copy()\n",
        "RegoleCollisione.reset_index(drop=True, inplace=True)\n",
        "RegoleCollisione"
      ],
      "execution_count": null,
      "outputs": [
        {
          "output_type": "execute_result",
          "data": {
            "text/html": [
              "<div>\n",
              "<style scoped>\n",
              "    .dataframe tbody tr th:only-of-type {\n",
              "        vertical-align: middle;\n",
              "    }\n",
              "\n",
              "    .dataframe tbody tr th {\n",
              "        vertical-align: top;\n",
              "    }\n",
              "\n",
              "    .dataframe thead th {\n",
              "        text-align: right;\n",
              "    }\n",
              "</style>\n",
              "<table border=\"1\" class=\"dataframe\">\n",
              "  <thead>\n",
              "    <tr style=\"text-align: right;\">\n",
              "      <th></th>\n",
              "      <th>Set</th>\n",
              "      <th>Regola</th>\n",
              "      <th>Covering</th>\n",
              "      <th>Error</th>\n",
              "      <th>Class</th>\n",
              "    </tr>\n",
              "  </thead>\n",
              "  <tbody>\n",
              "  </tbody>\n",
              "</table>\n",
              "</div>"
            ],
            "text/plain": [
              "Empty DataFrame\n",
              "Columns: [Set, Regola, Covering, Error, Class]\n",
              "Index: []"
            ]
          },
          "metadata": {
            "tags": []
          },
          "execution_count": 86
        }
      ]
    },
    {
      "cell_type": "markdown",
      "metadata": {
        "id": "PJsGpivZj6B6"
      },
      "source": [
        "Estraggo dalle regole tutte le features+segno e creo un vettore con un'occorreza per ciascuna features+segno e quante volte compare nella regola. Del conteggio in realtà non me ne faccio nulla ma così ho le features+segno solo una volta"
      ]
    },
    {
      "cell_type": "code",
      "metadata": {
        "id": "O2J23zndbklA"
      },
      "source": [
        "from collections import Counter\n",
        "terms = []\n",
        "for index, value in RegoleCollisione.loc[:,'Regola'].items():\n",
        "    for r in value.split(' AND '):\n",
        "      if r.find('>')>0:\n",
        "        terms.append(r[:r.find('>')+2].replace(\" \", \"\"))\n",
        "      else:\n",
        "        terms.append(r[:r.find('<')+2].replace(\" \", \"\"))\n",
        "      #print(f\"Value : {value}\")\n",
        "counter = Counter(terms)"
      ],
      "execution_count": null,
      "outputs": []
    },
    {
      "cell_type": "code",
      "metadata": {
        "id": "27SxLMykKcjx",
        "colab": {
          "base_uri": "https://localhost:8080/"
        },
        "outputId": "880e260f-e76b-4ea0-b29d-6573700e2d1e"
      },
      "source": [
        "counter"
      ],
      "execution_count": null,
      "outputs": [
        {
          "output_type": "execute_result",
          "data": {
            "text/plain": [
              "Counter({'F0<=': 4,\n",
              "         'F0>': 8,\n",
              "         'N<=': 20,\n",
              "         'N>': 14,\n",
              "         'PER<=': 18,\n",
              "         'PER>': 13,\n",
              "         'd0<=': 5,\n",
              "         'd0>': 7,\n",
              "         'v0<=': 14,\n",
              "         'v0>': 15})"
            ]
          },
          "metadata": {
            "tags": []
          },
          "execution_count": 7
        }
      ]
    },
    {
      "cell_type": "markdown",
      "metadata": {
        "id": "54w0RZ2lkVTh"
      },
      "source": [
        "Nel dataframe creato prima (RegoleCollisione) creo una colonna per ogni features+segno, una colonna per il valore della soglia per ogni features+segno e una per il valore normalizzato fra zero e uno e inizializzo queste colonne tutte a zero."
      ]
    },
    {
      "cell_type": "code",
      "metadata": {
        "id": "oSTNfKGSsCgW"
      },
      "source": [
        "for i in counter:\n",
        "  RegoleCollisione.loc[:,i]= 0\n",
        "  RegoleCollisione[i+'Value']=0.0\n",
        "  RegoleCollisione[i+'ValueNorm']=0.0\n",
        "\n",
        "RegoleCollisione"
      ],
      "execution_count": null,
      "outputs": []
    },
    {
      "cell_type": "markdown",
      "metadata": {
        "id": "uw1bBGsZkzJE"
      },
      "source": [
        "Scorro tutte le regole e metto nelle rispettive colonne 1 se la feature+segno è presente e zero altrimenti e il valore della soglia nella colonna della soglia"
      ]
    },
    {
      "cell_type": "code",
      "metadata": {
        "id": "EcXNUQi-4R3K"
      },
      "source": [
        "for c in counter:\n",
        "  for index, value in RegoleCollisione.loc[:,'Regola'].items():\n",
        "    for r in value.split(' AND '):\n",
        "      if r[:r.find('>')+2].replace(\" \", \"\") == c:\n",
        "        RegoleCollisione.loc[index, c] = 1\n",
        "        RegoleCollisione.loc[index, c+'Value'] = float(r.split('>')[1].strip())\n",
        "      if r[:r.find('<')+2].replace(\" \", \"\") == c:\n",
        "        RegoleCollisione.loc[index, c] = 1\n",
        "        RegoleCollisione.loc[index, c+'Value'] = float(r.split('<=')[1].strip())"
      ],
      "execution_count": null,
      "outputs": []
    },
    {
      "cell_type": "code",
      "metadata": {
        "id": "zwR5DLD_K0OK"
      },
      "source": [
        "RegoleCollisione"
      ],
      "execution_count": null,
      "outputs": []
    },
    {
      "cell_type": "markdown",
      "metadata": {
        "id": "ZjXBEq3ClNw6"
      },
      "source": [
        "Scorro nuovamente tutte le rogole e normalizzo i valori seguendo questo criterio:\n",
        "\n",
        "\n",
        "*   Se la features+segno non è presente nella regola : 0 \n",
        "*   Se max(soglia)=min(soglia) : 1\n",
        "*   altrimenti : (soglia-min(soglia))/(Max(soglia)-Min(soglia))\n"
      ]
    },
    {
      "cell_type": "code",
      "metadata": {
        "id": "YoEUSHp7pVlO"
      },
      "source": [
        "for c in counter:\n",
        "  MAX = RegoleCollisione.loc[RegoleCollisione[c] == 1, c+'Value'].max()\n",
        "  MIN = RegoleCollisione.loc[RegoleCollisione[c] == 1, c+'Value'].min()\n",
        "  denominatore = MAX-MIN\n",
        "\n",
        "  for index, value in RegoleCollisione.loc[:,c+'Value'].items():\n",
        "    if RegoleCollisione.loc[index, c] == 1:\n",
        "      if denominatore == 0:\n",
        "        RegoleCollisione.loc[index, c+'ValueNorm'] = 1\n",
        "      else:  \n",
        "        RegoleCollisione.loc[index, c+'ValueNorm'] = (RegoleCollisione.loc[index, c+'Value']-MIN)/denominatore\n",
        "    else:\n",
        "      RegoleCollisione.loc[index, c+'Value'] = 0"
      ],
      "execution_count": null,
      "outputs": []
    },
    {
      "cell_type": "markdown",
      "metadata": {
        "id": "x3nJAlFmmAF5"
      },
      "source": [
        "Elimino le colonne dei valori soglia perchè per il cacolo della distanza del coseno dei vettori utilizzo i valori normalizzati fra zero e uno"
      ]
    },
    {
      "cell_type": "code",
      "metadata": {
        "id": "eiBatD7e2kLk"
      },
      "source": [
        "for c in counter:\n",
        "  del RegoleCollisione[c+'Value'] "
      ],
      "execution_count": null,
      "outputs": []
    },
    {
      "cell_type": "code",
      "metadata": {
        "id": "ob_GM85weU8M"
      },
      "source": [
        "RegoleCollisione.to_excel(base_dir+'BagOfWords.xlsx', index=True)"
      ],
      "execution_count": null,
      "outputs": []
    },
    {
      "cell_type": "markdown",
      "metadata": {
        "id": "xZQJhnLWmPXd"
      },
      "source": [
        "#Calcolo della distanza fra i vettori"
      ]
    },
    {
      "cell_type": "markdown",
      "metadata": {
        "id": "RwBeIdxmmWsA"
      },
      "source": [
        "Innanzitutto devo trasformare le colonne numeriche del mio dataframe in un array per poterlo passare alla funzione cosine_similarity"
      ]
    },
    {
      "cell_type": "code",
      "metadata": {
        "id": "ZiE8g8Ie3ZsB"
      },
      "source": [
        "#del matrice\n",
        "matrice = RegoleCollisione.iloc[:,6:RegoleCollisione.shape[1]].to_numpy()"
      ],
      "execution_count": null,
      "outputs": []
    },
    {
      "cell_type": "markdown",
      "metadata": {
        "id": "aJQIzQClmoVo"
      },
      "source": [
        "Concateno la regola al suo set di apparteneza per avere i titoli delle righe e delle colonne della matrice che andrò ad esportare dopo aver effettuato il calcolo"
      ]
    },
    {
      "cell_type": "code",
      "metadata": {
        "id": "U-BZ5SsTEdaG"
      },
      "source": [
        "from sklearn.decomposition import PCA\n",
        "from matplotlib import pyplot\n",
        "import random\n",
        "\n",
        "pca = PCA(n_components=2)\n",
        "result = pca.fit_transform(matrice)"
      ],
      "execution_count": null,
      "outputs": []
    },
    {
      "cell_type": "code",
      "metadata": {
        "id": "Ji-0Jn1kowHy"
      },
      "source": [
        "#del Grafico"
      ],
      "execution_count": null,
      "outputs": []
    },
    {
      "cell_type": "code",
      "metadata": {
        "id": "lk7B_cNVokg1",
        "colab": {
          "base_uri": "https://localhost:8080/"
        },
        "outputId": "e2514594-59ed-428e-d089-680e17e5dea4"
      },
      "source": [
        "import numpy as np\n",
        "\n",
        "data = {\n",
        "        'x':  result[: , 0],\n",
        "        'y':  result[: , 1]\n",
        "        }\n",
        "\n",
        "Grafico = pd.DataFrame (data, columns = ['x', 'y'])\n",
        "#matriceNLP['Regola'] = matriceNLP['Regola'].astype(str)\n",
        "Grafico['Set'] = RegoleCollisione['Set'] + ' - ' + RegoleCollisione['Class']\n",
        "#Grafico['Set'] = RegoleCollisione['Set']\n",
        "#Grafico['Class'] = RegoleCollisione['Class']\n",
        "Grafico['Regola'] = RegoleCollisione['Regola']\n",
        "Grafico['Covering'] = RegoleCollisione['Covering'].astype(np.float)\n",
        "Grafico.info()"
      ],
      "execution_count": null,
      "outputs": [
        {
          "output_type": "stream",
          "text": [
            "<class 'pandas.core.frame.DataFrame'>\n",
            "RangeIndex: 39 entries, 0 to 38\n",
            "Data columns (total 5 columns):\n",
            " #   Column    Non-Null Count  Dtype  \n",
            "---  ------    --------------  -----  \n",
            " 0   x         39 non-null     float64\n",
            " 1   y         39 non-null     float64\n",
            " 2   Set       39 non-null     object \n",
            " 3   Regola    39 non-null     object \n",
            " 4   Covering  39 non-null     float64\n",
            "dtypes: float64(3), object(2)\n",
            "memory usage: 1.6+ KB\n"
          ],
          "name": "stdout"
        }
      ]
    },
    {
      "cell_type": "code",
      "metadata": {
        "colab": {
          "base_uri": "https://localhost:8080/",
          "height": 542
        },
        "id": "Rm8QCaaCpULH",
        "outputId": "17f043c3-3cbc-4931-c58f-7a57ee808688"
      },
      "source": [
        "import plotly.express as px\n",
        "fig = px.scatter(Grafico, x='x', y='y', color='Set', size='Covering', hover_data=['Regola'])\n",
        "\n",
        "fig.show()\n",
        "fig.write_html(\"graficoPlattoning.html\")"
      ],
      "execution_count": null,
      "outputs": [
        {
          "output_type": "display_data",
          "data": {
            "text/html": [
              "<html>\n",
              "<head><meta charset=\"utf-8\" /></head>\n",
              "<body>\n",
              "    <div>\n",
              "            <script src=\"https://cdnjs.cloudflare.com/ajax/libs/mathjax/2.7.5/MathJax.js?config=TeX-AMS-MML_SVG\"></script><script type=\"text/javascript\">if (window.MathJax) {MathJax.Hub.Config({SVG: {font: \"STIX-Web\"}});}</script>\n",
              "                <script type=\"text/javascript\">window.PlotlyConfig = {MathJaxConfig: 'local'};</script>\n",
              "        <script src=\"https://cdn.plot.ly/plotly-latest.min.js\"></script>    \n",
              "            <div id=\"cce080a3-364c-4da8-8301-ffb3edf12ac3\" class=\"plotly-graph-div\" style=\"height:525px; width:100%;\"></div>\n",
              "            <script type=\"text/javascript\">\n",
              "                \n",
              "                    window.PLOTLYENV=window.PLOTLYENV || {};\n",
              "                    \n",
              "                if (document.getElementById(\"cce080a3-364c-4da8-8301-ffb3edf12ac3\")) {\n",
              "                    Plotly.newPlot(\n",
              "                        'cce080a3-364c-4da8-8301-ffb3edf12ac3',\n",
              "                        [{\"customdata\": [[\"PER > 0.815000 AND v0 > 17\"], [\"N > 3 AND PER > 0.765000 AND v0 > 27\"], [\"N > 3 AND F0 <= -2 AND PER > 0.605000 AND v0 > 51\"], [\"PER > 0.765000 AND v0 > 39\"], [\"N > 5 AND PER > 0.685000 AND v0 > 28\"], [\"N > 3 AND d0 > 5.345500 AND PER > 0.725000 AND v0 > 28\"], [\"N > 7 AND PER > 0.645000\"], [\"N > 8\"], [\"N > 6 AND d0 > 5.052500 AND PER > 0.635000 AND v0 > 24\"], [\"N > 3 AND F0 <= -2 AND PER > 0.575000 AND v0 > 63\"], [\"N > 3 AND d0 > 5.909500 AND PER > 0.695000 AND v0 > 35\"], [\"N > 3 AND d0 <= 6.883500 AND PER > 0.625000 AND v0 > 45\"], [\"F0 > -5 AND d0 <= 8.130500 AND PER > 0.755000 AND v0 > 20\"], [\"F0 <= -5 AND PER > 0.575000 AND v0 > 60\"]], \"hoverlabel\": {\"namelength\": 0}, \"hovertemplate\": \"Set=PER High - Collision<br>x=%{x}<br>y=%{y}<br>Covering=%{marker.size}<br>Regola=%{customdata[0]}\", \"legendgroup\": \"Set=PER High - Collision\", \"marker\": {\"color\": \"#636efa\", \"size\": [0.468216, 0.453869, 0.431529, 0.416455, 0.414094, 0.374682, 0.369415, 0.34526, 0.327279, 0.315292, 0.304214, 0.286596, 0.221213, 0.220668], \"sizemode\": \"area\", \"sizeref\": 0.0017562749999999999, \"symbol\": \"circle\"}, \"mode\": \"markers\", \"name\": \"Set=PER High - Collision\", \"showlegend\": true, \"type\": \"scatter\", \"x\": [-0.9529211075322787, -1.3176573699185063, -1.4131799448029958, -1.0017027591735377, -1.3166370466186297, -1.2501179151310329, -0.9363788098572154, -0.9164369471046832, -1.2488762405641838, -1.438183181736305, -1.2531395452485743, -1.2680564891186292, -0.6847169803793616, -1.0235781866714517], \"xaxis\": \"x\", \"y\": [0.03823899998356138, 0.021235215154112013, 0.13061013271894253, 0.033434519092180204, -0.05094696734701581, 0.23047150923261497, -0.2839451213482604, -0.3362018764738358, 0.12506328463800784, 0.12656397189154292, 0.23598217119934944, 0.43659066938271257, 1.3085396816074746, 0.0535511675569814], \"yaxis\": \"y\"}, {\"customdata\": [[\"N <= 9 AND PER <= 0.805000 AND v0 <= 34\"], [\"N <= 8 AND d0 > 5.326000 AND PER <= 0.845000 AND v0 <= 40\"], [\"N <= 8 AND PER <= 0.605000\"], [\"N <= 7 AND F0 > -8 AND d0 > 5.207500 AND PER <= 0.795000 AND v0 <= 57\"], [\"N <= 9 AND PER <= 0.645000 AND v0 <= 56\"], [\"N <= 5 AND F0 > -8 AND d0 > 4.475500 AND PER <= 0.765000 AND v0 <= 82\"], [\"N <= 7 AND PER <= 0.935000 AND v0 <= 27\"], [\"N <= 9 AND PER <= 0.885000 AND v0 <= 24\"], [\"N <= 7 AND F0 <= -3 AND d0 <= 7.924500 AND PER <= 0.665000 AND v0 <= 83\"], [\"N <= 3 AND PER <= 0.905000\"], [\"N <= 4 AND F0 > -8 AND d0 <= 8.278500 AND PER <= 0.905000 AND v0 <= 65\"], [\"N <= 8 AND F0 > -3 AND PER <= 0.815000\"], [\"F0 > -7 AND d0 <= 7.357500 AND PER <= 0.695000 AND v0 <= 56\"]], \"hoverlabel\": {\"namelength\": 0}, \"hovertemplate\": \"Set=PER High - Non collision<br>x=%{x}<br>y=%{y}<br>Covering=%{marker.size}<br>Regola=%{customdata[0]}\", \"legendgroup\": \"Set=PER High - Non collision\", \"marker\": {\"color\": \"#EF553B\", \"size\": [0.405517, 0.379992, 0.373816, 0.360642, 0.359407, 0.332235, 0.323178, 0.319061, 0.258131, 0.24331, 0.242898, 0.218608, 0.217785], \"sizemode\": \"area\", \"sizeref\": 0.0017562749999999999, \"symbol\": \"circle\"}, \"mode\": \"markers\", \"name\": \"Set=PER High - Non collision\", \"showlegend\": true, \"type\": \"scatter\", \"x\": [1.262259723917572, 1.2902132570310167, 0.7810226696271076, 1.4292699563082023, 1.267853266698217, 1.3825134336394753, 1.1860587337091124, 1.2623941418705746, 1.2247985084929107, 0.6326140353059467, 1.3655033586678607, 1.0414538823817254, 0.7630843929711156], \"xaxis\": \"x\", \"y\": [-0.4258867012577063, -0.11221668110684399, -0.6822354913576862, 0.5099360216112683, -0.3337688611517572, 0.713724683063025, -0.34650375255164434, -0.46684729773861294, 0.7611943741017074, -0.3976895318437708, 1.2780592615328736, -0.08339723353748736, 1.3127214759261905], \"yaxis\": \"y\"}, {\"customdata\": [[\"N > 8 AND v0 > 42\"], [\"N > 9\"], [\"N > 8 AND PER <= 0.365000 AND v0 > 36\"], [\"N > 8 AND v0 <= 36\"]], \"hoverlabel\": {\"namelength\": 0}, \"hovertemplate\": \"Set=PER Low - Collision<br>x=%{x}<br>y=%{y}<br>Covering=%{marker.size}<br>Regola=%{customdata[0]}\", \"legendgroup\": \"Set=PER Low - Collision\", \"marker\": {\"color\": \"#00cc96\", \"size\": [0.570453, 0.540658, 0.428305, 0.210428], \"sizemode\": \"area\", \"sizeref\": 0.0017562749999999999, \"symbol\": \"circle\"}, \"mode\": \"markers\", \"name\": \"Set=PER Low - Collision\", \"showlegend\": true, \"type\": \"scatter\", \"x\": [-1.3654262675650974, -0.9376884593748496, -0.8818885066145484, -0.5547197529971325], \"xaxis\": \"x\", \"y\": [-0.14187377680005997, -0.3518699028421617, -0.10246726417962779, -0.04532082485619842], \"yaxis\": \"y\"}, {\"customdata\": [[\"N <= 8 AND PER <= 0.385000\"], [\"N <= 7 AND PER <= 0.425000\"], [\"N <= 8 AND v0 <= 57\"], [\"N <= 5\"], [\"N <= 8 AND F0 > -5\"], [\"N <= 9 AND v0 <= 32\"], [\"N <= 9 AND F0 > -8 AND d0 > 7.485000 AND PER <= 0.475000 AND v0 <= 78\"], [\"N <= 9 AND PER <= 0.145000 AND v0 > 32\"]], \"hoverlabel\": {\"namelength\": 0}, \"hovertemplate\": \"Set=PER Low - Non collision<br>x=%{x}<br>y=%{y}<br>Covering=%{marker.size}<br>Regola=%{customdata[0]}\", \"legendgroup\": \"Set=PER Low - Non collision\", \"marker\": {\"color\": \"#ab63fa\", \"size\": [0.70251, 0.646576, 0.556399, 0.456771, 0.413387, 0.300589, 0.218159, 0.20189], \"sizemode\": \"area\", \"sizeref\": 0.0017562749999999999, \"symbol\": \"circle\"}, \"mode\": \"markers\", \"name\": \"Set=PER Low - Non collision\", \"showlegend\": true, \"type\": \"scatter\", \"x\": [0.7000453133149034, 0.6630020086041073, 0.6537469150924058, 0.0751753635632507, 0.4044679062815075, 0.6322336419131966, 1.493563531490438, 0.25003146952836663], \"xaxis\": \"x\", \"y\": [-0.7097977492670614, -0.6553942171742216, -0.3595814365292266, -0.6093506457414302, -0.21585812827303782, -0.5364317383038786, 0.5362934432126302, -0.6046253822236468], \"yaxis\": \"y\"}],\n",
              "                        {\"legend\": {\"itemsizing\": \"constant\", \"tracegroupgap\": 0}, \"margin\": {\"t\": 60}, \"template\": {\"data\": {\"bar\": [{\"error_x\": {\"color\": \"#2a3f5f\"}, \"error_y\": {\"color\": \"#2a3f5f\"}, \"marker\": {\"line\": {\"color\": \"#E5ECF6\", \"width\": 0.5}}, \"type\": \"bar\"}], \"barpolar\": [{\"marker\": {\"line\": {\"color\": \"#E5ECF6\", \"width\": 0.5}}, \"type\": \"barpolar\"}], \"carpet\": [{\"aaxis\": {\"endlinecolor\": \"#2a3f5f\", \"gridcolor\": \"white\", \"linecolor\": \"white\", \"minorgridcolor\": \"white\", \"startlinecolor\": \"#2a3f5f\"}, \"baxis\": {\"endlinecolor\": \"#2a3f5f\", \"gridcolor\": \"white\", \"linecolor\": \"white\", \"minorgridcolor\": \"white\", \"startlinecolor\": \"#2a3f5f\"}, \"type\": \"carpet\"}], \"choropleth\": [{\"colorbar\": {\"outlinewidth\": 0, \"ticks\": \"\"}, \"type\": \"choropleth\"}], \"contour\": [{\"colorbar\": {\"outlinewidth\": 0, \"ticks\": \"\"}, \"colorscale\": [[0.0, \"#0d0887\"], [0.1111111111111111, \"#46039f\"], [0.2222222222222222, \"#7201a8\"], [0.3333333333333333, \"#9c179e\"], [0.4444444444444444, \"#bd3786\"], [0.5555555555555556, \"#d8576b\"], [0.6666666666666666, \"#ed7953\"], [0.7777777777777778, \"#fb9f3a\"], [0.8888888888888888, \"#fdca26\"], [1.0, \"#f0f921\"]], \"type\": \"contour\"}], \"contourcarpet\": [{\"colorbar\": {\"outlinewidth\": 0, \"ticks\": \"\"}, \"type\": \"contourcarpet\"}], \"heatmap\": [{\"colorbar\": {\"outlinewidth\": 0, \"ticks\": \"\"}, \"colorscale\": [[0.0, \"#0d0887\"], [0.1111111111111111, \"#46039f\"], [0.2222222222222222, \"#7201a8\"], [0.3333333333333333, \"#9c179e\"], [0.4444444444444444, \"#bd3786\"], [0.5555555555555556, \"#d8576b\"], [0.6666666666666666, \"#ed7953\"], [0.7777777777777778, \"#fb9f3a\"], [0.8888888888888888, \"#fdca26\"], [1.0, \"#f0f921\"]], \"type\": \"heatmap\"}], \"heatmapgl\": [{\"colorbar\": {\"outlinewidth\": 0, \"ticks\": \"\"}, \"colorscale\": [[0.0, \"#0d0887\"], [0.1111111111111111, \"#46039f\"], [0.2222222222222222, \"#7201a8\"], [0.3333333333333333, \"#9c179e\"], [0.4444444444444444, \"#bd3786\"], [0.5555555555555556, \"#d8576b\"], [0.6666666666666666, \"#ed7953\"], [0.7777777777777778, \"#fb9f3a\"], [0.8888888888888888, \"#fdca26\"], [1.0, \"#f0f921\"]], \"type\": \"heatmapgl\"}], \"histogram\": [{\"marker\": {\"colorbar\": {\"outlinewidth\": 0, \"ticks\": \"\"}}, \"type\": \"histogram\"}], \"histogram2d\": [{\"colorbar\": {\"outlinewidth\": 0, \"ticks\": \"\"}, \"colorscale\": [[0.0, \"#0d0887\"], [0.1111111111111111, \"#46039f\"], [0.2222222222222222, \"#7201a8\"], [0.3333333333333333, \"#9c179e\"], [0.4444444444444444, \"#bd3786\"], [0.5555555555555556, \"#d8576b\"], [0.6666666666666666, \"#ed7953\"], [0.7777777777777778, \"#fb9f3a\"], [0.8888888888888888, \"#fdca26\"], [1.0, \"#f0f921\"]], \"type\": \"histogram2d\"}], \"histogram2dcontour\": [{\"colorbar\": {\"outlinewidth\": 0, \"ticks\": \"\"}, \"colorscale\": [[0.0, \"#0d0887\"], [0.1111111111111111, \"#46039f\"], [0.2222222222222222, \"#7201a8\"], [0.3333333333333333, \"#9c179e\"], [0.4444444444444444, \"#bd3786\"], [0.5555555555555556, \"#d8576b\"], [0.6666666666666666, \"#ed7953\"], [0.7777777777777778, \"#fb9f3a\"], [0.8888888888888888, \"#fdca26\"], [1.0, \"#f0f921\"]], \"type\": \"histogram2dcontour\"}], \"mesh3d\": [{\"colorbar\": {\"outlinewidth\": 0, \"ticks\": \"\"}, \"type\": \"mesh3d\"}], \"parcoords\": [{\"line\": {\"colorbar\": {\"outlinewidth\": 0, \"ticks\": \"\"}}, \"type\": \"parcoords\"}], \"pie\": [{\"automargin\": true, \"type\": \"pie\"}], \"scatter\": [{\"marker\": {\"colorbar\": {\"outlinewidth\": 0, \"ticks\": \"\"}}, \"type\": \"scatter\"}], \"scatter3d\": [{\"line\": {\"colorbar\": {\"outlinewidth\": 0, \"ticks\": \"\"}}, \"marker\": {\"colorbar\": {\"outlinewidth\": 0, \"ticks\": \"\"}}, \"type\": \"scatter3d\"}], \"scattercarpet\": [{\"marker\": {\"colorbar\": {\"outlinewidth\": 0, \"ticks\": \"\"}}, \"type\": \"scattercarpet\"}], \"scattergeo\": [{\"marker\": {\"colorbar\": {\"outlinewidth\": 0, \"ticks\": \"\"}}, \"type\": \"scattergeo\"}], \"scattergl\": [{\"marker\": {\"colorbar\": {\"outlinewidth\": 0, \"ticks\": \"\"}}, \"type\": \"scattergl\"}], \"scattermapbox\": [{\"marker\": {\"colorbar\": {\"outlinewidth\": 0, \"ticks\": \"\"}}, \"type\": \"scattermapbox\"}], \"scatterpolar\": [{\"marker\": {\"colorbar\": {\"outlinewidth\": 0, \"ticks\": \"\"}}, \"type\": \"scatterpolar\"}], \"scatterpolargl\": [{\"marker\": {\"colorbar\": {\"outlinewidth\": 0, \"ticks\": \"\"}}, \"type\": \"scatterpolargl\"}], \"scatterternary\": [{\"marker\": {\"colorbar\": {\"outlinewidth\": 0, \"ticks\": \"\"}}, \"type\": \"scatterternary\"}], \"surface\": [{\"colorbar\": {\"outlinewidth\": 0, \"ticks\": \"\"}, \"colorscale\": [[0.0, \"#0d0887\"], [0.1111111111111111, \"#46039f\"], [0.2222222222222222, \"#7201a8\"], [0.3333333333333333, \"#9c179e\"], [0.4444444444444444, \"#bd3786\"], [0.5555555555555556, \"#d8576b\"], [0.6666666666666666, \"#ed7953\"], [0.7777777777777778, \"#fb9f3a\"], [0.8888888888888888, \"#fdca26\"], [1.0, \"#f0f921\"]], \"type\": \"surface\"}], \"table\": [{\"cells\": {\"fill\": {\"color\": \"#EBF0F8\"}, \"line\": {\"color\": \"white\"}}, \"header\": {\"fill\": {\"color\": \"#C8D4E3\"}, \"line\": {\"color\": \"white\"}}, \"type\": \"table\"}]}, \"layout\": {\"annotationdefaults\": {\"arrowcolor\": \"#2a3f5f\", \"arrowhead\": 0, \"arrowwidth\": 1}, \"coloraxis\": {\"colorbar\": {\"outlinewidth\": 0, \"ticks\": \"\"}}, \"colorscale\": {\"diverging\": [[0, \"#8e0152\"], [0.1, \"#c51b7d\"], [0.2, \"#de77ae\"], [0.3, \"#f1b6da\"], [0.4, \"#fde0ef\"], [0.5, \"#f7f7f7\"], [0.6, \"#e6f5d0\"], [0.7, \"#b8e186\"], [0.8, \"#7fbc41\"], [0.9, \"#4d9221\"], [1, \"#276419\"]], \"sequential\": [[0.0, \"#0d0887\"], [0.1111111111111111, \"#46039f\"], [0.2222222222222222, \"#7201a8\"], [0.3333333333333333, \"#9c179e\"], [0.4444444444444444, \"#bd3786\"], [0.5555555555555556, \"#d8576b\"], [0.6666666666666666, \"#ed7953\"], [0.7777777777777778, \"#fb9f3a\"], [0.8888888888888888, \"#fdca26\"], [1.0, \"#f0f921\"]], \"sequentialminus\": [[0.0, \"#0d0887\"], [0.1111111111111111, \"#46039f\"], [0.2222222222222222, \"#7201a8\"], [0.3333333333333333, \"#9c179e\"], [0.4444444444444444, \"#bd3786\"], [0.5555555555555556, \"#d8576b\"], [0.6666666666666666, \"#ed7953\"], [0.7777777777777778, \"#fb9f3a\"], [0.8888888888888888, \"#fdca26\"], [1.0, \"#f0f921\"]]}, \"colorway\": [\"#636efa\", \"#EF553B\", \"#00cc96\", \"#ab63fa\", \"#FFA15A\", \"#19d3f3\", \"#FF6692\", \"#B6E880\", \"#FF97FF\", \"#FECB52\"], \"font\": {\"color\": \"#2a3f5f\"}, \"geo\": {\"bgcolor\": \"white\", \"lakecolor\": \"white\", \"landcolor\": \"#E5ECF6\", \"showlakes\": true, \"showland\": true, \"subunitcolor\": \"white\"}, \"hoverlabel\": {\"align\": \"left\"}, \"hovermode\": \"closest\", \"mapbox\": {\"style\": \"light\"}, \"paper_bgcolor\": \"white\", \"plot_bgcolor\": \"#E5ECF6\", \"polar\": {\"angularaxis\": {\"gridcolor\": \"white\", \"linecolor\": \"white\", \"ticks\": \"\"}, \"bgcolor\": \"#E5ECF6\", \"radialaxis\": {\"gridcolor\": \"white\", \"linecolor\": \"white\", \"ticks\": \"\"}}, \"scene\": {\"xaxis\": {\"backgroundcolor\": \"#E5ECF6\", \"gridcolor\": \"white\", \"gridwidth\": 2, \"linecolor\": \"white\", \"showbackground\": true, \"ticks\": \"\", \"zerolinecolor\": \"white\"}, \"yaxis\": {\"backgroundcolor\": \"#E5ECF6\", \"gridcolor\": \"white\", \"gridwidth\": 2, \"linecolor\": \"white\", \"showbackground\": true, \"ticks\": \"\", \"zerolinecolor\": \"white\"}, \"zaxis\": {\"backgroundcolor\": \"#E5ECF6\", \"gridcolor\": \"white\", \"gridwidth\": 2, \"linecolor\": \"white\", \"showbackground\": true, \"ticks\": \"\", \"zerolinecolor\": \"white\"}}, \"shapedefaults\": {\"line\": {\"color\": \"#2a3f5f\"}}, \"ternary\": {\"aaxis\": {\"gridcolor\": \"white\", \"linecolor\": \"white\", \"ticks\": \"\"}, \"baxis\": {\"gridcolor\": \"white\", \"linecolor\": \"white\", \"ticks\": \"\"}, \"bgcolor\": \"#E5ECF6\", \"caxis\": {\"gridcolor\": \"white\", \"linecolor\": \"white\", \"ticks\": \"\"}}, \"title\": {\"x\": 0.05}, \"xaxis\": {\"automargin\": true, \"gridcolor\": \"white\", \"linecolor\": \"white\", \"ticks\": \"\", \"title\": {\"standoff\": 15}, \"zerolinecolor\": \"white\", \"zerolinewidth\": 2}, \"yaxis\": {\"automargin\": true, \"gridcolor\": \"white\", \"linecolor\": \"white\", \"ticks\": \"\", \"title\": {\"standoff\": 15}, \"zerolinecolor\": \"white\", \"zerolinewidth\": 2}}}, \"xaxis\": {\"anchor\": \"y\", \"domain\": [0.0, 1.0], \"title\": {\"text\": \"x\"}}, \"yaxis\": {\"anchor\": \"x\", \"domain\": [0.0, 1.0], \"title\": {\"text\": \"y\"}}},\n",
              "                        {\"responsive\": true}\n",
              "                    ).then(function(){\n",
              "                            \n",
              "var gd = document.getElementById('cce080a3-364c-4da8-8301-ffb3edf12ac3');\n",
              "var x = new MutationObserver(function (mutations, observer) {{\n",
              "        var display = window.getComputedStyle(gd).display;\n",
              "        if (!display || display === 'none') {{\n",
              "            console.log([gd, 'removed!']);\n",
              "            Plotly.purge(gd);\n",
              "            observer.disconnect();\n",
              "        }}\n",
              "}});\n",
              "\n",
              "// Listen for the removal of the full notebook cells\n",
              "var notebookContainer = gd.closest('#notebook-container');\n",
              "if (notebookContainer) {{\n",
              "    x.observe(notebookContainer, {childList: true});\n",
              "}}\n",
              "\n",
              "// Listen for the clearing of the current output cell\n",
              "var outputEl = gd.closest('.output');\n",
              "if (outputEl) {{\n",
              "    x.observe(outputEl, {childList: true});\n",
              "}}\n",
              "\n",
              "                        })\n",
              "                };\n",
              "                \n",
              "            </script>\n",
              "        </div>\n",
              "</body>\n",
              "</html>"
            ]
          },
          "metadata": {
            "tags": []
          }
        }
      ]
    },
    {
      "cell_type": "markdown",
      "metadata": {
        "id": "l5C6mciDm4xQ"
      },
      "source": [
        "Calcolo la vicinanza delle regole passando la matrice che ho costruito alla funzione cosine_similarity"
      ]
    },
    {
      "cell_type": "code",
      "metadata": {
        "id": "bde2aQDs90cy"
      },
      "source": [
        "from sklearn.metrics.pairwise import cosine_similarity\n",
        "Vicinanza = cosine_similarity (matrice, matrice)"
      ],
      "execution_count": null,
      "outputs": []
    },
    {
      "cell_type": "markdown",
      "metadata": {
        "id": "9zj3Pa4RnEux"
      },
      "source": [
        "Creo un dataframe con i risultati della cosine_similarity con i nomi delle righe e delle colonne"
      ]
    },
    {
      "cell_type": "code",
      "metadata": {
        "id": "foHL78v6_o9I"
      },
      "source": [
        "MatriceVicinanza = pd.DataFrame(Vicinanza,\n",
        "                   index = RegoleCollisione['Set'] + ' - ' + RegoleCollisione['Class'] + ' - ' + RegoleCollisione['Regola'],\n",
        "                   #index=phrases,\n",
        "                   columns = RegoleCollisione['Set'] + ' - ' + RegoleCollisione['Class'] + ' - ' + RegoleCollisione['Regola'])\n",
        "                   #columns=phrases)\n",
        "\n",
        "MatriceVicinanza.head()"
      ],
      "execution_count": null,
      "outputs": []
    },
    {
      "cell_type": "code",
      "metadata": {
        "colab": {
          "base_uri": "https://localhost:8080/",
          "height": 542
        },
        "id": "6t8Vjcjn68X-",
        "outputId": "1c3b1d31-f955-4a4d-8d61-aa728b90cafe"
      },
      "source": [
        "import plotly.graph_objects as go\n",
        "\n",
        "fig = go.Figure(data=go.Heatmap(\n",
        "                   z=MatriceVicinanza,\n",
        "                   x=MatriceVicinanza.index,\n",
        "                   y=MatriceVicinanza.index,\n",
        "                   colorscale='Viridis'))\n",
        "\n",
        "fig.update_layout(\n",
        "    title='Matrice vicinanza',\n",
        "    xaxis_nticks=36)\n",
        "\n",
        "fig.show()"
      ],
      "execution_count": null,
      "outputs": [
        {
          "output_type": "display_data",
          "data": {
            "text/html": [
              "<html>\n",
              "<head><meta charset=\"utf-8\" /></head>\n",
              "<body>\n",
              "    <div>\n",
              "            <script src=\"https://cdnjs.cloudflare.com/ajax/libs/mathjax/2.7.5/MathJax.js?config=TeX-AMS-MML_SVG\"></script><script type=\"text/javascript\">if (window.MathJax) {MathJax.Hub.Config({SVG: {font: \"STIX-Web\"}});}</script>\n",
              "                <script type=\"text/javascript\">window.PlotlyConfig = {MathJaxConfig: 'local'};</script>\n",
              "        <script src=\"https://cdn.plot.ly/plotly-latest.min.js\"></script>    \n",
              "            <div id=\"68d3ccab-0168-4fff-80ce-214fc69d085c\" class=\"plotly-graph-div\" style=\"height:525px; width:100%;\"></div>\n",
              "            <script type=\"text/javascript\">\n",
              "                \n",
              "                    window.PLOTLYENV=window.PLOTLYENV || {};\n",
              "                    \n",
              "                if (document.getElementById(\"68d3ccab-0168-4fff-80ce-214fc69d085c\")) {\n",
              "                    Plotly.newPlot(\n",
              "                        '68d3ccab-0168-4fff-80ce-214fc69d085c',\n",
              "                        [{\"colorscale\": [[0.0, \"#440154\"], [0.1111111111111111, \"#482878\"], [0.2222222222222222, \"#3e4989\"], [0.3333333333333333, \"#31688e\"], [0.4444444444444444, \"#26828e\"], [0.5555555555555556, \"#1f9e89\"], [0.6666666666666666, \"#35b779\"], [0.7777777777777778, \"#6ece58\"], [0.8888888888888888, \"#b5de2b\"], [1.0, \"#fde725\"]], \"type\": \"heatmap\", \"x\": [\"N <= 9 AND PER <= 0.805000 AND v0 <= 34\", \"N <= 8 AND d0 > 5.326000 AND PER <= 0.845000 AND v0 <= 40\", \"N <= 8 AND PER <= 0.605000\", \"N <= 7 AND F0 > -8 AND d0 > 5.207500 AND PER <= 0.795000 AND v0 <= 57\", \"N <= 9 AND PER <= 0.645000 AND v0 <= 56\", \"N <= 5 AND F0 > -8 AND d0 > 4.475500 AND PER <= 0.765000 AND v0 <= 82\", \"N <= 7 AND PER <= 0.935000 AND v0 <= 27\", \"N <= 9 AND PER <= 0.885000 AND v0 <= 24\", \"N <= 7 AND F0 <= -3 AND d0 <= 7.924500 AND PER <= 0.665000 AND v0 <= 83\", \"N <= 3 AND PER <= 0.905000\", \"N <= 4 AND F0 > -8 AND d0 <= 8.278500 AND PER <= 0.905000 AND v0 <= 65\", \"N <= 8 AND F0 > -3 AND PER <= 0.815000\", \"F0 > -7 AND d0 <= 7.357500 AND PER <= 0.695000 AND v0 <= 56\", \"N <= 8 AND PER <= 0.385000\", \"N <= 7 AND PER <= 0.425000\", \"N <= 8 AND v0 <= 57\", \"N <= 5\", \"N <= 8 AND F0 > -5\", \"N <= 9 AND v0 <= 32\", \"N <= 9 AND F0 > -8 AND d0 > 7.485000 AND PER <= 0.475000 AND v0 <= 78\", \"N <= 9 AND PER <= 0.145000 AND v0 > 32\"], \"y\": [\"N <= 9 AND PER <= 0.805000 AND v0 <= 34\", \"N <= 8 AND d0 > 5.326000 AND PER <= 0.845000 AND v0 <= 40\", \"N <= 8 AND PER <= 0.605000\", \"N <= 7 AND F0 > -8 AND d0 > 5.207500 AND PER <= 0.795000 AND v0 <= 57\", \"N <= 9 AND PER <= 0.645000 AND v0 <= 56\", \"N <= 5 AND F0 > -8 AND d0 > 4.475500 AND PER <= 0.765000 AND v0 <= 82\", \"N <= 7 AND PER <= 0.935000 AND v0 <= 27\", \"N <= 9 AND PER <= 0.885000 AND v0 <= 24\", \"N <= 7 AND F0 <= -3 AND d0 <= 7.924500 AND PER <= 0.665000 AND v0 <= 83\", \"N <= 3 AND PER <= 0.905000\", \"N <= 4 AND F0 > -8 AND d0 <= 8.278500 AND PER <= 0.905000 AND v0 <= 65\", \"N <= 8 AND F0 > -3 AND PER <= 0.815000\", \"F0 > -7 AND d0 <= 7.357500 AND PER <= 0.695000 AND v0 <= 56\", \"N <= 8 AND PER <= 0.385000\", \"N <= 7 AND PER <= 0.425000\", \"N <= 8 AND v0 <= 57\", \"N <= 5\", \"N <= 8 AND F0 > -5\", \"N <= 9 AND v0 <= 32\", \"N <= 9 AND F0 > -8 AND d0 > 7.485000 AND PER <= 0.475000 AND v0 <= 78\", \"N <= 9 AND PER <= 0.145000 AND v0 > 32\"], \"z\": [[1.0000000000000002, 0.8710920220237437, 0.842687025982813, 0.7622403676145308, 0.9757469526137813, 0.6850709188122852, 0.979519013346473, 0.9950690590466204, 0.6511246391570374, 0.6733420976886009, 0.6305577748462288, 0.6267434155906512, 0.6308942345596442, 0.8088336301971863, 0.8114269891501503, 0.7049702357406664, 0.5180100950481389, 0.30116865991170866, 0.7376123163510666, 0.6854715326721887, 0.5180100950481389], [0.8710920220237437, 0.9999999999999997, 0.7201396926408736, 0.8929873587569483, 0.8559156019544042, 0.8255150526562446, 0.8646653512471053, 0.8643186967754285, 0.5881006957735118, 0.6202116755811633, 0.5823057476450808, 0.5408921460956936, 0.5849664195093135, 0.6824949121989331, 0.6932043900652164, 0.6053773644666878, 0.3871581556405257, 0.22509195095379403, 0.6115520745221921, 0.8306090323431201, 0.42587397120457826], [0.842687025982813, 0.7201396926408736, 0.9999999999999998, 0.6087598297416321, 0.8032984761018637, 0.5098356145756388, 0.807476989829, 0.8471444569825128, 0.5047168728861566, 0.7884583232066934, 0.46964775825350513, 0.7304295000628596, 0.4489533159411171, 0.9817498536558112, 0.9860732017528859, 0.3437253946515446, 0.5843828308641865, 0.33975745980475963, 0.41133473682895116, 0.5499172598914979, 0.6428211139506051], [0.7622403676145308, 0.8929873587569483, 0.6087598297416321, 1.0000000000000002, 0.7748336867594716, 0.9687554691069875, 0.7573552856606008, 0.7447903415965524, 0.5615225314596919, 0.5508509186744075, 0.7216999731318482, 0.6607061184383664, 0.7533741579160876, 0.5763010561941128, 0.5911334228817648, 0.5626561365895475, 0.2844377885377134, 0.46303826041023116, 0.5233003298089035, 0.9289448852428197, 0.35554723567214175], [0.9757469526137813, 0.8559156019544042, 0.8032984761018637, 0.7748336867594716, 1.0000000000000002, 0.7332925613104349, 0.9323059106488334, 0.9492392131142453, 0.7002003680129935, 0.6031975931791881, 0.6464597436240659, 0.586912254785655, 0.6481288309729886, 0.7883757825085287, 0.7851236383226651, 0.7845950997851637, 0.5202448081222151, 0.30246791169896226, 0.7593090010282061, 0.7388567350241794, 0.5202448081222151], [0.6850709188122852, 0.8255150526562446, 0.5098356145756388, 0.9687554691069875, 0.7332925613104349, 1.0, 0.6900627572593593, 0.6530759003761516, 0.5790322648146733, 0.5300551847674687, 0.7423405149463641, 0.5871600538011329, 0.7788516488724551, 0.4753785406711262, 0.5018296613364452, 0.540622837478128, 0.13969853972304283, 0.37361237367790523, 0.43264445280720304, 0.8801002931918985, 0.27939707944608566], [0.979519013346473, 0.8646653512471053, 0.807476989829, 0.7573552856606008, 0.9323059106488334, 0.6900627572593593, 1.0, 0.9856333283952564, 0.6305259939940728, 0.7615723040803739, 0.6599488787803249, 0.6162366684311913, 0.6683088185120138, 0.7492193254192903, 0.7732493345608759, 0.6021807644498208, 0.35907586482800247, 0.20876503769069912, 0.6344786624644108, 0.6368303822170618, 0.4488448310350031], [0.9950690590466204, 0.8643186967754285, 0.8471444569825128, 0.7447903415965524, 0.9492392131142453, 0.6530759003761516, 0.9856333283952564, 0.9999999999999998, 0.6189566785937894, 0.6957784960697301, 0.6141041340320336, 0.6352010892255552, 0.6135532173341128, 0.8046446218194021, 0.8100456052099967, 0.6571510916964926, 0.5078417264672989, 0.29525681771354584, 0.7149181388449598, 0.6503780787241324, 0.5078417264672989], [0.6511246391570374, 0.5881006957735118, 0.5047168728861566, 0.5615225314596919, 0.7002003680129935, 0.5790322648146733, 0.6305259939940728, 0.6189566785937894, 1.0, 0.43692497324596025, 0.7396528826923873, 0.3735006332743997, 0.6765286854465109, 0.4875355154685529, 0.49704517581085444, 0.554128667355595, 0.24747920197806098, 0.14388325696398896, 0.47091803328582543, 0.5406785743571314, 0.30934900247257624], [0.6733420976886009, 0.6202116755811633, 0.7884583232066934, 0.5508509186744075, 0.6031975931791881, 0.5300551847674687, 0.7615723040803739, 0.6957784960697301, 0.43692497324596025, 0.9999999999999999, 0.5469617119870364, 0.6228986184428736, 0.5481656722102917, 0.6967049438286373, 0.7712400657284355, 0.0, 0.0, 0.0, 0.0, 0.3815106954362149, 0.36032887440256345], [0.6305577748462288, 0.5823057476450808, 0.46964775825350513, 0.7216999731318482, 0.6464597436240659, 0.7423405149463641, 0.6599488787803249, 0.6141041340320336, 0.7396528826923873, 0.5469617119870364, 1.0000000000000002, 0.5543822205161368, 0.9061878880323293, 0.422027456807421, 0.4567917993804773, 0.4249938161905341, 0.06569536600719597, 0.31319883794128317, 0.3498339670200313, 0.625862422872028, 0.2299337810251859], [0.6267434155906512, 0.5408921460956936, 0.7304295000628596, 0.6607061184383664, 0.586912254785655, 0.5871600538011329, 0.6162366684311913, 0.6352010892255552, 0.3735006332743997, 0.6228986184428736, 0.5543822205161368, 0.9999999999999999, 0.6050613969320499, 0.6951336223250204, 0.7051011698588422, 0.23330848096918116, 0.39665812504662606, 0.761952584391891, 0.2791992797526904, 0.5729745291014519, 0.4363239375512886], [0.6308942345596442, 0.5849664195093135, 0.4489533159411171, 0.7533741579160876, 0.6481288309729886, 0.7788516488724551, 0.6683088185120138, 0.6135532173341128, 0.6765286854465109, 0.5481656722102917, 0.9061878880323293, 0.6050613969320499, 1.0000000000000002, 0.4128784913314037, 0.4532626472524769, 0.4190711217847299, 0.0, 0.3559576926843224, 0.3442267168527598, 0.6515119999904221, 0.2277705474021706], [0.8088336301971863, 0.6824949121989331, 0.9817498536558112, 0.5763010561941128, 0.7883757825085287, 0.4753785406711262, 0.7492193254192903, 0.8046446218194021, 0.4875355154685529, 0.6967049438286373, 0.422027456807421, 0.6951336223250204, 0.4128784913314037, 0.9999999999999997, 0.9930320098174102, 0.36669295628471316, 0.6234310038944197, 0.3624598859851278, 0.43881992141811854, 0.5537980758959806, 0.6857741042838617], [0.8114269891501503, 0.6932043900652164, 0.9860732017528859, 0.5911334228817648, 0.7851236383226651, 0.5018296613364452, 0.7732493345608759, 0.8100456052099967, 0.49704517581085444, 0.7712400657284355, 0.4567917993804773, 0.7051011698588422, 0.4532626472524769, 0.9930320098174102, 1.0000000000000002, 0.3129421408812369, 0.5320468520234616, 0.30932956512991955, 0.3744965462693482, 0.5469204379344146, 0.665058565029327], [0.7049702357406664, 0.6053773644666878, 0.3437253946515446, 0.5626561365895475, 0.7845950997851637, 0.540622837478128, 0.6021807644498208, 0.6571510916964926, 0.554128667355595, 0.0, 0.4249938161905341, 0.23330848096918116, 0.4190711217847299, 0.36669295628471316, 0.3129421408812369, 1.0, 0.5881853067846685, 0.34196820161899333, 0.9485031526318153, 0.6251135993015897, 0.29409265339233426], [0.5180100950481389, 0.3871581556405257, 0.5843828308641865, 0.2844377885377134, 0.5202448081222151, 0.13969853972304283, 0.35907586482800247, 0.5078417264672989, 0.24747920197806098, 0.0, 0.06569536600719597, 0.39665812504662606, 0.0, 0.6234310038944197, 0.5320468520234616, 0.5881853067846685, 1.0, 0.5813953488372093, 0.7038788874421046, 0.37763602970388627, 0.5], [0.30116865991170866, 0.22509195095379403, 0.33975745980475963, 0.46303826041023116, 0.30246791169896226, 0.37361237367790523, 0.20876503769069912, 0.29525681771354584, 0.14388325696398896, 0.0, 0.31319883794128317, 0.761952584391891, 0.3559576926843224, 0.3624598859851278, 0.30932956512991955, 0.34196820161899333, 0.5813953488372093, 1.0, 0.4092319113035492, 0.4830228286910173, 0.29069767441860467], [0.7376123163510666, 0.6115520745221921, 0.41133473682895116, 0.5233003298089035, 0.7593090010282061, 0.43264445280720304, 0.6344786624644108, 0.7149181388449598, 0.47091803328582543, 0.0, 0.3498339670200313, 0.2791992797526904, 0.3442267168527598, 0.43881992141811854, 0.3744965462693482, 0.9485031526318153, 0.7038788874421046, 0.4092319113035492, 0.9999999999999999, 0.5646076846681727, 0.3519394437210523], [0.6854715326721887, 0.8306090323431201, 0.5499172598914979, 0.9289448852428197, 0.7388567350241794, 0.8801002931918985, 0.6368303822170618, 0.6503780787241324, 0.5406785743571314, 0.3815106954362149, 0.625862422872028, 0.5729745291014519, 0.6515119999904221, 0.5537980758959806, 0.5469204379344146, 0.6251135993015897, 0.37763602970388627, 0.4830228286910173, 0.5646076846681727, 1.0, 0.37763602970388627], [0.5180100950481389, 0.42587397120457826, 0.6428211139506051, 0.35554723567214175, 0.5202448081222151, 0.27939707944608566, 0.4488448310350031, 0.5078417264672989, 0.30934900247257624, 0.36032887440256345, 0.2299337810251859, 0.4363239375512886, 0.2277705474021706, 0.6857741042838617, 0.665058565029327, 0.29409265339233426, 0.5, 0.29069767441860467, 0.3519394437210523, 0.37763602970388627, 1.0]]}],\n",
              "                        {\"template\": {\"data\": {\"bar\": [{\"error_x\": {\"color\": \"#2a3f5f\"}, \"error_y\": {\"color\": \"#2a3f5f\"}, \"marker\": {\"line\": {\"color\": \"#E5ECF6\", \"width\": 0.5}}, \"type\": \"bar\"}], \"barpolar\": [{\"marker\": {\"line\": {\"color\": \"#E5ECF6\", \"width\": 0.5}}, \"type\": \"barpolar\"}], \"carpet\": [{\"aaxis\": {\"endlinecolor\": \"#2a3f5f\", \"gridcolor\": \"white\", \"linecolor\": \"white\", \"minorgridcolor\": \"white\", \"startlinecolor\": \"#2a3f5f\"}, \"baxis\": {\"endlinecolor\": \"#2a3f5f\", \"gridcolor\": \"white\", \"linecolor\": \"white\", \"minorgridcolor\": \"white\", \"startlinecolor\": \"#2a3f5f\"}, \"type\": \"carpet\"}], \"choropleth\": [{\"colorbar\": {\"outlinewidth\": 0, \"ticks\": \"\"}, \"type\": \"choropleth\"}], \"contour\": [{\"colorbar\": {\"outlinewidth\": 0, \"ticks\": \"\"}, \"colorscale\": [[0.0, \"#0d0887\"], [0.1111111111111111, \"#46039f\"], [0.2222222222222222, \"#7201a8\"], [0.3333333333333333, \"#9c179e\"], [0.4444444444444444, \"#bd3786\"], [0.5555555555555556, \"#d8576b\"], [0.6666666666666666, \"#ed7953\"], [0.7777777777777778, \"#fb9f3a\"], [0.8888888888888888, \"#fdca26\"], [1.0, \"#f0f921\"]], \"type\": \"contour\"}], \"contourcarpet\": [{\"colorbar\": {\"outlinewidth\": 0, \"ticks\": \"\"}, \"type\": \"contourcarpet\"}], \"heatmap\": [{\"colorbar\": {\"outlinewidth\": 0, \"ticks\": \"\"}, \"colorscale\": [[0.0, \"#0d0887\"], [0.1111111111111111, \"#46039f\"], [0.2222222222222222, \"#7201a8\"], [0.3333333333333333, \"#9c179e\"], [0.4444444444444444, \"#bd3786\"], [0.5555555555555556, \"#d8576b\"], [0.6666666666666666, \"#ed7953\"], [0.7777777777777778, \"#fb9f3a\"], [0.8888888888888888, \"#fdca26\"], [1.0, \"#f0f921\"]], \"type\": \"heatmap\"}], \"heatmapgl\": [{\"colorbar\": {\"outlinewidth\": 0, \"ticks\": \"\"}, \"colorscale\": [[0.0, \"#0d0887\"], [0.1111111111111111, \"#46039f\"], [0.2222222222222222, \"#7201a8\"], [0.3333333333333333, \"#9c179e\"], [0.4444444444444444, \"#bd3786\"], [0.5555555555555556, \"#d8576b\"], [0.6666666666666666, \"#ed7953\"], [0.7777777777777778, \"#fb9f3a\"], [0.8888888888888888, \"#fdca26\"], [1.0, \"#f0f921\"]], \"type\": \"heatmapgl\"}], \"histogram\": [{\"marker\": {\"colorbar\": {\"outlinewidth\": 0, \"ticks\": \"\"}}, \"type\": \"histogram\"}], \"histogram2d\": [{\"colorbar\": {\"outlinewidth\": 0, \"ticks\": \"\"}, \"colorscale\": [[0.0, \"#0d0887\"], [0.1111111111111111, \"#46039f\"], [0.2222222222222222, \"#7201a8\"], [0.3333333333333333, \"#9c179e\"], [0.4444444444444444, \"#bd3786\"], [0.5555555555555556, \"#d8576b\"], [0.6666666666666666, \"#ed7953\"], [0.7777777777777778, \"#fb9f3a\"], [0.8888888888888888, \"#fdca26\"], [1.0, \"#f0f921\"]], \"type\": \"histogram2d\"}], \"histogram2dcontour\": [{\"colorbar\": {\"outlinewidth\": 0, \"ticks\": \"\"}, \"colorscale\": [[0.0, \"#0d0887\"], [0.1111111111111111, \"#46039f\"], [0.2222222222222222, \"#7201a8\"], [0.3333333333333333, \"#9c179e\"], [0.4444444444444444, \"#bd3786\"], [0.5555555555555556, \"#d8576b\"], [0.6666666666666666, \"#ed7953\"], [0.7777777777777778, \"#fb9f3a\"], [0.8888888888888888, \"#fdca26\"], [1.0, \"#f0f921\"]], \"type\": \"histogram2dcontour\"}], \"mesh3d\": [{\"colorbar\": {\"outlinewidth\": 0, \"ticks\": \"\"}, \"type\": \"mesh3d\"}], \"parcoords\": [{\"line\": {\"colorbar\": {\"outlinewidth\": 0, \"ticks\": \"\"}}, \"type\": \"parcoords\"}], \"pie\": [{\"automargin\": true, \"type\": \"pie\"}], \"scatter\": [{\"marker\": {\"colorbar\": {\"outlinewidth\": 0, \"ticks\": \"\"}}, \"type\": \"scatter\"}], \"scatter3d\": [{\"line\": {\"colorbar\": {\"outlinewidth\": 0, \"ticks\": \"\"}}, \"marker\": {\"colorbar\": {\"outlinewidth\": 0, \"ticks\": \"\"}}, \"type\": \"scatter3d\"}], \"scattercarpet\": [{\"marker\": {\"colorbar\": {\"outlinewidth\": 0, \"ticks\": \"\"}}, \"type\": \"scattercarpet\"}], \"scattergeo\": [{\"marker\": {\"colorbar\": {\"outlinewidth\": 0, \"ticks\": \"\"}}, \"type\": \"scattergeo\"}], \"scattergl\": [{\"marker\": {\"colorbar\": {\"outlinewidth\": 0, \"ticks\": \"\"}}, \"type\": \"scattergl\"}], \"scattermapbox\": [{\"marker\": {\"colorbar\": {\"outlinewidth\": 0, \"ticks\": \"\"}}, \"type\": \"scattermapbox\"}], \"scatterpolar\": [{\"marker\": {\"colorbar\": {\"outlinewidth\": 0, \"ticks\": \"\"}}, \"type\": \"scatterpolar\"}], \"scatterpolargl\": [{\"marker\": {\"colorbar\": {\"outlinewidth\": 0, \"ticks\": \"\"}}, \"type\": \"scatterpolargl\"}], \"scatterternary\": [{\"marker\": {\"colorbar\": {\"outlinewidth\": 0, \"ticks\": \"\"}}, \"type\": \"scatterternary\"}], \"surface\": [{\"colorbar\": {\"outlinewidth\": 0, \"ticks\": \"\"}, \"colorscale\": [[0.0, \"#0d0887\"], [0.1111111111111111, \"#46039f\"], [0.2222222222222222, \"#7201a8\"], [0.3333333333333333, \"#9c179e\"], [0.4444444444444444, \"#bd3786\"], [0.5555555555555556, \"#d8576b\"], [0.6666666666666666, \"#ed7953\"], [0.7777777777777778, \"#fb9f3a\"], [0.8888888888888888, \"#fdca26\"], [1.0, \"#f0f921\"]], \"type\": \"surface\"}], \"table\": [{\"cells\": {\"fill\": {\"color\": \"#EBF0F8\"}, \"line\": {\"color\": \"white\"}}, \"header\": {\"fill\": {\"color\": \"#C8D4E3\"}, \"line\": {\"color\": \"white\"}}, \"type\": \"table\"}]}, \"layout\": {\"annotationdefaults\": {\"arrowcolor\": \"#2a3f5f\", \"arrowhead\": 0, \"arrowwidth\": 1}, \"coloraxis\": {\"colorbar\": {\"outlinewidth\": 0, \"ticks\": \"\"}}, \"colorscale\": {\"diverging\": [[0, \"#8e0152\"], [0.1, \"#c51b7d\"], [0.2, \"#de77ae\"], [0.3, \"#f1b6da\"], [0.4, \"#fde0ef\"], [0.5, \"#f7f7f7\"], [0.6, \"#e6f5d0\"], [0.7, \"#b8e186\"], [0.8, \"#7fbc41\"], [0.9, \"#4d9221\"], [1, \"#276419\"]], \"sequential\": [[0.0, \"#0d0887\"], [0.1111111111111111, \"#46039f\"], [0.2222222222222222, \"#7201a8\"], [0.3333333333333333, \"#9c179e\"], [0.4444444444444444, \"#bd3786\"], [0.5555555555555556, \"#d8576b\"], [0.6666666666666666, \"#ed7953\"], [0.7777777777777778, \"#fb9f3a\"], [0.8888888888888888, \"#fdca26\"], [1.0, \"#f0f921\"]], \"sequentialminus\": [[0.0, \"#0d0887\"], [0.1111111111111111, \"#46039f\"], [0.2222222222222222, \"#7201a8\"], [0.3333333333333333, \"#9c179e\"], [0.4444444444444444, \"#bd3786\"], [0.5555555555555556, \"#d8576b\"], [0.6666666666666666, \"#ed7953\"], [0.7777777777777778, \"#fb9f3a\"], [0.8888888888888888, \"#fdca26\"], [1.0, \"#f0f921\"]]}, \"colorway\": [\"#636efa\", \"#EF553B\", \"#00cc96\", \"#ab63fa\", \"#FFA15A\", \"#19d3f3\", \"#FF6692\", \"#B6E880\", \"#FF97FF\", \"#FECB52\"], \"font\": {\"color\": \"#2a3f5f\"}, \"geo\": {\"bgcolor\": \"white\", \"lakecolor\": \"white\", \"landcolor\": \"#E5ECF6\", \"showlakes\": true, \"showland\": true, \"subunitcolor\": \"white\"}, \"hoverlabel\": {\"align\": \"left\"}, \"hovermode\": \"closest\", \"mapbox\": {\"style\": \"light\"}, \"paper_bgcolor\": \"white\", \"plot_bgcolor\": \"#E5ECF6\", \"polar\": {\"angularaxis\": {\"gridcolor\": \"white\", \"linecolor\": \"white\", \"ticks\": \"\"}, \"bgcolor\": \"#E5ECF6\", \"radialaxis\": {\"gridcolor\": \"white\", \"linecolor\": \"white\", \"ticks\": \"\"}}, \"scene\": {\"xaxis\": {\"backgroundcolor\": \"#E5ECF6\", \"gridcolor\": \"white\", \"gridwidth\": 2, \"linecolor\": \"white\", \"showbackground\": true, \"ticks\": \"\", \"zerolinecolor\": \"white\"}, \"yaxis\": {\"backgroundcolor\": \"#E5ECF6\", \"gridcolor\": \"white\", \"gridwidth\": 2, \"linecolor\": \"white\", \"showbackground\": true, \"ticks\": \"\", \"zerolinecolor\": \"white\"}, \"zaxis\": {\"backgroundcolor\": \"#E5ECF6\", \"gridcolor\": \"white\", \"gridwidth\": 2, \"linecolor\": \"white\", \"showbackground\": true, \"ticks\": \"\", \"zerolinecolor\": \"white\"}}, \"shapedefaults\": {\"line\": {\"color\": \"#2a3f5f\"}}, \"ternary\": {\"aaxis\": {\"gridcolor\": \"white\", \"linecolor\": \"white\", \"ticks\": \"\"}, \"baxis\": {\"gridcolor\": \"white\", \"linecolor\": \"white\", \"ticks\": \"\"}, \"bgcolor\": \"#E5ECF6\", \"caxis\": {\"gridcolor\": \"white\", \"linecolor\": \"white\", \"ticks\": \"\"}}, \"title\": {\"x\": 0.05}, \"xaxis\": {\"automargin\": true, \"gridcolor\": \"white\", \"linecolor\": \"white\", \"ticks\": \"\", \"title\": {\"standoff\": 15}, \"zerolinecolor\": \"white\", \"zerolinewidth\": 2}, \"yaxis\": {\"automargin\": true, \"gridcolor\": \"white\", \"linecolor\": \"white\", \"ticks\": \"\", \"title\": {\"standoff\": 15}, \"zerolinecolor\": \"white\", \"zerolinewidth\": 2}}}, \"title\": {\"text\": \"Matrice vicinanza\"}, \"xaxis\": {\"nticks\": 36}},\n",
              "                        {\"responsive\": true}\n",
              "                    ).then(function(){\n",
              "                            \n",
              "var gd = document.getElementById('68d3ccab-0168-4fff-80ce-214fc69d085c');\n",
              "var x = new MutationObserver(function (mutations, observer) {{\n",
              "        var display = window.getComputedStyle(gd).display;\n",
              "        if (!display || display === 'none') {{\n",
              "            console.log([gd, 'removed!']);\n",
              "            Plotly.purge(gd);\n",
              "            observer.disconnect();\n",
              "        }}\n",
              "}});\n",
              "\n",
              "// Listen for the removal of the full notebook cells\n",
              "var notebookContainer = gd.closest('#notebook-container');\n",
              "if (notebookContainer) {{\n",
              "    x.observe(notebookContainer, {childList: true});\n",
              "}}\n",
              "\n",
              "// Listen for the clearing of the current output cell\n",
              "var outputEl = gd.closest('.output');\n",
              "if (outputEl) {{\n",
              "    x.observe(outputEl, {childList: true});\n",
              "}}\n",
              "\n",
              "                        })\n",
              "                };\n",
              "                \n",
              "            </script>\n",
              "        </div>\n",
              "</body>\n",
              "</html>"
            ]
          },
          "metadata": {
            "tags": []
          }
        }
      ]
    },
    {
      "cell_type": "markdown",
      "metadata": {
        "id": "w8jqe6UZnNlo"
      },
      "source": [
        "Esporto la matrice in un file .xlsx"
      ]
    },
    {
      "cell_type": "code",
      "metadata": {
        "id": "Xunlf1omCVU4"
      },
      "source": [
        "#MatriceVicinanza.to_excel(base_dir+'MatriceVicinanzaGrafico.xlsx', index=True)\n",
        "MatriceVicinanza.to_excel(base_dir+'MatriceVicinanzaPaper.xlsx', index=True)"
      ],
      "execution_count": null,
      "outputs": []
    },
    {
      "cell_type": "markdown",
      "metadata": {
        "id": "OaelgBBHCIO3"
      },
      "source": [
        "#Appendice\n",
        "Vorrei fare delle prove considerando la lift ... se la lift si può applicare in questi contesti (https://diceanalytics.pk/designing-the-new-app-of-the-future-2/)\n",
        "https://en.wikipedia.org/wiki/Lift_(data_mining)\n",
        "https://en.wikipedia.org/wiki/Precision_and_recall"
      ]
    },
    {
      "cell_type": "markdown",
      "metadata": {
        "id": "cm5oNWKdgJl4"
      },
      "source": [
        "#Dataset Fatica"
      ]
    },
    {
      "cell_type": "code",
      "metadata": {
        "id": "8mVLcT_vgOFn"
      },
      "source": [
        "!pip install skope-rules"
      ],
      "execution_count": null,
      "outputs": []
    },
    {
      "cell_type": "code",
      "metadata": {
        "colab": {
          "base_uri": "https://localhost:8080/"
        },
        "id": "Z7Na70PQgUGT",
        "outputId": "205d11fb-a60a-41de-f0b7-2a143b38135a"
      },
      "source": [
        "# Import skope-rules\n",
        "from skrules import SkopeRules\n",
        "\n",
        "\n",
        "# Import librairies\n",
        "import pandas as pd\n",
        "from sklearn.ensemble import GradientBoostingClassifier, RandomForestClassifier\n",
        "from sklearn.model_selection import train_test_split\n",
        "from sklearn.tree import DecisionTreeClassifier\n",
        "import matplotlib.pyplot as plt\n",
        "from sklearn.metrics import roc_curve, precision_recall_curve\n",
        "from matplotlib import cm\n",
        "import numpy as np\n",
        "from sklearn.metrics import confusion_matrix\n",
        "from IPython.display import display"
      ],
      "execution_count": null,
      "outputs": [
        {
          "output_type": "stream",
          "text": [
            "/usr/local/lib/python3.7/dist-packages/sklearn/externals/six.py:31: FutureWarning: The module is deprecated in version 0.21 and will be removed in version 0.23 since we've dropped support for Python 2.7. Please rely on the official version of six (https://pypi.org/project/six/).\n",
            "  \"(https://pypi.org/project/six/).\", FutureWarning)\n"
          ],
          "name": "stderr"
        }
      ]
    },
    {
      "cell_type": "code",
      "metadata": {
        "id": "k6P42gBHgYmX"
      },
      "source": [
        "MMH_test_set = pd.read_excel(base_dir+\"MMH_test_set.xlsx\") \n",
        "MMH_training_set = pd.read_excel(base_dir+\"MMH_training_set.xlsx\") \n",
        "MMH_test_set = MMH_test_set.drop(['Unnamed: 0'], axis=1)\n",
        "MMH_training_set = MMH_training_set.drop(['Unnamed: 0'], axis=1)"
      ],
      "execution_count": null,
      "outputs": []
    },
    {
      "cell_type": "code",
      "metadata": {
        "id": "VmW_h4SGgqc7"
      },
      "source": [
        "def non_fatica (row):\n",
        "   if row['fatiguestate1'] == 0 :\n",
        "      return 1\n",
        "   else:\n",
        "      return 0"
      ],
      "execution_count": null,
      "outputs": []
    },
    {
      "cell_type": "markdown",
      "metadata": {
        "id": "K08RiR2mbTcF"
      },
      "source": [
        "##Regole Fatica"
      ]
    },
    {
      "cell_type": "code",
      "metadata": {
        "id": "dKXNXREIbcHM"
      },
      "source": [
        "MMH_test_set['non_fatiguestate1'] = MMH_test_set.apply (lambda row: non_fatica(row), axis=1)\n",
        "MMH_training_set['non_fatiguestate1'] = MMH_training_set.apply (lambda row: non_fatica(row), axis=1)\n",
        "\n",
        "y_testNF = MMH_test_set['fatiguestate1'] \n",
        "y_trainNF = MMH_training_set['fatiguestate1']\n",
        "training_set = MMH_training_set.drop(['fatiguestate1', 'non_fatiguestate1'], axis=1)\n",
        "test_set = MMH_test_set.drop(['fatiguestate1', 'non_fatiguestate1'], axis=1)\n",
        "feature_labels = training_set.columns"
      ],
      "execution_count": null,
      "outputs": []
    },
    {
      "cell_type": "code",
      "metadata": {
        "id": "qS34oP24bldP"
      },
      "source": [
        "n_estimators = 200\n",
        "max_depth_duplication = 5\n",
        "\n",
        "skope_rules = SkopeRules(feature_names=feature_labels, random_state=42, n_estimators=n_estimators,\n",
        "                               recall_min=0.05, precision_min=1,\n",
        "                               max_samples=0.7,\n",
        "                               max_depth_duplication= max_depth_duplication, max_depth = 5)\n",
        "skope_rules.fit(training_set, y_trainNF)\n",
        "\n",
        "# Compute prediction scores\n",
        "for i_rule, rule in enumerate(skope_rules.rules_):\n",
        "    print(rule[0])"
      ],
      "execution_count": null,
      "outputs": []
    },
    {
      "cell_type": "code",
      "metadata": {
        "id": "9swTBeFdbzcB"
      },
      "source": [
        "#del Regole\n",
        "columns = ['Regola', 'Class', 'Precision', 'Recall']\n",
        "Regole = pd.DataFrame(columns=columns)"
      ],
      "execution_count": null,
      "outputs": []
    },
    {
      "cell_type": "code",
      "metadata": {
        "id": "Tej50k-scCp-"
      },
      "source": [
        "for i_rule, rule in enumerate(skope_rules.rules_):\n",
        "  Regole.loc[i_rule, 'Regola'] = rule[0]\n",
        "  Regole.loc[i_rule, 'Class'] = 'Fatigue'\n",
        "  Regole.loc[i_rule, 'Precision'] = rule[1][0]\n",
        "  Regole.loc[i_rule, 'Recall'] = rule[1][1]"
      ],
      "execution_count": null,
      "outputs": []
    },
    {
      "cell_type": "markdown",
      "metadata": {
        "id": "Y0B6y_DXbWHb"
      },
      "source": [
        "##Regole non Fatica"
      ]
    },
    {
      "cell_type": "code",
      "metadata": {
        "id": "yrGDUDbMgjsK"
      },
      "source": [
        "MMH_test_set['non_fatiguestate1'] = MMH_test_set.apply (lambda row: non_fatica(row), axis=1)\n",
        "MMH_training_set['non_fatiguestate1'] = MMH_training_set.apply (lambda row: non_fatica(row), axis=1)\n",
        "\n",
        "y_testNF = MMH_test_set['non_fatiguestate1'] \n",
        "y_trainNF = MMH_training_set['non_fatiguestate1']\n",
        "training_set = MMH_training_set.drop(['fatiguestate1', 'non_fatiguestate1'], axis=1)\n",
        "test_set = MMH_test_set.drop(['fatiguestate1', 'non_fatiguestate1'], axis=1)\n",
        "feature_labels = training_set.columns"
      ],
      "execution_count": null,
      "outputs": []
    },
    {
      "cell_type": "code",
      "metadata": {
        "id": "KnDmWnongxfC"
      },
      "source": [
        "n_estimators = 200\n",
        "max_depth_duplication = 5\n",
        "\n",
        "skope_rules = SkopeRules(feature_names=feature_labels, random_state=42, n_estimators=n_estimators,\n",
        "                               recall_min=0.05, precision_min=1,\n",
        "                               max_samples=0.7,\n",
        "                               max_depth_duplication= max_depth_duplication, max_depth = 5)\n",
        "skope_rules.fit(training_set, y_trainNF)\n",
        "\n",
        "# Compute prediction scores\n",
        "for i_rule, rule in enumerate(skope_rules.rules_):\n",
        "    print(rule[0])"
      ],
      "execution_count": null,
      "outputs": []
    },
    {
      "cell_type": "code",
      "metadata": {
        "id": "-b5JGPT7dfNp"
      },
      "source": [
        "indice = len(Regole)-1\n",
        "for i_rule, rule in enumerate(skope_rules.rules_):\n",
        "  Regole.loc[i_rule+indice, 'Regola'] = rule[0]\n",
        "  Regole.loc[i_rule+indice, 'Class'] = 'Non fatigue'\n",
        "  Regole.loc[i_rule+indice, 'Precision'] = rule[1][0]\n",
        "  Regole.loc[i_rule+indice, 'Recall'] = rule[1][1]"
      ],
      "execution_count": null,
      "outputs": []
    },
    {
      "cell_type": "markdown",
      "metadata": {
        "id": "jj6tVllMeG_P"
      },
      "source": [
        "##Crezione della BOW"
      ]
    },
    {
      "cell_type": "code",
      "metadata": {
        "id": "g5S5Wk8tnEAy"
      },
      "source": [
        "from collections import Counter\n",
        "terms = []\n",
        "for index, value in Regole.loc[:,'Regola'].items():\n",
        "    for r in value.split(' and '):\n",
        "      if r.find('>')>0:\n",
        "        terms.append(r[:r.find('>')+2].replace(\" \", \"\"))\n",
        "      else:\n",
        "        terms.append(r[:r.find('<')+2].replace(\" \", \"\"))\n",
        "counter = Counter(terms)\n",
        "counter"
      ],
      "execution_count": null,
      "outputs": []
    },
    {
      "cell_type": "code",
      "metadata": {
        "id": "0VgOjiqqeftP"
      },
      "source": [
        "for i in counter:\n",
        "  Regole.loc[:,i]= 0\n",
        "  Regole[i+'Value']=0.0\n",
        "  Regole[i+'ValueNorm']=0.0"
      ],
      "execution_count": null,
      "outputs": []
    },
    {
      "cell_type": "code",
      "metadata": {
        "id": "UbfToCjeep1n"
      },
      "source": [
        "for c in counter:\n",
        "  for index, value in Regole.loc[:,'Regola'].items():\n",
        "    for r in value.split(' and '):\n",
        "      if r[:r.find('>')+2].replace(\" \", \"\") == c:\n",
        "        Regole.loc[index, c] = 1\n",
        "        Regole.loc[index, c+'Value'] = float(r.split('>')[1].strip())\n",
        "      if r[:r.find('<')+2].replace(\" \", \"\") == c:\n",
        "        Regole.loc[index, c] = 1\n",
        "        Regole.loc[index, c+'Value'] = float(r.split('<=')[1].strip())"
      ],
      "execution_count": null,
      "outputs": []
    },
    {
      "cell_type": "code",
      "metadata": {
        "id": "WCsK20Whefpq"
      },
      "source": [
        "for c in counter:\n",
        "  MAX = Regole.loc[Regole[c] == 1, c+'Value'].max()\n",
        "  MIN = Regole.loc[Regole[c] == 1, c+'Value'].min()\n",
        "  denominatore = MAX-MIN\n",
        "\n",
        "  for index, value in Regole.loc[:,c+'Value'].items():\n",
        "    if Regole.loc[index, c] == 1:\n",
        "      if denominatore == 0:\n",
        "        Regole.loc[index, c+'ValueNorm'] = 1\n",
        "      else:  \n",
        "        Regole.loc[index, c+'ValueNorm'] = (Regole.loc[index, c+'Value']-MIN)/denominatore\n",
        "    else:\n",
        "      Regole.loc[index, c+'Value'] = 0"
      ],
      "execution_count": null,
      "outputs": []
    },
    {
      "cell_type": "code",
      "metadata": {
        "id": "6Uj0Ve9gefnU"
      },
      "source": [
        "for c in counter:\n",
        "  del Regole[c+'Value'] "
      ],
      "execution_count": null,
      "outputs": []
    },
    {
      "cell_type": "markdown",
      "metadata": {
        "id": "O6Mk_pnanTjN"
      },
      "source": [
        "##Visualizzazione"
      ]
    },
    {
      "cell_type": "code",
      "metadata": {
        "id": "1eJV_IrqnV0c"
      },
      "source": [
        "from matplotlib import pyplot\n",
        "import random"
      ],
      "execution_count": null,
      "outputs": []
    },
    {
      "cell_type": "code",
      "metadata": {
        "id": "233iPpyofKty"
      },
      "source": [
        "#del matrice\n",
        "matrice = Regole.iloc[:,4:Regole.shape[1]].to_numpy()"
      ],
      "execution_count": null,
      "outputs": []
    },
    {
      "cell_type": "code",
      "metadata": {
        "id": "fc-d7qmA3os-"
      },
      "source": [
        "from sklearn.decomposition import TruncatedSVD\n",
        "\n",
        "TruncatedSVD = TruncatedSVD(n_components=2)\n",
        "resultTruncatedSVD = TruncatedSVD.fit_transform(matrice)"
      ],
      "execution_count": null,
      "outputs": []
    },
    {
      "cell_type": "code",
      "metadata": {
        "colab": {
          "base_uri": "https://localhost:8080/"
        },
        "id": "Nx0Z1OwH3y4B",
        "outputId": "590fb9df-9f38-4cd9-9963-10d21adc1a98"
      },
      "source": [
        "import numpy as np\n",
        "\n",
        "data = {\n",
        "        'x':  resultTruncatedSVD[: , 0],\n",
        "        'y':  resultTruncatedSVD[: , 1]\n",
        "        }\n",
        "\n",
        "Grafico = pd.DataFrame (data, columns = ['x', 'y'])\n",
        "#matriceNLP['Regola'] = matriceNLP['Regola'].astype(str)\n",
        "Grafico['Class'] = Regole['Class']\n",
        "Grafico['Regola'] = Regole['Regola']\n",
        "Grafico['Recall'] = Regole['Recall'].astype(np.float)\n",
        "Grafico.info()"
      ],
      "execution_count": null,
      "outputs": [
        {
          "output_type": "stream",
          "text": [
            "<class 'pandas.core.frame.DataFrame'>\n",
            "RangeIndex: 144 entries, 0 to 143\n",
            "Data columns (total 5 columns):\n",
            " #   Column  Non-Null Count  Dtype  \n",
            "---  ------  --------------  -----  \n",
            " 0   x       144 non-null    float64\n",
            " 1   y       144 non-null    float64\n",
            " 2   Class   144 non-null    object \n",
            " 3   Regola  144 non-null    object \n",
            " 4   Recall  144 non-null    float64\n",
            "dtypes: float64(3), object(2)\n",
            "memory usage: 5.8+ KB\n"
          ],
          "name": "stdout"
        }
      ]
    },
    {
      "cell_type": "code",
      "metadata": {
        "colab": {
          "base_uri": "https://localhost:8080/",
          "height": 542
        },
        "id": "TgmPPvej33_T",
        "outputId": "92b62e6c-32f9-4e74-ff91-6dbcf8826b01"
      },
      "source": [
        "import plotly.express as px\n",
        "fig = px.scatter(Grafico, x='x', y='y', color='Class', size='Recall', hover_data=['Regola'])\n",
        "\n",
        "fig.show()\n",
        "#fig.write_html(\"graficoPlattoning.html\")"
      ],
      "execution_count": null,
      "outputs": [
        {
          "output_type": "display_data",
          "data": {
            "text/html": [
              "<html>\n",
              "<head><meta charset=\"utf-8\" /></head>\n",
              "<body>\n",
              "    <div>\n",
              "            <script src=\"https://cdnjs.cloudflare.com/ajax/libs/mathjax/2.7.5/MathJax.js?config=TeX-AMS-MML_SVG\"></script><script type=\"text/javascript\">if (window.MathJax) {MathJax.Hub.Config({SVG: {font: \"STIX-Web\"}});}</script>\n",
              "                <script type=\"text/javascript\">window.PlotlyConfig = {MathJaxConfig: 'local'};</script>\n",
              "        <script src=\"https://cdn.plot.ly/plotly-latest.min.js\"></script>    \n",
              "            <div id=\"85f2fc93-f5c2-428d-9d17-3edb203a07c3\" class=\"plotly-graph-div\" style=\"height:525px; width:100%;\"></div>\n",
              "            <script type=\"text/javascript\">\n",
              "                \n",
              "                    window.PLOTLYENV=window.PLOTLYENV || {};\n",
              "                    \n",
              "                if (document.getElementById(\"85f2fc93-f5c2-428d-9d17-3edb203a07c3\")) {\n",
              "                    Plotly.newPlot(\n",
              "                        '85f2fc93-f5c2-428d-9d17-3edb203a07c3',\n",
              "                        [{\"customdata\": [[\"Wrist.jerk.Mean <= 1.502169668674469 and Ankle.ACC.Mean <= 1.7874895334243774 and average.step.distance > -1.0560186505317688 and back.rotation.position.in.sag.plane > 0.13772926479578018 and Wrist.ACC.coefficient.of.variation <= 2.44702410697937\"], [\"Wrist.jerk.Mean <= 0.609248548746109 and Ankle.xposture.Mean > -1.4759454727172852 and back.rotation.position.in.sag.plane > -0.8815403580665588 and Wrist.jerk.coefficient.of.variation > 0.051996851339936256 and Chest.ACC.coefficient.of.variation <= 1.5517901182174683\"], [\"Ankle.ACC.Mean <= 1.2965334057807922 and average.step.distance > -1.0147500336170197 and back.rotation.position.in.sag.plane > 0.24901428073644638\"], [\"Wrist.jerk.Mean <= 0.5673905611038208 and Ankle.xposture.Mean <= 1.4438276886940002 and Ankle.xposture.Mean > -1.5387402176856995 and Wrist.jerk.coefficient.of.variation > -0.2047119140625 and Hip.zposture.Mean > -1.111806869506836\"], [\"Wrist.jerk.Mean <= 0.6575396358966827 and Ankle.xposture.Mean <= 1.4438276886940002 and back.rotation.position.in.sag.plane > -0.8815403580665588 and Wrist.jerk.coefficient.of.variation > 0.05163064785301685 and Ankle.jerk.coefficient.of.variation > -1.1026819348335266\"], [\"Ankle.ACC.Mean <= 1.2663668394088745 and average.step.distance > -1.0560186505317688 and leg.rotational.velocity.sag.plane <= 0.9206996858119965 and back.rotation.position.in.sag.plane > 0.08208675496280193\"], [\"Ankle.ACC.Mean <= 1.4400295615196228 and back.rotation.position.in.sag.plane > 0.08208675496280193 and Chest.ACC.Mean <= -0.023286499083042145\"], [\"Wrist.jerk.Mean <= 0.5673905611038208 and Wrist.jerk.coefficient.of.variation > 0.45848292112350464 and Chest.ACC.coefficient.of.variation <= 1.5231245160102844\"], [\"Ankle.xposture.Mean > -1.566654920578003 and leg.rotational.velocity.sag.plane <= 0.7640345692634583 and average.vertical.impact <= 2.2539355158805847 and back.rotation.position.in.sag.plane > 0.19084256887435913\"], [\"leg.rotational.velocity.sag.plane <= 0.7640345692634583 and back.rotation.position.in.sag.plane > 0.22119303047657013\"], [\"Wrist.jerk.Mean <= 0.570469319820404 and Ankle.jerk.coefficient.of.variation > -1.0934387743473053 and Hip.yposture.Mean > 0.4497672915458679\"], [\"Chest.yposture.Mean > 0.18529319763183594 and back.rotation.position.in.sag.plane > 0.13772926479578018\"], [\"Ankle.ACC.Mean <= 1.2663668394088745 and average.step.distance > -1.0147500336170197 and Wrist.ACC.Mean > -2.388550579547882 and back.rotation.position.in.sag.plane > 0.07196993380784988 and Wrist.jerk.coefficient.of.variation <= 0.45848292112350464\"], [\"Ankle.xposture.Mean <= 1.4438276886940002 and Wrist.jerk.coefficient.of.variation > 0.6009361445903778\"], [\"average.step.time > -0.5274068266153336 and leg.rotational.velocity.sag.plane <= 0.7091898620128632 and leg.rotational.position.sag.plane > -0.8061316609382629 and back.rotation.position.in.sag.plane > 0.13772926479578018 and Wrist.jerk.coefficient.of.variation <= 0.13951952010393143\"], [\"back.rotation.position.in.sag.plane <= 0.14278767257928848 and Wrist.jerk.coefficient.of.variation > -0.36913734674453735 and Hip.jerk.Mean <= -1.0140153169631958\"], [\"back.rotation.position.in.sag.plane > 0.17566733807325363 and Wrist.jerk.coefficient.of.variation <= 0.05163064785301685 and Ankle.ACC.coefficient.of.variation > -2.2030997276306152 and Chest.yposture.coefficient.of.variation <= -0.035335421562194824\"], [\"back.rotation.position.in.sag.plane > 0.19084256887435913 and Wrist.jerk.coefficient.of.variation <= 0.45848292112350464 and Chest.ACC.Mean <= -0.010463932529091835\"], [\"Wrist.jerk.Mean <= 0.6076001524925232 and back.rotation.position.in.sag.plane <= 0.3147736191749573 and Wrist.jerk.coefficient.of.variation > -0.12890776246786118 and Hip.jerk.coefficient.of.variation > 0.13012774661183357\"], [\"back.rotation.position.in.sag.plane <= 0.13772926479578018 and Hip.jerk.Mean <= -1.016774296760559 and Hip.ACC.Mean <= 0.7268421053886414\"], [\"back.rotation.position.in.sag.plane <= 0.22119303047657013 and Hip.jerk.Mean <= -1.016971468925476\"], [\"leg.rotational.position.sag.plane > -0.7975479960441589 and back.rotation.position.in.sag.plane > 0.19590097665786743 and Wrist.jerk.coefficient.of.variation <= -0.12927396595478058 and Chest.yposture.coefficient.of.variation <= -0.1497167218476534\"], [\"Chest.zposture.Mean > -0.813684493303299 and Ankle.xposture.Mean > -0.9734993502497673 and leg.rotational.velocity.sag.plane <= 0.6947394609451294 and back.rotation.position.in.sag.plane > 0.08208675496280193\"], [\"time.bent <= 1.3731969594955444 and back.rotation.position.in.sag.plane <= 0.08208675496280193 and Hip.jerk.Mean <= -1.0197304487228394\"], [\"average.step.distance <= 0.5947269797325134 and back.rotation.position.in.sag.plane > 0.19084256887435913 and Wrist.jerk.coefficient.of.variation <= 0.05163064785301685 and Hip.jerk.coefficient.of.variation <= 0.5369650721549988\"], [\"back.rotation.position.in.sag.plane > 0.19590097665786743 and Wrist.jerk.coefficient.of.variation <= 0.051996851339936256 and Chest.yposture.coefficient.of.variation <= 0.05345548875629902\"], [\"average.step.time > 0.15638594329357147 and Wrist.ACC.Mean <= 2.2251697778701782 and Wrist.jerk.coefficient.of.variation <= -0.07763924449682236 and Hip.ACC.Mean <= -0.12419585883617401 and Chest.jerk.Mean > -0.7112330794334412\"], [\"Wrist.ACC.Mean <= 0.4427796006202698 and Wrist.jerk.coefficient.of.variation > -0.002201290801167488 and Hip.ACC.Mean > -0.09401484951376915 and Hip.zposture.Mean <= 2.1090787053108215\"], [\"Chest.yposture.Mean <= -0.27709291875362396 and Ankle.xposture.Mean > -0.4443378299474716 and back.rotation.position.in.sag.plane > 0.08208675496280193 and Chest.ACC.Mean > -0.05577976070344448\"], [\"Wrist.jerk.Mean <= 0.4312026649713516 and back.rotation.position.in.sag.plane <= 0.22119303047657013 and Hip.jerk.Mean > -1.1764254570007324 and Hip.ACC.Mean <= -0.4651462137699127 and Hip.zposture.Mean <= 0.5710654556751251\"], [\"Wrist.jerk.Mean <= 0.6076001524925232 and Chest.zposture.Mean > 0.34723396599292755 and Wrist.ACC.Mean <= 0.2955123037099838 and Wrist.jerk.coefficient.of.variation > 0.051996851339936256 and Ankle.jerk.coefficient.of.variation > -0.5902874171733856\"], [\"back.rotation.position.in.sag.plane <= 0.4134126156568527 and Chest.jerk.coefficient.of.variation <= 1.577257215976715 and Hip.ACC.Mean <= -0.35740862786769867 and Hip.xposture.Mean <= -0.11400451697409153 and Hip.yposture.Mean <= 0.4358299970626831\"], [\"Chest.zposture.Mean > -0.7797949314117432 and leg.rotational.velocity.sag.plane <= 0.19837094843387604 and Wrist.jerk.coefficient.of.variation > 0.051996851339936256\"], [\"age > -0.6431948840618134 and back.rotation.position.in.sag.plane <= 0.22119303047657013 and Hip.jerk.Mean > -1.0197304487228394 and Hip.ACC.coefficient.of.variation > 0.6935525238513947 and Hip.zposture.Mean > -0.35152849555015564\"], [\"Ankle.xposture.Mean <= 1.4438276886940002 and average.back.bent.angle <= -0.1536228358745575 and Wrist.jerk.coefficient.of.variation <= 0.6009361445903778 and Wrist.jerk.coefficient.of.variation > 0.13951952010393143 and Ankle.jerk.coefficient.of.variation > -0.5975212156772614\"], [\"Wrist.jerk.Mean <= 0.2969344314187765 and back.rotation.position.in.sag.plane <= 0.19590097665786743 and Wrist.jerk.coefficient.of.variation <= 0.31236764788627625 and Hip.ACC.Mean <= -0.1834922656416893\"], [\"age > -0.6431948840618134 and back.rotation.position.in.sag.plane <= 0.3350072503089905 and Wrist.jerk.coefficient.of.variation <= 0.05712370201945305 and Hip.ACC.Mean <= -0.39351682364940643\"], [\"back.rotation.position.in.sag.plane > 0.011269010603427887 and Wrist.jerk.coefficient.of.variation > -0.05163878574967384 and Hip.jerk.Mean > -0.105531957000494 and Hip.xposture.Mean <= 0.8134874701499939\"], [\"Chest.zposture.Mean > -0.7750130891799927 and back.rotation.position.in.sag.plane <= 0.4134126156568527 and Chest.jerk.coefficient.of.variation > 1.5499379634857178\"], [\"Chest.zposture.Mean > -0.818633109331131 and back.rotation.position.in.sag.plane <= 0.3350072503089905 and Hip.jerk.Mean <= -1.0197304487228394 and Hip.ACC.Mean <= 0.6224616765975952\"], [\"mean.hip.osicllation <= 1.4770870506763458 and back.rotation.position.in.sag.plane <= 0.08208675496280193 and Hip.jerk.Mean > -1.1866024732589722 and Hip.ACC.coefficient.of.variation > 1.4856296181678772\"], [\"leg.rotational.velocity.sag.plane > 0.7640345692634583 and back.rotation.position.in.sag.plane > 0.13772926479578018 and Chest.yposture.coefficient.of.variation <= -0.07682287506759167\"], [\"time.bent > -0.2982858344912529 and back.rotation.position.in.sag.plane > 0.14278767257928848 and Wrist.jerk.coefficient.of.variation <= 0.13951952010393143 and Chest.jerk.coefficient.of.variation > -0.2447620928287506 and Chest.ACC.Mean > -0.05577976070344448\"], [\"leg.rotational.velocity.sag.plane > 0.4559026509523392 and Wrist.jerk.coefficient.of.variation > 0.04650379531085491 and Hip.jerk.Mean <= -0.9413149058818817\"], [\"leg.rotational.position.sag.plane > 0.9183299243450165 and back.rotation.position.in.sag.plane > 0.13772926479578018 and Wrist.jerk.coefficient.of.variation <= 0.051996851339936256 and Chest.ACC.Mean > -0.05577976070344448\"], [\"Chest.xposture.Mean > 1.4115136116743088 and Ankle.xposture.Mean <= 1.4438276886940002 and Wrist.jerk.coefficient.of.variation > 0.13951952010393143 and Hip.zposture.Mean <= -1.1153931021690369\"], [\"Chest.zposture.Mean > -0.7750130891799927 and back.rotation.position.in.sag.plane <= 0.4134126156568527 and Hip.jerk.coefficient.of.variation <= -1.0306852161884308 and Chest.jerk.coefficient.of.variation <= 1.5499379634857178 and Hip.yposture.coefficient.of.variation > -0.7880868315696716\"], [\"leg.rotational.velocity.sag.plane > 0.7904554307460785 and back.rotation.position.in.sag.plane > 0.14278767257928848 and Chest.ACC.Mean <= 0.05380232073366642\"], [\"leg.rotational.velocity.sag.plane <= 0.44231070578098297 and average.vertical.impact > -0.5764846503734589 and back.rotation.position.in.sag.plane <= 0.22119303047657013 and Wrist.jerk.coefficient.of.variation > 0.05529268458485603 and Hip.jerk.Mean > -0.8571024537086487\"], [\"back.rotation.position.in.sag.plane <= 0.08208675496280193 and Wrist.ACC.coefficient.of.variation > 0.8943997621536255 and Hip.jerk.Mean > -1.016774296760559 and Hip.zposture.Mean > -0.9171982109546661\"], [\"back.rotation.position.in.sag.plane <= 0.5322852581739426 and Chest.jerk.coefficient.of.variation > 1.5499379634857178 and Hip.yposture.Mean <= 0.46872852742671967\"], [\"mean.hip.osicllation > -0.7601307332515717 and leg.rotational.velocity.sag.plane > 0.7904554307460785 and back.rotation.position.in.sag.plane > 0.08208675496280193 and Chest.yposture.coefficient.of.variation <= 0.06702615693211555\"], [\"Chest.zposture.Mean > 1.470730483531952 and leg.rotational.position.sag.plane > -0.8567753732204437 and Hip.ACC.coefficient.of.variation <= 0.46263547241687775 and Ankle.jerk.coefficient.of.variation <= 1.043346881866455\"], [\"mean.foot.osicllation > 0.006953209638595581 and back.rotation.position.in.sag.plane > 0.17566733807325363 and Wrist.jerk.coefficient.of.variation <= 0.13951952010393143 and Chest.yposture.coefficient.of.variation > 0.01700856350362301\"], [\"Wrist.jerk.Mean > -1.241362988948822 and Chest.zposture.Mean > -0.7797949314117432 and leg.rotational.velocity.sag.plane > 0.19837094843387604 and Wrist.jerk.coefficient.of.variation > 0.051996851339936256 and Chest.jerk.coefficient.of.variation > 0.8462463319301605\"], [\"Ankle.xposture.Mean > 0.31893298029899597 and back.rotation.position.in.sag.plane > 0.19084256887435913 and Wrist.jerk.coefficient.of.variation <= 0.04650379531085491 and Chest.yposture.coefficient.of.variation > 0.1852847896516323\"], [\"Wrist.jerk.Mean <= 0.6558912396430969 and Wrist.jerk.coefficient.of.variation > -0.12927396595478058 and Hip.jerk.Mean <= -0.8571024537086487 and Hip.zposture.Mean <= -1.1153931021690369\"], [\"time.bent > 0.28410089015960693 and back.rotation.position.in.sag.plane <= 0.06691152416169643 and Wrist.ACC.coefficient.of.variation > 0.6544536352157593 and Hip.jerk.Mean > -1.016774296760559\"], [\"Chest.zposture.Mean > -0.7797949314117432 and Wrist.ACC.Mean > 0.2955123037099838 and back.rotation.position.in.sag.plane <= 0.5322852581739426 and Wrist.jerk.coefficient.of.variation > 0.05712370201945305 and Hip.jerk.Mean <= -0.944271057844162\"], [\"back.rotation.position.in.sag.plane <= 0.09220357611775398 and Wrist.jerk.coefficient.of.variation <= 0.45848292112350464 and Hip.jerk.coefficient.of.variation > 1.6364207863807678\"], [\"Wrist.jerk.Mean > 0.4312026649713516 and back.rotation.position.in.sag.plane > 0.10737880505621433 and Wrist.jerk.coefficient.of.variation > 0.051996851339936256 and Hip.xposture.Mean <= 0.8526010513305664\"], [\"Wrist.jerk.Mean > 0.6076001524925232 and back.rotation.position.in.sag.plane > 0.3223612308502197 and Wrist.jerk.coefficient.of.variation > 0.051996851339936256\"], [\"Wrist.jerk.Mean <= 0.6575396358966827 and Wrist.jerk.coefficient.of.variation > 0.051996851339936256 and Chest.jerk.coefficient.of.variation > 1.6058984398841858 and Hip.zposture.Mean <= -1.111806869506836\"], [\"Wrist.jerk.Mean > 0.6575396358966827 and Wrist.jerk.coefficient.of.variation > 0.031855649314820766 and Chest.jerk.coefficient.of.variation > 0.29897958040237427\"], [\"back.rotation.position.in.sag.plane <= 0.08208675496280193 and Hip.jerk.coefficient.of.variation <= -1.0262631177902222 and Hip.jerk.Mean > -1.0197304487228394 and Hip.ACC.coefficient.of.variation > 0.6277569830417633\"], [\"Chest.zposture.Mean > -0.5658640265464783 and average.vertical.impact <= 0.6501088738441467 and Hip.jerk.coefficient.of.variation <= -1.1224447190761566\"], [\"Chest.zposture.Mean > -0.5658640265464783 and mean.foot.osicllation > -0.7895053923130035 and average.vertical.impact <= 0.6501088738441467 and Hip.jerk.coefficient.of.variation > -1.1224447190761566 and Hip.jerk.Mean <= -1.016971468925476\"], [\"Wrist.jerk.Mean <= 0.6293943226337433 and average.step.distance > -0.25128016620874405 and leg.rotational.position.sag.plane > -0.3812394440174103 and Wrist.ACC.coefficient.of.variation <= -1.0846152901649475\"], [\"leg.rotational.velocity.sag.plane > 0.4624840170145035 and back.rotation.position.in.sag.plane <= 0.07196993380784988 and Wrist.jerk.coefficient.of.variation > 0.13951952010393143 and Hip.jerk.Mean <= -0.9537079036235809\"], [\"back.rotation.position.in.sag.plane <= 0.19084256887435913 and Wrist.ACC.coefficient.of.variation > 0.8943997621536255 and Hip.jerk.coefficient.of.variation > -0.6752553582191467 and Hip.jerk.Mean > -1.0140153169631958 and Hip.ACC.coefficient.of.variation > 0.7530215680599213\"], [\"leg.rotational.velocity.sag.plane > 0.19837094843387604 and back.rotation.position.in.sag.plane > 0.23130984604358673 and Wrist.jerk.coefficient.of.variation > 0.055658888071775436 and Chest.jerk.coefficient.of.variation <= 0.37300601601600647\"], [\"average.step.time > 0.27035141736268997 and leg.rotational.velocity.sag.plane > 0.7640345692634583 and back.rotation.position.in.sag.plane > 0.08208675496280193\"], [\"Wrist.jerk.Mean <= 0.4312026649713516 and back.rotation.position.in.sag.plane <= 0.22119303047657013 and Wrist.jerk.coefficient.of.variation <= 0.31126902997493744 and Wrist.jerk.coefficient.of.variation > 0.05712370201945305 and Hip.xposture.Mean > -0.33422017097473145\"], [\"back.rotation.position.in.sag.plane <= 0.08208675496280193 and Hip.jerk.Mean > -1.1866024732589722 and Hip.ACC.coefficient.of.variation <= 1.4856296181678772 and Chest.jerk.coefficient.of.variation > 1.7768641710281372\"], [\"leg.rotational.position.sag.plane <= -0.039608925580978394 and back.rotation.position.in.sag.plane <= 0.24142666906118393 and Hip.jerk.Mean > -1.016971468925476 and Hip.ACC.coefficient.of.variation <= 0.6935525238513947 and Hip.yposture.Mean > 1.1795047521591187\"], [\"age > -0.23181135952472687 and back.rotation.position.in.sag.plane <= 0.07196993380784988 and Wrist.ACC.coefficient.of.variation <= 0.6722874641418457 and Hip.jerk.Mean > -1.0140153169631958 and Hip.ACC.Mean <= -0.6011788845062256\"], [\"Wrist.jerk.Mean <= 0.4312026649713516 and leg.rotational.velocity.sag.plane <= -0.7145789712667465 and back.rotation.position.in.sag.plane <= -0.9321244657039642 and Wrist.jerk.coefficient.of.variation > 0.13951952010393143 and Chest.ACC.coefficient.of.variation <= 1.819625198841095\"], [\"Wrist.jerk.Mean <= 0.8209874927997589 and back.rotation.position.in.sag.plane > -0.41616663336753845 and Wrist.jerk.coefficient.of.variation > 0.031855649314820766 and Hip.ACC.Mean > 0.5573155283927917\"]], \"hoverlabel\": {\"namelength\": 0}, \"hovertemplate\": \"Class=Fatigue<br>x=%{x}<br>y=%{y}<br>Recall=%{marker.size}<br>Regola=%{customdata[0]}\", \"legendgroup\": \"Class=Fatigue\", \"marker\": {\"color\": \"#636efa\", \"size\": [0.5737704918032787, 0.5409836065573771, 0.5294117647058824, 0.5081967213114754, 0.5, 0.49206349206349204, 0.4696969696969697, 0.4576271186440678, 0.45588235294117646, 0.45, 0.4444444444444444, 0.3870967741935484, 0.3484848484848485, 0.3484848484848485, 0.30303030303030304, 0.3, 0.29508196721311475, 0.2923076923076923, 0.2857142857142857, 0.2786885245901639, 0.25757575757575757, 0.2545454545454545, 0.2459016393442623, 0.24242424242424243, 0.22950819672131148, 0.22580645161290322, 0.203125, 0.19047619047619047, 0.1694915254237288, 0.16666666666666666, 0.15384615384615385, 0.14754098360655737, 0.140625, 0.13793103448275862, 0.13636363636363635, 0.12698412698412698, 0.125, 0.125, 0.11666666666666667, 0.109375, 0.10344827586206896, 0.09836065573770492, 0.0967741935483871, 0.09259259259259259, 0.0847457627118644, 0.0847457627118644, 0.08333333333333333, 0.08333333333333333, 0.08196721311475409, 0.08064516129032258, 0.08064516129032258, 0.08064516129032258, 0.08064516129032258, 0.078125, 0.078125, 0.07407407407407407, 0.07272727272727272, 0.06896551724137931, 0.06779661016949153, 0.06779661016949153, 0.06779661016949153, 0.06451612903225806, 0.06451612903225806, 0.0625, 0.06060606060606061, 0.06060606060606061, 0.06060606060606061, 0.06060606060606061, 0.05970149253731343, 0.05970149253731343, 0.05970149253731343, 0.05714285714285714, 0.05263157894736842, 0.05172413793103448, 0.05084745762711865, 0.05, 0.05, 0.05], \"sizemode\": \"area\", \"sizeref\": 0.0017692307692307693, \"symbol\": \"circle\"}, \"mode\": \"markers\", \"name\": \"Class=Fatigue\", \"showlegend\": true, \"type\": \"scatter\", \"x\": [0.7275828804323274, 0.8315827521461945, 0.5001032408340851, 0.5852784018386306, 0.7843875429385885, 0.5481070427797232, 0.4721900594610853, 0.5394325427451028, 0.6061140443033654, 0.522361322239285, 0.19488238858941348, 0.4487055173059405, 0.9299351536659216, 0.40560860796577664, 0.9532966259438487, 1.1601713694280302, 0.8746904564650503, 0.8902706191544163, 1.375008601729682, 1.111821433804162, 0.9042746816626895, 0.8719089406705723, 0.6473755644796331, 0.887684207514952, 0.883943683421913, 0.8716064273663141, 0.6311979461234798, 0.440724381877333, 0.5879747986485347, 1.4305993831807435, 0.598636746474018, 1.2173647860205232, 0.4556651784192473, 1.2141190929968122, 0.8610440910669999, 1.577626826728989, 1.4605265250846424, 0.998667541320022, 1.0276553366241423, 1.2290104040961618, 1.1378326447804017, 0.58232204525982, 0.991887963324664, 0.4901985227687566, 0.9298047343418274, 0.4084190825536823, 1.0827402061654798, 0.5749388616977643, 1.473617812790538, 1.1143589293923746, 1.0331535108101388, 0.5973368433469353, 0.18515070876686932, 0.9128144075762206, 0.6729392105097596, 0.9967018486720818, 0.590924120849649, 1.1013144068358913, 1.445398866168407, 1.291539396106249, 1.0269316819468757, 1.035506809859784, 0.5987476805390218, 0.6230350495000874, 1.1268078396768926, 0.10695559797724243, 0.20746189013438435, 0.2536844473772339, 1.2970704731055085, 1.243449473574848, 0.9084187019295031, 0.5722033940983359, 1.7502200165989898, 1.153597728642474, 1.1621237420511665, 1.267293467710752, 1.094248586621786, 0.8789069611176125], \"xaxis\": \"x\", \"y\": [1.1615290723571996, 0.6941870823193897, 1.1792515617803367, 0.06426551306059512, 0.6637539022933002, 1.2225609125768453, 1.1109521339247437, 0.04579872973210418, 1.2228654816157831, 1.1567208856767563, 0.012347735641904244, 1.0645339064410415, 1.3317405363235273, 0.046132107261621855, 1.4073688371363806, -0.5869329048328352, 1.3624970329383463, 1.319685034069842, -0.6007299115803764, -0.7420125456514501, -0.6242511257649738, 1.3513406861324755, 1.1488104309736171, -0.5972407185682946, 1.305989870039257, 1.357858063029167, 0.14054001491954454, 0.020814511387200356, 1.1826723026186499, -0.8227582865118775, 0.054691537914236865, -0.7300868298827836, 0.11480954631466066, -0.8631774907595171, 0.27805303488446637, -0.45112333167979185, -0.5125976204701346, 0.8761420931275533, -0.6380771375366071, -0.7752594045616253, -0.8116799228639322, 1.2508858209152252, 1.3327161867935848, 0.0910988865359323, 1.3947661859035834, 0.042044916594328394, -0.6242690493973891, 1.223463690770882, -0.5997684191057252, -0.7950085690426061, -0.684678615962043, 1.2625193261022118, -0.011569718736771302, 1.4339166731731798, 0.061780271765230245, 1.4913241526488938, -0.016650296848102236, -0.7395247551586732, -0.6829716301516393, -0.3676730196100575, 1.0193858117452244, 1.0728106227198426, 0.011343357954452423, -0.032045016125525926, -0.7742044122551377, 0.014066594004189473, -0.05583824115310767, 0.0986187555755799, -0.4572560208734456, -0.8967256435547376, 1.174958563937178, 1.1911668973903686, -0.33011036472366573, -0.7857841292035158, -0.7809008580354921, -0.8399967446919175, -0.27571832877707314, 0.8268745288052696], \"yaxis\": \"y\"}, {\"customdata\": [[\"back.rotation.position.in.sag.plane <= 0.08208675496280193 and Hip.jerk.Mean > -1.0291672945022583 and Hip.ACC.coefficient.of.variation <= 0.7530215680599213 and Hip.yposture.Mean <= 1.11860853433609 and Hip.zposture.Mean > -1.7837491035461426\"], [\"back.rotation.position.in.sag.plane <= 0.17566733807325363 and Wrist.jerk.coefficient.of.variation <= 0.05163064785301685 and Hip.ACC.Mean > -0.47386549413204193\"], [\"back.rotation.position.in.sag.plane <= 0.22119303047657013 and Wrist.jerk.coefficient.of.variation <= 0.05529268458485603 and Hip.ACC.Mean > -0.09642184898257256 and Chest.jerk.Mean > -1.357083261013031\"], [\"back.rotation.position.in.sag.plane <= 0.07196993380784988 and Wrist.jerk.coefficient.of.variation <= 0.13951952010393143 and Ankle.jerk.coefficient.of.variation <= 2.620718240737915 and Hip.ACC.Mean > -0.47386549413204193\"], [\"back.rotation.position.in.sag.plane <= 0.22119303047657013 and Wrist.jerk.coefficient.of.variation <= 0.055658888071775436 and Hip.ACC.coefficient.of.variation <= 0.6935525238513947 and Chest.ACC.Mean > -0.7963787019252777\"], [\"back.rotation.position.in.sag.plane <= 0.08208675496280193 and Wrist.jerk.coefficient.of.variation <= -0.3969688415527344 and Hip.jerk.Mean > -1.1866024732589722\"], [\"Wrist.jerk.Mean > 0.6293943226337433 and leg.rotational.position.sag.plane > -0.8799513578414917 and back.rotation.position.in.sag.plane <= 0.2869523614645004\"], [\"number.of.steps <= 2.219828963279724 and Wrist.ACC.Mean > 0.4427796006202698 and back.rotation.position.in.sag.plane <= 0.07196993380784988 and Wrist.jerk.coefficient.of.variation > -0.12890776246786118 and Hip.jerk.Mean > -0.944271057844162\"], [\"Wrist.jerk.Mean <= 0.6293943226337433 and average.step.distance <= -1.0353843569755554 and average.vertical.impact <= 1.1573820114135742 and Wrist.jerk.coefficient.of.variation <= 0.14428017288446426\"], [\"Wrist.jerk.Mean > 0.6076001524925232 and Ankle.xposture.Mean > -0.3644658103585243 and back.rotation.position.in.sag.plane <= 0.3147736191749573 and Wrist.jerk.coefficient.of.variation > -0.12890776246786118\"], [\"age <= -0.6431948840618134 and Wrist.jerk.Mean > 0.6193370521068573 and Hip.ACC.Mean <= -0.09401484951376915 and Hip.xposture.Mean > -0.11400451697409153\"], [\"leg.rotational.velocity.sag.plane > 0.4559026509523392 and Wrist.jerk.coefficient.of.variation > -0.06408970803022385 and Chest.jerk.coefficient.of.variation <= 0.05839372263289988 and Chest.ACC.Mean <= 0.7234674841165543\"], [\"Wrist.jerk.Mean > 0.4312026649713516 and back.rotation.position.in.sag.plane <= 0.22119303047657013 and Hip.jerk.Mean > -1.1764254570007324 and Ankle.yposture.coefficient.of.variation <= 0.7823594212532043 and Hip.ACC.Mean <= -0.4651462137699127\"], [\"Wrist.jerk.Mean > 0.4312026649713516 and time.bent > -1.1932530105113983 and back.rotation.position.in.sag.plane <= 0.08208675496280193 and Wrist.jerk.coefficient.of.variation > -0.08532952144742012\"], [\"Wrist.jerk.Mean > 0.609248548746109 and Wrist.jerk.coefficient.of.variation > -0.09887906163930893 and Hip.xposture.Mean > 0.30653777718544006\"], [\"Wrist.jerk.Mean > 0.4312026649713516 and average.back.bent.angle <= 2.4434252977371216 and back.rotation.position.in.sag.plane <= 0.08208675496280193 and Wrist.jerk.coefficient.of.variation > -0.12890776246786118\"], [\"age <= 1.413722813129425 and Chest.yposture.Mean <= 0.18529319763183594 and back.rotation.position.in.sag.plane > 0.14278767257928848 and Chest.jerk.coefficient.of.variation <= -0.14473829418420792\"], [\"average.back.bent.angle <= -0.019200053066015244 and back.rotation.position.in.sag.plane <= 0.2995983809232712 and Hip.jerk.coefficient.of.variation > -1.2379732728004456 and Hip.jerk.Mean > -1.016774296760559 and Hip.ACC.coefficient.of.variation > 0.7264502942562103\"], [\"Chest.yposture.Mean > -0.32909780740737915 and back.rotation.position.in.sag.plane > 0.14278767257928848 and Chest.yposture.coefficient.of.variation > -0.06247674487531185 and Hip.yposture.Mean <= 1.4808058142662048\"], [\"Chest.zposture.Mean <= -0.5658640265464783 and Chest.jerk.Mean > 1.1795973777770996\"], [\"Ankle.ACC.Mean > -0.2820093333721161 and mean.foot.osicllation <= 0.06384310871362686 and back.rotation.position.in.sag.plane > 0.07196993380784988 and Chest.yposture.coefficient.of.variation > 0.10579947382211685\"], [\"Wrist.jerk.Mean > 0.2969344314187765 and Ankle.xposture.Mean > -0.22301507741212845 and back.rotation.position.in.sag.plane <= 0.19590097665786743 and Wrist.jerk.coefficient.of.variation <= 0.31236764788627625 and Hip.ACC.Mean <= -0.1834922656416893\"], [\"Wrist.jerk.Mean > 0.570469319820404 and Chest.zposture.Mean > -0.5531341880559921 and Hip.yposture.Mean > 0.4497672915458679\"], [\"Wrist.jerk.Mean > 0.804263561964035 and Hip.yposture.Mean > 0.43178360164165497\"], [\"age <= -0.6431948840618134 and back.rotation.position.in.sag.plane <= 0.3147736191749573 and Wrist.jerk.coefficient.of.variation <= 0.05529268458485603 and Hip.yposture.coefficient.of.variation <= -0.13694573938846588 and Hip.ACC.Mean <= -0.4651462137699127\"], [\"back.rotation.position.in.sag.plane <= 0.4134126156568527 and Chest.jerk.coefficient.of.variation <= 1.577257215976715 and Hip.ACC.Mean <= -0.35740862786769867 and Hip.xposture.Mean > -0.11400451697409153 and Hip.yposture.Mean <= 0.4358299970626831\"], [\"mean.foot.osicllation <= 0.5474072769284248 and back.rotation.position.in.sag.plane > 0.13772926479578018 and Wrist.jerk.coefficient.of.variation <= 0.051996851339936256 and Chest.yposture.coefficient.of.variation > 0.13022666797041893\"], [\"Wrist.jerk.Mean <= 0.25381583720445633 and back.rotation.position.in.sag.plane <= 0.3147736191749573 and Wrist.jerk.coefficient.of.variation <= 0.10399777442216873 and Hip.yposture.coefficient.of.variation > 0.8233537971973419 and Hip.ACC.Mean <= 0.6683569550514221\"], [\"leg.rotational.velocity.sag.plane > 0.23113470524549484 and back.rotation.position.in.sag.plane <= 0.22119303047657013 and Wrist.ACC.coefficient.of.variation <= 0.41829046607017517 and Hip.jerk.Mean > -1.0140153169631958 and Hip.ACC.coefficient.of.variation > 0.6277569830417633\"], [\"back.rotation.position.in.sag.plane > 0.09220357611775398 and Wrist.jerk.coefficient.of.variation <= -0.32189707458019257 and Wrist.jerk.coefficient.of.variation > -0.44164568185806274\"], [\"Wrist.jerk.Mean > 0.6558912396430969 and Wrist.jerk.coefficient.of.variation > -0.12890776246786118 and Chest.ACC.coefficient.of.variation > 0.1526772826910019\"], [\"leg.rotational.velocity.sag.plane > 0.7640345692634583 and back.rotation.position.in.sag.plane > 0.19084256887435913 and Chest.yposture.coefficient.of.variation > -0.07721060700714588\"], [\"Wrist.jerk.Mean > 0.2969344314187765 and average.back.bent.angle <= 2.4434252977371216 and back.rotation.position.in.sag.plane <= 0.19084256887435913 and Wrist.jerk.coefficient.of.variation <= 0.45848292112350464 and Hip.ACC.Mean <= -0.1834922656416893\"], [\"Chest.zposture.Mean > -0.7750130891799927 and Wrist.ACC.Mean <= -0.8298623859882355 and Hip.zposture.Mean <= -0.5042589902877808 and Chest.ACC.Mean > -0.3960997760295868\"], [\"Chest.zposture.Mean > -0.818633109331131 and Ankle.ACC.Mean > 0.12956057861447334 and back.rotation.position.in.sag.plane > 0.3350072503089905 and Hip.zposture.Mean <= -0.32050955295562744\"], [\"Chest.yposture.Mean > -0.27963462471961975 and Ankle.ACC.Mean > 1.2663668394088745 and back.rotation.position.in.sag.plane > 0.08208675496280193\"], [\"Chest.xposture.Mean <= -0.48957930505275726 and mean.hip.osicllation > 0.7705972492694855 and back.rotation.position.in.sag.plane <= 0.22119303047657013 and Hip.jerk.coefficient.of.variation > -1.0870676040649414 and Hip.jerk.Mean > -1.016774296760559\"], [\"Wrist.ACC.Mean > 0.02993513084948063 and mean.foot.osicllation <= -0.6188356876373291 and back.rotation.position.in.sag.plane <= 0.4032957851886749 and Hip.ACC.coefficient.of.variation > 0.7530215680599213 and Hip.yposture.Mean <= 0.43178360164165497\"], [\"Ankle.ACC.Mean > 1.2464872598648071 and time.bent <= 0.1459074355661869 and back.rotation.position.in.sag.plane > 0.14278767257928848 and Wrist.jerk.coefficient.of.variation <= 0.13951952010393143\"], [\"Wrist.jerk.Mean > 0.752532422542572 and Wrist.jerk.coefficient.of.variation <= 1.0121828317642212 and Hip.yposture.Mean > 0.4497672915458679\"], [\"Chest.zposture.Mean > -0.813684493303299 and Hip.ACC.coefficient.of.variation > 0.46263547241687775 and Ankle.jerk.coefficient.of.variation <= 0.3786405771970749 and Hip.yposture.coefficient.of.variation > 1.3317476511001587\"], [\"time.bent > -0.16009237617254257 and back.rotation.position.in.sag.plane <= 0.13772926479578018 and Wrist.jerk.coefficient.of.variation <= 0.13951952010393143 and Hip.ACC.Mean <= -0.47386549413204193\"], [\"back.rotation.position.in.sag.plane <= 0.14278767257928848 and Wrist.jerk.coefficient.of.variation <= 0.13951952010393143 and Hip.ACC.coefficient.of.variation > 0.920673668384552 and Hip.zposture.Mean <= -0.257413350045681\"], [\"Chest.zposture.Mean <= 1.2066242694854736 and Ankle.ACC.Mean > 1.450453281402588 and back.rotation.position.in.sag.plane > 0.06691152416169643\"], [\"leg.rotational.position.sag.plane <= 0.9183299243450165 and average.vertical.impact > -0.6690356135368347 and back.rotation.position.in.sag.plane > 0.13772926479578018 and Wrist.jerk.coefficient.of.variation <= 0.051996851339936256 and Chest.ACC.Mean > -0.05577976070344448\"], [\"Wrist.jerk.Mean <= 1.1872151494026184 and Wrist.jerk.Mean > 0.609248548746109 and Wrist.jerk.coefficient.of.variation > 0.051996851339936256\"], [\"average.back.bent.angle > 0.6750936210155487 and back.rotation.position.in.sag.plane <= 0.08208675496280193 and Wrist.ACC.coefficient.of.variation <= 0.6722874641418457 and Hip.jerk.Mean > -0.9716036319732666 and Hip.ACC.Mean > -0.47386549413204193\"], [\"back.rotation.position.in.sag.plane > 0.13772926479578018 and Wrist.jerk.coefficient.of.variation <= 0.055658888071775436 and Chest.jerk.coefficient.of.variation <= -0.1641261726617813 and Chest.yposture.coefficient.of.variation > 0.05345548875629902\"], [\"Chest.xposture.Mean <= -0.1942775622010231 and back.rotation.position.in.sag.plane <= 0.13772926479578018 and Wrist.jerk.coefficient.of.variation <= 0.13951952010393143 and Hip.ACC.coefficient.of.variation > 0.7530215680599213\"], [\"Wrist.jerk.Mean > 0.6575396358966827 and Wrist.jerk.coefficient.of.variation > 0.031855649314820766 and Chest.jerk.coefficient.of.variation <= 0.29897958040237427\"], [\"leg.rotational.velocity.sag.plane > 0.7640345692634583 and back.rotation.position.in.sag.plane > 0.13772926479578018 and Wrist.jerk.coefficient.of.variation <= 0.45958152413368225 and Chest.yposture.coefficient.of.variation > -0.2055502999573946\"], [\"Chest.zposture.Mean > -0.43040990829467773 and leg.rotational.position.sag.plane <= -0.622440904378891 and Chest.ACC.Mean <= -0.5039881467819214\"], [\"Ankle.xposture.Mean > 1.4438276886940002 and Wrist.jerk.coefficient.of.variation > 0.05163064785301685\"], [\"Ankle.ACC.Mean > 1.2663668394088745 and back.rotation.position.in.sag.plane > 0.09473278000950813 and Wrist.jerk.coefficient.of.variation <= 0.45848292112350464 and Hip.jerk.Mean > 0.21249128691852093\"], [\"Ankle.xposture.Mean <= 2.00384783744812 and Ankle.xposture.Mean > 1.4438276886940002 and Wrist.jerk.coefficient.of.variation > 0.05163064785301685\"], [\"Ankle.ACC.Mean > 1.2574350833892822 and mean.foot.osicllation <= 0.7180769667029381 and back.rotation.position.in.sag.plane > 0.08208675496280193\"], [\"Wrist.jerk.Mean > 0.19189758971333504 and Ankle.xposture.Mean > 1.0817750096321106 and back.rotation.position.in.sag.plane <= 0.08208675496280193 and Wrist.jerk.coefficient.of.variation <= 0.14428017288446426\"], [\"leg.rotational.velocity.sag.plane > 0.4624840170145035 and back.rotation.position.in.sag.plane <= 0.07196993380784988 and Wrist.jerk.coefficient.of.variation > 0.13951952010393143 and Hip.jerk.Mean > -0.9537079036235809\"], [\"Chest.zposture.Mean <= -0.5738493800163269 and Hip.jerk.coefficient.of.variation <= 0.2920888066291809 and Hip.ACC.Mean > 0.6988511085510254\"], [\"average.step.time > 0.15638594329357147 and Wrist.jerk.coefficient.of.variation <= -0.07763924449682236 and Hip.ACC.Mean <= -0.12419585883617401 and Chest.jerk.Mean <= -0.7112330794334412\"], [\"Wrist.jerk.Mean <= 0.6558912396430969 and Wrist.jerk.coefficient.of.variation > -0.12927396595478058 and Hip.jerk.Mean > -0.8571024537086487 and Hip.zposture.Mean <= -1.1153931021690369\"], [\"average.step.distance <= -1.0147500336170197 and back.rotation.position.in.sag.plane > 0.24901428073644638\"], [\"Wrist.jerk.Mean <= 0.752532422542572 and back.rotation.position.in.sag.plane <= 0.6056321859359741 and Wrist.jerk.coefficient.of.variation <= 0.04650379531085491 and Hip.ACC.Mean <= -0.12419585883617401 and Chest.jerk.Mean <= -0.6593453288078308\"], [\"Wrist.jerk.Mean <= 0.609248548746109 and Chest.zposture.Mean > 0.3086294159293175 and Wrist.jerk.coefficient.of.variation > 0.04650379531085491 and Ankle.jerk.coefficient.of.variation <= -0.5625578165054321 and Chest.ACC.Mean > -0.17345238011330366\"], [\"back.rotation.position.in.sag.plane <= 0.14278767257928848 and Wrist.ACC.coefficient.of.variation > 0.8943997621536255 and Hip.jerk.Mean > -1.1122835278511047 and Hip.ACC.coefficient.of.variation <= -0.1554630622267723\"], [\"Wrist.jerk.Mean <= 0.6293943226337433 and average.step.distance <= -0.25128016620874405 and average.step.distance > -1.0353843569755554 and Wrist.ACC.coefficient.of.variation <= -1.0846152901649475\"]], \"hoverlabel\": {\"namelength\": 0}, \"hovertemplate\": \"Class=Non fatigue<br>x=%{x}<br>y=%{y}<br>Recall=%{marker.size}<br>Regola=%{customdata[0]}\", \"legendgroup\": \"Class=Non fatigue\", \"marker\": {\"color\": \"#EF553B\", \"size\": [0.7076923076923077, 0.703125, 0.671875, 0.6551724137931034, 0.609375, 0.4838709677419355, 0.4406779661016949, 0.2222222222222222, 0.2033898305084746, 0.16129032258064516, 0.16129032258064516, 0.15873015873015872, 0.15254237288135594, 0.15151515151515152, 0.15, 0.13793103448275862, 0.13333333333333333, 0.13114754098360656, 0.125, 0.11864406779661017, 0.11475409836065574, 0.11290322580645161, 0.11290322580645161, 0.1111111111111111, 0.109375, 0.109375, 0.109375, 0.1076923076923077, 0.1076923076923077, 0.1076923076923077, 0.1076923076923077, 0.10526315789473684, 0.1, 0.1, 0.09836065573770492, 0.0967741935483871, 0.09523809523809523, 0.09523809523809523, 0.09523809523809523, 0.09523809523809523, 0.09523809523809523, 0.09375, 0.09375, 0.09230769230769231, 0.09090909090909091, 0.09090909090909091, 0.08955223880597014, 0.08955223880597014, 0.0847457627118644, 0.08196721311475409, 0.08064516129032258, 0.07936507936507936, 0.078125, 0.07692307692307693, 0.07692307692307693, 0.07352941176470588, 0.07017543859649122, 0.06896551724137931, 0.06557377049180328, 0.06557377049180328, 0.05714285714285714, 0.05263157894736842, 0.05172413793103448, 0.05172413793103448, 0.05084745762711865, 0.05084745762711865], \"sizemode\": \"area\", \"sizeref\": 0.0017692307692307693, \"symbol\": \"circle\"}, \"mode\": \"markers\", \"name\": \"Class=Non fatigue\", \"showlegend\": true, \"type\": \"scatter\", \"x\": [1.1551873349888615, 1.2562049047646564, 1.2857405673978064, 1.2650127015802501, 1.319235588268599, 1.3544478890382674, 1.1345817122692288, 1.4000482481032714, 0.5818791769419148, 1.4961774763334477, 0.49342261708576096, 0.48561981337972276, 1.4856445405466665, 1.381068731084977, 0.592016755427441, 1.4021898971475164, 0.520152924836611, 1.2479808564637667, 0.5594016383248784, 0.01983469070181955, 0.555514884896455, 1.7479569205004963, 0.3388575494581386, 0.2799480950737405, 1.462665681097586, 1.2263015886443844, 0.9238482614679282, 1.653400810129275, 1.2603818691743691, 1.0440831419217798, 0.561390569807576, 0.6152105469954585, 1.7351531385208825, 0.19061104696980122, 0.6288924040142513, 0.4923747303656167, 1.1392781846004378, 1.0995791236522532, 0.8982928381056704, 0.7553805334963284, 0.20485523265403147, 1.4350101148892425, 1.3538529183053079, 0.48905006051121164, 0.9339928600527189, 0.7466992962192864, 1.1243902126868106, 0.9371125115010651, 1.3258616534805694, 0.629477841078644, 1.0220554071064611, 0.10693266198926214, 0.4267894286313637, 1.1545596493316026, 0.4556340512731215, 0.5152217941705985, 1.5215979780786109, 1.4404258779888846, 0.0917566114685149, 0.6125123697095137, 0.727558369251315, 0.4690411620829149, 1.704165378474404, 0.6357534611794954, 1.1329554478988864, 0.23692540556698444], \"xaxis\": \"x\", \"y\": [-0.79605918605266, -0.36685130044156666, -0.3750045951383052, -0.35122651736024363, -0.3576888735817034, -0.5119610855992462, -0.5967005797135007, -0.7169539946940577, 0.2757221337765172, -0.5600156563852663, -0.16832218789163633, 0.21554304822569392, -0.8914132725873485, -0.574682844532671, -0.03708551274436551, -0.6009574963566632, 1.0880297317690848, -0.8719075845290558, 1.1765754212663282, 0.010813175264311534, 1.3037079787871686, -0.4446583809580026, -0.05346312296555562, -0.05503659195475415, -0.4896825160825031, -0.757304608182252, 1.4674943101743003, -0.5222457055036274, -0.7247543091388136, 1.2133478791466374, -0.02094696693984309, 1.3295203944707699, -0.5211225062330613, 0.0871252683761655, 1.20096211377344, 1.1779810618651263, -0.7798421558342935, -0.7038294005699804, 1.389928145278103, 0.20731548022445606, -0.09326863958049467, -0.4541169212745374, -0.42734511813167875, 1.1661129607226444, 1.3661245463512972, -0.0012552525774123767, -0.7360728699743136, 1.4095323558471107, -0.43929745978957546, -0.004931696922026917, 1.5192553310905612, 0.047344208856343384, 0.08878919008847044, 1.2334955220656958, 0.10248161687065739, 1.2082113617021075, -0.3171836350583278, -0.5564125799055153, 0.01972231938782846, 0.13345568415176426, -0.11233384352189205, 1.0904906578214013, -0.5437402984142033, 0.13578135637804498, -0.8098154034514594, 0.08935553337244559], \"yaxis\": \"y\"}],\n",
              "                        {\"legend\": {\"itemsizing\": \"constant\", \"tracegroupgap\": 0}, \"margin\": {\"t\": 60}, \"template\": {\"data\": {\"bar\": [{\"error_x\": {\"color\": \"#2a3f5f\"}, \"error_y\": {\"color\": \"#2a3f5f\"}, \"marker\": {\"line\": {\"color\": \"#E5ECF6\", \"width\": 0.5}}, \"type\": \"bar\"}], \"barpolar\": [{\"marker\": {\"line\": {\"color\": \"#E5ECF6\", \"width\": 0.5}}, \"type\": \"barpolar\"}], \"carpet\": [{\"aaxis\": {\"endlinecolor\": \"#2a3f5f\", \"gridcolor\": \"white\", \"linecolor\": \"white\", \"minorgridcolor\": \"white\", \"startlinecolor\": \"#2a3f5f\"}, \"baxis\": {\"endlinecolor\": \"#2a3f5f\", \"gridcolor\": \"white\", \"linecolor\": \"white\", \"minorgridcolor\": \"white\", \"startlinecolor\": \"#2a3f5f\"}, \"type\": \"carpet\"}], \"choropleth\": [{\"colorbar\": {\"outlinewidth\": 0, \"ticks\": \"\"}, \"type\": \"choropleth\"}], \"contour\": [{\"colorbar\": {\"outlinewidth\": 0, \"ticks\": \"\"}, \"colorscale\": [[0.0, \"#0d0887\"], [0.1111111111111111, \"#46039f\"], [0.2222222222222222, \"#7201a8\"], [0.3333333333333333, \"#9c179e\"], [0.4444444444444444, \"#bd3786\"], [0.5555555555555556, \"#d8576b\"], [0.6666666666666666, \"#ed7953\"], [0.7777777777777778, \"#fb9f3a\"], [0.8888888888888888, \"#fdca26\"], [1.0, \"#f0f921\"]], \"type\": \"contour\"}], \"contourcarpet\": [{\"colorbar\": {\"outlinewidth\": 0, \"ticks\": \"\"}, \"type\": \"contourcarpet\"}], \"heatmap\": [{\"colorbar\": {\"outlinewidth\": 0, \"ticks\": \"\"}, \"colorscale\": [[0.0, \"#0d0887\"], [0.1111111111111111, \"#46039f\"], [0.2222222222222222, \"#7201a8\"], [0.3333333333333333, \"#9c179e\"], [0.4444444444444444, \"#bd3786\"], [0.5555555555555556, \"#d8576b\"], [0.6666666666666666, \"#ed7953\"], [0.7777777777777778, \"#fb9f3a\"], [0.8888888888888888, \"#fdca26\"], [1.0, \"#f0f921\"]], \"type\": \"heatmap\"}], \"heatmapgl\": [{\"colorbar\": {\"outlinewidth\": 0, \"ticks\": \"\"}, \"colorscale\": [[0.0, \"#0d0887\"], [0.1111111111111111, \"#46039f\"], [0.2222222222222222, \"#7201a8\"], [0.3333333333333333, \"#9c179e\"], [0.4444444444444444, \"#bd3786\"], [0.5555555555555556, \"#d8576b\"], [0.6666666666666666, \"#ed7953\"], [0.7777777777777778, \"#fb9f3a\"], [0.8888888888888888, \"#fdca26\"], [1.0, \"#f0f921\"]], \"type\": \"heatmapgl\"}], \"histogram\": [{\"marker\": {\"colorbar\": {\"outlinewidth\": 0, \"ticks\": \"\"}}, \"type\": \"histogram\"}], \"histogram2d\": [{\"colorbar\": {\"outlinewidth\": 0, \"ticks\": \"\"}, \"colorscale\": [[0.0, \"#0d0887\"], [0.1111111111111111, \"#46039f\"], [0.2222222222222222, \"#7201a8\"], [0.3333333333333333, \"#9c179e\"], [0.4444444444444444, \"#bd3786\"], [0.5555555555555556, \"#d8576b\"], [0.6666666666666666, \"#ed7953\"], [0.7777777777777778, \"#fb9f3a\"], [0.8888888888888888, \"#fdca26\"], [1.0, \"#f0f921\"]], \"type\": \"histogram2d\"}], \"histogram2dcontour\": [{\"colorbar\": {\"outlinewidth\": 0, \"ticks\": \"\"}, \"colorscale\": [[0.0, \"#0d0887\"], [0.1111111111111111, \"#46039f\"], [0.2222222222222222, \"#7201a8\"], [0.3333333333333333, \"#9c179e\"], [0.4444444444444444, \"#bd3786\"], [0.5555555555555556, \"#d8576b\"], [0.6666666666666666, \"#ed7953\"], [0.7777777777777778, \"#fb9f3a\"], [0.8888888888888888, \"#fdca26\"], [1.0, \"#f0f921\"]], \"type\": \"histogram2dcontour\"}], \"mesh3d\": [{\"colorbar\": {\"outlinewidth\": 0, \"ticks\": \"\"}, \"type\": \"mesh3d\"}], \"parcoords\": [{\"line\": {\"colorbar\": {\"outlinewidth\": 0, \"ticks\": \"\"}}, \"type\": \"parcoords\"}], \"pie\": [{\"automargin\": true, \"type\": \"pie\"}], \"scatter\": [{\"marker\": {\"colorbar\": {\"outlinewidth\": 0, \"ticks\": \"\"}}, \"type\": \"scatter\"}], \"scatter3d\": [{\"line\": {\"colorbar\": {\"outlinewidth\": 0, \"ticks\": \"\"}}, \"marker\": {\"colorbar\": {\"outlinewidth\": 0, \"ticks\": \"\"}}, \"type\": \"scatter3d\"}], \"scattercarpet\": [{\"marker\": {\"colorbar\": {\"outlinewidth\": 0, \"ticks\": \"\"}}, \"type\": \"scattercarpet\"}], \"scattergeo\": [{\"marker\": {\"colorbar\": {\"outlinewidth\": 0, \"ticks\": \"\"}}, \"type\": \"scattergeo\"}], \"scattergl\": [{\"marker\": {\"colorbar\": {\"outlinewidth\": 0, \"ticks\": \"\"}}, \"type\": \"scattergl\"}], \"scattermapbox\": [{\"marker\": {\"colorbar\": {\"outlinewidth\": 0, \"ticks\": \"\"}}, \"type\": \"scattermapbox\"}], \"scatterpolar\": [{\"marker\": {\"colorbar\": {\"outlinewidth\": 0, \"ticks\": \"\"}}, \"type\": \"scatterpolar\"}], \"scatterpolargl\": [{\"marker\": {\"colorbar\": {\"outlinewidth\": 0, \"ticks\": \"\"}}, \"type\": \"scatterpolargl\"}], \"scatterternary\": [{\"marker\": {\"colorbar\": {\"outlinewidth\": 0, \"ticks\": \"\"}}, \"type\": \"scatterternary\"}], \"surface\": [{\"colorbar\": {\"outlinewidth\": 0, \"ticks\": \"\"}, \"colorscale\": [[0.0, \"#0d0887\"], [0.1111111111111111, \"#46039f\"], [0.2222222222222222, \"#7201a8\"], [0.3333333333333333, \"#9c179e\"], [0.4444444444444444, \"#bd3786\"], [0.5555555555555556, \"#d8576b\"], [0.6666666666666666, \"#ed7953\"], [0.7777777777777778, \"#fb9f3a\"], [0.8888888888888888, \"#fdca26\"], [1.0, \"#f0f921\"]], \"type\": \"surface\"}], \"table\": [{\"cells\": {\"fill\": {\"color\": \"#EBF0F8\"}, \"line\": {\"color\": \"white\"}}, \"header\": {\"fill\": {\"color\": \"#C8D4E3\"}, \"line\": {\"color\": \"white\"}}, \"type\": \"table\"}]}, \"layout\": {\"annotationdefaults\": {\"arrowcolor\": \"#2a3f5f\", \"arrowhead\": 0, \"arrowwidth\": 1}, \"coloraxis\": {\"colorbar\": {\"outlinewidth\": 0, \"ticks\": \"\"}}, \"colorscale\": {\"diverging\": [[0, \"#8e0152\"], [0.1, \"#c51b7d\"], [0.2, \"#de77ae\"], [0.3, \"#f1b6da\"], [0.4, \"#fde0ef\"], [0.5, \"#f7f7f7\"], [0.6, \"#e6f5d0\"], [0.7, \"#b8e186\"], [0.8, \"#7fbc41\"], [0.9, \"#4d9221\"], [1, \"#276419\"]], \"sequential\": [[0.0, \"#0d0887\"], [0.1111111111111111, \"#46039f\"], [0.2222222222222222, \"#7201a8\"], [0.3333333333333333, \"#9c179e\"], [0.4444444444444444, \"#bd3786\"], [0.5555555555555556, \"#d8576b\"], [0.6666666666666666, \"#ed7953\"], [0.7777777777777778, \"#fb9f3a\"], [0.8888888888888888, \"#fdca26\"], [1.0, \"#f0f921\"]], \"sequentialminus\": [[0.0, \"#0d0887\"], [0.1111111111111111, \"#46039f\"], [0.2222222222222222, \"#7201a8\"], [0.3333333333333333, \"#9c179e\"], [0.4444444444444444, \"#bd3786\"], [0.5555555555555556, \"#d8576b\"], [0.6666666666666666, \"#ed7953\"], [0.7777777777777778, \"#fb9f3a\"], [0.8888888888888888, \"#fdca26\"], [1.0, \"#f0f921\"]]}, \"colorway\": [\"#636efa\", \"#EF553B\", \"#00cc96\", \"#ab63fa\", \"#FFA15A\", \"#19d3f3\", \"#FF6692\", \"#B6E880\", \"#FF97FF\", \"#FECB52\"], \"font\": {\"color\": \"#2a3f5f\"}, \"geo\": {\"bgcolor\": \"white\", \"lakecolor\": \"white\", \"landcolor\": \"#E5ECF6\", \"showlakes\": true, \"showland\": true, \"subunitcolor\": \"white\"}, \"hoverlabel\": {\"align\": \"left\"}, \"hovermode\": \"closest\", \"mapbox\": {\"style\": \"light\"}, \"paper_bgcolor\": \"white\", \"plot_bgcolor\": \"#E5ECF6\", \"polar\": {\"angularaxis\": {\"gridcolor\": \"white\", \"linecolor\": \"white\", \"ticks\": \"\"}, \"bgcolor\": \"#E5ECF6\", \"radialaxis\": {\"gridcolor\": \"white\", \"linecolor\": \"white\", \"ticks\": \"\"}}, \"scene\": {\"xaxis\": {\"backgroundcolor\": \"#E5ECF6\", \"gridcolor\": \"white\", \"gridwidth\": 2, \"linecolor\": \"white\", \"showbackground\": true, \"ticks\": \"\", \"zerolinecolor\": \"white\"}, \"yaxis\": {\"backgroundcolor\": \"#E5ECF6\", \"gridcolor\": \"white\", \"gridwidth\": 2, \"linecolor\": \"white\", \"showbackground\": true, \"ticks\": \"\", \"zerolinecolor\": \"white\"}, \"zaxis\": {\"backgroundcolor\": \"#E5ECF6\", \"gridcolor\": \"white\", \"gridwidth\": 2, \"linecolor\": \"white\", \"showbackground\": true, \"ticks\": \"\", \"zerolinecolor\": \"white\"}}, \"shapedefaults\": {\"line\": {\"color\": \"#2a3f5f\"}}, \"ternary\": {\"aaxis\": {\"gridcolor\": \"white\", \"linecolor\": \"white\", \"ticks\": \"\"}, \"baxis\": {\"gridcolor\": \"white\", \"linecolor\": \"white\", \"ticks\": \"\"}, \"bgcolor\": \"#E5ECF6\", \"caxis\": {\"gridcolor\": \"white\", \"linecolor\": \"white\", \"ticks\": \"\"}}, \"title\": {\"x\": 0.05}, \"xaxis\": {\"automargin\": true, \"gridcolor\": \"white\", \"linecolor\": \"white\", \"ticks\": \"\", \"title\": {\"standoff\": 15}, \"zerolinecolor\": \"white\", \"zerolinewidth\": 2}, \"yaxis\": {\"automargin\": true, \"gridcolor\": \"white\", \"linecolor\": \"white\", \"ticks\": \"\", \"title\": {\"standoff\": 15}, \"zerolinecolor\": \"white\", \"zerolinewidth\": 2}}}, \"xaxis\": {\"anchor\": \"y\", \"domain\": [0.0, 1.0], \"title\": {\"text\": \"x\"}}, \"yaxis\": {\"anchor\": \"x\", \"domain\": [0.0, 1.0], \"title\": {\"text\": \"y\"}}},\n",
              "                        {\"responsive\": true}\n",
              "                    ).then(function(){\n",
              "                            \n",
              "var gd = document.getElementById('85f2fc93-f5c2-428d-9d17-3edb203a07c3');\n",
              "var x = new MutationObserver(function (mutations, observer) {{\n",
              "        var display = window.getComputedStyle(gd).display;\n",
              "        if (!display || display === 'none') {{\n",
              "            console.log([gd, 'removed!']);\n",
              "            Plotly.purge(gd);\n",
              "            observer.disconnect();\n",
              "        }}\n",
              "}});\n",
              "\n",
              "// Listen for the removal of the full notebook cells\n",
              "var notebookContainer = gd.closest('#notebook-container');\n",
              "if (notebookContainer) {{\n",
              "    x.observe(notebookContainer, {childList: true});\n",
              "}}\n",
              "\n",
              "// Listen for the clearing of the current output cell\n",
              "var outputEl = gd.closest('.output');\n",
              "if (outputEl) {{\n",
              "    x.observe(outputEl, {childList: true});\n",
              "}}\n",
              "\n",
              "                        })\n",
              "                };\n",
              "                \n",
              "            </script>\n",
              "        </div>\n",
              "</body>\n",
              "</html>"
            ]
          },
          "metadata": {
            "tags": []
          }
        }
      ]
    },
    {
      "cell_type": "markdown",
      "metadata": {
        "id": "yPneLmBBfLNP"
      },
      "source": [
        "###Visualizzazione PCA"
      ]
    },
    {
      "cell_type": "code",
      "metadata": {
        "id": "2e95Luifefgd"
      },
      "source": [
        "from sklearn.decomposition import PCA\n",
        "\n",
        "pca = PCA(n_components=2)\n",
        "result = pca.fit_transform(matrice)"
      ],
      "execution_count": null,
      "outputs": []
    },
    {
      "cell_type": "code",
      "metadata": {
        "id": "uX3cUDHdffTn"
      },
      "source": [
        "import numpy as np\n",
        "\n",
        "data = {\n",
        "        'x':  result[: , 0],\n",
        "        'y':  result[: , 1]\n",
        "        }\n",
        "\n",
        "Grafico = pd.DataFrame (data, columns = ['x', 'y'])\n",
        "#matriceNLP['Regola'] = matriceNLP['Regola'].astype(str)\n",
        "Grafico['Class'] = Regole['Class']\n",
        "Grafico['Regola'] = Regole['Regola']\n",
        "Grafico['Recall'] = Regole['Recall'].astype(np.float)\n",
        "Grafico.info()"
      ],
      "execution_count": null,
      "outputs": []
    },
    {
      "cell_type": "code",
      "metadata": {
        "colab": {
          "base_uri": "https://localhost:8080/",
          "height": 542
        },
        "id": "FRYvZny8ffM0",
        "outputId": "6251f7e6-132f-45c0-fc3f-5239b8258be6"
      },
      "source": [
        "import plotly.express as px\n",
        "fig = px.scatter(Grafico, x='x', y='y', color='Class', size='Recall', hover_data=['Regola'])\n",
        "\n",
        "fig.show()\n",
        "#fig.write_html(\"graficoPlattoning.html\")"
      ],
      "execution_count": null,
      "outputs": [
        {
          "output_type": "display_data",
          "data": {
            "text/html": [
              "<html>\n",
              "<head><meta charset=\"utf-8\" /></head>\n",
              "<body>\n",
              "    <div>\n",
              "            <script src=\"https://cdnjs.cloudflare.com/ajax/libs/mathjax/2.7.5/MathJax.js?config=TeX-AMS-MML_SVG\"></script><script type=\"text/javascript\">if (window.MathJax) {MathJax.Hub.Config({SVG: {font: \"STIX-Web\"}});}</script>\n",
              "                <script type=\"text/javascript\">window.PlotlyConfig = {MathJaxConfig: 'local'};</script>\n",
              "        <script src=\"https://cdn.plot.ly/plotly-latest.min.js\"></script>    \n",
              "            <div id=\"c8ff3d6e-7d6d-499e-b47f-daec21704492\" class=\"plotly-graph-div\" style=\"height:525px; width:100%;\"></div>\n",
              "            <script type=\"text/javascript\">\n",
              "                \n",
              "                    window.PLOTLYENV=window.PLOTLYENV || {};\n",
              "                    \n",
              "                if (document.getElementById(\"c8ff3d6e-7d6d-499e-b47f-daec21704492\")) {\n",
              "                    Plotly.newPlot(\n",
              "                        'c8ff3d6e-7d6d-499e-b47f-daec21704492',\n",
              "                        [{\"customdata\": [[\"Wrist.jerk.Mean <= 1.502169668674469 and Ankle.ACC.Mean <= 1.7874895334243774 and average.step.distance > -1.0560186505317688 and back.rotation.position.in.sag.plane > 0.13772926479578018 and Wrist.ACC.coefficient.of.variation <= 2.44702410697937\"], [\"Wrist.jerk.Mean <= 0.609248548746109 and Ankle.xposture.Mean > -1.4759454727172852 and back.rotation.position.in.sag.plane > -0.8815403580665588 and Wrist.jerk.coefficient.of.variation > 0.051996851339936256 and Chest.ACC.coefficient.of.variation <= 1.5517901182174683\"], [\"Ankle.ACC.Mean <= 1.2965334057807922 and average.step.distance > -1.0147500336170197 and back.rotation.position.in.sag.plane > 0.24901428073644638\"], [\"Wrist.jerk.Mean <= 0.5673905611038208 and Ankle.xposture.Mean <= 1.4438276886940002 and Ankle.xposture.Mean > -1.5387402176856995 and Wrist.jerk.coefficient.of.variation > -0.2047119140625 and Hip.zposture.Mean > -1.111806869506836\"], [\"Wrist.jerk.Mean <= 0.6575396358966827 and Ankle.xposture.Mean <= 1.4438276886940002 and back.rotation.position.in.sag.plane > -0.8815403580665588 and Wrist.jerk.coefficient.of.variation > 0.05163064785301685 and Ankle.jerk.coefficient.of.variation > -1.1026819348335266\"], [\"Ankle.ACC.Mean <= 1.2663668394088745 and average.step.distance > -1.0560186505317688 and leg.rotational.velocity.sag.plane <= 0.9206996858119965 and back.rotation.position.in.sag.plane > 0.08208675496280193\"], [\"Ankle.ACC.Mean <= 1.4400295615196228 and back.rotation.position.in.sag.plane > 0.08208675496280193 and Chest.ACC.Mean <= -0.023286499083042145\"], [\"Wrist.jerk.Mean <= 0.5673905611038208 and Wrist.jerk.coefficient.of.variation > 0.45848292112350464 and Chest.ACC.coefficient.of.variation <= 1.5231245160102844\"], [\"Ankle.xposture.Mean > -1.566654920578003 and leg.rotational.velocity.sag.plane <= 0.7640345692634583 and average.vertical.impact <= 2.2539355158805847 and back.rotation.position.in.sag.plane > 0.19084256887435913\"], [\"leg.rotational.velocity.sag.plane <= 0.7640345692634583 and back.rotation.position.in.sag.plane > 0.22119303047657013\"], [\"Wrist.jerk.Mean <= 0.570469319820404 and Ankle.jerk.coefficient.of.variation > -1.0934387743473053 and Hip.yposture.Mean > 0.4497672915458679\"], [\"Chest.yposture.Mean > 0.18529319763183594 and back.rotation.position.in.sag.plane > 0.13772926479578018\"], [\"Ankle.ACC.Mean <= 1.2663668394088745 and average.step.distance > -1.0147500336170197 and Wrist.ACC.Mean > -2.388550579547882 and back.rotation.position.in.sag.plane > 0.07196993380784988 and Wrist.jerk.coefficient.of.variation <= 0.45848292112350464\"], [\"Ankle.xposture.Mean <= 1.4438276886940002 and Wrist.jerk.coefficient.of.variation > 0.6009361445903778\"], [\"average.step.time > -0.5274068266153336 and leg.rotational.velocity.sag.plane <= 0.7091898620128632 and leg.rotational.position.sag.plane > -0.8061316609382629 and back.rotation.position.in.sag.plane > 0.13772926479578018 and Wrist.jerk.coefficient.of.variation <= 0.13951952010393143\"], [\"back.rotation.position.in.sag.plane <= 0.14278767257928848 and Wrist.jerk.coefficient.of.variation > -0.36913734674453735 and Hip.jerk.Mean <= -1.0140153169631958\"], [\"back.rotation.position.in.sag.plane > 0.17566733807325363 and Wrist.jerk.coefficient.of.variation <= 0.05163064785301685 and Ankle.ACC.coefficient.of.variation > -2.2030997276306152 and Chest.yposture.coefficient.of.variation <= -0.035335421562194824\"], [\"back.rotation.position.in.sag.plane > 0.19084256887435913 and Wrist.jerk.coefficient.of.variation <= 0.45848292112350464 and Chest.ACC.Mean <= -0.010463932529091835\"], [\"Wrist.jerk.Mean <= 0.6076001524925232 and back.rotation.position.in.sag.plane <= 0.3147736191749573 and Wrist.jerk.coefficient.of.variation > -0.12890776246786118 and Hip.jerk.coefficient.of.variation > 0.13012774661183357\"], [\"back.rotation.position.in.sag.plane <= 0.13772926479578018 and Hip.jerk.Mean <= -1.016774296760559 and Hip.ACC.Mean <= 0.7268421053886414\"], [\"back.rotation.position.in.sag.plane <= 0.22119303047657013 and Hip.jerk.Mean <= -1.016971468925476\"], [\"leg.rotational.position.sag.plane > -0.7975479960441589 and back.rotation.position.in.sag.plane > 0.19590097665786743 and Wrist.jerk.coefficient.of.variation <= -0.12927396595478058 and Chest.yposture.coefficient.of.variation <= -0.1497167218476534\"], [\"Chest.zposture.Mean > -0.813684493303299 and Ankle.xposture.Mean > -0.9734993502497673 and leg.rotational.velocity.sag.plane <= 0.6947394609451294 and back.rotation.position.in.sag.plane > 0.08208675496280193\"], [\"time.bent <= 1.3731969594955444 and back.rotation.position.in.sag.plane <= 0.08208675496280193 and Hip.jerk.Mean <= -1.0197304487228394\"], [\"average.step.distance <= 0.5947269797325134 and back.rotation.position.in.sag.plane > 0.19084256887435913 and Wrist.jerk.coefficient.of.variation <= 0.05163064785301685 and Hip.jerk.coefficient.of.variation <= 0.5369650721549988\"], [\"back.rotation.position.in.sag.plane > 0.19590097665786743 and Wrist.jerk.coefficient.of.variation <= 0.051996851339936256 and Chest.yposture.coefficient.of.variation <= 0.05345548875629902\"], [\"average.step.time > 0.15638594329357147 and Wrist.ACC.Mean <= 2.2251697778701782 and Wrist.jerk.coefficient.of.variation <= -0.07763924449682236 and Hip.ACC.Mean <= -0.12419585883617401 and Chest.jerk.Mean > -0.7112330794334412\"], [\"Wrist.ACC.Mean <= 0.4427796006202698 and Wrist.jerk.coefficient.of.variation > -0.002201290801167488 and Hip.ACC.Mean > -0.09401484951376915 and Hip.zposture.Mean <= 2.1090787053108215\"], [\"Chest.yposture.Mean <= -0.27709291875362396 and Ankle.xposture.Mean > -0.4443378299474716 and back.rotation.position.in.sag.plane > 0.08208675496280193 and Chest.ACC.Mean > -0.05577976070344448\"], [\"Wrist.jerk.Mean <= 0.4312026649713516 and back.rotation.position.in.sag.plane <= 0.22119303047657013 and Hip.jerk.Mean > -1.1764254570007324 and Hip.ACC.Mean <= -0.4651462137699127 and Hip.zposture.Mean <= 0.5710654556751251\"], [\"Wrist.jerk.Mean <= 0.6076001524925232 and Chest.zposture.Mean > 0.34723396599292755 and Wrist.ACC.Mean <= 0.2955123037099838 and Wrist.jerk.coefficient.of.variation > 0.051996851339936256 and Ankle.jerk.coefficient.of.variation > -0.5902874171733856\"], [\"back.rotation.position.in.sag.plane <= 0.4134126156568527 and Chest.jerk.coefficient.of.variation <= 1.577257215976715 and Hip.ACC.Mean <= -0.35740862786769867 and Hip.xposture.Mean <= -0.11400451697409153 and Hip.yposture.Mean <= 0.4358299970626831\"], [\"Chest.zposture.Mean > -0.7797949314117432 and leg.rotational.velocity.sag.plane <= 0.19837094843387604 and Wrist.jerk.coefficient.of.variation > 0.051996851339936256\"], [\"age > -0.6431948840618134 and back.rotation.position.in.sag.plane <= 0.22119303047657013 and Hip.jerk.Mean > -1.0197304487228394 and Hip.ACC.coefficient.of.variation > 0.6935525238513947 and Hip.zposture.Mean > -0.35152849555015564\"], [\"Ankle.xposture.Mean <= 1.4438276886940002 and average.back.bent.angle <= -0.1536228358745575 and Wrist.jerk.coefficient.of.variation <= 0.6009361445903778 and Wrist.jerk.coefficient.of.variation > 0.13951952010393143 and Ankle.jerk.coefficient.of.variation > -0.5975212156772614\"], [\"Wrist.jerk.Mean <= 0.2969344314187765 and back.rotation.position.in.sag.plane <= 0.19590097665786743 and Wrist.jerk.coefficient.of.variation <= 0.31236764788627625 and Hip.ACC.Mean <= -0.1834922656416893\"], [\"age > -0.6431948840618134 and back.rotation.position.in.sag.plane <= 0.3350072503089905 and Wrist.jerk.coefficient.of.variation <= 0.05712370201945305 and Hip.ACC.Mean <= -0.39351682364940643\"], [\"back.rotation.position.in.sag.plane > 0.011269010603427887 and Wrist.jerk.coefficient.of.variation > -0.05163878574967384 and Hip.jerk.Mean > -0.105531957000494 and Hip.xposture.Mean <= 0.8134874701499939\"], [\"Chest.zposture.Mean > -0.7750130891799927 and back.rotation.position.in.sag.plane <= 0.4134126156568527 and Chest.jerk.coefficient.of.variation > 1.5499379634857178\"], [\"Chest.zposture.Mean > -0.818633109331131 and back.rotation.position.in.sag.plane <= 0.3350072503089905 and Hip.jerk.Mean <= -1.0197304487228394 and Hip.ACC.Mean <= 0.6224616765975952\"], [\"mean.hip.osicllation <= 1.4770870506763458 and back.rotation.position.in.sag.plane <= 0.08208675496280193 and Hip.jerk.Mean > -1.1866024732589722 and Hip.ACC.coefficient.of.variation > 1.4856296181678772\"], [\"leg.rotational.velocity.sag.plane > 0.7640345692634583 and back.rotation.position.in.sag.plane > 0.13772926479578018 and Chest.yposture.coefficient.of.variation <= -0.07682287506759167\"], [\"time.bent > -0.2982858344912529 and back.rotation.position.in.sag.plane > 0.14278767257928848 and Wrist.jerk.coefficient.of.variation <= 0.13951952010393143 and Chest.jerk.coefficient.of.variation > -0.2447620928287506 and Chest.ACC.Mean > -0.05577976070344448\"], [\"leg.rotational.velocity.sag.plane > 0.4559026509523392 and Wrist.jerk.coefficient.of.variation > 0.04650379531085491 and Hip.jerk.Mean <= -0.9413149058818817\"], [\"leg.rotational.position.sag.plane > 0.9183299243450165 and back.rotation.position.in.sag.plane > 0.13772926479578018 and Wrist.jerk.coefficient.of.variation <= 0.051996851339936256 and Chest.ACC.Mean > -0.05577976070344448\"], [\"Chest.xposture.Mean > 1.4115136116743088 and Ankle.xposture.Mean <= 1.4438276886940002 and Wrist.jerk.coefficient.of.variation > 0.13951952010393143 and Hip.zposture.Mean <= -1.1153931021690369\"], [\"Chest.zposture.Mean > -0.7750130891799927 and back.rotation.position.in.sag.plane <= 0.4134126156568527 and Hip.jerk.coefficient.of.variation <= -1.0306852161884308 and Chest.jerk.coefficient.of.variation <= 1.5499379634857178 and Hip.yposture.coefficient.of.variation > -0.7880868315696716\"], [\"leg.rotational.velocity.sag.plane > 0.7904554307460785 and back.rotation.position.in.sag.plane > 0.14278767257928848 and Chest.ACC.Mean <= 0.05380232073366642\"], [\"leg.rotational.velocity.sag.plane <= 0.44231070578098297 and average.vertical.impact > -0.5764846503734589 and back.rotation.position.in.sag.plane <= 0.22119303047657013 and Wrist.jerk.coefficient.of.variation > 0.05529268458485603 and Hip.jerk.Mean > -0.8571024537086487\"], [\"back.rotation.position.in.sag.plane <= 0.08208675496280193 and Wrist.ACC.coefficient.of.variation > 0.8943997621536255 and Hip.jerk.Mean > -1.016774296760559 and Hip.zposture.Mean > -0.9171982109546661\"], [\"back.rotation.position.in.sag.plane <= 0.5322852581739426 and Chest.jerk.coefficient.of.variation > 1.5499379634857178 and Hip.yposture.Mean <= 0.46872852742671967\"], [\"mean.hip.osicllation > -0.7601307332515717 and leg.rotational.velocity.sag.plane > 0.7904554307460785 and back.rotation.position.in.sag.plane > 0.08208675496280193 and Chest.yposture.coefficient.of.variation <= 0.06702615693211555\"], [\"Chest.zposture.Mean > 1.470730483531952 and leg.rotational.position.sag.plane > -0.8567753732204437 and Hip.ACC.coefficient.of.variation <= 0.46263547241687775 and Ankle.jerk.coefficient.of.variation <= 1.043346881866455\"], [\"mean.foot.osicllation > 0.006953209638595581 and back.rotation.position.in.sag.plane > 0.17566733807325363 and Wrist.jerk.coefficient.of.variation <= 0.13951952010393143 and Chest.yposture.coefficient.of.variation > 0.01700856350362301\"], [\"Wrist.jerk.Mean > -1.241362988948822 and Chest.zposture.Mean > -0.7797949314117432 and leg.rotational.velocity.sag.plane > 0.19837094843387604 and Wrist.jerk.coefficient.of.variation > 0.051996851339936256 and Chest.jerk.coefficient.of.variation > 0.8462463319301605\"], [\"Ankle.xposture.Mean > 0.31893298029899597 and back.rotation.position.in.sag.plane > 0.19084256887435913 and Wrist.jerk.coefficient.of.variation <= 0.04650379531085491 and Chest.yposture.coefficient.of.variation > 0.1852847896516323\"], [\"Wrist.jerk.Mean <= 0.6558912396430969 and Wrist.jerk.coefficient.of.variation > -0.12927396595478058 and Hip.jerk.Mean <= -0.8571024537086487 and Hip.zposture.Mean <= -1.1153931021690369\"], [\"time.bent > 0.28410089015960693 and back.rotation.position.in.sag.plane <= 0.06691152416169643 and Wrist.ACC.coefficient.of.variation > 0.6544536352157593 and Hip.jerk.Mean > -1.016774296760559\"], [\"Chest.zposture.Mean > -0.7797949314117432 and Wrist.ACC.Mean > 0.2955123037099838 and back.rotation.position.in.sag.plane <= 0.5322852581739426 and Wrist.jerk.coefficient.of.variation > 0.05712370201945305 and Hip.jerk.Mean <= -0.944271057844162\"], [\"back.rotation.position.in.sag.plane <= 0.09220357611775398 and Wrist.jerk.coefficient.of.variation <= 0.45848292112350464 and Hip.jerk.coefficient.of.variation > 1.6364207863807678\"], [\"Wrist.jerk.Mean > 0.4312026649713516 and back.rotation.position.in.sag.plane > 0.10737880505621433 and Wrist.jerk.coefficient.of.variation > 0.051996851339936256 and Hip.xposture.Mean <= 0.8526010513305664\"], [\"Wrist.jerk.Mean > 0.6076001524925232 and back.rotation.position.in.sag.plane > 0.3223612308502197 and Wrist.jerk.coefficient.of.variation > 0.051996851339936256\"], [\"Wrist.jerk.Mean <= 0.6575396358966827 and Wrist.jerk.coefficient.of.variation > 0.051996851339936256 and Chest.jerk.coefficient.of.variation > 1.6058984398841858 and Hip.zposture.Mean <= -1.111806869506836\"], [\"Wrist.jerk.Mean > 0.6575396358966827 and Wrist.jerk.coefficient.of.variation > 0.031855649314820766 and Chest.jerk.coefficient.of.variation > 0.29897958040237427\"], [\"back.rotation.position.in.sag.plane <= 0.08208675496280193 and Hip.jerk.coefficient.of.variation <= -1.0262631177902222 and Hip.jerk.Mean > -1.0197304487228394 and Hip.ACC.coefficient.of.variation > 0.6277569830417633\"], [\"Chest.zposture.Mean > -0.5658640265464783 and average.vertical.impact <= 0.6501088738441467 and Hip.jerk.coefficient.of.variation <= -1.1224447190761566\"], [\"Chest.zposture.Mean > -0.5658640265464783 and mean.foot.osicllation > -0.7895053923130035 and average.vertical.impact <= 0.6501088738441467 and Hip.jerk.coefficient.of.variation > -1.1224447190761566 and Hip.jerk.Mean <= -1.016971468925476\"], [\"Wrist.jerk.Mean <= 0.6293943226337433 and average.step.distance > -0.25128016620874405 and leg.rotational.position.sag.plane > -0.3812394440174103 and Wrist.ACC.coefficient.of.variation <= -1.0846152901649475\"], [\"leg.rotational.velocity.sag.plane > 0.4624840170145035 and back.rotation.position.in.sag.plane <= 0.07196993380784988 and Wrist.jerk.coefficient.of.variation > 0.13951952010393143 and Hip.jerk.Mean <= -0.9537079036235809\"], [\"back.rotation.position.in.sag.plane <= 0.19084256887435913 and Wrist.ACC.coefficient.of.variation > 0.8943997621536255 and Hip.jerk.coefficient.of.variation > -0.6752553582191467 and Hip.jerk.Mean > -1.0140153169631958 and Hip.ACC.coefficient.of.variation > 0.7530215680599213\"], [\"leg.rotational.velocity.sag.plane > 0.19837094843387604 and back.rotation.position.in.sag.plane > 0.23130984604358673 and Wrist.jerk.coefficient.of.variation > 0.055658888071775436 and Chest.jerk.coefficient.of.variation <= 0.37300601601600647\"], [\"average.step.time > 0.27035141736268997 and leg.rotational.velocity.sag.plane > 0.7640345692634583 and back.rotation.position.in.sag.plane > 0.08208675496280193\"], [\"Wrist.jerk.Mean <= 0.4312026649713516 and back.rotation.position.in.sag.plane <= 0.22119303047657013 and Wrist.jerk.coefficient.of.variation <= 0.31126902997493744 and Wrist.jerk.coefficient.of.variation > 0.05712370201945305 and Hip.xposture.Mean > -0.33422017097473145\"], [\"back.rotation.position.in.sag.plane <= 0.08208675496280193 and Hip.jerk.Mean > -1.1866024732589722 and Hip.ACC.coefficient.of.variation <= 1.4856296181678772 and Chest.jerk.coefficient.of.variation > 1.7768641710281372\"], [\"leg.rotational.position.sag.plane <= -0.039608925580978394 and back.rotation.position.in.sag.plane <= 0.24142666906118393 and Hip.jerk.Mean > -1.016971468925476 and Hip.ACC.coefficient.of.variation <= 0.6935525238513947 and Hip.yposture.Mean > 1.1795047521591187\"], [\"age > -0.23181135952472687 and back.rotation.position.in.sag.plane <= 0.07196993380784988 and Wrist.ACC.coefficient.of.variation <= 0.6722874641418457 and Hip.jerk.Mean > -1.0140153169631958 and Hip.ACC.Mean <= -0.6011788845062256\"], [\"Wrist.jerk.Mean <= 0.4312026649713516 and leg.rotational.velocity.sag.plane <= -0.7145789712667465 and back.rotation.position.in.sag.plane <= -0.9321244657039642 and Wrist.jerk.coefficient.of.variation > 0.13951952010393143 and Chest.ACC.coefficient.of.variation <= 1.819625198841095\"], [\"Wrist.jerk.Mean <= 0.8209874927997589 and back.rotation.position.in.sag.plane > -0.41616663336753845 and Wrist.jerk.coefficient.of.variation > 0.031855649314820766 and Hip.ACC.Mean > 0.5573155283927917\"]], \"hoverlabel\": {\"namelength\": 0}, \"hovertemplate\": \"Class=Fatigue<br>x=%{x}<br>y=%{y}<br>Recall=%{marker.size}<br>Regola=%{customdata[0]}\", \"legendgroup\": \"Class=Fatigue\", \"marker\": {\"color\": \"#636efa\", \"size\": [0.5737704918032787, 0.5409836065573771, 0.5294117647058824, 0.5081967213114754, 0.5, 0.49206349206349204, 0.4696969696969697, 0.4576271186440678, 0.45588235294117646, 0.45, 0.4444444444444444, 0.3870967741935484, 0.3484848484848485, 0.3484848484848485, 0.30303030303030304, 0.3, 0.29508196721311475, 0.2923076923076923, 0.2857142857142857, 0.2786885245901639, 0.25757575757575757, 0.2545454545454545, 0.2459016393442623, 0.24242424242424243, 0.22950819672131148, 0.22580645161290322, 0.203125, 0.19047619047619047, 0.1694915254237288, 0.16666666666666666, 0.15384615384615385, 0.14754098360655737, 0.140625, 0.13793103448275862, 0.13636363636363635, 0.12698412698412698, 0.125, 0.125, 0.11666666666666667, 0.109375, 0.10344827586206896, 0.09836065573770492, 0.0967741935483871, 0.09259259259259259, 0.0847457627118644, 0.0847457627118644, 0.08333333333333333, 0.08333333333333333, 0.08196721311475409, 0.08064516129032258, 0.08064516129032258, 0.08064516129032258, 0.08064516129032258, 0.078125, 0.078125, 0.07407407407407407, 0.07272727272727272, 0.06896551724137931, 0.06779661016949153, 0.06779661016949153, 0.06779661016949153, 0.06451612903225806, 0.06451612903225806, 0.0625, 0.06060606060606061, 0.06060606060606061, 0.06060606060606061, 0.06060606060606061, 0.05970149253731343, 0.05970149253731343, 0.05970149253731343, 0.05714285714285714, 0.05263157894736842, 0.05172413793103448, 0.05084745762711865, 0.05, 0.05, 0.05], \"sizemode\": \"area\", \"sizeref\": 0.0017692307692307693, \"symbol\": \"circle\"}, \"mode\": \"markers\", \"name\": \"Class=Fatigue\", \"showlegend\": true, \"type\": \"scatter\", \"x\": [1.010125041717092, 0.5560421693218605, 1.0764261506822743, 0.024906185584763978, 0.5437595120372615, 1.1070074768713265, 1.0194816711997792, 0.020719598221407235, 1.0927960810056305, 1.0485504217739436, 0.06167108537601465, 0.97974919581992, 1.0828070001545893, 0.052705410784655564, 1.150819536982906, -0.7872581892487412, 1.1254355594253185, 1.0822312870531294, -0.8526465506602782, -0.9487153704043128, -0.7716706670983974, 1.1179033102773657, 1.0190151644180971, -0.7405529188610873, 1.0739256123200087, 1.1224037087828118, 0.029819773484381425, 0.019683176565982348, 1.0557494705420185, -1.1042249845589718, 0.026866015773837622, -0.9686718918363691, 0.10832074073984077, -1.0917219226595862, 0.12651168033589247, -0.8130434082781012, -0.8481063576030741, 0.6662954682582968, -0.8088424982748168, -1.0031295825482025, -1.0210263483753639, 1.1223301756937478, 1.0669346953603875, 0.06997718437568917, 1.1436581959378689, 0.050628808331464194, -0.8111079359304513, 1.101308661916721, -0.8871060231497943, -0.9970655474829898, -0.8665855145815565, 1.1292547481163684, 0.04369090330852219, 1.1818177572645285, 0.005871652030008434, 1.2151037684351644, -0.05046763584050286, -0.9427957675016444, -0.9456033025039405, -0.6565427532909287, 0.8066130022815369, 0.855083031539563, -0.025134788561541548, -0.08014118084971218, -0.9800220016327879, 0.08826174543407238, -0.004203978423217701, 0.12754646755970475, -0.6931345414506527, -1.1319867529625005, 0.9834419504646349, 1.0695882577867108, -0.7152013340576262, -0.9953133076401012, -0.9946478206838643, -1.0881303659009776, -0.4522920295651467, 0.6681840925165442], \"xaxis\": \"x\", \"y\": [0.06238076502045119, 1.0175014405332277, -0.22899532727569002, 1.1698873649036285, 1.0721027199470086, -0.19092134129758445, -0.1935568274592285, 1.2512416592871334, -0.13237779013256282, -0.1858499443576327, 0.4555095314177383, -0.20304354393919347, -0.7083731105282652, 1.099179883746941, -0.6975040112837321, 0.4009852718921982, -0.7270540346618046, -0.6929696964197805, 0.6036746822029471, -0.40584193852810874, -0.2133460722479249, -0.7012095558161605, -0.0069588558905757094, -0.21443440466375632, -0.6974910239313022, -0.7156562734032365, -0.4880866307804755, 0.970727652211725, -0.17406289869589917, -0.2042939620051674, 1.3417887809400817, -0.475571073619588, 0.9842006851091369, -0.47054126681836894, 0.5492871556283027, -0.6969795007828776, -0.9279417515195565, 0.44672303551684395, -0.12208302682857305, -0.3214632944278789, -0.4498187429757503, -0.20138112013861792, -0.6994458115169303, 0.9606041578524047, -0.7249133385880228, 1.094407197380692, -0.20680033114764793, -0.14912295492046018, 0.36884605921639413, -0.3903166644835987, -0.2849532345838959, -0.21760198818750418, 0.22864405548108227, -0.7839011262804942, 1.224271986148431, -0.7170649616077622, 1.2146019980484517, -0.40859882433846334, 0.5862567222447956, -0.7762802692652575, 0.8414303667539046, 0.7868424808511627, 1.2360807738671975, 1.1917025530822078, -0.43061733219786663, 0.2505333071490208, 0.28386716352796804, 0.3507970592233659, 0.5907777280003084, -0.5037618349732563, 0.5570426207452126, -0.19227035475498785, 0.2092634891336726, -0.3304390613472419, -0.4129359391477994, -0.5437361863138378, 0.9369513205333055, 0.8586050019830473], \"yaxis\": \"y\"}, {\"customdata\": [[\"back.rotation.position.in.sag.plane <= 0.08208675496280193 and Hip.jerk.Mean > -1.0291672945022583 and Hip.ACC.coefficient.of.variation <= 0.7530215680599213 and Hip.yposture.Mean <= 1.11860853433609 and Hip.zposture.Mean > -1.7837491035461426\"], [\"back.rotation.position.in.sag.plane <= 0.17566733807325363 and Wrist.jerk.coefficient.of.variation <= 0.05163064785301685 and Hip.ACC.Mean > -0.47386549413204193\"], [\"back.rotation.position.in.sag.plane <= 0.22119303047657013 and Wrist.jerk.coefficient.of.variation <= 0.05529268458485603 and Hip.ACC.Mean > -0.09642184898257256 and Chest.jerk.Mean > -1.357083261013031\"], [\"back.rotation.position.in.sag.plane <= 0.07196993380784988 and Wrist.jerk.coefficient.of.variation <= 0.13951952010393143 and Ankle.jerk.coefficient.of.variation <= 2.620718240737915 and Hip.ACC.Mean > -0.47386549413204193\"], [\"back.rotation.position.in.sag.plane <= 0.22119303047657013 and Wrist.jerk.coefficient.of.variation <= 0.055658888071775436 and Hip.ACC.coefficient.of.variation <= 0.6935525238513947 and Chest.ACC.Mean > -0.7963787019252777\"], [\"back.rotation.position.in.sag.plane <= 0.08208675496280193 and Wrist.jerk.coefficient.of.variation <= -0.3969688415527344 and Hip.jerk.Mean > -1.1866024732589722\"], [\"Wrist.jerk.Mean > 0.6293943226337433 and leg.rotational.position.sag.plane > -0.8799513578414917 and back.rotation.position.in.sag.plane <= 0.2869523614645004\"], [\"number.of.steps <= 2.219828963279724 and Wrist.ACC.Mean > 0.4427796006202698 and back.rotation.position.in.sag.plane <= 0.07196993380784988 and Wrist.jerk.coefficient.of.variation > -0.12890776246786118 and Hip.jerk.Mean > -0.944271057844162\"], [\"Wrist.jerk.Mean <= 0.6293943226337433 and average.step.distance <= -1.0353843569755554 and average.vertical.impact <= 1.1573820114135742 and Wrist.jerk.coefficient.of.variation <= 0.14428017288446426\"], [\"Wrist.jerk.Mean > 0.6076001524925232 and Ankle.xposture.Mean > -0.3644658103585243 and back.rotation.position.in.sag.plane <= 0.3147736191749573 and Wrist.jerk.coefficient.of.variation > -0.12890776246786118\"], [\"age <= -0.6431948840618134 and Wrist.jerk.Mean > 0.6193370521068573 and Hip.ACC.Mean <= -0.09401484951376915 and Hip.xposture.Mean > -0.11400451697409153\"], [\"leg.rotational.velocity.sag.plane > 0.4559026509523392 and Wrist.jerk.coefficient.of.variation > -0.06408970803022385 and Chest.jerk.coefficient.of.variation <= 0.05839372263289988 and Chest.ACC.Mean <= 0.7234674841165543\"], [\"Wrist.jerk.Mean > 0.4312026649713516 and back.rotation.position.in.sag.plane <= 0.22119303047657013 and Hip.jerk.Mean > -1.1764254570007324 and Ankle.yposture.coefficient.of.variation <= 0.7823594212532043 and Hip.ACC.Mean <= -0.4651462137699127\"], [\"Wrist.jerk.Mean > 0.4312026649713516 and time.bent > -1.1932530105113983 and back.rotation.position.in.sag.plane <= 0.08208675496280193 and Wrist.jerk.coefficient.of.variation > -0.08532952144742012\"], [\"Wrist.jerk.Mean > 0.609248548746109 and Wrist.jerk.coefficient.of.variation > -0.09887906163930893 and Hip.xposture.Mean > 0.30653777718544006\"], [\"Wrist.jerk.Mean > 0.4312026649713516 and average.back.bent.angle <= 2.4434252977371216 and back.rotation.position.in.sag.plane <= 0.08208675496280193 and Wrist.jerk.coefficient.of.variation > -0.12890776246786118\"], [\"age <= 1.413722813129425 and Chest.yposture.Mean <= 0.18529319763183594 and back.rotation.position.in.sag.plane > 0.14278767257928848 and Chest.jerk.coefficient.of.variation <= -0.14473829418420792\"], [\"average.back.bent.angle <= -0.019200053066015244 and back.rotation.position.in.sag.plane <= 0.2995983809232712 and Hip.jerk.coefficient.of.variation > -1.2379732728004456 and Hip.jerk.Mean > -1.016774296760559 and Hip.ACC.coefficient.of.variation > 0.7264502942562103\"], [\"Chest.yposture.Mean > -0.32909780740737915 and back.rotation.position.in.sag.plane > 0.14278767257928848 and Chest.yposture.coefficient.of.variation > -0.06247674487531185 and Hip.yposture.Mean <= 1.4808058142662048\"], [\"Chest.zposture.Mean <= -0.5658640265464783 and Chest.jerk.Mean > 1.1795973777770996\"], [\"Ankle.ACC.Mean > -0.2820093333721161 and mean.foot.osicllation <= 0.06384310871362686 and back.rotation.position.in.sag.plane > 0.07196993380784988 and Chest.yposture.coefficient.of.variation > 0.10579947382211685\"], [\"Wrist.jerk.Mean > 0.2969344314187765 and Ankle.xposture.Mean > -0.22301507741212845 and back.rotation.position.in.sag.plane <= 0.19590097665786743 and Wrist.jerk.coefficient.of.variation <= 0.31236764788627625 and Hip.ACC.Mean <= -0.1834922656416893\"], [\"Wrist.jerk.Mean > 0.570469319820404 and Chest.zposture.Mean > -0.5531341880559921 and Hip.yposture.Mean > 0.4497672915458679\"], [\"Wrist.jerk.Mean > 0.804263561964035 and Hip.yposture.Mean > 0.43178360164165497\"], [\"age <= -0.6431948840618134 and back.rotation.position.in.sag.plane <= 0.3147736191749573 and Wrist.jerk.coefficient.of.variation <= 0.05529268458485603 and Hip.yposture.coefficient.of.variation <= -0.13694573938846588 and Hip.ACC.Mean <= -0.4651462137699127\"], [\"back.rotation.position.in.sag.plane <= 0.4134126156568527 and Chest.jerk.coefficient.of.variation <= 1.577257215976715 and Hip.ACC.Mean <= -0.35740862786769867 and Hip.xposture.Mean > -0.11400451697409153 and Hip.yposture.Mean <= 0.4358299970626831\"], [\"mean.foot.osicllation <= 0.5474072769284248 and back.rotation.position.in.sag.plane > 0.13772926479578018 and Wrist.jerk.coefficient.of.variation <= 0.051996851339936256 and Chest.yposture.coefficient.of.variation > 0.13022666797041893\"], [\"Wrist.jerk.Mean <= 0.25381583720445633 and back.rotation.position.in.sag.plane <= 0.3147736191749573 and Wrist.jerk.coefficient.of.variation <= 0.10399777442216873 and Hip.yposture.coefficient.of.variation > 0.8233537971973419 and Hip.ACC.Mean <= 0.6683569550514221\"], [\"leg.rotational.velocity.sag.plane > 0.23113470524549484 and back.rotation.position.in.sag.plane <= 0.22119303047657013 and Wrist.ACC.coefficient.of.variation <= 0.41829046607017517 and Hip.jerk.Mean > -1.0140153169631958 and Hip.ACC.coefficient.of.variation > 0.6277569830417633\"], [\"back.rotation.position.in.sag.plane > 0.09220357611775398 and Wrist.jerk.coefficient.of.variation <= -0.32189707458019257 and Wrist.jerk.coefficient.of.variation > -0.44164568185806274\"], [\"Wrist.jerk.Mean > 0.6558912396430969 and Wrist.jerk.coefficient.of.variation > -0.12890776246786118 and Chest.ACC.coefficient.of.variation > 0.1526772826910019\"], [\"leg.rotational.velocity.sag.plane > 0.7640345692634583 and back.rotation.position.in.sag.plane > 0.19084256887435913 and Chest.yposture.coefficient.of.variation > -0.07721060700714588\"], [\"Wrist.jerk.Mean > 0.2969344314187765 and average.back.bent.angle <= 2.4434252977371216 and back.rotation.position.in.sag.plane <= 0.19084256887435913 and Wrist.jerk.coefficient.of.variation <= 0.45848292112350464 and Hip.ACC.Mean <= -0.1834922656416893\"], [\"Chest.zposture.Mean > -0.7750130891799927 and Wrist.ACC.Mean <= -0.8298623859882355 and Hip.zposture.Mean <= -0.5042589902877808 and Chest.ACC.Mean > -0.3960997760295868\"], [\"Chest.zposture.Mean > -0.818633109331131 and Ankle.ACC.Mean > 0.12956057861447334 and back.rotation.position.in.sag.plane > 0.3350072503089905 and Hip.zposture.Mean <= -0.32050955295562744\"], [\"Chest.yposture.Mean > -0.27963462471961975 and Ankle.ACC.Mean > 1.2663668394088745 and back.rotation.position.in.sag.plane > 0.08208675496280193\"], [\"Chest.xposture.Mean <= -0.48957930505275726 and mean.hip.osicllation > 0.7705972492694855 and back.rotation.position.in.sag.plane <= 0.22119303047657013 and Hip.jerk.coefficient.of.variation > -1.0870676040649414 and Hip.jerk.Mean > -1.016774296760559\"], [\"Wrist.ACC.Mean > 0.02993513084948063 and mean.foot.osicllation <= -0.6188356876373291 and back.rotation.position.in.sag.plane <= 0.4032957851886749 and Hip.ACC.coefficient.of.variation > 0.7530215680599213 and Hip.yposture.Mean <= 0.43178360164165497\"], [\"Ankle.ACC.Mean > 1.2464872598648071 and time.bent <= 0.1459074355661869 and back.rotation.position.in.sag.plane > 0.14278767257928848 and Wrist.jerk.coefficient.of.variation <= 0.13951952010393143\"], [\"Wrist.jerk.Mean > 0.752532422542572 and Wrist.jerk.coefficient.of.variation <= 1.0121828317642212 and Hip.yposture.Mean > 0.4497672915458679\"], [\"Chest.zposture.Mean > -0.813684493303299 and Hip.ACC.coefficient.of.variation > 0.46263547241687775 and Ankle.jerk.coefficient.of.variation <= 0.3786405771970749 and Hip.yposture.coefficient.of.variation > 1.3317476511001587\"], [\"time.bent > -0.16009237617254257 and back.rotation.position.in.sag.plane <= 0.13772926479578018 and Wrist.jerk.coefficient.of.variation <= 0.13951952010393143 and Hip.ACC.Mean <= -0.47386549413204193\"], [\"back.rotation.position.in.sag.plane <= 0.14278767257928848 and Wrist.jerk.coefficient.of.variation <= 0.13951952010393143 and Hip.ACC.coefficient.of.variation > 0.920673668384552 and Hip.zposture.Mean <= -0.257413350045681\"], [\"Chest.zposture.Mean <= 1.2066242694854736 and Ankle.ACC.Mean > 1.450453281402588 and back.rotation.position.in.sag.plane > 0.06691152416169643\"], [\"leg.rotational.position.sag.plane <= 0.9183299243450165 and average.vertical.impact > -0.6690356135368347 and back.rotation.position.in.sag.plane > 0.13772926479578018 and Wrist.jerk.coefficient.of.variation <= 0.051996851339936256 and Chest.ACC.Mean > -0.05577976070344448\"], [\"Wrist.jerk.Mean <= 1.1872151494026184 and Wrist.jerk.Mean > 0.609248548746109 and Wrist.jerk.coefficient.of.variation > 0.051996851339936256\"], [\"average.back.bent.angle > 0.6750936210155487 and back.rotation.position.in.sag.plane <= 0.08208675496280193 and Wrist.ACC.coefficient.of.variation <= 0.6722874641418457 and Hip.jerk.Mean > -0.9716036319732666 and Hip.ACC.Mean > -0.47386549413204193\"], [\"back.rotation.position.in.sag.plane > 0.13772926479578018 and Wrist.jerk.coefficient.of.variation <= 0.055658888071775436 and Chest.jerk.coefficient.of.variation <= -0.1641261726617813 and Chest.yposture.coefficient.of.variation > 0.05345548875629902\"], [\"Chest.xposture.Mean <= -0.1942775622010231 and back.rotation.position.in.sag.plane <= 0.13772926479578018 and Wrist.jerk.coefficient.of.variation <= 0.13951952010393143 and Hip.ACC.coefficient.of.variation > 0.7530215680599213\"], [\"Wrist.jerk.Mean > 0.6575396358966827 and Wrist.jerk.coefficient.of.variation > 0.031855649314820766 and Chest.jerk.coefficient.of.variation <= 0.29897958040237427\"], [\"leg.rotational.velocity.sag.plane > 0.7640345692634583 and back.rotation.position.in.sag.plane > 0.13772926479578018 and Wrist.jerk.coefficient.of.variation <= 0.45958152413368225 and Chest.yposture.coefficient.of.variation > -0.2055502999573946\"], [\"Chest.zposture.Mean > -0.43040990829467773 and leg.rotational.position.sag.plane <= -0.622440904378891 and Chest.ACC.Mean <= -0.5039881467819214\"], [\"Ankle.xposture.Mean > 1.4438276886940002 and Wrist.jerk.coefficient.of.variation > 0.05163064785301685\"], [\"Ankle.ACC.Mean > 1.2663668394088745 and back.rotation.position.in.sag.plane > 0.09473278000950813 and Wrist.jerk.coefficient.of.variation <= 0.45848292112350464 and Hip.jerk.Mean > 0.21249128691852093\"], [\"Ankle.xposture.Mean <= 2.00384783744812 and Ankle.xposture.Mean > 1.4438276886940002 and Wrist.jerk.coefficient.of.variation > 0.05163064785301685\"], [\"Ankle.ACC.Mean > 1.2574350833892822 and mean.foot.osicllation <= 0.7180769667029381 and back.rotation.position.in.sag.plane > 0.08208675496280193\"], [\"Wrist.jerk.Mean > 0.19189758971333504 and Ankle.xposture.Mean > 1.0817750096321106 and back.rotation.position.in.sag.plane <= 0.08208675496280193 and Wrist.jerk.coefficient.of.variation <= 0.14428017288446426\"], [\"leg.rotational.velocity.sag.plane > 0.4624840170145035 and back.rotation.position.in.sag.plane <= 0.07196993380784988 and Wrist.jerk.coefficient.of.variation > 0.13951952010393143 and Hip.jerk.Mean > -0.9537079036235809\"], [\"Chest.zposture.Mean <= -0.5738493800163269 and Hip.jerk.coefficient.of.variation <= 0.2920888066291809 and Hip.ACC.Mean > 0.6988511085510254\"], [\"average.step.time > 0.15638594329357147 and Wrist.jerk.coefficient.of.variation <= -0.07763924449682236 and Hip.ACC.Mean <= -0.12419585883617401 and Chest.jerk.Mean <= -0.7112330794334412\"], [\"Wrist.jerk.Mean <= 0.6558912396430969 and Wrist.jerk.coefficient.of.variation > -0.12927396595478058 and Hip.jerk.Mean > -0.8571024537086487 and Hip.zposture.Mean <= -1.1153931021690369\"], [\"average.step.distance <= -1.0147500336170197 and back.rotation.position.in.sag.plane > 0.24901428073644638\"], [\"Wrist.jerk.Mean <= 0.752532422542572 and back.rotation.position.in.sag.plane <= 0.6056321859359741 and Wrist.jerk.coefficient.of.variation <= 0.04650379531085491 and Hip.ACC.Mean <= -0.12419585883617401 and Chest.jerk.Mean <= -0.6593453288078308\"], [\"Wrist.jerk.Mean <= 0.609248548746109 and Chest.zposture.Mean > 0.3086294159293175 and Wrist.jerk.coefficient.of.variation > 0.04650379531085491 and Ankle.jerk.coefficient.of.variation <= -0.5625578165054321 and Chest.ACC.Mean > -0.17345238011330366\"], [\"back.rotation.position.in.sag.plane <= 0.14278767257928848 and Wrist.ACC.coefficient.of.variation > 0.8943997621536255 and Hip.jerk.Mean > -1.1122835278511047 and Hip.ACC.coefficient.of.variation <= -0.1554630622267723\"], [\"Wrist.jerk.Mean <= 0.6293943226337433 and average.step.distance <= -0.25128016620874405 and average.step.distance > -1.0353843569755554 and Wrist.ACC.coefficient.of.variation <= -1.0846152901649475\"]], \"hoverlabel\": {\"namelength\": 0}, \"hovertemplate\": \"Class=Non fatigue<br>x=%{x}<br>y=%{y}<br>Recall=%{marker.size}<br>Regola=%{customdata[0]}\", \"legendgroup\": \"Class=Non fatigue\", \"marker\": {\"color\": \"#EF553B\", \"size\": [0.7076923076923077, 0.703125, 0.671875, 0.6551724137931034, 0.609375, 0.4838709677419355, 0.4406779661016949, 0.2222222222222222, 0.2033898305084746, 0.16129032258064516, 0.16129032258064516, 0.15873015873015872, 0.15254237288135594, 0.15151515151515152, 0.15, 0.13793103448275862, 0.13333333333333333, 0.13114754098360656, 0.125, 0.11864406779661017, 0.11475409836065574, 0.11290322580645161, 0.11290322580645161, 0.1111111111111111, 0.109375, 0.109375, 0.109375, 0.1076923076923077, 0.1076923076923077, 0.1076923076923077, 0.1076923076923077, 0.10526315789473684, 0.1, 0.1, 0.09836065573770492, 0.0967741935483871, 0.09523809523809523, 0.09523809523809523, 0.09523809523809523, 0.09523809523809523, 0.09523809523809523, 0.09375, 0.09375, 0.09230769230769231, 0.09090909090909091, 0.09090909090909091, 0.08955223880597014, 0.08955223880597014, 0.0847457627118644, 0.08196721311475409, 0.08064516129032258, 0.07936507936507936, 0.078125, 0.07692307692307693, 0.07692307692307693, 0.07352941176470588, 0.07017543859649122, 0.06896551724137931, 0.06557377049180328, 0.06557377049180328, 0.05714285714285714, 0.05263157894736842, 0.05172413793103448, 0.05172413793103448, 0.05084745762711865, 0.05084745762711865], \"sizemode\": \"area\", \"sizeref\": 0.0017692307692307693, \"symbol\": \"circle\"}, \"mode\": \"markers\", \"name\": \"Class=Non fatigue\", \"showlegend\": true, \"type\": \"scatter\", \"x\": [-1.008924505395142, -0.6434994287410611, -0.658610315347849, -0.6281566537446678, -0.6527399143374015, -0.8098017055700332, -0.8034831631797278, -0.9813849023536714, 0.18583284635458663, -0.8464513911048019, -0.20499524008324269, 0.18931699078897407, -1.1916136596025517, -0.8301257978061627, -0.0785908948678312, -0.8618611136139596, 0.9836889718025658, -1.1103833156027776, 1.0532555615394494, 0.09792035214632677, 1.1745573367899458, -0.8529385914525256, -0.03350986429653283, -0.029284479498315075, -0.8267728996624499, -0.9961713666794313, 1.2104857304121963, -0.902304453546107, -0.968116536268933, 0.9581155756857836, -0.05486694253756892, 1.1867675124166397, -0.926351528359648, 0.13870581351986366, 1.0745336940931915, 1.075627581336881, -0.9909819974203852, -0.9075470558099679, 1.1460408301221157, 0.06698129852892734, -0.04318243521776336, -0.7850134572640491, -0.7253287103522337, 1.0668804759357298, 1.1142318771034034, -0.07663714424842437, -0.9415759805271986, 1.153235165433195, -0.7348152904376299, -0.05736761660150967, 1.2357281863874654, 0.1184719984797233, 0.08085948305346173, 0.9218364170421316, 0.09096472334118101, 1.0971532264674138, -0.6607024274266262, -0.8333630871699256, 0.089166542855654, 0.022873124973561497, -0.18633099286476543, 0.9989114108326306, -0.937873643990112, 0.08963949918158184, -1.0170956276566394, 0.12304257256863647], \"xaxis\": \"x\", \"y\": [-0.4298484065483102, -0.7227619467566253, -0.7418244836809047, -0.7130773977102508, -0.7890642669670939, -0.7469571896380401, -0.002192777854596031, 0.3440591769721283, -0.0869400314752368, 0.7363142715937152, 0.2794538179798099, 0.884896690298323, -0.24341275129835607, 0.6912464415102, 1.149563997046524, 0.703932920628205, -0.20562195651235368, -0.46441082409559875, -0.3425858409165816, 0.1330212803007911, -0.3768026126109169, -0.5895595802702904, 0.5641145108713537, 0.46940477563728006, -0.9350566346445717, -0.4637654572960825, -0.809066111564334, -0.7418138356850339, -0.4062135218503215, -0.013293965015293117, 1.1454612606414067, -0.25262697474017337, -0.6570453129468408, 0.33825735562148046, -0.08335802298764522, -0.27008431895374746, -0.41392405620040795, -0.43044850817269115, -0.7496277113854486, -0.09725456425828859, 0.17808017348531743, -0.914429878985616, -0.7215381261514051, -0.2622651930922152, -0.723116228628985, 1.4248545203599332, -0.3729681642345581, -0.7446388996185602, -0.8313369265815973, 1.1556849703949719, -0.7326793724595011, 0.2497396876406398, 0.9269860111591527, -0.8680629346765211, 1.0404385037088058, -0.3066711475088219, -0.3854624978889732, 0.4336339186639198, 0.1327551448533057, -0.5320591557687285, 1.0356855043005582, -0.21366600681461131, -0.7279299210384985, 1.1910629147721363, -0.42880577636116707, 0.3594720079101552], \"yaxis\": \"y\"}],\n",
              "                        {\"legend\": {\"itemsizing\": \"constant\", \"tracegroupgap\": 0}, \"margin\": {\"t\": 60}, \"template\": {\"data\": {\"bar\": [{\"error_x\": {\"color\": \"#2a3f5f\"}, \"error_y\": {\"color\": \"#2a3f5f\"}, \"marker\": {\"line\": {\"color\": \"#E5ECF6\", \"width\": 0.5}}, \"type\": \"bar\"}], \"barpolar\": [{\"marker\": {\"line\": {\"color\": \"#E5ECF6\", \"width\": 0.5}}, \"type\": \"barpolar\"}], \"carpet\": [{\"aaxis\": {\"endlinecolor\": \"#2a3f5f\", \"gridcolor\": \"white\", \"linecolor\": \"white\", \"minorgridcolor\": \"white\", \"startlinecolor\": \"#2a3f5f\"}, \"baxis\": {\"endlinecolor\": \"#2a3f5f\", \"gridcolor\": \"white\", \"linecolor\": \"white\", \"minorgridcolor\": \"white\", \"startlinecolor\": \"#2a3f5f\"}, \"type\": \"carpet\"}], \"choropleth\": [{\"colorbar\": {\"outlinewidth\": 0, \"ticks\": \"\"}, \"type\": \"choropleth\"}], \"contour\": [{\"colorbar\": {\"outlinewidth\": 0, \"ticks\": \"\"}, \"colorscale\": [[0.0, \"#0d0887\"], [0.1111111111111111, \"#46039f\"], [0.2222222222222222, \"#7201a8\"], [0.3333333333333333, \"#9c179e\"], [0.4444444444444444, \"#bd3786\"], [0.5555555555555556, \"#d8576b\"], [0.6666666666666666, \"#ed7953\"], [0.7777777777777778, \"#fb9f3a\"], [0.8888888888888888, \"#fdca26\"], [1.0, \"#f0f921\"]], \"type\": \"contour\"}], \"contourcarpet\": [{\"colorbar\": {\"outlinewidth\": 0, \"ticks\": \"\"}, \"type\": \"contourcarpet\"}], \"heatmap\": [{\"colorbar\": {\"outlinewidth\": 0, \"ticks\": \"\"}, \"colorscale\": [[0.0, \"#0d0887\"], [0.1111111111111111, \"#46039f\"], [0.2222222222222222, \"#7201a8\"], [0.3333333333333333, \"#9c179e\"], [0.4444444444444444, \"#bd3786\"], [0.5555555555555556, \"#d8576b\"], [0.6666666666666666, \"#ed7953\"], [0.7777777777777778, \"#fb9f3a\"], [0.8888888888888888, \"#fdca26\"], [1.0, \"#f0f921\"]], \"type\": \"heatmap\"}], \"heatmapgl\": [{\"colorbar\": {\"outlinewidth\": 0, \"ticks\": \"\"}, \"colorscale\": [[0.0, \"#0d0887\"], [0.1111111111111111, \"#46039f\"], [0.2222222222222222, \"#7201a8\"], [0.3333333333333333, \"#9c179e\"], [0.4444444444444444, \"#bd3786\"], [0.5555555555555556, \"#d8576b\"], [0.6666666666666666, \"#ed7953\"], [0.7777777777777778, \"#fb9f3a\"], [0.8888888888888888, \"#fdca26\"], [1.0, \"#f0f921\"]], \"type\": \"heatmapgl\"}], \"histogram\": [{\"marker\": {\"colorbar\": {\"outlinewidth\": 0, \"ticks\": \"\"}}, \"type\": \"histogram\"}], \"histogram2d\": [{\"colorbar\": {\"outlinewidth\": 0, \"ticks\": \"\"}, \"colorscale\": [[0.0, \"#0d0887\"], [0.1111111111111111, \"#46039f\"], [0.2222222222222222, \"#7201a8\"], [0.3333333333333333, \"#9c179e\"], [0.4444444444444444, \"#bd3786\"], [0.5555555555555556, \"#d8576b\"], [0.6666666666666666, \"#ed7953\"], [0.7777777777777778, \"#fb9f3a\"], [0.8888888888888888, \"#fdca26\"], [1.0, \"#f0f921\"]], \"type\": \"histogram2d\"}], \"histogram2dcontour\": [{\"colorbar\": {\"outlinewidth\": 0, \"ticks\": \"\"}, \"colorscale\": [[0.0, \"#0d0887\"], [0.1111111111111111, \"#46039f\"], [0.2222222222222222, \"#7201a8\"], [0.3333333333333333, \"#9c179e\"], [0.4444444444444444, \"#bd3786\"], [0.5555555555555556, \"#d8576b\"], [0.6666666666666666, \"#ed7953\"], [0.7777777777777778, \"#fb9f3a\"], [0.8888888888888888, \"#fdca26\"], [1.0, \"#f0f921\"]], \"type\": \"histogram2dcontour\"}], \"mesh3d\": [{\"colorbar\": {\"outlinewidth\": 0, \"ticks\": \"\"}, \"type\": \"mesh3d\"}], \"parcoords\": [{\"line\": {\"colorbar\": {\"outlinewidth\": 0, \"ticks\": \"\"}}, \"type\": \"parcoords\"}], \"pie\": [{\"automargin\": true, \"type\": \"pie\"}], \"scatter\": [{\"marker\": {\"colorbar\": {\"outlinewidth\": 0, \"ticks\": \"\"}}, \"type\": \"scatter\"}], \"scatter3d\": [{\"line\": {\"colorbar\": {\"outlinewidth\": 0, \"ticks\": \"\"}}, \"marker\": {\"colorbar\": {\"outlinewidth\": 0, \"ticks\": \"\"}}, \"type\": \"scatter3d\"}], \"scattercarpet\": [{\"marker\": {\"colorbar\": {\"outlinewidth\": 0, \"ticks\": \"\"}}, \"type\": \"scattercarpet\"}], \"scattergeo\": [{\"marker\": {\"colorbar\": {\"outlinewidth\": 0, \"ticks\": \"\"}}, \"type\": \"scattergeo\"}], \"scattergl\": [{\"marker\": {\"colorbar\": {\"outlinewidth\": 0, \"ticks\": \"\"}}, \"type\": \"scattergl\"}], \"scattermapbox\": [{\"marker\": {\"colorbar\": {\"outlinewidth\": 0, \"ticks\": \"\"}}, \"type\": \"scattermapbox\"}], \"scatterpolar\": [{\"marker\": {\"colorbar\": {\"outlinewidth\": 0, \"ticks\": \"\"}}, \"type\": \"scatterpolar\"}], \"scatterpolargl\": [{\"marker\": {\"colorbar\": {\"outlinewidth\": 0, \"ticks\": \"\"}}, \"type\": \"scatterpolargl\"}], \"scatterternary\": [{\"marker\": {\"colorbar\": {\"outlinewidth\": 0, \"ticks\": \"\"}}, \"type\": \"scatterternary\"}], \"surface\": [{\"colorbar\": {\"outlinewidth\": 0, \"ticks\": \"\"}, \"colorscale\": [[0.0, \"#0d0887\"], [0.1111111111111111, \"#46039f\"], [0.2222222222222222, \"#7201a8\"], [0.3333333333333333, \"#9c179e\"], [0.4444444444444444, \"#bd3786\"], [0.5555555555555556, \"#d8576b\"], [0.6666666666666666, \"#ed7953\"], [0.7777777777777778, \"#fb9f3a\"], [0.8888888888888888, \"#fdca26\"], [1.0, \"#f0f921\"]], \"type\": \"surface\"}], \"table\": [{\"cells\": {\"fill\": {\"color\": \"#EBF0F8\"}, \"line\": {\"color\": \"white\"}}, \"header\": {\"fill\": {\"color\": \"#C8D4E3\"}, \"line\": {\"color\": \"white\"}}, \"type\": \"table\"}]}, \"layout\": {\"annotationdefaults\": {\"arrowcolor\": \"#2a3f5f\", \"arrowhead\": 0, \"arrowwidth\": 1}, \"coloraxis\": {\"colorbar\": {\"outlinewidth\": 0, \"ticks\": \"\"}}, \"colorscale\": {\"diverging\": [[0, \"#8e0152\"], [0.1, \"#c51b7d\"], [0.2, \"#de77ae\"], [0.3, \"#f1b6da\"], [0.4, \"#fde0ef\"], [0.5, \"#f7f7f7\"], [0.6, \"#e6f5d0\"], [0.7, \"#b8e186\"], [0.8, \"#7fbc41\"], [0.9, \"#4d9221\"], [1, \"#276419\"]], \"sequential\": [[0.0, \"#0d0887\"], [0.1111111111111111, \"#46039f\"], [0.2222222222222222, \"#7201a8\"], [0.3333333333333333, \"#9c179e\"], [0.4444444444444444, \"#bd3786\"], [0.5555555555555556, \"#d8576b\"], [0.6666666666666666, \"#ed7953\"], [0.7777777777777778, \"#fb9f3a\"], [0.8888888888888888, \"#fdca26\"], [1.0, \"#f0f921\"]], \"sequentialminus\": [[0.0, \"#0d0887\"], [0.1111111111111111, \"#46039f\"], [0.2222222222222222, \"#7201a8\"], [0.3333333333333333, \"#9c179e\"], [0.4444444444444444, \"#bd3786\"], [0.5555555555555556, \"#d8576b\"], [0.6666666666666666, \"#ed7953\"], [0.7777777777777778, \"#fb9f3a\"], [0.8888888888888888, \"#fdca26\"], [1.0, \"#f0f921\"]]}, \"colorway\": [\"#636efa\", \"#EF553B\", \"#00cc96\", \"#ab63fa\", \"#FFA15A\", \"#19d3f3\", \"#FF6692\", \"#B6E880\", \"#FF97FF\", \"#FECB52\"], \"font\": {\"color\": \"#2a3f5f\"}, \"geo\": {\"bgcolor\": \"white\", \"lakecolor\": \"white\", \"landcolor\": \"#E5ECF6\", \"showlakes\": true, \"showland\": true, \"subunitcolor\": \"white\"}, \"hoverlabel\": {\"align\": \"left\"}, \"hovermode\": \"closest\", \"mapbox\": {\"style\": \"light\"}, \"paper_bgcolor\": \"white\", \"plot_bgcolor\": \"#E5ECF6\", \"polar\": {\"angularaxis\": {\"gridcolor\": \"white\", \"linecolor\": \"white\", \"ticks\": \"\"}, \"bgcolor\": \"#E5ECF6\", \"radialaxis\": {\"gridcolor\": \"white\", \"linecolor\": \"white\", \"ticks\": \"\"}}, \"scene\": {\"xaxis\": {\"backgroundcolor\": \"#E5ECF6\", \"gridcolor\": \"white\", \"gridwidth\": 2, \"linecolor\": \"white\", \"showbackground\": true, \"ticks\": \"\", \"zerolinecolor\": \"white\"}, \"yaxis\": {\"backgroundcolor\": \"#E5ECF6\", \"gridcolor\": \"white\", \"gridwidth\": 2, \"linecolor\": \"white\", \"showbackground\": true, \"ticks\": \"\", \"zerolinecolor\": \"white\"}, \"zaxis\": {\"backgroundcolor\": \"#E5ECF6\", \"gridcolor\": \"white\", \"gridwidth\": 2, \"linecolor\": \"white\", \"showbackground\": true, \"ticks\": \"\", \"zerolinecolor\": \"white\"}}, \"shapedefaults\": {\"line\": {\"color\": \"#2a3f5f\"}}, \"ternary\": {\"aaxis\": {\"gridcolor\": \"white\", \"linecolor\": \"white\", \"ticks\": \"\"}, \"baxis\": {\"gridcolor\": \"white\", \"linecolor\": \"white\", \"ticks\": \"\"}, \"bgcolor\": \"#E5ECF6\", \"caxis\": {\"gridcolor\": \"white\", \"linecolor\": \"white\", \"ticks\": \"\"}}, \"title\": {\"x\": 0.05}, \"xaxis\": {\"automargin\": true, \"gridcolor\": \"white\", \"linecolor\": \"white\", \"ticks\": \"\", \"title\": {\"standoff\": 15}, \"zerolinecolor\": \"white\", \"zerolinewidth\": 2}, \"yaxis\": {\"automargin\": true, \"gridcolor\": \"white\", \"linecolor\": \"white\", \"ticks\": \"\", \"title\": {\"standoff\": 15}, \"zerolinecolor\": \"white\", \"zerolinewidth\": 2}}}, \"xaxis\": {\"anchor\": \"y\", \"domain\": [0.0, 1.0], \"title\": {\"text\": \"x\"}}, \"yaxis\": {\"anchor\": \"x\", \"domain\": [0.0, 1.0], \"title\": {\"text\": \"y\"}}},\n",
              "                        {\"responsive\": true}\n",
              "                    ).then(function(){\n",
              "                            \n",
              "var gd = document.getElementById('c8ff3d6e-7d6d-499e-b47f-daec21704492');\n",
              "var x = new MutationObserver(function (mutations, observer) {{\n",
              "        var display = window.getComputedStyle(gd).display;\n",
              "        if (!display || display === 'none') {{\n",
              "            console.log([gd, 'removed!']);\n",
              "            Plotly.purge(gd);\n",
              "            observer.disconnect();\n",
              "        }}\n",
              "}});\n",
              "\n",
              "// Listen for the removal of the full notebook cells\n",
              "var notebookContainer = gd.closest('#notebook-container');\n",
              "if (notebookContainer) {{\n",
              "    x.observe(notebookContainer, {childList: true});\n",
              "}}\n",
              "\n",
              "// Listen for the clearing of the current output cell\n",
              "var outputEl = gd.closest('.output');\n",
              "if (outputEl) {{\n",
              "    x.observe(outputEl, {childList: true});\n",
              "}}\n",
              "\n",
              "                        })\n",
              "                };\n",
              "                \n",
              "            </script>\n",
              "        </div>\n",
              "</body>\n",
              "</html>"
            ]
          },
          "metadata": {
            "tags": []
          }
        }
      ]
    },
    {
      "cell_type": "markdown",
      "metadata": {
        "id": "_VOQfvOznK-_"
      },
      "source": [
        "###Visualizzazione T_SNE"
      ]
    },
    {
      "cell_type": "code",
      "metadata": {
        "id": "n45ZHpMa4quT"
      },
      "source": [
        "from sklearn.manifold import TSNE\n",
        "tsne = TSNE(n_components=2)\n",
        "tsne_results = tsne.fit_transform(matrice)"
      ],
      "execution_count": null,
      "outputs": []
    },
    {
      "cell_type": "code",
      "metadata": {
        "id": "IljlrHmr4-p6"
      },
      "source": [
        "import numpy as np\n",
        "\n",
        "data = {\n",
        "        'x':  tsne_results[: , 0],\n",
        "        'y':  tsne_results[: , 1]\n",
        "        }\n",
        "\n",
        "tsne_Grafico = pd.DataFrame (data, columns = ['x', 'y'])\n",
        "#matriceNLP['Regola'] = matriceNLP['Regola'].astype(str)\n",
        "tsne_Grafico['Class'] = Regole['Class']\n",
        "tsne_Grafico['Regola'] = Regole['Regola']\n",
        "tsne_Grafico['Recall'] = Regole['Recall'].astype(np.float)\n",
        "tsne_Grafico.info()"
      ],
      "execution_count": null,
      "outputs": []
    },
    {
      "cell_type": "code",
      "metadata": {
        "colab": {
          "base_uri": "https://localhost:8080/",
          "height": 542
        },
        "id": "1u3p0xk85UpJ",
        "outputId": "b7c3e9c9-ee7e-422e-8b8b-f4b0a81faa8d"
      },
      "source": [
        "import plotly.express as px\n",
        "fig = px.scatter(tsne_Grafico, x='x', y='y', color='Class', size='Recall', hover_data=['Regola'])\n",
        "\n",
        "fig.show()\n",
        "#fig.write_html(\"graficoPlattoning.html\")"
      ],
      "execution_count": null,
      "outputs": [
        {
          "output_type": "display_data",
          "data": {
            "text/html": [
              "<html>\n",
              "<head><meta charset=\"utf-8\" /></head>\n",
              "<body>\n",
              "    <div>\n",
              "            <script src=\"https://cdnjs.cloudflare.com/ajax/libs/mathjax/2.7.5/MathJax.js?config=TeX-AMS-MML_SVG\"></script><script type=\"text/javascript\">if (window.MathJax) {MathJax.Hub.Config({SVG: {font: \"STIX-Web\"}});}</script>\n",
              "                <script type=\"text/javascript\">window.PlotlyConfig = {MathJaxConfig: 'local'};</script>\n",
              "        <script src=\"https://cdn.plot.ly/plotly-latest.min.js\"></script>    \n",
              "            <div id=\"d9b7e1ef-df15-4abd-b2b0-b6483d6109df\" class=\"plotly-graph-div\" style=\"height:525px; width:100%;\"></div>\n",
              "            <script type=\"text/javascript\">\n",
              "                \n",
              "                    window.PLOTLYENV=window.PLOTLYENV || {};\n",
              "                    \n",
              "                if (document.getElementById(\"d9b7e1ef-df15-4abd-b2b0-b6483d6109df\")) {\n",
              "                    Plotly.newPlot(\n",
              "                        'd9b7e1ef-df15-4abd-b2b0-b6483d6109df',\n",
              "                        [{\"customdata\": [[\"Wrist.jerk.Mean <= 1.502169668674469 and Ankle.ACC.Mean <= 1.7874895334243774 and average.step.distance > -1.0560186505317688 and back.rotation.position.in.sag.plane > 0.13772926479578018 and Wrist.ACC.coefficient.of.variation <= 2.44702410697937\"], [\"Wrist.jerk.Mean <= 0.609248548746109 and Ankle.xposture.Mean > -1.4759454727172852 and back.rotation.position.in.sag.plane > -0.8815403580665588 and Wrist.jerk.coefficient.of.variation > 0.051996851339936256 and Chest.ACC.coefficient.of.variation <= 1.5517901182174683\"], [\"Ankle.ACC.Mean <= 1.2965334057807922 and average.step.distance > -1.0147500336170197 and back.rotation.position.in.sag.plane > 0.24901428073644638\"], [\"Wrist.jerk.Mean <= 0.5673905611038208 and Ankle.xposture.Mean <= 1.4438276886940002 and Ankle.xposture.Mean > -1.5387402176856995 and Wrist.jerk.coefficient.of.variation > -0.2047119140625 and Hip.zposture.Mean > -1.111806869506836\"], [\"Wrist.jerk.Mean <= 0.6575396358966827 and Ankle.xposture.Mean <= 1.4438276886940002 and back.rotation.position.in.sag.plane > -0.8815403580665588 and Wrist.jerk.coefficient.of.variation > 0.05163064785301685 and Ankle.jerk.coefficient.of.variation > -1.1026819348335266\"], [\"Ankle.ACC.Mean <= 1.2663668394088745 and average.step.distance > -1.0560186505317688 and leg.rotational.velocity.sag.plane <= 0.9206996858119965 and back.rotation.position.in.sag.plane > 0.08208675496280193\"], [\"Ankle.ACC.Mean <= 1.4400295615196228 and back.rotation.position.in.sag.plane > 0.08208675496280193 and Chest.ACC.Mean <= -0.023286499083042145\"], [\"Wrist.jerk.Mean <= 0.5673905611038208 and Wrist.jerk.coefficient.of.variation > 0.45848292112350464 and Chest.ACC.coefficient.of.variation <= 1.5231245160102844\"], [\"Ankle.xposture.Mean > -1.566654920578003 and leg.rotational.velocity.sag.plane <= 0.7640345692634583 and average.vertical.impact <= 2.2539355158805847 and back.rotation.position.in.sag.plane > 0.19084256887435913\"], [\"leg.rotational.velocity.sag.plane <= 0.7640345692634583 and back.rotation.position.in.sag.plane > 0.22119303047657013\"], [\"Wrist.jerk.Mean <= 0.570469319820404 and Ankle.jerk.coefficient.of.variation > -1.0934387743473053 and Hip.yposture.Mean > 0.4497672915458679\"], [\"Chest.yposture.Mean > 0.18529319763183594 and back.rotation.position.in.sag.plane > 0.13772926479578018\"], [\"Ankle.ACC.Mean <= 1.2663668394088745 and average.step.distance > -1.0147500336170197 and Wrist.ACC.Mean > -2.388550579547882 and back.rotation.position.in.sag.plane > 0.07196993380784988 and Wrist.jerk.coefficient.of.variation <= 0.45848292112350464\"], [\"Ankle.xposture.Mean <= 1.4438276886940002 and Wrist.jerk.coefficient.of.variation > 0.6009361445903778\"], [\"average.step.time > -0.5274068266153336 and leg.rotational.velocity.sag.plane <= 0.7091898620128632 and leg.rotational.position.sag.plane > -0.8061316609382629 and back.rotation.position.in.sag.plane > 0.13772926479578018 and Wrist.jerk.coefficient.of.variation <= 0.13951952010393143\"], [\"back.rotation.position.in.sag.plane <= 0.14278767257928848 and Wrist.jerk.coefficient.of.variation > -0.36913734674453735 and Hip.jerk.Mean <= -1.0140153169631958\"], [\"back.rotation.position.in.sag.plane > 0.17566733807325363 and Wrist.jerk.coefficient.of.variation <= 0.05163064785301685 and Ankle.ACC.coefficient.of.variation > -2.2030997276306152 and Chest.yposture.coefficient.of.variation <= -0.035335421562194824\"], [\"back.rotation.position.in.sag.plane > 0.19084256887435913 and Wrist.jerk.coefficient.of.variation <= 0.45848292112350464 and Chest.ACC.Mean <= -0.010463932529091835\"], [\"Wrist.jerk.Mean <= 0.6076001524925232 and back.rotation.position.in.sag.plane <= 0.3147736191749573 and Wrist.jerk.coefficient.of.variation > -0.12890776246786118 and Hip.jerk.coefficient.of.variation > 0.13012774661183357\"], [\"back.rotation.position.in.sag.plane <= 0.13772926479578018 and Hip.jerk.Mean <= -1.016774296760559 and Hip.ACC.Mean <= 0.7268421053886414\"], [\"back.rotation.position.in.sag.plane <= 0.22119303047657013 and Hip.jerk.Mean <= -1.016971468925476\"], [\"leg.rotational.position.sag.plane > -0.7975479960441589 and back.rotation.position.in.sag.plane > 0.19590097665786743 and Wrist.jerk.coefficient.of.variation <= -0.12927396595478058 and Chest.yposture.coefficient.of.variation <= -0.1497167218476534\"], [\"Chest.zposture.Mean > -0.813684493303299 and Ankle.xposture.Mean > -0.9734993502497673 and leg.rotational.velocity.sag.plane <= 0.6947394609451294 and back.rotation.position.in.sag.plane > 0.08208675496280193\"], [\"time.bent <= 1.3731969594955444 and back.rotation.position.in.sag.plane <= 0.08208675496280193 and Hip.jerk.Mean <= -1.0197304487228394\"], [\"average.step.distance <= 0.5947269797325134 and back.rotation.position.in.sag.plane > 0.19084256887435913 and Wrist.jerk.coefficient.of.variation <= 0.05163064785301685 and Hip.jerk.coefficient.of.variation <= 0.5369650721549988\"], [\"back.rotation.position.in.sag.plane > 0.19590097665786743 and Wrist.jerk.coefficient.of.variation <= 0.051996851339936256 and Chest.yposture.coefficient.of.variation <= 0.05345548875629902\"], [\"average.step.time > 0.15638594329357147 and Wrist.ACC.Mean <= 2.2251697778701782 and Wrist.jerk.coefficient.of.variation <= -0.07763924449682236 and Hip.ACC.Mean <= -0.12419585883617401 and Chest.jerk.Mean > -0.7112330794334412\"], [\"Wrist.ACC.Mean <= 0.4427796006202698 and Wrist.jerk.coefficient.of.variation > -0.002201290801167488 and Hip.ACC.Mean > -0.09401484951376915 and Hip.zposture.Mean <= 2.1090787053108215\"], [\"Chest.yposture.Mean <= -0.27709291875362396 and Ankle.xposture.Mean > -0.4443378299474716 and back.rotation.position.in.sag.plane > 0.08208675496280193 and Chest.ACC.Mean > -0.05577976070344448\"], [\"Wrist.jerk.Mean <= 0.4312026649713516 and back.rotation.position.in.sag.plane <= 0.22119303047657013 and Hip.jerk.Mean > -1.1764254570007324 and Hip.ACC.Mean <= -0.4651462137699127 and Hip.zposture.Mean <= 0.5710654556751251\"], [\"Wrist.jerk.Mean <= 0.6076001524925232 and Chest.zposture.Mean > 0.34723396599292755 and Wrist.ACC.Mean <= 0.2955123037099838 and Wrist.jerk.coefficient.of.variation > 0.051996851339936256 and Ankle.jerk.coefficient.of.variation > -0.5902874171733856\"], [\"back.rotation.position.in.sag.plane <= 0.4134126156568527 and Chest.jerk.coefficient.of.variation <= 1.577257215976715 and Hip.ACC.Mean <= -0.35740862786769867 and Hip.xposture.Mean <= -0.11400451697409153 and Hip.yposture.Mean <= 0.4358299970626831\"], [\"Chest.zposture.Mean > -0.7797949314117432 and leg.rotational.velocity.sag.plane <= 0.19837094843387604 and Wrist.jerk.coefficient.of.variation > 0.051996851339936256\"], [\"age > -0.6431948840618134 and back.rotation.position.in.sag.plane <= 0.22119303047657013 and Hip.jerk.Mean > -1.0197304487228394 and Hip.ACC.coefficient.of.variation > 0.6935525238513947 and Hip.zposture.Mean > -0.35152849555015564\"], [\"Ankle.xposture.Mean <= 1.4438276886940002 and average.back.bent.angle <= -0.1536228358745575 and Wrist.jerk.coefficient.of.variation <= 0.6009361445903778 and Wrist.jerk.coefficient.of.variation > 0.13951952010393143 and Ankle.jerk.coefficient.of.variation > -0.5975212156772614\"], [\"Wrist.jerk.Mean <= 0.2969344314187765 and back.rotation.position.in.sag.plane <= 0.19590097665786743 and Wrist.jerk.coefficient.of.variation <= 0.31236764788627625 and Hip.ACC.Mean <= -0.1834922656416893\"], [\"age > -0.6431948840618134 and back.rotation.position.in.sag.plane <= 0.3350072503089905 and Wrist.jerk.coefficient.of.variation <= 0.05712370201945305 and Hip.ACC.Mean <= -0.39351682364940643\"], [\"back.rotation.position.in.sag.plane > 0.011269010603427887 and Wrist.jerk.coefficient.of.variation > -0.05163878574967384 and Hip.jerk.Mean > -0.105531957000494 and Hip.xposture.Mean <= 0.8134874701499939\"], [\"Chest.zposture.Mean > -0.7750130891799927 and back.rotation.position.in.sag.plane <= 0.4134126156568527 and Chest.jerk.coefficient.of.variation > 1.5499379634857178\"], [\"Chest.zposture.Mean > -0.818633109331131 and back.rotation.position.in.sag.plane <= 0.3350072503089905 and Hip.jerk.Mean <= -1.0197304487228394 and Hip.ACC.Mean <= 0.6224616765975952\"], [\"mean.hip.osicllation <= 1.4770870506763458 and back.rotation.position.in.sag.plane <= 0.08208675496280193 and Hip.jerk.Mean > -1.1866024732589722 and Hip.ACC.coefficient.of.variation > 1.4856296181678772\"], [\"leg.rotational.velocity.sag.plane > 0.7640345692634583 and back.rotation.position.in.sag.plane > 0.13772926479578018 and Chest.yposture.coefficient.of.variation <= -0.07682287506759167\"], [\"time.bent > -0.2982858344912529 and back.rotation.position.in.sag.plane > 0.14278767257928848 and Wrist.jerk.coefficient.of.variation <= 0.13951952010393143 and Chest.jerk.coefficient.of.variation > -0.2447620928287506 and Chest.ACC.Mean > -0.05577976070344448\"], [\"leg.rotational.velocity.sag.plane > 0.4559026509523392 and Wrist.jerk.coefficient.of.variation > 0.04650379531085491 and Hip.jerk.Mean <= -0.9413149058818817\"], [\"leg.rotational.position.sag.plane > 0.9183299243450165 and back.rotation.position.in.sag.plane > 0.13772926479578018 and Wrist.jerk.coefficient.of.variation <= 0.051996851339936256 and Chest.ACC.Mean > -0.05577976070344448\"], [\"Chest.xposture.Mean > 1.4115136116743088 and Ankle.xposture.Mean <= 1.4438276886940002 and Wrist.jerk.coefficient.of.variation > 0.13951952010393143 and Hip.zposture.Mean <= -1.1153931021690369\"], [\"Chest.zposture.Mean > -0.7750130891799927 and back.rotation.position.in.sag.plane <= 0.4134126156568527 and Hip.jerk.coefficient.of.variation <= -1.0306852161884308 and Chest.jerk.coefficient.of.variation <= 1.5499379634857178 and Hip.yposture.coefficient.of.variation > -0.7880868315696716\"], [\"leg.rotational.velocity.sag.plane > 0.7904554307460785 and back.rotation.position.in.sag.plane > 0.14278767257928848 and Chest.ACC.Mean <= 0.05380232073366642\"], [\"leg.rotational.velocity.sag.plane <= 0.44231070578098297 and average.vertical.impact > -0.5764846503734589 and back.rotation.position.in.sag.plane <= 0.22119303047657013 and Wrist.jerk.coefficient.of.variation > 0.05529268458485603 and Hip.jerk.Mean > -0.8571024537086487\"], [\"back.rotation.position.in.sag.plane <= 0.08208675496280193 and Wrist.ACC.coefficient.of.variation > 0.8943997621536255 and Hip.jerk.Mean > -1.016774296760559 and Hip.zposture.Mean > -0.9171982109546661\"], [\"back.rotation.position.in.sag.plane <= 0.5322852581739426 and Chest.jerk.coefficient.of.variation > 1.5499379634857178 and Hip.yposture.Mean <= 0.46872852742671967\"], [\"mean.hip.osicllation > -0.7601307332515717 and leg.rotational.velocity.sag.plane > 0.7904554307460785 and back.rotation.position.in.sag.plane > 0.08208675496280193 and Chest.yposture.coefficient.of.variation <= 0.06702615693211555\"], [\"Chest.zposture.Mean > 1.470730483531952 and leg.rotational.position.sag.plane > -0.8567753732204437 and Hip.ACC.coefficient.of.variation <= 0.46263547241687775 and Ankle.jerk.coefficient.of.variation <= 1.043346881866455\"], [\"mean.foot.osicllation > 0.006953209638595581 and back.rotation.position.in.sag.plane > 0.17566733807325363 and Wrist.jerk.coefficient.of.variation <= 0.13951952010393143 and Chest.yposture.coefficient.of.variation > 0.01700856350362301\"], [\"Wrist.jerk.Mean > -1.241362988948822 and Chest.zposture.Mean > -0.7797949314117432 and leg.rotational.velocity.sag.plane > 0.19837094843387604 and Wrist.jerk.coefficient.of.variation > 0.051996851339936256 and Chest.jerk.coefficient.of.variation > 0.8462463319301605\"], [\"Ankle.xposture.Mean > 0.31893298029899597 and back.rotation.position.in.sag.plane > 0.19084256887435913 and Wrist.jerk.coefficient.of.variation <= 0.04650379531085491 and Chest.yposture.coefficient.of.variation > 0.1852847896516323\"], [\"Wrist.jerk.Mean <= 0.6558912396430969 and Wrist.jerk.coefficient.of.variation > -0.12927396595478058 and Hip.jerk.Mean <= -0.8571024537086487 and Hip.zposture.Mean <= -1.1153931021690369\"], [\"time.bent > 0.28410089015960693 and back.rotation.position.in.sag.plane <= 0.06691152416169643 and Wrist.ACC.coefficient.of.variation > 0.6544536352157593 and Hip.jerk.Mean > -1.016774296760559\"], [\"Chest.zposture.Mean > -0.7797949314117432 and Wrist.ACC.Mean > 0.2955123037099838 and back.rotation.position.in.sag.plane <= 0.5322852581739426 and Wrist.jerk.coefficient.of.variation > 0.05712370201945305 and Hip.jerk.Mean <= -0.944271057844162\"], [\"back.rotation.position.in.sag.plane <= 0.09220357611775398 and Wrist.jerk.coefficient.of.variation <= 0.45848292112350464 and Hip.jerk.coefficient.of.variation > 1.6364207863807678\"], [\"Wrist.jerk.Mean > 0.4312026649713516 and back.rotation.position.in.sag.plane > 0.10737880505621433 and Wrist.jerk.coefficient.of.variation > 0.051996851339936256 and Hip.xposture.Mean <= 0.8526010513305664\"], [\"Wrist.jerk.Mean > 0.6076001524925232 and back.rotation.position.in.sag.plane > 0.3223612308502197 and Wrist.jerk.coefficient.of.variation > 0.051996851339936256\"], [\"Wrist.jerk.Mean <= 0.6575396358966827 and Wrist.jerk.coefficient.of.variation > 0.051996851339936256 and Chest.jerk.coefficient.of.variation > 1.6058984398841858 and Hip.zposture.Mean <= -1.111806869506836\"], [\"Wrist.jerk.Mean > 0.6575396358966827 and Wrist.jerk.coefficient.of.variation > 0.031855649314820766 and Chest.jerk.coefficient.of.variation > 0.29897958040237427\"], [\"back.rotation.position.in.sag.plane <= 0.08208675496280193 and Hip.jerk.coefficient.of.variation <= -1.0262631177902222 and Hip.jerk.Mean > -1.0197304487228394 and Hip.ACC.coefficient.of.variation > 0.6277569830417633\"], [\"Chest.zposture.Mean > -0.5658640265464783 and average.vertical.impact <= 0.6501088738441467 and Hip.jerk.coefficient.of.variation <= -1.1224447190761566\"], [\"Chest.zposture.Mean > -0.5658640265464783 and mean.foot.osicllation > -0.7895053923130035 and average.vertical.impact <= 0.6501088738441467 and Hip.jerk.coefficient.of.variation > -1.1224447190761566 and Hip.jerk.Mean <= -1.016971468925476\"], [\"Wrist.jerk.Mean <= 0.6293943226337433 and average.step.distance > -0.25128016620874405 and leg.rotational.position.sag.plane > -0.3812394440174103 and Wrist.ACC.coefficient.of.variation <= -1.0846152901649475\"], [\"leg.rotational.velocity.sag.plane > 0.4624840170145035 and back.rotation.position.in.sag.plane <= 0.07196993380784988 and Wrist.jerk.coefficient.of.variation > 0.13951952010393143 and Hip.jerk.Mean <= -0.9537079036235809\"], [\"back.rotation.position.in.sag.plane <= 0.19084256887435913 and Wrist.ACC.coefficient.of.variation > 0.8943997621536255 and Hip.jerk.coefficient.of.variation > -0.6752553582191467 and Hip.jerk.Mean > -1.0140153169631958 and Hip.ACC.coefficient.of.variation > 0.7530215680599213\"], [\"leg.rotational.velocity.sag.plane > 0.19837094843387604 and back.rotation.position.in.sag.plane > 0.23130984604358673 and Wrist.jerk.coefficient.of.variation > 0.055658888071775436 and Chest.jerk.coefficient.of.variation <= 0.37300601601600647\"], [\"average.step.time > 0.27035141736268997 and leg.rotational.velocity.sag.plane > 0.7640345692634583 and back.rotation.position.in.sag.plane > 0.08208675496280193\"], [\"Wrist.jerk.Mean <= 0.4312026649713516 and back.rotation.position.in.sag.plane <= 0.22119303047657013 and Wrist.jerk.coefficient.of.variation <= 0.31126902997493744 and Wrist.jerk.coefficient.of.variation > 0.05712370201945305 and Hip.xposture.Mean > -0.33422017097473145\"], [\"back.rotation.position.in.sag.plane <= 0.08208675496280193 and Hip.jerk.Mean > -1.1866024732589722 and Hip.ACC.coefficient.of.variation <= 1.4856296181678772 and Chest.jerk.coefficient.of.variation > 1.7768641710281372\"], [\"leg.rotational.position.sag.plane <= -0.039608925580978394 and back.rotation.position.in.sag.plane <= 0.24142666906118393 and Hip.jerk.Mean > -1.016971468925476 and Hip.ACC.coefficient.of.variation <= 0.6935525238513947 and Hip.yposture.Mean > 1.1795047521591187\"], [\"age > -0.23181135952472687 and back.rotation.position.in.sag.plane <= 0.07196993380784988 and Wrist.ACC.coefficient.of.variation <= 0.6722874641418457 and Hip.jerk.Mean > -1.0140153169631958 and Hip.ACC.Mean <= -0.6011788845062256\"], [\"Wrist.jerk.Mean <= 0.4312026649713516 and leg.rotational.velocity.sag.plane <= -0.7145789712667465 and back.rotation.position.in.sag.plane <= -0.9321244657039642 and Wrist.jerk.coefficient.of.variation > 0.13951952010393143 and Chest.ACC.coefficient.of.variation <= 1.819625198841095\"], [\"Wrist.jerk.Mean <= 0.8209874927997589 and back.rotation.position.in.sag.plane > -0.41616663336753845 and Wrist.jerk.coefficient.of.variation > 0.031855649314820766 and Hip.ACC.Mean > 0.5573155283927917\"]], \"hoverlabel\": {\"namelength\": 0}, \"hovertemplate\": \"Class=Fatigue<br>x=%{x}<br>y=%{y}<br>Recall=%{marker.size}<br>Regola=%{customdata[0]}\", \"legendgroup\": \"Class=Fatigue\", \"marker\": {\"color\": \"#636efa\", \"size\": [0.5737704918032787, 0.5409836065573771, 0.5294117647058824, 0.5081967213114754, 0.5, 0.49206349206349204, 0.4696969696969697, 0.4576271186440678, 0.45588235294117646, 0.45, 0.4444444444444444, 0.3870967741935484, 0.3484848484848485, 0.3484848484848485, 0.30303030303030304, 0.3, 0.29508196721311475, 0.2923076923076923, 0.2857142857142857, 0.2786885245901639, 0.25757575757575757, 0.2545454545454545, 0.2459016393442623, 0.24242424242424243, 0.22950819672131148, 0.22580645161290322, 0.203125, 0.19047619047619047, 0.1694915254237288, 0.16666666666666666, 0.15384615384615385, 0.14754098360655737, 0.140625, 0.13793103448275862, 0.13636363636363635, 0.12698412698412698, 0.125, 0.125, 0.11666666666666667, 0.109375, 0.10344827586206896, 0.09836065573770492, 0.0967741935483871, 0.09259259259259259, 0.0847457627118644, 0.0847457627118644, 0.08333333333333333, 0.08333333333333333, 0.08196721311475409, 0.08064516129032258, 0.08064516129032258, 0.08064516129032258, 0.08064516129032258, 0.078125, 0.078125, 0.07407407407407407, 0.07272727272727272, 0.06896551724137931, 0.06779661016949153, 0.06779661016949153, 0.06779661016949153, 0.06451612903225806, 0.06451612903225806, 0.0625, 0.06060606060606061, 0.06060606060606061, 0.06060606060606061, 0.06060606060606061, 0.05970149253731343, 0.05970149253731343, 0.05970149253731343, 0.05714285714285714, 0.05263157894736842, 0.05172413793103448, 0.05084745762711865, 0.05, 0.05, 0.05], \"sizemode\": \"area\", \"sizeref\": 0.0017692307692307693, \"symbol\": \"circle\"}, \"mode\": \"markers\", \"name\": \"Class=Fatigue\", \"showlegend\": true, \"type\": \"scatter\", \"x\": [-2.6925511360168457, -2.231387138366699, -2.2538914680480957, -2.688612222671509, -2.705394744873047, -3.280024766921997, -2.127255439758301, -2.007256507873535, -5.040396213531494, -3.904984951019287, -3.652387857437134, -0.1721470057964325, -1.8358101844787598, -1.7785309553146362, -3.8025100231170654, 1.0718164443969727, -2.6216461658477783, -1.7216969728469849, 1.7766213417053223, 2.8230395317077637, 1.6907514333724976, -1.9682728052139282, -4.555322647094727, 1.61093008518219, -0.01632748916745186, -2.2615880966186523, 9.712937355041504, -0.5057249665260315, 1.6616060733795166, 4.564614295959473, -4.117059707641602, -2.1567158699035645, -4.411363124847412, 4.6500773429870605, -1.4432939291000366, 6.0862531661987305, 6.203645706176758, 2.0027248859405518, 0.5452063083648682, 2.80197811126709, 5.1702351570129395, -5.285179615020752, 2.430220365524292, -0.16658169031143188, 2.096165180206299, -1.114474892616272, -1.6260029077529907, -4.564696788787842, -1.7712053060531616, 2.956819534301758, 0.7171220183372498, -5.784431457519531, -7.464138507843018, -3.161512613296509, 0.9283178448677063, -2.5306506156921387, -0.30578768253326416, 3.008565664291382, 0.20121224224567413, 4.6816301345825195, 2.0783321857452393, 1.942214846611023, -0.1292247325181961, 1.8587114810943604, 4.661893367767334, -6.729541778564453, -7.293594837188721, -5.352578639984131, 0.13803327083587646, 3.529418468475342, -0.3232038617134094, -5.551252841949463, 2.713860273361206, 0.9051764011383057, 0.8667117953300476, 7.560891628265381, -2.0815048217773438, -1.767494797706604], \"xaxis\": \"x\", \"y\": [6.784919738769531, -0.3980003595352173, 8.333232879638672, 1.2956078052520752, 0.44906604290008545, 8.227668762207031, 9.209811210632324, -0.7311080694198608, 8.289870262145996, 8.671154022216797, -1.1937711238861084, 11.063943862915039, 8.261042594909668, 1.9268836975097656, 9.668173789978027, -4.871422290802002, 11.387580871582031, 10.191937446594238, -3.415273666381836, -5.386925220489502, -5.661681175231934, 11.07120418548584, 8.216597557067871, -6.12556266784668, 9.740401268005371, 11.197587013244629, -3.1536877155303955, 0.8314698934555054, 9.41919994354248, -4.3656744956970215, -0.1309419870376587, -9.468070983886719, 1.8387424945831299, -11.553375244140625, 3.2754809856414795, -4.472456932067871, -5.329758167266846, 6.042193412780762, -8.208532333374023, -5.396950721740723, -10.667770385742188, 11.436247825622559, 10.614656448364258, -2.935514450073242, 10.34856128692627, 1.9578971862792969, -8.123562812805176, 11.385518074035645, -4.67474889755249, -11.391530990600586, -8.309195518493652, 11.229047775268555, 0.6621353626251221, 13.780147552490234, 2.567434787750244, 13.604555130004883, -1.3834761381149292, -12.283534049987793, -5.61499547958374, -6.021965980529785, 5.21665096282959, 4.590096950531006, -0.4307396709918976, 2.2421281337738037, -9.904581069946289, 2.4623663425445557, 2.8612260818481445, -2.879267930984497, -3.929598331451416, -10.687057495117188, 6.53583288192749, 12.35503101348877, -3.402311325073242, -9.667689323425293, -11.140497207641602, -8.889217376708984, -1.8828167915344238, 0.3131634294986725], \"yaxis\": \"y\"}, {\"customdata\": [[\"back.rotation.position.in.sag.plane <= 0.08208675496280193 and Hip.jerk.Mean > -1.0291672945022583 and Hip.ACC.coefficient.of.variation <= 0.7530215680599213 and Hip.yposture.Mean <= 1.11860853433609 and Hip.zposture.Mean > -1.7837491035461426\"], [\"back.rotation.position.in.sag.plane <= 0.17566733807325363 and Wrist.jerk.coefficient.of.variation <= 0.05163064785301685 and Hip.ACC.Mean > -0.47386549413204193\"], [\"back.rotation.position.in.sag.plane <= 0.22119303047657013 and Wrist.jerk.coefficient.of.variation <= 0.05529268458485603 and Hip.ACC.Mean > -0.09642184898257256 and Chest.jerk.Mean > -1.357083261013031\"], [\"back.rotation.position.in.sag.plane <= 0.07196993380784988 and Wrist.jerk.coefficient.of.variation <= 0.13951952010393143 and Ankle.jerk.coefficient.of.variation <= 2.620718240737915 and Hip.ACC.Mean > -0.47386549413204193\"], [\"back.rotation.position.in.sag.plane <= 0.22119303047657013 and Wrist.jerk.coefficient.of.variation <= 0.055658888071775436 and Hip.ACC.coefficient.of.variation <= 0.6935525238513947 and Chest.ACC.Mean > -0.7963787019252777\"], [\"back.rotation.position.in.sag.plane <= 0.08208675496280193 and Wrist.jerk.coefficient.of.variation <= -0.3969688415527344 and Hip.jerk.Mean > -1.1866024732589722\"], [\"Wrist.jerk.Mean > 0.6293943226337433 and leg.rotational.position.sag.plane > -0.8799513578414917 and back.rotation.position.in.sag.plane <= 0.2869523614645004\"], [\"number.of.steps <= 2.219828963279724 and Wrist.ACC.Mean > 0.4427796006202698 and back.rotation.position.in.sag.plane <= 0.07196993380784988 and Wrist.jerk.coefficient.of.variation > -0.12890776246786118 and Hip.jerk.Mean > -0.944271057844162\"], [\"Wrist.jerk.Mean <= 0.6293943226337433 and average.step.distance <= -1.0353843569755554 and average.vertical.impact <= 1.1573820114135742 and Wrist.jerk.coefficient.of.variation <= 0.14428017288446426\"], [\"Wrist.jerk.Mean > 0.6076001524925232 and Ankle.xposture.Mean > -0.3644658103585243 and back.rotation.position.in.sag.plane <= 0.3147736191749573 and Wrist.jerk.coefficient.of.variation > -0.12890776246786118\"], [\"age <= -0.6431948840618134 and Wrist.jerk.Mean > 0.6193370521068573 and Hip.ACC.Mean <= -0.09401484951376915 and Hip.xposture.Mean > -0.11400451697409153\"], [\"leg.rotational.velocity.sag.plane > 0.4559026509523392 and Wrist.jerk.coefficient.of.variation > -0.06408970803022385 and Chest.jerk.coefficient.of.variation <= 0.05839372263289988 and Chest.ACC.Mean <= 0.7234674841165543\"], [\"Wrist.jerk.Mean > 0.4312026649713516 and back.rotation.position.in.sag.plane <= 0.22119303047657013 and Hip.jerk.Mean > -1.1764254570007324 and Ankle.yposture.coefficient.of.variation <= 0.7823594212532043 and Hip.ACC.Mean <= -0.4651462137699127\"], [\"Wrist.jerk.Mean > 0.4312026649713516 and time.bent > -1.1932530105113983 and back.rotation.position.in.sag.plane <= 0.08208675496280193 and Wrist.jerk.coefficient.of.variation > -0.08532952144742012\"], [\"Wrist.jerk.Mean > 0.609248548746109 and Wrist.jerk.coefficient.of.variation > -0.09887906163930893 and Hip.xposture.Mean > 0.30653777718544006\"], [\"Wrist.jerk.Mean > 0.4312026649713516 and average.back.bent.angle <= 2.4434252977371216 and back.rotation.position.in.sag.plane <= 0.08208675496280193 and Wrist.jerk.coefficient.of.variation > -0.12890776246786118\"], [\"age <= 1.413722813129425 and Chest.yposture.Mean <= 0.18529319763183594 and back.rotation.position.in.sag.plane > 0.14278767257928848 and Chest.jerk.coefficient.of.variation <= -0.14473829418420792\"], [\"average.back.bent.angle <= -0.019200053066015244 and back.rotation.position.in.sag.plane <= 0.2995983809232712 and Hip.jerk.coefficient.of.variation > -1.2379732728004456 and Hip.jerk.Mean > -1.016774296760559 and Hip.ACC.coefficient.of.variation > 0.7264502942562103\"], [\"Chest.yposture.Mean > -0.32909780740737915 and back.rotation.position.in.sag.plane > 0.14278767257928848 and Chest.yposture.coefficient.of.variation > -0.06247674487531185 and Hip.yposture.Mean <= 1.4808058142662048\"], [\"Chest.zposture.Mean <= -0.5658640265464783 and Chest.jerk.Mean > 1.1795973777770996\"], [\"Ankle.ACC.Mean > -0.2820093333721161 and mean.foot.osicllation <= 0.06384310871362686 and back.rotation.position.in.sag.plane > 0.07196993380784988 and Chest.yposture.coefficient.of.variation > 0.10579947382211685\"], [\"Wrist.jerk.Mean > 0.2969344314187765 and Ankle.xposture.Mean > -0.22301507741212845 and back.rotation.position.in.sag.plane <= 0.19590097665786743 and Wrist.jerk.coefficient.of.variation <= 0.31236764788627625 and Hip.ACC.Mean <= -0.1834922656416893\"], [\"Wrist.jerk.Mean > 0.570469319820404 and Chest.zposture.Mean > -0.5531341880559921 and Hip.yposture.Mean > 0.4497672915458679\"], [\"Wrist.jerk.Mean > 0.804263561964035 and Hip.yposture.Mean > 0.43178360164165497\"], [\"age <= -0.6431948840618134 and back.rotation.position.in.sag.plane <= 0.3147736191749573 and Wrist.jerk.coefficient.of.variation <= 0.05529268458485603 and Hip.yposture.coefficient.of.variation <= -0.13694573938846588 and Hip.ACC.Mean <= -0.4651462137699127\"], [\"back.rotation.position.in.sag.plane <= 0.4134126156568527 and Chest.jerk.coefficient.of.variation <= 1.577257215976715 and Hip.ACC.Mean <= -0.35740862786769867 and Hip.xposture.Mean > -0.11400451697409153 and Hip.yposture.Mean <= 0.4358299970626831\"], [\"mean.foot.osicllation <= 0.5474072769284248 and back.rotation.position.in.sag.plane > 0.13772926479578018 and Wrist.jerk.coefficient.of.variation <= 0.051996851339936256 and Chest.yposture.coefficient.of.variation > 0.13022666797041893\"], [\"Wrist.jerk.Mean <= 0.25381583720445633 and back.rotation.position.in.sag.plane <= 0.3147736191749573 and Wrist.jerk.coefficient.of.variation <= 0.10399777442216873 and Hip.yposture.coefficient.of.variation > 0.8233537971973419 and Hip.ACC.Mean <= 0.6683569550514221\"], [\"leg.rotational.velocity.sag.plane > 0.23113470524549484 and back.rotation.position.in.sag.plane <= 0.22119303047657013 and Wrist.ACC.coefficient.of.variation <= 0.41829046607017517 and Hip.jerk.Mean > -1.0140153169631958 and Hip.ACC.coefficient.of.variation > 0.6277569830417633\"], [\"back.rotation.position.in.sag.plane > 0.09220357611775398 and Wrist.jerk.coefficient.of.variation <= -0.32189707458019257 and Wrist.jerk.coefficient.of.variation > -0.44164568185806274\"], [\"Wrist.jerk.Mean > 0.6558912396430969 and Wrist.jerk.coefficient.of.variation > -0.12890776246786118 and Chest.ACC.coefficient.of.variation > 0.1526772826910019\"], [\"leg.rotational.velocity.sag.plane > 0.7640345692634583 and back.rotation.position.in.sag.plane > 0.19084256887435913 and Chest.yposture.coefficient.of.variation > -0.07721060700714588\"], [\"Wrist.jerk.Mean > 0.2969344314187765 and average.back.bent.angle <= 2.4434252977371216 and back.rotation.position.in.sag.plane <= 0.19084256887435913 and Wrist.jerk.coefficient.of.variation <= 0.45848292112350464 and Hip.ACC.Mean <= -0.1834922656416893\"], [\"Chest.zposture.Mean > -0.7750130891799927 and Wrist.ACC.Mean <= -0.8298623859882355 and Hip.zposture.Mean <= -0.5042589902877808 and Chest.ACC.Mean > -0.3960997760295868\"], [\"Chest.zposture.Mean > -0.818633109331131 and Ankle.ACC.Mean > 0.12956057861447334 and back.rotation.position.in.sag.plane > 0.3350072503089905 and Hip.zposture.Mean <= -0.32050955295562744\"], [\"Chest.yposture.Mean > -0.27963462471961975 and Ankle.ACC.Mean > 1.2663668394088745 and back.rotation.position.in.sag.plane > 0.08208675496280193\"], [\"Chest.xposture.Mean <= -0.48957930505275726 and mean.hip.osicllation > 0.7705972492694855 and back.rotation.position.in.sag.plane <= 0.22119303047657013 and Hip.jerk.coefficient.of.variation > -1.0870676040649414 and Hip.jerk.Mean > -1.016774296760559\"], [\"Wrist.ACC.Mean > 0.02993513084948063 and mean.foot.osicllation <= -0.6188356876373291 and back.rotation.position.in.sag.plane <= 0.4032957851886749 and Hip.ACC.coefficient.of.variation > 0.7530215680599213 and Hip.yposture.Mean <= 0.43178360164165497\"], [\"Ankle.ACC.Mean > 1.2464872598648071 and time.bent <= 0.1459074355661869 and back.rotation.position.in.sag.plane > 0.14278767257928848 and Wrist.jerk.coefficient.of.variation <= 0.13951952010393143\"], [\"Wrist.jerk.Mean > 0.752532422542572 and Wrist.jerk.coefficient.of.variation <= 1.0121828317642212 and Hip.yposture.Mean > 0.4497672915458679\"], [\"Chest.zposture.Mean > -0.813684493303299 and Hip.ACC.coefficient.of.variation > 0.46263547241687775 and Ankle.jerk.coefficient.of.variation <= 0.3786405771970749 and Hip.yposture.coefficient.of.variation > 1.3317476511001587\"], [\"time.bent > -0.16009237617254257 and back.rotation.position.in.sag.plane <= 0.13772926479578018 and Wrist.jerk.coefficient.of.variation <= 0.13951952010393143 and Hip.ACC.Mean <= -0.47386549413204193\"], [\"back.rotation.position.in.sag.plane <= 0.14278767257928848 and Wrist.jerk.coefficient.of.variation <= 0.13951952010393143 and Hip.ACC.coefficient.of.variation > 0.920673668384552 and Hip.zposture.Mean <= -0.257413350045681\"], [\"Chest.zposture.Mean <= 1.2066242694854736 and Ankle.ACC.Mean > 1.450453281402588 and back.rotation.position.in.sag.plane > 0.06691152416169643\"], [\"leg.rotational.position.sag.plane <= 0.9183299243450165 and average.vertical.impact > -0.6690356135368347 and back.rotation.position.in.sag.plane > 0.13772926479578018 and Wrist.jerk.coefficient.of.variation <= 0.051996851339936256 and Chest.ACC.Mean > -0.05577976070344448\"], [\"Wrist.jerk.Mean <= 1.1872151494026184 and Wrist.jerk.Mean > 0.609248548746109 and Wrist.jerk.coefficient.of.variation > 0.051996851339936256\"], [\"average.back.bent.angle > 0.6750936210155487 and back.rotation.position.in.sag.plane <= 0.08208675496280193 and Wrist.ACC.coefficient.of.variation <= 0.6722874641418457 and Hip.jerk.Mean > -0.9716036319732666 and Hip.ACC.Mean > -0.47386549413204193\"], [\"back.rotation.position.in.sag.plane > 0.13772926479578018 and Wrist.jerk.coefficient.of.variation <= 0.055658888071775436 and Chest.jerk.coefficient.of.variation <= -0.1641261726617813 and Chest.yposture.coefficient.of.variation > 0.05345548875629902\"], [\"Chest.xposture.Mean <= -0.1942775622010231 and back.rotation.position.in.sag.plane <= 0.13772926479578018 and Wrist.jerk.coefficient.of.variation <= 0.13951952010393143 and Hip.ACC.coefficient.of.variation > 0.7530215680599213\"], [\"Wrist.jerk.Mean > 0.6575396358966827 and Wrist.jerk.coefficient.of.variation > 0.031855649314820766 and Chest.jerk.coefficient.of.variation <= 0.29897958040237427\"], [\"leg.rotational.velocity.sag.plane > 0.7640345692634583 and back.rotation.position.in.sag.plane > 0.13772926479578018 and Wrist.jerk.coefficient.of.variation <= 0.45958152413368225 and Chest.yposture.coefficient.of.variation > -0.2055502999573946\"], [\"Chest.zposture.Mean > -0.43040990829467773 and leg.rotational.position.sag.plane <= -0.622440904378891 and Chest.ACC.Mean <= -0.5039881467819214\"], [\"Ankle.xposture.Mean > 1.4438276886940002 and Wrist.jerk.coefficient.of.variation > 0.05163064785301685\"], [\"Ankle.ACC.Mean > 1.2663668394088745 and back.rotation.position.in.sag.plane > 0.09473278000950813 and Wrist.jerk.coefficient.of.variation <= 0.45848292112350464 and Hip.jerk.Mean > 0.21249128691852093\"], [\"Ankle.xposture.Mean <= 2.00384783744812 and Ankle.xposture.Mean > 1.4438276886940002 and Wrist.jerk.coefficient.of.variation > 0.05163064785301685\"], [\"Ankle.ACC.Mean > 1.2574350833892822 and mean.foot.osicllation <= 0.7180769667029381 and back.rotation.position.in.sag.plane > 0.08208675496280193\"], [\"Wrist.jerk.Mean > 0.19189758971333504 and Ankle.xposture.Mean > 1.0817750096321106 and back.rotation.position.in.sag.plane <= 0.08208675496280193 and Wrist.jerk.coefficient.of.variation <= 0.14428017288446426\"], [\"leg.rotational.velocity.sag.plane > 0.4624840170145035 and back.rotation.position.in.sag.plane <= 0.07196993380784988 and Wrist.jerk.coefficient.of.variation > 0.13951952010393143 and Hip.jerk.Mean > -0.9537079036235809\"], [\"Chest.zposture.Mean <= -0.5738493800163269 and Hip.jerk.coefficient.of.variation <= 0.2920888066291809 and Hip.ACC.Mean > 0.6988511085510254\"], [\"average.step.time > 0.15638594329357147 and Wrist.jerk.coefficient.of.variation <= -0.07763924449682236 and Hip.ACC.Mean <= -0.12419585883617401 and Chest.jerk.Mean <= -0.7112330794334412\"], [\"Wrist.jerk.Mean <= 0.6558912396430969 and Wrist.jerk.coefficient.of.variation > -0.12927396595478058 and Hip.jerk.Mean > -0.8571024537086487 and Hip.zposture.Mean <= -1.1153931021690369\"], [\"average.step.distance <= -1.0147500336170197 and back.rotation.position.in.sag.plane > 0.24901428073644638\"], [\"Wrist.jerk.Mean <= 0.752532422542572 and back.rotation.position.in.sag.plane <= 0.6056321859359741 and Wrist.jerk.coefficient.of.variation <= 0.04650379531085491 and Hip.ACC.Mean <= -0.12419585883617401 and Chest.jerk.Mean <= -0.6593453288078308\"], [\"Wrist.jerk.Mean <= 0.609248548746109 and Chest.zposture.Mean > 0.3086294159293175 and Wrist.jerk.coefficient.of.variation > 0.04650379531085491 and Ankle.jerk.coefficient.of.variation <= -0.5625578165054321 and Chest.ACC.Mean > -0.17345238011330366\"], [\"back.rotation.position.in.sag.plane <= 0.14278767257928848 and Wrist.ACC.coefficient.of.variation > 0.8943997621536255 and Hip.jerk.Mean > -1.1122835278511047 and Hip.ACC.coefficient.of.variation <= -0.1554630622267723\"], [\"Wrist.jerk.Mean <= 0.6293943226337433 and average.step.distance <= -0.25128016620874405 and average.step.distance > -1.0353843569755554 and Wrist.ACC.coefficient.of.variation <= -1.0846152901649475\"]], \"hoverlabel\": {\"namelength\": 0}, \"hovertemplate\": \"Class=Non fatigue<br>x=%{x}<br>y=%{y}<br>Recall=%{marker.size}<br>Regola=%{customdata[0]}\", \"legendgroup\": \"Class=Non fatigue\", \"marker\": {\"color\": \"#EF553B\", \"size\": [0.7076923076923077, 0.703125, 0.671875, 0.6551724137931034, 0.609375, 0.4838709677419355, 0.4406779661016949, 0.2222222222222222, 0.2033898305084746, 0.16129032258064516, 0.16129032258064516, 0.15873015873015872, 0.15254237288135594, 0.15151515151515152, 0.15, 0.13793103448275862, 0.13333333333333333, 0.13114754098360656, 0.125, 0.11864406779661017, 0.11475409836065574, 0.11290322580645161, 0.11290322580645161, 0.1111111111111111, 0.109375, 0.109375, 0.109375, 0.1076923076923077, 0.1076923076923077, 0.1076923076923077, 0.1076923076923077, 0.10526315789473684, 0.1, 0.1, 0.09836065573770492, 0.0967741935483871, 0.09523809523809523, 0.09523809523809523, 0.09523809523809523, 0.09523809523809523, 0.09523809523809523, 0.09375, 0.09375, 0.09230769230769231, 0.09090909090909091, 0.09090909090909091, 0.08955223880597014, 0.08955223880597014, 0.0847457627118644, 0.08196721311475409, 0.08064516129032258, 0.07936507936507936, 0.078125, 0.07692307692307693, 0.07692307692307693, 0.07352941176470588, 0.07017543859649122, 0.06896551724137931, 0.06557377049180328, 0.06557377049180328, 0.05714285714285714, 0.05263157894736842, 0.05172413793103448, 0.05172413793103448, 0.05084745762711865, 0.05084745762711865], \"sizemode\": \"area\", \"sizeref\": 0.0017692307692307693, \"symbol\": \"circle\"}, \"mode\": \"markers\", \"name\": \"Class=Non fatigue\", \"showlegend\": true, \"type\": \"scatter\", \"x\": [1.6124423742294312, 5.455174922943115, 5.635756969451904, 6.443402290344238, 4.202646732330322, 4.4064764976501465, 4.026147842407227, -0.7685887217521667, 7.542050361633301, 3.759782075881958, 4.097682476043701, -0.6649114489555359, 4.482193470001221, 3.3614702224731445, 3.06484317779541, 4.318920612335205, 0.19041486084461212, 4.108360767364502, -2.8731608390808105, -5.0282158851623535, -1.057226538658142, 5.8731794357299805, 4.359511852264404, 4.373530864715576, 7.747824192047119, -2.1678059101104736, -1.8413304090499878, 6.134346008300781, 5.633289813995361, -1.1594185829162598, 2.729351758956909, -4.519417762756348, 6.703880786895752, -5.713539123535156, 1.0484036207199097, 0.44954895973205566, 3.4775755405426025, 2.1708741188049316, -0.29838940501213074, 5.211609840393066, -7.86398458480835, 6.620569705963135, 5.356026649475098, 0.9107863306999207, 3.059065103530884, 1.6340049505233765, 6.954014301300049, -2.527987003326416, 5.731261253356934, 2.362020969390869, -4.135628700256348, -6.388768672943115, -2.72269606590271, -0.5316391587257385, -2.705620050430298, -0.015165586024522781, 5.620241165161133, -0.44798544049263, -5.854896545410156, 9.577071189880371, -0.48909467458724976, -0.6673274636268616, 7.011469841003418, -5.208907604217529, 2.598938465118408, -5.274290084838867], \"xaxis\": \"x\", \"y\": [-10.37575626373291, -6.688737869262695, -6.607748508453369, -6.867453098297119, -6.872352123260498, -7.669835567474365, -1.2689005136489868, -5.92702054977417, 0.6998788118362427, -0.5435927510261536, 3.3262951374053955, 5.17612886428833, -2.453977584838867, -0.3059271275997162, 2.934497833251953, -0.09557884931564331, 8.147726058959961, -9.961320877075195, 15.338432312011719, 4.138654708862305, 14.441388130187988, -1.7908930778503418, 2.0191190242767334, 2.002974510192871, -5.498587608337402, -9.476397514343262, 14.200749397277832, -3.982804536819458, -9.920183181762695, 10.125, 1.6262507438659668, 12.386870384216309, -1.9131158590316772, 1.1610751152038574, 12.29636001586914, 12.72575569152832, -8.954073905944824, -7.979884624481201, 12.569684982299805, 1.947331428527832, 1.1919018030166626, -5.316075801849365, -7.889498233795166, 13.444051742553711, 10.280405044555664, 1.2500611543655396, -10.043373107910156, 13.217162132263184, -8.089273452758789, 2.2562038898468018, 12.679519653320312, 2.006542921066284, 2.4913041591644287, 12.593232154846191, 2.5813770294189453, 14.016672134399414, -1.4309972524642944, -4.432357311248779, 4.270408630371094, -3.1959922313690186, -0.6804096698760986, 9.530694007873535, -4.052225112915039, 0.10388094186782837, -11.212627410888672, -2.8279495239257812], \"yaxis\": \"y\"}],\n",
              "                        {\"legend\": {\"itemsizing\": \"constant\", \"tracegroupgap\": 0}, \"margin\": {\"t\": 60}, \"template\": {\"data\": {\"bar\": [{\"error_x\": {\"color\": \"#2a3f5f\"}, \"error_y\": {\"color\": \"#2a3f5f\"}, \"marker\": {\"line\": {\"color\": \"#E5ECF6\", \"width\": 0.5}}, \"type\": \"bar\"}], \"barpolar\": [{\"marker\": {\"line\": {\"color\": \"#E5ECF6\", \"width\": 0.5}}, \"type\": \"barpolar\"}], \"carpet\": [{\"aaxis\": {\"endlinecolor\": \"#2a3f5f\", \"gridcolor\": \"white\", \"linecolor\": \"white\", \"minorgridcolor\": \"white\", \"startlinecolor\": \"#2a3f5f\"}, \"baxis\": {\"endlinecolor\": \"#2a3f5f\", \"gridcolor\": \"white\", \"linecolor\": \"white\", \"minorgridcolor\": \"white\", \"startlinecolor\": \"#2a3f5f\"}, \"type\": \"carpet\"}], \"choropleth\": [{\"colorbar\": {\"outlinewidth\": 0, \"ticks\": \"\"}, \"type\": \"choropleth\"}], \"contour\": [{\"colorbar\": {\"outlinewidth\": 0, \"ticks\": \"\"}, \"colorscale\": [[0.0, \"#0d0887\"], [0.1111111111111111, \"#46039f\"], [0.2222222222222222, \"#7201a8\"], [0.3333333333333333, \"#9c179e\"], [0.4444444444444444, \"#bd3786\"], [0.5555555555555556, \"#d8576b\"], [0.6666666666666666, \"#ed7953\"], [0.7777777777777778, \"#fb9f3a\"], [0.8888888888888888, \"#fdca26\"], [1.0, \"#f0f921\"]], \"type\": \"contour\"}], \"contourcarpet\": [{\"colorbar\": {\"outlinewidth\": 0, \"ticks\": \"\"}, \"type\": \"contourcarpet\"}], \"heatmap\": [{\"colorbar\": {\"outlinewidth\": 0, \"ticks\": \"\"}, \"colorscale\": [[0.0, \"#0d0887\"], [0.1111111111111111, \"#46039f\"], [0.2222222222222222, \"#7201a8\"], [0.3333333333333333, \"#9c179e\"], [0.4444444444444444, \"#bd3786\"], [0.5555555555555556, \"#d8576b\"], [0.6666666666666666, \"#ed7953\"], [0.7777777777777778, \"#fb9f3a\"], [0.8888888888888888, \"#fdca26\"], [1.0, \"#f0f921\"]], \"type\": \"heatmap\"}], \"heatmapgl\": [{\"colorbar\": {\"outlinewidth\": 0, \"ticks\": \"\"}, \"colorscale\": [[0.0, \"#0d0887\"], [0.1111111111111111, \"#46039f\"], [0.2222222222222222, \"#7201a8\"], [0.3333333333333333, \"#9c179e\"], [0.4444444444444444, \"#bd3786\"], [0.5555555555555556, \"#d8576b\"], [0.6666666666666666, \"#ed7953\"], [0.7777777777777778, \"#fb9f3a\"], [0.8888888888888888, \"#fdca26\"], [1.0, \"#f0f921\"]], \"type\": \"heatmapgl\"}], \"histogram\": [{\"marker\": {\"colorbar\": {\"outlinewidth\": 0, \"ticks\": \"\"}}, \"type\": \"histogram\"}], \"histogram2d\": [{\"colorbar\": {\"outlinewidth\": 0, \"ticks\": \"\"}, \"colorscale\": [[0.0, \"#0d0887\"], [0.1111111111111111, \"#46039f\"], [0.2222222222222222, \"#7201a8\"], [0.3333333333333333, \"#9c179e\"], [0.4444444444444444, \"#bd3786\"], [0.5555555555555556, \"#d8576b\"], [0.6666666666666666, \"#ed7953\"], [0.7777777777777778, \"#fb9f3a\"], [0.8888888888888888, \"#fdca26\"], [1.0, \"#f0f921\"]], \"type\": \"histogram2d\"}], \"histogram2dcontour\": [{\"colorbar\": {\"outlinewidth\": 0, \"ticks\": \"\"}, \"colorscale\": [[0.0, \"#0d0887\"], [0.1111111111111111, \"#46039f\"], [0.2222222222222222, \"#7201a8\"], [0.3333333333333333, \"#9c179e\"], [0.4444444444444444, \"#bd3786\"], [0.5555555555555556, \"#d8576b\"], [0.6666666666666666, \"#ed7953\"], [0.7777777777777778, \"#fb9f3a\"], [0.8888888888888888, \"#fdca26\"], [1.0, \"#f0f921\"]], \"type\": \"histogram2dcontour\"}], \"mesh3d\": [{\"colorbar\": {\"outlinewidth\": 0, \"ticks\": \"\"}, \"type\": \"mesh3d\"}], \"parcoords\": [{\"line\": {\"colorbar\": {\"outlinewidth\": 0, \"ticks\": \"\"}}, \"type\": \"parcoords\"}], \"pie\": [{\"automargin\": true, \"type\": \"pie\"}], \"scatter\": [{\"marker\": {\"colorbar\": {\"outlinewidth\": 0, \"ticks\": \"\"}}, \"type\": \"scatter\"}], \"scatter3d\": [{\"line\": {\"colorbar\": {\"outlinewidth\": 0, \"ticks\": \"\"}}, \"marker\": {\"colorbar\": {\"outlinewidth\": 0, \"ticks\": \"\"}}, \"type\": \"scatter3d\"}], \"scattercarpet\": [{\"marker\": {\"colorbar\": {\"outlinewidth\": 0, \"ticks\": \"\"}}, \"type\": \"scattercarpet\"}], \"scattergeo\": [{\"marker\": {\"colorbar\": {\"outlinewidth\": 0, \"ticks\": \"\"}}, \"type\": \"scattergeo\"}], \"scattergl\": [{\"marker\": {\"colorbar\": {\"outlinewidth\": 0, \"ticks\": \"\"}}, \"type\": \"scattergl\"}], \"scattermapbox\": [{\"marker\": {\"colorbar\": {\"outlinewidth\": 0, \"ticks\": \"\"}}, \"type\": \"scattermapbox\"}], \"scatterpolar\": [{\"marker\": {\"colorbar\": {\"outlinewidth\": 0, \"ticks\": \"\"}}, \"type\": \"scatterpolar\"}], \"scatterpolargl\": [{\"marker\": {\"colorbar\": {\"outlinewidth\": 0, \"ticks\": \"\"}}, \"type\": \"scatterpolargl\"}], \"scatterternary\": [{\"marker\": {\"colorbar\": {\"outlinewidth\": 0, \"ticks\": \"\"}}, \"type\": \"scatterternary\"}], \"surface\": [{\"colorbar\": {\"outlinewidth\": 0, \"ticks\": \"\"}, \"colorscale\": [[0.0, \"#0d0887\"], [0.1111111111111111, \"#46039f\"], [0.2222222222222222, \"#7201a8\"], [0.3333333333333333, \"#9c179e\"], [0.4444444444444444, \"#bd3786\"], [0.5555555555555556, \"#d8576b\"], [0.6666666666666666, \"#ed7953\"], [0.7777777777777778, \"#fb9f3a\"], [0.8888888888888888, \"#fdca26\"], [1.0, \"#f0f921\"]], \"type\": \"surface\"}], \"table\": [{\"cells\": {\"fill\": {\"color\": \"#EBF0F8\"}, \"line\": {\"color\": \"white\"}}, \"header\": {\"fill\": {\"color\": \"#C8D4E3\"}, \"line\": {\"color\": \"white\"}}, \"type\": \"table\"}]}, \"layout\": {\"annotationdefaults\": {\"arrowcolor\": \"#2a3f5f\", \"arrowhead\": 0, \"arrowwidth\": 1}, \"coloraxis\": {\"colorbar\": {\"outlinewidth\": 0, \"ticks\": \"\"}}, \"colorscale\": {\"diverging\": [[0, \"#8e0152\"], [0.1, \"#c51b7d\"], [0.2, \"#de77ae\"], [0.3, \"#f1b6da\"], [0.4, \"#fde0ef\"], [0.5, \"#f7f7f7\"], [0.6, \"#e6f5d0\"], [0.7, \"#b8e186\"], [0.8, \"#7fbc41\"], [0.9, \"#4d9221\"], [1, \"#276419\"]], \"sequential\": [[0.0, \"#0d0887\"], [0.1111111111111111, \"#46039f\"], [0.2222222222222222, \"#7201a8\"], [0.3333333333333333, \"#9c179e\"], [0.4444444444444444, \"#bd3786\"], [0.5555555555555556, \"#d8576b\"], [0.6666666666666666, \"#ed7953\"], [0.7777777777777778, \"#fb9f3a\"], [0.8888888888888888, \"#fdca26\"], [1.0, \"#f0f921\"]], \"sequentialminus\": [[0.0, \"#0d0887\"], [0.1111111111111111, \"#46039f\"], [0.2222222222222222, \"#7201a8\"], [0.3333333333333333, \"#9c179e\"], [0.4444444444444444, \"#bd3786\"], [0.5555555555555556, \"#d8576b\"], [0.6666666666666666, \"#ed7953\"], [0.7777777777777778, \"#fb9f3a\"], [0.8888888888888888, \"#fdca26\"], [1.0, \"#f0f921\"]]}, \"colorway\": [\"#636efa\", \"#EF553B\", \"#00cc96\", \"#ab63fa\", \"#FFA15A\", \"#19d3f3\", \"#FF6692\", \"#B6E880\", \"#FF97FF\", \"#FECB52\"], \"font\": {\"color\": \"#2a3f5f\"}, \"geo\": {\"bgcolor\": \"white\", \"lakecolor\": \"white\", \"landcolor\": \"#E5ECF6\", \"showlakes\": true, \"showland\": true, \"subunitcolor\": \"white\"}, \"hoverlabel\": {\"align\": \"left\"}, \"hovermode\": \"closest\", \"mapbox\": {\"style\": \"light\"}, \"paper_bgcolor\": \"white\", \"plot_bgcolor\": \"#E5ECF6\", \"polar\": {\"angularaxis\": {\"gridcolor\": \"white\", \"linecolor\": \"white\", \"ticks\": \"\"}, \"bgcolor\": \"#E5ECF6\", \"radialaxis\": {\"gridcolor\": \"white\", \"linecolor\": \"white\", \"ticks\": \"\"}}, \"scene\": {\"xaxis\": {\"backgroundcolor\": \"#E5ECF6\", \"gridcolor\": \"white\", \"gridwidth\": 2, \"linecolor\": \"white\", \"showbackground\": true, \"ticks\": \"\", \"zerolinecolor\": \"white\"}, \"yaxis\": {\"backgroundcolor\": \"#E5ECF6\", \"gridcolor\": \"white\", \"gridwidth\": 2, \"linecolor\": \"white\", \"showbackground\": true, \"ticks\": \"\", \"zerolinecolor\": \"white\"}, \"zaxis\": {\"backgroundcolor\": \"#E5ECF6\", \"gridcolor\": \"white\", \"gridwidth\": 2, \"linecolor\": \"white\", \"showbackground\": true, \"ticks\": \"\", \"zerolinecolor\": \"white\"}}, \"shapedefaults\": {\"line\": {\"color\": \"#2a3f5f\"}}, \"ternary\": {\"aaxis\": {\"gridcolor\": \"white\", \"linecolor\": \"white\", \"ticks\": \"\"}, \"baxis\": {\"gridcolor\": \"white\", \"linecolor\": \"white\", \"ticks\": \"\"}, \"bgcolor\": \"#E5ECF6\", \"caxis\": {\"gridcolor\": \"white\", \"linecolor\": \"white\", \"ticks\": \"\"}}, \"title\": {\"x\": 0.05}, \"xaxis\": {\"automargin\": true, \"gridcolor\": \"white\", \"linecolor\": \"white\", \"ticks\": \"\", \"title\": {\"standoff\": 15}, \"zerolinecolor\": \"white\", \"zerolinewidth\": 2}, \"yaxis\": {\"automargin\": true, \"gridcolor\": \"white\", \"linecolor\": \"white\", \"ticks\": \"\", \"title\": {\"standoff\": 15}, \"zerolinecolor\": \"white\", \"zerolinewidth\": 2}}}, \"xaxis\": {\"anchor\": \"y\", \"domain\": [0.0, 1.0], \"title\": {\"text\": \"x\"}}, \"yaxis\": {\"anchor\": \"x\", \"domain\": [0.0, 1.0], \"title\": {\"text\": \"y\"}}},\n",
              "                        {\"responsive\": true}\n",
              "                    ).then(function(){\n",
              "                            \n",
              "var gd = document.getElementById('d9b7e1ef-df15-4abd-b2b0-b6483d6109df');\n",
              "var x = new MutationObserver(function (mutations, observer) {{\n",
              "        var display = window.getComputedStyle(gd).display;\n",
              "        if (!display || display === 'none') {{\n",
              "            console.log([gd, 'removed!']);\n",
              "            Plotly.purge(gd);\n",
              "            observer.disconnect();\n",
              "        }}\n",
              "}});\n",
              "\n",
              "// Listen for the removal of the full notebook cells\n",
              "var notebookContainer = gd.closest('#notebook-container');\n",
              "if (notebookContainer) {{\n",
              "    x.observe(notebookContainer, {childList: true});\n",
              "}}\n",
              "\n",
              "// Listen for the clearing of the current output cell\n",
              "var outputEl = gd.closest('.output');\n",
              "if (outputEl) {{\n",
              "    x.observe(outputEl, {childList: true});\n",
              "}}\n",
              "\n",
              "                        })\n",
              "                };\n",
              "                \n",
              "            </script>\n",
              "        </div>\n",
              "</body>\n",
              "</html>"
            ]
          },
          "metadata": {
            "tags": []
          }
        }
      ]
    },
    {
      "cell_type": "markdown",
      "metadata": {
        "id": "CgUp5Xcer9g9"
      },
      "source": [
        "##Calcolo della similitudine"
      ]
    },
    {
      "cell_type": "code",
      "metadata": {
        "id": "j8ZnsQgbffFS"
      },
      "source": [
        "from sklearn.metrics.pairwise import cosine_similarity\n",
        "Vicinanza = cosine_similarity (matrice, matrice)"
      ],
      "execution_count": null,
      "outputs": []
    },
    {
      "cell_type": "code",
      "metadata": {
        "id": "yn2N3mMjfe8X"
      },
      "source": [
        "MatriceVicinanza = pd.DataFrame(Vicinanza,\n",
        "                   index = Regole['Regola'],\n",
        "                   columns = Regole['Regola'])\n",
        "\n",
        "MatriceVicinanza.head()"
      ],
      "execution_count": null,
      "outputs": []
    },
    {
      "cell_type": "code",
      "metadata": {
        "id": "dMD-PQaMD_ix"
      },
      "source": [
        "MatriceVicinanza.index"
      ],
      "execution_count": null,
      "outputs": []
    },
    {
      "cell_type": "code",
      "metadata": {
        "colab": {
          "base_uri": "https://localhost:8080/",
          "height": 542
        },
        "id": "LxF7Mwq3EUBH",
        "outputId": "20d4eb3c-8e73-46cb-92c1-167a945030da"
      },
      "source": [
        "import plotly.graph_objects as go\n",
        "\n",
        "fig = go.Figure(data=go.Heatmap(\n",
        "                   z=MatriceVicinanza,\n",
        "                   x=MatriceVicinanza.index,\n",
        "                   #y=MatriceVicinanza.index,\n",
        "                   colorscale='Viridis'))\n",
        "\n",
        "fig.update_layout(\n",
        "    title='Matrice vicinanza',\n",
        "    xaxis_nticks=36)\n",
        "\n",
        "fig.show()"
      ],
      "execution_count": null,
      "outputs": [
        {
          "output_type": "display_data",
          "data": {
            "text/html": [
              "<html>\n",
              "<head><meta charset=\"utf-8\" /></head>\n",
              "<body>\n",
              "    <div>\n",
              "            <script src=\"https://cdnjs.cloudflare.com/ajax/libs/mathjax/2.7.5/MathJax.js?config=TeX-AMS-MML_SVG\"></script><script type=\"text/javascript\">if (window.MathJax) {MathJax.Hub.Config({SVG: {font: \"STIX-Web\"}});}</script>\n",
              "                <script type=\"text/javascript\">window.PlotlyConfig = {MathJaxConfig: 'local'};</script>\n",
              "        <script src=\"https://cdn.plot.ly/plotly-latest.min.js\"></script>    \n",
              "            <div id=\"a90d5907-7ff7-48bd-b679-1564de116ae1\" class=\"plotly-graph-div\" style=\"height:525px; width:100%;\"></div>\n",
              "            <script type=\"text/javascript\">\n",
              "                \n",
              "                    window.PLOTLYENV=window.PLOTLYENV || {};\n",
              "                    \n",
              "                if (document.getElementById(\"a90d5907-7ff7-48bd-b679-1564de116ae1\")) {\n",
              "                    Plotly.newPlot(\n",
              "                        'a90d5907-7ff7-48bd-b679-1564de116ae1',\n",
              "                        [{\"colorscale\": [[0.0, \"#440154\"], [0.1111111111111111, \"#482878\"], [0.2222222222222222, \"#3e4989\"], [0.3333333333333333, \"#31688e\"], [0.4444444444444444, \"#26828e\"], [0.5555555555555556, \"#1f9e89\"], [0.6666666666666666, \"#35b779\"], [0.7777777777777778, \"#6ece58\"], [0.8888888888888888, \"#b5de2b\"], [1.0, \"#fde725\"]], \"type\": \"heatmap\", \"x\": [\"Wrist.jerk.Mean <= 1.502169668674469 and Ankle.ACC.Mean <= 1.7874895334243774 and average.step.distance > -1.0560186505317688 and back.rotation.position.in.sag.plane > 0.13772926479578018 and Wrist.ACC.coefficient.of.variation <= 2.44702410697937\", \"Wrist.jerk.Mean <= 0.609248548746109 and Ankle.xposture.Mean > -1.4759454727172852 and back.rotation.position.in.sag.plane > -0.8815403580665588 and Wrist.jerk.coefficient.of.variation > 0.051996851339936256 and Chest.ACC.coefficient.of.variation <= 1.5517901182174683\", \"Ankle.ACC.Mean <= 1.2965334057807922 and average.step.distance > -1.0147500336170197 and back.rotation.position.in.sag.plane > 0.24901428073644638\", \"Wrist.jerk.Mean <= 0.5673905611038208 and Ankle.xposture.Mean <= 1.4438276886940002 and Ankle.xposture.Mean > -1.5387402176856995 and Wrist.jerk.coefficient.of.variation > -0.2047119140625 and Hip.zposture.Mean > -1.111806869506836\", \"Wrist.jerk.Mean <= 0.6575396358966827 and Ankle.xposture.Mean <= 1.4438276886940002 and back.rotation.position.in.sag.plane > -0.8815403580665588 and Wrist.jerk.coefficient.of.variation > 0.05163064785301685 and Ankle.jerk.coefficient.of.variation > -1.1026819348335266\", \"Ankle.ACC.Mean <= 1.2663668394088745 and average.step.distance > -1.0560186505317688 and leg.rotational.velocity.sag.plane <= 0.9206996858119965 and back.rotation.position.in.sag.plane > 0.08208675496280193\", \"Ankle.ACC.Mean <= 1.4400295615196228 and back.rotation.position.in.sag.plane > 0.08208675496280193 and Chest.ACC.Mean <= -0.023286499083042145\", \"Wrist.jerk.Mean <= 0.5673905611038208 and Wrist.jerk.coefficient.of.variation > 0.45848292112350464 and Chest.ACC.coefficient.of.variation <= 1.5231245160102844\", \"Ankle.xposture.Mean > -1.566654920578003 and leg.rotational.velocity.sag.plane <= 0.7640345692634583 and average.vertical.impact <= 2.2539355158805847 and back.rotation.position.in.sag.plane > 0.19084256887435913\", \"leg.rotational.velocity.sag.plane <= 0.7640345692634583 and back.rotation.position.in.sag.plane > 0.22119303047657013\", \"Wrist.jerk.Mean <= 0.570469319820404 and Ankle.jerk.coefficient.of.variation > -1.0934387743473053 and Hip.yposture.Mean > 0.4497672915458679\", \"Chest.yposture.Mean > 0.18529319763183594 and back.rotation.position.in.sag.plane > 0.13772926479578018\", \"Ankle.ACC.Mean <= 1.2663668394088745 and average.step.distance > -1.0147500336170197 and Wrist.ACC.Mean > -2.388550579547882 and back.rotation.position.in.sag.plane > 0.07196993380784988 and Wrist.jerk.coefficient.of.variation <= 0.45848292112350464\", \"Ankle.xposture.Mean <= 1.4438276886940002 and Wrist.jerk.coefficient.of.variation > 0.6009361445903778\", \"average.step.time > -0.5274068266153336 and leg.rotational.velocity.sag.plane <= 0.7091898620128632 and leg.rotational.position.sag.plane > -0.8061316609382629 and back.rotation.position.in.sag.plane > 0.13772926479578018 and Wrist.jerk.coefficient.of.variation <= 0.13951952010393143\", \"back.rotation.position.in.sag.plane <= 0.14278767257928848 and Wrist.jerk.coefficient.of.variation > -0.36913734674453735 and Hip.jerk.Mean <= -1.0140153169631958\", \"back.rotation.position.in.sag.plane > 0.17566733807325363 and Wrist.jerk.coefficient.of.variation <= 0.05163064785301685 and Ankle.ACC.coefficient.of.variation > -2.2030997276306152 and Chest.yposture.coefficient.of.variation <= -0.035335421562194824\", \"back.rotation.position.in.sag.plane > 0.19084256887435913 and Wrist.jerk.coefficient.of.variation <= 0.45848292112350464 and Chest.ACC.Mean <= -0.010463932529091835\", \"Wrist.jerk.Mean <= 0.6076001524925232 and back.rotation.position.in.sag.plane <= 0.3147736191749573 and Wrist.jerk.coefficient.of.variation > -0.12890776246786118 and Hip.jerk.coefficient.of.variation > 0.13012774661183357\", \"back.rotation.position.in.sag.plane <= 0.13772926479578018 and Hip.jerk.Mean <= -1.016774296760559 and Hip.ACC.Mean <= 0.7268421053886414\", \"back.rotation.position.in.sag.plane <= 0.22119303047657013 and Hip.jerk.Mean <= -1.016971468925476\", \"leg.rotational.position.sag.plane > -0.7975479960441589 and back.rotation.position.in.sag.plane > 0.19590097665786743 and Wrist.jerk.coefficient.of.variation <= -0.12927396595478058 and Chest.yposture.coefficient.of.variation <= -0.1497167218476534\", \"Chest.zposture.Mean > -0.813684493303299 and Ankle.xposture.Mean > -0.9734993502497673 and leg.rotational.velocity.sag.plane <= 0.6947394609451294 and back.rotation.position.in.sag.plane > 0.08208675496280193\", \"time.bent <= 1.3731969594955444 and back.rotation.position.in.sag.plane <= 0.08208675496280193 and Hip.jerk.Mean <= -1.0197304487228394\", \"average.step.distance <= 0.5947269797325134 and back.rotation.position.in.sag.plane > 0.19084256887435913 and Wrist.jerk.coefficient.of.variation <= 0.05163064785301685 and Hip.jerk.coefficient.of.variation <= 0.5369650721549988\", \"back.rotation.position.in.sag.plane > 0.19590097665786743 and Wrist.jerk.coefficient.of.variation <= 0.051996851339936256 and Chest.yposture.coefficient.of.variation <= 0.05345548875629902\", \"average.step.time > 0.15638594329357147 and Wrist.ACC.Mean <= 2.2251697778701782 and Wrist.jerk.coefficient.of.variation <= -0.07763924449682236 and Hip.ACC.Mean <= -0.12419585883617401 and Chest.jerk.Mean > -0.7112330794334412\", \"Wrist.ACC.Mean <= 0.4427796006202698 and Wrist.jerk.coefficient.of.variation > -0.002201290801167488 and Hip.ACC.Mean > -0.09401484951376915 and Hip.zposture.Mean <= 2.1090787053108215\", \"Chest.yposture.Mean <= -0.27709291875362396 and Ankle.xposture.Mean > -0.4443378299474716 and back.rotation.position.in.sag.plane > 0.08208675496280193 and Chest.ACC.Mean > -0.05577976070344448\", \"Wrist.jerk.Mean <= 0.4312026649713516 and back.rotation.position.in.sag.plane <= 0.22119303047657013 and Hip.jerk.Mean > -1.1764254570007324 and Hip.ACC.Mean <= -0.4651462137699127 and Hip.zposture.Mean <= 0.5710654556751251\", \"Wrist.jerk.Mean <= 0.6076001524925232 and Chest.zposture.Mean > 0.34723396599292755 and Wrist.ACC.Mean <= 0.2955123037099838 and Wrist.jerk.coefficient.of.variation > 0.051996851339936256 and Ankle.jerk.coefficient.of.variation > -0.5902874171733856\", \"back.rotation.position.in.sag.plane <= 0.4134126156568527 and Chest.jerk.coefficient.of.variation <= 1.577257215976715 and Hip.ACC.Mean <= -0.35740862786769867 and Hip.xposture.Mean <= -0.11400451697409153 and Hip.yposture.Mean <= 0.4358299970626831\", \"Chest.zposture.Mean > -0.7797949314117432 and leg.rotational.velocity.sag.plane <= 0.19837094843387604 and Wrist.jerk.coefficient.of.variation > 0.051996851339936256\", \"age > -0.6431948840618134 and back.rotation.position.in.sag.plane <= 0.22119303047657013 and Hip.jerk.Mean > -1.0197304487228394 and Hip.ACC.coefficient.of.variation > 0.6935525238513947 and Hip.zposture.Mean > -0.35152849555015564\", \"Ankle.xposture.Mean <= 1.4438276886940002 and average.back.bent.angle <= -0.1536228358745575 and Wrist.jerk.coefficient.of.variation <= 0.6009361445903778 and Wrist.jerk.coefficient.of.variation > 0.13951952010393143 and Ankle.jerk.coefficient.of.variation > -0.5975212156772614\", \"Wrist.jerk.Mean <= 0.2969344314187765 and back.rotation.position.in.sag.plane <= 0.19590097665786743 and Wrist.jerk.coefficient.of.variation <= 0.31236764788627625 and Hip.ACC.Mean <= -0.1834922656416893\", \"age > -0.6431948840618134 and back.rotation.position.in.sag.plane <= 0.3350072503089905 and Wrist.jerk.coefficient.of.variation <= 0.05712370201945305 and Hip.ACC.Mean <= -0.39351682364940643\", \"back.rotation.position.in.sag.plane > 0.011269010603427887 and Wrist.jerk.coefficient.of.variation > -0.05163878574967384 and Hip.jerk.Mean > -0.105531957000494 and Hip.xposture.Mean <= 0.8134874701499939\", \"Chest.zposture.Mean > -0.7750130891799927 and back.rotation.position.in.sag.plane <= 0.4134126156568527 and Chest.jerk.coefficient.of.variation > 1.5499379634857178\", \"Chest.zposture.Mean > -0.818633109331131 and back.rotation.position.in.sag.plane <= 0.3350072503089905 and Hip.jerk.Mean <= -1.0197304487228394 and Hip.ACC.Mean <= 0.6224616765975952\", \"mean.hip.osicllation <= 1.4770870506763458 and back.rotation.position.in.sag.plane <= 0.08208675496280193 and Hip.jerk.Mean > -1.1866024732589722 and Hip.ACC.coefficient.of.variation > 1.4856296181678772\", \"leg.rotational.velocity.sag.plane > 0.7640345692634583 and back.rotation.position.in.sag.plane > 0.13772926479578018 and Chest.yposture.coefficient.of.variation <= -0.07682287506759167\", \"time.bent > -0.2982858344912529 and back.rotation.position.in.sag.plane > 0.14278767257928848 and Wrist.jerk.coefficient.of.variation <= 0.13951952010393143 and Chest.jerk.coefficient.of.variation > -0.2447620928287506 and Chest.ACC.Mean > -0.05577976070344448\", \"leg.rotational.velocity.sag.plane > 0.4559026509523392 and Wrist.jerk.coefficient.of.variation > 0.04650379531085491 and Hip.jerk.Mean <= -0.9413149058818817\", \"leg.rotational.position.sag.plane > 0.9183299243450165 and back.rotation.position.in.sag.plane > 0.13772926479578018 and Wrist.jerk.coefficient.of.variation <= 0.051996851339936256 and Chest.ACC.Mean > -0.05577976070344448\", \"Chest.xposture.Mean > 1.4115136116743088 and Ankle.xposture.Mean <= 1.4438276886940002 and Wrist.jerk.coefficient.of.variation > 0.13951952010393143 and Hip.zposture.Mean <= -1.1153931021690369\", \"Chest.zposture.Mean > -0.7750130891799927 and back.rotation.position.in.sag.plane <= 0.4134126156568527 and Hip.jerk.coefficient.of.variation <= -1.0306852161884308 and Chest.jerk.coefficient.of.variation <= 1.5499379634857178 and Hip.yposture.coefficient.of.variation > -0.7880868315696716\", \"leg.rotational.velocity.sag.plane > 0.7904554307460785 and back.rotation.position.in.sag.plane > 0.14278767257928848 and Chest.ACC.Mean <= 0.05380232073366642\", \"leg.rotational.velocity.sag.plane <= 0.44231070578098297 and average.vertical.impact > -0.5764846503734589 and back.rotation.position.in.sag.plane <= 0.22119303047657013 and Wrist.jerk.coefficient.of.variation > 0.05529268458485603 and Hip.jerk.Mean > -0.8571024537086487\", \"back.rotation.position.in.sag.plane <= 0.08208675496280193 and Wrist.ACC.coefficient.of.variation > 0.8943997621536255 and Hip.jerk.Mean > -1.016774296760559 and Hip.zposture.Mean > -0.9171982109546661\", \"back.rotation.position.in.sag.plane <= 0.5322852581739426 and Chest.jerk.coefficient.of.variation > 1.5499379634857178 and Hip.yposture.Mean <= 0.46872852742671967\", \"mean.hip.osicllation > -0.7601307332515717 and leg.rotational.velocity.sag.plane > 0.7904554307460785 and back.rotation.position.in.sag.plane > 0.08208675496280193 and Chest.yposture.coefficient.of.variation <= 0.06702615693211555\", \"Chest.zposture.Mean > 1.470730483531952 and leg.rotational.position.sag.plane > -0.8567753732204437 and Hip.ACC.coefficient.of.variation <= 0.46263547241687775 and Ankle.jerk.coefficient.of.variation <= 1.043346881866455\", \"mean.foot.osicllation > 0.006953209638595581 and back.rotation.position.in.sag.plane > 0.17566733807325363 and Wrist.jerk.coefficient.of.variation <= 0.13951952010393143 and Chest.yposture.coefficient.of.variation > 0.01700856350362301\", \"Wrist.jerk.Mean > -1.241362988948822 and Chest.zposture.Mean > -0.7797949314117432 and leg.rotational.velocity.sag.plane > 0.19837094843387604 and Wrist.jerk.coefficient.of.variation > 0.051996851339936256 and Chest.jerk.coefficient.of.variation > 0.8462463319301605\", \"Ankle.xposture.Mean > 0.31893298029899597 and back.rotation.position.in.sag.plane > 0.19084256887435913 and Wrist.jerk.coefficient.of.variation <= 0.04650379531085491 and Chest.yposture.coefficient.of.variation > 0.1852847896516323\", \"Wrist.jerk.Mean <= 0.6558912396430969 and Wrist.jerk.coefficient.of.variation > -0.12927396595478058 and Hip.jerk.Mean <= -0.8571024537086487 and Hip.zposture.Mean <= -1.1153931021690369\", \"time.bent > 0.28410089015960693 and back.rotation.position.in.sag.plane <= 0.06691152416169643 and Wrist.ACC.coefficient.of.variation > 0.6544536352157593 and Hip.jerk.Mean > -1.016774296760559\", \"Chest.zposture.Mean > -0.7797949314117432 and Wrist.ACC.Mean > 0.2955123037099838 and back.rotation.position.in.sag.plane <= 0.5322852581739426 and Wrist.jerk.coefficient.of.variation > 0.05712370201945305 and Hip.jerk.Mean <= -0.944271057844162\", \"back.rotation.position.in.sag.plane <= 0.09220357611775398 and Wrist.jerk.coefficient.of.variation <= 0.45848292112350464 and Hip.jerk.coefficient.of.variation > 1.6364207863807678\", \"Wrist.jerk.Mean > 0.4312026649713516 and back.rotation.position.in.sag.plane > 0.10737880505621433 and Wrist.jerk.coefficient.of.variation > 0.051996851339936256 and Hip.xposture.Mean <= 0.8526010513305664\", \"Wrist.jerk.Mean > 0.6076001524925232 and back.rotation.position.in.sag.plane > 0.3223612308502197 and Wrist.jerk.coefficient.of.variation > 0.051996851339936256\", \"Wrist.jerk.Mean <= 0.6575396358966827 and Wrist.jerk.coefficient.of.variation > 0.051996851339936256 and Chest.jerk.coefficient.of.variation > 1.6058984398841858 and Hip.zposture.Mean <= -1.111806869506836\", \"Wrist.jerk.Mean > 0.6575396358966827 and Wrist.jerk.coefficient.of.variation > 0.031855649314820766 and Chest.jerk.coefficient.of.variation > 0.29897958040237427\", \"back.rotation.position.in.sag.plane <= 0.08208675496280193 and Hip.jerk.coefficient.of.variation <= -1.0262631177902222 and Hip.jerk.Mean > -1.0197304487228394 and Hip.ACC.coefficient.of.variation > 0.6277569830417633\", \"Chest.zposture.Mean > -0.5658640265464783 and average.vertical.impact <= 0.6501088738441467 and Hip.jerk.coefficient.of.variation <= -1.1224447190761566\", \"Chest.zposture.Mean > -0.5658640265464783 and mean.foot.osicllation > -0.7895053923130035 and average.vertical.impact <= 0.6501088738441467 and Hip.jerk.coefficient.of.variation > -1.1224447190761566 and Hip.jerk.Mean <= -1.016971468925476\", \"Wrist.jerk.Mean <= 0.6293943226337433 and average.step.distance > -0.25128016620874405 and leg.rotational.position.sag.plane > -0.3812394440174103 and Wrist.ACC.coefficient.of.variation <= -1.0846152901649475\", \"leg.rotational.velocity.sag.plane > 0.4624840170145035 and back.rotation.position.in.sag.plane <= 0.07196993380784988 and Wrist.jerk.coefficient.of.variation > 0.13951952010393143 and Hip.jerk.Mean <= -0.9537079036235809\", \"back.rotation.position.in.sag.plane <= 0.19084256887435913 and Wrist.ACC.coefficient.of.variation > 0.8943997621536255 and Hip.jerk.coefficient.of.variation > -0.6752553582191467 and Hip.jerk.Mean > -1.0140153169631958 and Hip.ACC.coefficient.of.variation > 0.7530215680599213\", \"leg.rotational.velocity.sag.plane > 0.19837094843387604 and back.rotation.position.in.sag.plane > 0.23130984604358673 and Wrist.jerk.coefficient.of.variation > 0.055658888071775436 and Chest.jerk.coefficient.of.variation <= 0.37300601601600647\", \"average.step.time > 0.27035141736268997 and leg.rotational.velocity.sag.plane > 0.7640345692634583 and back.rotation.position.in.sag.plane > 0.08208675496280193\", \"Wrist.jerk.Mean <= 0.4312026649713516 and back.rotation.position.in.sag.plane <= 0.22119303047657013 and Wrist.jerk.coefficient.of.variation <= 0.31126902997493744 and Wrist.jerk.coefficient.of.variation > 0.05712370201945305 and Hip.xposture.Mean > -0.33422017097473145\", \"back.rotation.position.in.sag.plane <= 0.08208675496280193 and Hip.jerk.Mean > -1.1866024732589722 and Hip.ACC.coefficient.of.variation <= 1.4856296181678772 and Chest.jerk.coefficient.of.variation > 1.7768641710281372\", \"leg.rotational.position.sag.plane <= -0.039608925580978394 and back.rotation.position.in.sag.plane <= 0.24142666906118393 and Hip.jerk.Mean > -1.016971468925476 and Hip.ACC.coefficient.of.variation <= 0.6935525238513947 and Hip.yposture.Mean > 1.1795047521591187\", \"age > -0.23181135952472687 and back.rotation.position.in.sag.plane <= 0.07196993380784988 and Wrist.ACC.coefficient.of.variation <= 0.6722874641418457 and Hip.jerk.Mean > -1.0140153169631958 and Hip.ACC.Mean <= -0.6011788845062256\", \"Wrist.jerk.Mean <= 0.4312026649713516 and leg.rotational.velocity.sag.plane <= -0.7145789712667465 and back.rotation.position.in.sag.plane <= -0.9321244657039642 and Wrist.jerk.coefficient.of.variation > 0.13951952010393143 and Chest.ACC.coefficient.of.variation <= 1.819625198841095\", \"Wrist.jerk.Mean <= 0.8209874927997589 and back.rotation.position.in.sag.plane > -0.41616663336753845 and Wrist.jerk.coefficient.of.variation > 0.031855649314820766 and Hip.ACC.Mean > 0.5573155283927917\", \"back.rotation.position.in.sag.plane <= 0.08208675496280193 and Hip.jerk.Mean > -1.0291672945022583 and Hip.ACC.coefficient.of.variation <= 0.7530215680599213 and Hip.yposture.Mean <= 1.11860853433609 and Hip.zposture.Mean > -1.7837491035461426\", \"back.rotation.position.in.sag.plane <= 0.17566733807325363 and Wrist.jerk.coefficient.of.variation <= 0.05163064785301685 and Hip.ACC.Mean > -0.47386549413204193\", \"back.rotation.position.in.sag.plane <= 0.22119303047657013 and Wrist.jerk.coefficient.of.variation <= 0.05529268458485603 and Hip.ACC.Mean > -0.09642184898257256 and Chest.jerk.Mean > -1.357083261013031\", \"back.rotation.position.in.sag.plane <= 0.07196993380784988 and Wrist.jerk.coefficient.of.variation <= 0.13951952010393143 and Ankle.jerk.coefficient.of.variation <= 2.620718240737915 and Hip.ACC.Mean > -0.47386549413204193\", \"back.rotation.position.in.sag.plane <= 0.22119303047657013 and Wrist.jerk.coefficient.of.variation <= 0.055658888071775436 and Hip.ACC.coefficient.of.variation <= 0.6935525238513947 and Chest.ACC.Mean > -0.7963787019252777\", \"back.rotation.position.in.sag.plane <= 0.08208675496280193 and Wrist.jerk.coefficient.of.variation <= -0.3969688415527344 and Hip.jerk.Mean > -1.1866024732589722\", \"Wrist.jerk.Mean > 0.6293943226337433 and leg.rotational.position.sag.plane > -0.8799513578414917 and back.rotation.position.in.sag.plane <= 0.2869523614645004\", \"number.of.steps <= 2.219828963279724 and Wrist.ACC.Mean > 0.4427796006202698 and back.rotation.position.in.sag.plane <= 0.07196993380784988 and Wrist.jerk.coefficient.of.variation > -0.12890776246786118 and Hip.jerk.Mean > -0.944271057844162\", \"Wrist.jerk.Mean <= 0.6293943226337433 and average.step.distance <= -1.0353843569755554 and average.vertical.impact <= 1.1573820114135742 and Wrist.jerk.coefficient.of.variation <= 0.14428017288446426\", \"Wrist.jerk.Mean > 0.6076001524925232 and Ankle.xposture.Mean > -0.3644658103585243 and back.rotation.position.in.sag.plane <= 0.3147736191749573 and Wrist.jerk.coefficient.of.variation > -0.12890776246786118\", \"age <= -0.6431948840618134 and Wrist.jerk.Mean > 0.6193370521068573 and Hip.ACC.Mean <= -0.09401484951376915 and Hip.xposture.Mean > -0.11400451697409153\", \"leg.rotational.velocity.sag.plane > 0.4559026509523392 and Wrist.jerk.coefficient.of.variation > -0.06408970803022385 and Chest.jerk.coefficient.of.variation <= 0.05839372263289988 and Chest.ACC.Mean <= 0.7234674841165543\", \"Wrist.jerk.Mean > 0.4312026649713516 and back.rotation.position.in.sag.plane <= 0.22119303047657013 and Hip.jerk.Mean > -1.1764254570007324 and Ankle.yposture.coefficient.of.variation <= 0.7823594212532043 and Hip.ACC.Mean <= -0.4651462137699127\", \"Wrist.jerk.Mean > 0.4312026649713516 and time.bent > -1.1932530105113983 and back.rotation.position.in.sag.plane <= 0.08208675496280193 and Wrist.jerk.coefficient.of.variation > -0.08532952144742012\", \"Wrist.jerk.Mean > 0.609248548746109 and Wrist.jerk.coefficient.of.variation > -0.09887906163930893 and Hip.xposture.Mean > 0.30653777718544006\", \"Wrist.jerk.Mean > 0.4312026649713516 and average.back.bent.angle <= 2.4434252977371216 and back.rotation.position.in.sag.plane <= 0.08208675496280193 and Wrist.jerk.coefficient.of.variation > -0.12890776246786118\", \"age <= 1.413722813129425 and Chest.yposture.Mean <= 0.18529319763183594 and back.rotation.position.in.sag.plane > 0.14278767257928848 and Chest.jerk.coefficient.of.variation <= -0.14473829418420792\", \"average.back.bent.angle <= -0.019200053066015244 and back.rotation.position.in.sag.plane <= 0.2995983809232712 and Hip.jerk.coefficient.of.variation > -1.2379732728004456 and Hip.jerk.Mean > -1.016774296760559 and Hip.ACC.coefficient.of.variation > 0.7264502942562103\", \"Chest.yposture.Mean > -0.32909780740737915 and back.rotation.position.in.sag.plane > 0.14278767257928848 and Chest.yposture.coefficient.of.variation > -0.06247674487531185 and Hip.yposture.Mean <= 1.4808058142662048\", \"Chest.zposture.Mean <= -0.5658640265464783 and Chest.jerk.Mean > 1.1795973777770996\", \"Ankle.ACC.Mean > -0.2820093333721161 and mean.foot.osicllation <= 0.06384310871362686 and back.rotation.position.in.sag.plane > 0.07196993380784988 and Chest.yposture.coefficient.of.variation > 0.10579947382211685\", \"Wrist.jerk.Mean > 0.2969344314187765 and Ankle.xposture.Mean > -0.22301507741212845 and back.rotation.position.in.sag.plane <= 0.19590097665786743 and Wrist.jerk.coefficient.of.variation <= 0.31236764788627625 and Hip.ACC.Mean <= -0.1834922656416893\", \"Wrist.jerk.Mean > 0.570469319820404 and Chest.zposture.Mean > -0.5531341880559921 and Hip.yposture.Mean > 0.4497672915458679\", \"Wrist.jerk.Mean > 0.804263561964035 and Hip.yposture.Mean > 0.43178360164165497\", \"age <= -0.6431948840618134 and back.rotation.position.in.sag.plane <= 0.3147736191749573 and Wrist.jerk.coefficient.of.variation <= 0.05529268458485603 and Hip.yposture.coefficient.of.variation <= -0.13694573938846588 and Hip.ACC.Mean <= -0.4651462137699127\", \"back.rotation.position.in.sag.plane <= 0.4134126156568527 and Chest.jerk.coefficient.of.variation <= 1.577257215976715 and Hip.ACC.Mean <= -0.35740862786769867 and Hip.xposture.Mean > -0.11400451697409153 and Hip.yposture.Mean <= 0.4358299970626831\", \"mean.foot.osicllation <= 0.5474072769284248 and back.rotation.position.in.sag.plane > 0.13772926479578018 and Wrist.jerk.coefficient.of.variation <= 0.051996851339936256 and Chest.yposture.coefficient.of.variation > 0.13022666797041893\", \"Wrist.jerk.Mean <= 0.25381583720445633 and back.rotation.position.in.sag.plane <= 0.3147736191749573 and Wrist.jerk.coefficient.of.variation <= 0.10399777442216873 and Hip.yposture.coefficient.of.variation > 0.8233537971973419 and Hip.ACC.Mean <= 0.6683569550514221\", \"leg.rotational.velocity.sag.plane > 0.23113470524549484 and back.rotation.position.in.sag.plane <= 0.22119303047657013 and Wrist.ACC.coefficient.of.variation <= 0.41829046607017517 and Hip.jerk.Mean > -1.0140153169631958 and Hip.ACC.coefficient.of.variation > 0.6277569830417633\", \"back.rotation.position.in.sag.plane > 0.09220357611775398 and Wrist.jerk.coefficient.of.variation <= -0.32189707458019257 and Wrist.jerk.coefficient.of.variation > -0.44164568185806274\", \"Wrist.jerk.Mean > 0.6558912396430969 and Wrist.jerk.coefficient.of.variation > -0.12890776246786118 and Chest.ACC.coefficient.of.variation > 0.1526772826910019\", \"leg.rotational.velocity.sag.plane > 0.7640345692634583 and back.rotation.position.in.sag.plane > 0.19084256887435913 and Chest.yposture.coefficient.of.variation > -0.07721060700714588\", \"Wrist.jerk.Mean > 0.2969344314187765 and average.back.bent.angle <= 2.4434252977371216 and back.rotation.position.in.sag.plane <= 0.19084256887435913 and Wrist.jerk.coefficient.of.variation <= 0.45848292112350464 and Hip.ACC.Mean <= -0.1834922656416893\", \"Chest.zposture.Mean > -0.7750130891799927 and Wrist.ACC.Mean <= -0.8298623859882355 and Hip.zposture.Mean <= -0.5042589902877808 and Chest.ACC.Mean > -0.3960997760295868\", \"Chest.zposture.Mean > -0.818633109331131 and Ankle.ACC.Mean > 0.12956057861447334 and back.rotation.position.in.sag.plane > 0.3350072503089905 and Hip.zposture.Mean <= -0.32050955295562744\", \"Chest.yposture.Mean > -0.27963462471961975 and Ankle.ACC.Mean > 1.2663668394088745 and back.rotation.position.in.sag.plane > 0.08208675496280193\", \"Chest.xposture.Mean <= -0.48957930505275726 and mean.hip.osicllation > 0.7705972492694855 and back.rotation.position.in.sag.plane <= 0.22119303047657013 and Hip.jerk.coefficient.of.variation > -1.0870676040649414 and Hip.jerk.Mean > -1.016774296760559\", \"Wrist.ACC.Mean > 0.02993513084948063 and mean.foot.osicllation <= -0.6188356876373291 and back.rotation.position.in.sag.plane <= 0.4032957851886749 and Hip.ACC.coefficient.of.variation > 0.7530215680599213 and Hip.yposture.Mean <= 0.43178360164165497\", \"Ankle.ACC.Mean > 1.2464872598648071 and time.bent <= 0.1459074355661869 and back.rotation.position.in.sag.plane > 0.14278767257928848 and Wrist.jerk.coefficient.of.variation <= 0.13951952010393143\", \"Wrist.jerk.Mean > 0.752532422542572 and Wrist.jerk.coefficient.of.variation <= 1.0121828317642212 and Hip.yposture.Mean > 0.4497672915458679\", \"Chest.zposture.Mean > -0.813684493303299 and Hip.ACC.coefficient.of.variation > 0.46263547241687775 and Ankle.jerk.coefficient.of.variation <= 0.3786405771970749 and Hip.yposture.coefficient.of.variation > 1.3317476511001587\", \"time.bent > -0.16009237617254257 and back.rotation.position.in.sag.plane <= 0.13772926479578018 and Wrist.jerk.coefficient.of.variation <= 0.13951952010393143 and Hip.ACC.Mean <= -0.47386549413204193\", \"back.rotation.position.in.sag.plane <= 0.14278767257928848 and Wrist.jerk.coefficient.of.variation <= 0.13951952010393143 and Hip.ACC.coefficient.of.variation > 0.920673668384552 and Hip.zposture.Mean <= -0.257413350045681\", \"Chest.zposture.Mean <= 1.2066242694854736 and Ankle.ACC.Mean > 1.450453281402588 and back.rotation.position.in.sag.plane > 0.06691152416169643\", \"leg.rotational.position.sag.plane <= 0.9183299243450165 and average.vertical.impact > -0.6690356135368347 and back.rotation.position.in.sag.plane > 0.13772926479578018 and Wrist.jerk.coefficient.of.variation <= 0.051996851339936256 and Chest.ACC.Mean > -0.05577976070344448\", \"Wrist.jerk.Mean <= 1.1872151494026184 and Wrist.jerk.Mean > 0.609248548746109 and Wrist.jerk.coefficient.of.variation > 0.051996851339936256\", \"average.back.bent.angle > 0.6750936210155487 and back.rotation.position.in.sag.plane <= 0.08208675496280193 and Wrist.ACC.coefficient.of.variation <= 0.6722874641418457 and Hip.jerk.Mean > -0.9716036319732666 and Hip.ACC.Mean > -0.47386549413204193\", \"back.rotation.position.in.sag.plane > 0.13772926479578018 and Wrist.jerk.coefficient.of.variation <= 0.055658888071775436 and Chest.jerk.coefficient.of.variation <= -0.1641261726617813 and Chest.yposture.coefficient.of.variation > 0.05345548875629902\", \"Chest.xposture.Mean <= -0.1942775622010231 and back.rotation.position.in.sag.plane <= 0.13772926479578018 and Wrist.jerk.coefficient.of.variation <= 0.13951952010393143 and Hip.ACC.coefficient.of.variation > 0.7530215680599213\", \"Wrist.jerk.Mean > 0.6575396358966827 and Wrist.jerk.coefficient.of.variation > 0.031855649314820766 and Chest.jerk.coefficient.of.variation <= 0.29897958040237427\", \"leg.rotational.velocity.sag.plane > 0.7640345692634583 and back.rotation.position.in.sag.plane > 0.13772926479578018 and Wrist.jerk.coefficient.of.variation <= 0.45958152413368225 and Chest.yposture.coefficient.of.variation > -0.2055502999573946\", \"Chest.zposture.Mean > -0.43040990829467773 and leg.rotational.position.sag.plane <= -0.622440904378891 and Chest.ACC.Mean <= -0.5039881467819214\", \"Ankle.xposture.Mean > 1.4438276886940002 and Wrist.jerk.coefficient.of.variation > 0.05163064785301685\", \"Ankle.ACC.Mean > 1.2663668394088745 and back.rotation.position.in.sag.plane > 0.09473278000950813 and Wrist.jerk.coefficient.of.variation <= 0.45848292112350464 and Hip.jerk.Mean > 0.21249128691852093\", \"Ankle.xposture.Mean <= 2.00384783744812 and Ankle.xposture.Mean > 1.4438276886940002 and Wrist.jerk.coefficient.of.variation > 0.05163064785301685\", \"Ankle.ACC.Mean > 1.2574350833892822 and mean.foot.osicllation <= 0.7180769667029381 and back.rotation.position.in.sag.plane > 0.08208675496280193\", \"Wrist.jerk.Mean > 0.19189758971333504 and Ankle.xposture.Mean > 1.0817750096321106 and back.rotation.position.in.sag.plane <= 0.08208675496280193 and Wrist.jerk.coefficient.of.variation <= 0.14428017288446426\", \"leg.rotational.velocity.sag.plane > 0.4624840170145035 and back.rotation.position.in.sag.plane <= 0.07196993380784988 and Wrist.jerk.coefficient.of.variation > 0.13951952010393143 and Hip.jerk.Mean > -0.9537079036235809\", \"Chest.zposture.Mean <= -0.5738493800163269 and Hip.jerk.coefficient.of.variation <= 0.2920888066291809 and Hip.ACC.Mean > 0.6988511085510254\", \"average.step.time > 0.15638594329357147 and Wrist.jerk.coefficient.of.variation <= -0.07763924449682236 and Hip.ACC.Mean <= -0.12419585883617401 and Chest.jerk.Mean <= -0.7112330794334412\", \"Wrist.jerk.Mean <= 0.6558912396430969 and Wrist.jerk.coefficient.of.variation > -0.12927396595478058 and Hip.jerk.Mean > -0.8571024537086487 and Hip.zposture.Mean <= -1.1153931021690369\", \"average.step.distance <= -1.0147500336170197 and back.rotation.position.in.sag.plane > 0.24901428073644638\", \"Wrist.jerk.Mean <= 0.752532422542572 and back.rotation.position.in.sag.plane <= 0.6056321859359741 and Wrist.jerk.coefficient.of.variation <= 0.04650379531085491 and Hip.ACC.Mean <= -0.12419585883617401 and Chest.jerk.Mean <= -0.6593453288078308\", \"Wrist.jerk.Mean <= 0.609248548746109 and Chest.zposture.Mean > 0.3086294159293175 and Wrist.jerk.coefficient.of.variation > 0.04650379531085491 and Ankle.jerk.coefficient.of.variation <= -0.5625578165054321 and Chest.ACC.Mean > -0.17345238011330366\", \"back.rotation.position.in.sag.plane <= 0.14278767257928848 and Wrist.ACC.coefficient.of.variation > 0.8943997621536255 and Hip.jerk.Mean > -1.1122835278511047 and Hip.ACC.coefficient.of.variation <= -0.1554630622267723\", \"Wrist.jerk.Mean <= 0.6293943226337433 and average.step.distance <= -0.25128016620874405 and average.step.distance > -1.0353843569755554 and Wrist.ACC.coefficient.of.variation <= -1.0846152901649475\"], \"z\": [[0.9999999999999999, 0.335932546042316, 0.6611397288938291, 0.1836326196587782, 0.34120542282301264, 0.5235407917024545, 0.5149740960304698, 0.2173391089708371, 0.2295007949253146, 0.31265489598823415, 0.24273767194387297, 0.29986587689202165, 0.5066745478226286, 0.0, 0.22446726681338516, 0.0, 0.2365109725419441, 0.2839747093748405, 0.19351829364423181, 0.0, 0.0, 0.2689110761948877, 0.2424909732646737, 0.0, 0.22471681141006516, 0.27054233396583466, 0.0, 0.0, 0.2348555814431893, 0.15984310066468121, 0.16808583415304035, 0.0, 0.0, 0.0, 0.0, 0.15856705124342013, 0.0, 0.2199202954386219, 0.0, 0.0, 0.0, 0.2653462571013666, 0.21514757482820132, 0.0, 0.22119636445446933, 0.0, 0.0, 0.26076511776201977, 0.0, 0.0, 0.0, 0.21906909344416647, 0.0, 0.23480690983954453, 0.0, 0.2353970415096141, 0.1966618011611554, 0.0, 0.0, 0.0, 0.2226078621089526, 0.27673448297531544, 0.19736650647730686, 0.0, 0.0, 0.0, 0.0, 0.49224461852868157, 0.0, 0.0, 0.2636232087272222, 0.23960287317119167, 0.15722029100005822, 0.0, 0.0, 0.1962765258666505, 0.1538723661740708, 0.40735738189961757, 0.0, 0.0, 0.0, 0.0, 0.0, 0.0, 0.0, 0.0, 0.21172511416140513, 0.0, 0.0, 0.0, 0.0, 0.0, 0.0, 0.0, 0.22320306356458355, 0.0, 0.2391745769726056, 0.0, 0.23925854071998384, 0.0, 0.0, 0.0, 0.0, 0.0, 0.22981858339759506, 0.12567730023694237, 0.200869244485711, 0.2966940763937069, 0.0, 0.2690705915024867, 0.0, 0.0, 0.27541137327726556, 0.26778412592750633, 0.0, 0.0, 0.24360645303997389, 0.0, 0.0, 0.0, 0.0, 0.23665716282977775, 0.20653772606378976, 0.2761858321657638, 0.1960271094136603, 0.25194123808988994, 0.0, 0.0, 0.23585262860885498, 0.0, 0.0, 0.21722301814049033, 0.0, 0.24231127513104725, 0.0, 0.0, 0.0, 0.0, 0.2174244861944817, 0.35628929689858624, 0.1745464033061655, 0.17420187975363344, 0.0, 0.5382056782808106], [0.335932546042316, 1.0000000000000002, 0.22049279426883459, 0.5970465087740353, 0.623095987001938, 0.18284074623638735, 0.2198618772643812, 0.7735144451929679, 0.33780278082710324, 0.22736516789894243, 0.2656315046257328, 0.22542970935831788, 0.17728756219775596, 0.368987454270398, 0.16874741215192843, 0.23965906116856694, 0.17511322207461721, 0.20899153430515743, 0.4288255612402027, 0.0, 0.0, 0.1975096626667744, 0.3740994899415143, 0.0, 0.16538061190076217, 0.19870778799735317, 0.0, 0.2227470890179853, 0.3632767275244921, 0.1863168571469653, 0.38623592827491593, 0.0, 0.2823637565556812, 0.0, 0.21047604184993843, 0.19803968941329952, 0.0, 0.37935345437566886, 0.0, 0.0, 0.0, 0.19947894784713358, 0.16141077326941444, 0.27770509196239934, 0.16628845091314984, 0.23788903114663293, 0.0, 0.19563455146202455, 0.1961508013688318, 0.0, 0.0, 0.16848273937585317, 0.0, 0.1738515304616353, 0.2260859599174347, 0.34975094858626327, 0.4251048770956798, 0.0, 0.19757430319281893, 0.0, 0.376844388384924, 0.4305527543714998, 0.4419828317835504, 0.2590010428805079, 0.0, 0.0, 0.0, 0.20714992659145662, 0.24273302218275325, 0.0, 0.4250316512691011, 0.18427496001162855, 0.39928976264794386, 0.0, 0.0, 0.0, 0.5862864833943647, 0.6281915191834249, 0.0, 0.0, 0.0, 0.0, 0.0, 0.0, 0.0, 0.1803168241144313, 0.22608561460340815, 0.39051665719501444, 0.0, 0.21994902923526477, 0.0, 0.22055539325342208, 0.22583432204679002, 0.1990382825261956, 0.1674542653563728, 0.0, 0.17943661901074334, 0.0, 0.18478402528037677, 0.1703930048302703, 0.0, 0.0, 0.0, 0.0, 0.17277036319512823, 0.16080273098578404, 0.0, 0.45446257309961346, 0.2226352791297048, 0.1980228305481738, 0.0, 0.0, 0.1917393534893775, 0.2059487369409941, 0.0, 0.0, 0.1827615579213462, 0.0, 0.0, 0.0, 0.0, 0.18316008602316064, 0.15526854886144195, 0.4927632307701802, 0.0, 0.18940147730923687, 0.0, 0.25905160490062545, 0.1773065680888884, 0.0, 0.5445312758124866, 0.1661929188405256, 0.42777454231883283, 0.1863579511554418, 0.18412376730363128, 0.24606245811234778, 0.0, 0.0, 0.469985573891677, 0.2563052812499198, 0.1777300629113584, 0.3995106828925336, 0.0, 0.2264915908684107], [0.6611397288938291, 0.22049279426883459, 1.0, 0.0, 0.22022495692481275, 0.8006293505089687, 0.7100248838810312, 0.0, 0.3601219461844525, 0.49095328367685764, 0.0, 0.4699286137976532, 0.7752535117792582, 0.0, 0.351769239734288, 0.0, 0.3709872849059306, 0.44559987271726725, 0.0, 0.0, 0.0, 0.4220133663940256, 0.3794773883854083, 0.0, 0.3526151423209337, 0.42457336724306033, 0.0, 0.0, 0.36752866093915526, 0.0, 0.0, 0.0, 0.0, 0.0, 0.0, 0.0, 0.0, 0.34350255991417433, 0.0, 0.0, 0.0, 0.4158319048117026, 0.33720635467714943, 0.0, 0.3466433126787521, 0.0, 0.0, 0.4087039087366105, 0.0, 0.0, 0.0, 0.34282417335763965, 0.0, 0.36831431972178647, 0.0, 0.36937406139308326, 0.0, 0.0, 0.0, 0.0, 0.3485890425007197, 0.43552939125565526, 0.0, 0.0, 0.0, 0.0, 0.0, 0.23509790495224964, 0.0, 0.0, 0.4140569524498397, 0.37495776167058625, 0.0, 0.0, 0.0, 0.0, 0.0, 0.29840882767072696, 0.0, 0.0, 0.0, 0.0, 0.0, 0.0, 0.0, 0.0, 0.0, 0.0, 0.0, 0.0, 0.0, 0.0, 0.0, 0.0, 0.3498319303737723, 0.0, 0.3748644961337949, 0.0, 0.3743198818989968, 0.0, 0.0, 0.0, 0.0, 0.0, 0.3601554449620194, 0.0, 0.0, 0.4644223317144009, 0.0, 0.4222130259043784, 0.0, 0.0, 0.43356388459829537, 0.41905898347451265, 0.0, 0.0, 0.38181069003931073, 0.0, 0.0, 0.0, 0.0, 0.3702007414371866, 0.3236713303695626, 0.0, 0.0, 0.394824506213086, 0.0, 0.0, 0.36961157425258484, 0.0, 0.0, 0.3400465576950633, 0.0, 0.3791961763570666, 0.0, 0.0, 0.0, 0.0, 0.0, 0.5598283382962685, 0.0, 0.0, 0.0, 0.24483162100198708], [0.1836326196587782, 0.5970465087740353, 0.0, 0.9999999999999999, 0.5980763907202349, 0.0, 0.0, 0.5012250919323309, 0.1685934526515945, 0.0, 0.2630439657751654, 0.0, 0.0, 0.5567303134837981, 0.0, 0.23525624329666675, 0.0, 0.0, 0.4119903151530293, 0.0, 0.0, 0.0, 0.18649623816945038, 0.0, 0.0, 0.0, 0.0, 0.20310483379061847, 0.18091782476555426, 0.18512552121160422, 0.36444176679276674, 0.0, 0.2550077111832248, 0.24707222799276185, 0.3534992649832933, 0.19745191390776884, 0.0, 0.18871388002551628, 0.0, 0.0, 0.0, 0.0, 0.0, 0.251040834991658, 0.0, 0.3995399995115743, 0.0, 0.0, 0.17704569542003157, 0.23048814028617018, 0.0, 0.0, 0.0, 0.0, 0.20418223596567786, 0.17392919479901658, 0.40826300264819265, 0.0, 0.17827381951811377, 0.0, 0.1873192543770197, 0.21401624491343482, 0.4169062242732314, 0.2347351886894961, 0.0, 0.0, 0.0, 0.20485092593330262, 0.21597975981386466, 0.0, 0.2112661431224887, 0.0, 0.3770145944924984, 0.0, 0.0, 0.0, 0.372076656391703, 0.41573195175929645, 0.17411784627124768, 0.0, 0.0, 0.0, 0.0, 0.0, 0.0, 0.16834766974038254, 0.22357646103852424, 0.3749316754089872, 0.0, 0.20283703050692858, 0.0, 0.20420760824485204, 0.20963250237530145, 0.18582642644120978, 0.0, 0.0, 0.0, 0.0, 0.0, 0.16851994975108883, 0.0, 0.0, 0.0, 0.0, 0.0, 0.16050955854371526, 0.0, 0.22681700284464923, 0.2078570905824077, 0.0, 0.0, 0.0, 0.0, 0.0, 0.0, 0.0, 0.0, 0.0, 0.0, 0.0, 0.0, 0.0, 0.0, 0.4632754825329427, 0.0, 0.0, 0.0, 0.23478101354487443, 0.0, 0.0, 0.5104184521436814, 0.0, 0.5904021757419069, 0.0, 0.18050262725915192, 0.21894223589529407, 0.0, 0.0, 0.45136560866876035, 0.0, 0.1752723011106006, 0.3771643858059617, 0.0, 0.22397793167943225], [0.34120542282301264, 0.623095987001938, 0.22022495692481275, 0.5980763907202349, 1.0, 0.18261864564569313, 0.21959480630882722, 0.552679807859334, 0.1686962222584653, 0.22708898253472193, 0.5151752736940823, 0.22515587503725373, 0.17707220717926378, 0.6185660958698156, 0.1685424310375514, 0.23936228124638864, 0.17490050827388237, 0.20873766778921543, 0.4303968643420024, 0.0, 0.0, 0.19726974342749612, 0.18626961338922357, 0.0, 0.16517972051113153, 0.1984664133694423, 0.0, 0.2224490556107248, 0.1804044817370412, 0.1870736680632605, 0.5549437831947714, 0.0, 0.2819824499633424, 0.0, 0.542832901332687, 0.19806084241459473, 0.0, 0.3788697786033649, 0.0, 0.0, 0.0, 0.19923663647475146, 0.161214704128233, 0.27733041968690836, 0.16608645675192668, 0.4255481173735068, 0.0, 0.19539690996069456, 0.19588577255841777, 0.0, 0.0, 0.1682780797651952, 0.0, 0.17364034926486474, 0.22578065137499514, 0.17303030103409392, 0.4269369617313434, 0.0, 0.1973072700459935, 0.0, 0.37635848388772386, 0.42999759811581645, 0.4437985741717677, 0.2586524656263885, 0.0, 0.0, 0.0, 0.20911626373341707, 0.24240061317503472, 0.0, 0.4244834023597414, 0.18405111725058546, 0.39974217807112794, 0.0, 0.0, 0.0, 0.3976677368490631, 0.6306957694297822, 0.0, 0.0, 0.0, 0.0, 0.0, 0.0, 0.0, 0.18008117384509348, 0.22823169569825885, 0.206771381532989, 0.0, 0.2196579991040116, 0.0, 0.22026471897726688, 0.22553745743141013, 0.1987781657838107, 0.1672508550552475, 0.0, 0.179218653486675, 0.0, 0.18455956414679245, 0.0, 0.0, 0.0, 0.0, 0.0, 0.17256049531551196, 0.16060740044665459, 0.0, 0.45391052762828654, 0.22234432422991285, 0.1977822879528224, 0.0, 0.0, 0.19150644356888166, 0.20569856657651647, 0.0, 0.0, 0.1825395535224031, 0.0, 0.0, 0.0, 0.0, 0.1829375975235526, 0.15507994081248017, 0.49797226373886566, 0.0, 0.18917140725726744, 0.0, 0.2587029595974746, 0.17709118998353113, 0.0, 0.2952848116523554, 0.1659910407241677, 0.4215123021271707, 0.18613157814021317, 0.0, 0.24572548963231822, 0.0, 0.0, 0.4720110819375814, 0.255993941706982, 0.17997732854245924, 0.4009054328370214, 0.0, 0.22864152562723208], [0.5235407917024545, 0.18284074623638735, 0.8006293505089687, 0.0, 0.18261864564569313, 1.0, 0.5614321807636116, 0.0, 0.5913523432622722, 0.800410661537725, 0.0, 0.36449447409095403, 0.6238849716690436, 0.0, 0.5796411558867655, 0.0, 0.28734237414639757, 0.3449400506737605, 0.0, 0.0, 0.0, 0.3266214710290948, 0.6324390875651822, 0.0, 0.2729603227191516, 0.32860280932245767, 0.0, 0.0, 0.2856886060075027, 0.0, 0.0, 0.0, 0.3493223291035986, 0.0, 0.0, 0.0, 0.0, 0.2677916945813669, 0.0, 0.0, 0.0, 0.3225350127750364, 0.2614997297103979, 0.0, 0.2688697139144475, 0.0, 0.0, 0.3169452775245969, 0.2655706167884884, 0.0, 0.0, 0.26648523122509005, 0.0, 0.28527207094930185, 0.0, 0.28593344669859366, 0.0, 0.0, 0.0, 0.0, 0.2706958248895187, 0.33561036697237767, 0.0, 0.0, 0.0, 0.0, 0.0, 0.18544200111291126, 0.0, 0.0, 0.3200569632090834, 0.2914634193960106, 0.0, 0.0, 0.0, 0.0, 0.16753744859529324, 0.23786942955847404, 0.0, 0.0, 0.0, 0.0, 0.0, 0.0, 0.0, 0.0, 0.0, 0.0, 0.0, 0.0, 0.0, 0.0, 0.0, 0.0, 0.27129072144679645, 0.0, 0.2907031942232096, 0.0, 0.2910856177011771, 0.0, 0.0, 0.0, 0.0, 0.0, 0.2793502367126562, 0.0, 0.0, 0.36086116594645434, 0.0, 0.32683623014180113, 0.0, 0.0, 0.3339573246307186, 0.3257443283955872, 0.0, 0.0, 0.29608988935399233, 0.0, 0.0, 0.0, 0.0, 0.28794117622083504, 0.2510517722850831, 0.0, 0.0, 0.3062408768586419, 0.0, 0.0, 0.2866847696002084, 0.0, 0.0, 0.26419342396780837, 0.0, 0.2947580380534186, 0.0, 0.0, 0.0, 0.0, 0.0, 0.43246619108765866, 0.0, 0.0, 0.0, 0.20275678846229958], [0.5149740960304698, 0.2198618772643812, 0.7100248838810312, 0.0, 0.21959480630882722, 0.5614321807636116, 0.9999999999999997, 0.0, 0.3352162781877862, 0.45649944635101086, 0.0, 0.43829639167258044, 0.5430157362089209, 0.0, 0.3280906587725544, 0.0, 0.3455227300142058, 0.697485014468235, 0.0, 0.0, 0.0, 0.39275495891089934, 0.3547027515232724, 0.0, 0.3282286372542743, 0.3951374735617167, 0.0, 0.0, 0.3435341110927572, 0.0, 0.0, 0.0, 0.0, 0.0, 0.0, 0.0, 0.0, 0.3220134783870836, 0.0, 0.0, 0.0, 0.38784108494356045, 0.31444753241121076, 0.0, 0.3233097723433113, 0.0, 0.0, 0.6504419637353227, 0.0, 0.0, 0.0, 0.32044248564065936, 0.0, 0.3430332370713612, 0.0, 0.34382852650661894, 0.0, 0.0, 0.0, 0.0, 0.32550562964173413, 0.40356390372930023, 0.0, 0.0, 0.0, 0.0, 0.0, 0.0, 0.0, 0.0, 0.38486128618021354, 0.35047819406432495, 0.0, 0.0, 0.0, 0.0, 0.0, 0.28603262895743764, 0.0, 0.0, 0.0, 0.0, 0.0, 0.0, 0.0, 0.0, 0.0, 0.0, 0.0, 0.3053581592956872, 0.0, 0.0, 0.0, 0.0, 0.3262209793466194, 0.0, 0.3495640404247441, 0.0, 0.3500238960395708, 0.0, 0.0, 0.0, 0.0, 0.0, 0.33591236484283665, 0.0, 0.0, 0.4339274205008215, 0.0, 0.3930132019046038, 0.0, 0.0, 0.40157615756267284, 0.3917002146594059, 0.0, 0.0, 0.35604141993715116, 0.0, 0.0, 0.0, 0.0, 0.3462427760154697, 0.3018840990387708, 0.0, 0.0, 0.36824775367183255, 0.0, 0.0, 0.3447319753656997, 0.29126616256463206, 0.0, 0.317686639056755, 0.0, 0.35443989875979515, 0.0, 0.0, 0.0, 0.0, 0.0, 0.5200308497044774, 0.0, 0.0, 0.0, 0.0], [0.2173391089708371, 0.7735144451929679, 0.0, 0.5012250919323309, 0.552679807859334, 0.0, 0.0, 1.0000000000000002, 0.0, 0.0, 0.3113267198821282, 0.0, 0.0, 0.5512651740510357, 0.0, 0.29056473276460054, 0.0, 0.0, 0.5311031421243473, 0.0, 0.0, 0.0, 0.0, 0.0, 0.0, 0.0, 0.0, 0.2992030267843699, 0.0, 0.219106038473206, 0.490962306415052, 0.0, 0.3838866483064937, 0.0, 0.2914118137682597, 0.23369498901144442, 0.0, 0.2723366407638118, 0.0, 0.0, 0.0, 0.0, 0.0, 0.37710235655004465, 0.0, 0.329366104724829, 0.0, 0.0, 0.26686647910608224, 0.0, 0.0, 0.0, 0.0, 0.0, 0.3073743685824116, 0.0, 0.5260546983520195, 0.0, 0.26890949236689227, 0.0, 0.28198896571562193, 0.3221784100635651, 0.5613273181411957, 0.350574525047504, 0.0, 0.0, 0.0, 0.24245211878436895, 0.3360727883041384, 0.0, 0.3184935012746079, 0.0, 0.50953966953034, 0.0, 0.0, 0.0, 0.7162375257440057, 0.5561491422687427, 0.0, 0.0, 0.0, 0.0, 0.0, 0.0, 0.0, 0.23484088720412638, 0.2646147994798434, 0.2696471466217793, 0.0, 0.2911650138020381, 0.0, 0.2904470842558491, 0.2963919991599251, 0.25922332586322655, 0.0, 0.0, 0.0, 0.0, 0.0, 0.0, 0.0, 0.0, 0.0, 0.0, 0.0, 0.18997171907701357, 0.0, 0.2684501554750618, 0.2899555642161166, 0.0, 0.0, 0.0, 0.0, 0.0, 0.0, 0.0, 0.0, 0.0, 0.0, 0.0, 0.0, 0.0, 0.0, 0.6202562511460122, 0.0, 0.0, 0.0, 0.3506429639850119, 0.0, 0.0, 0.4019643240509884, 0.0, 0.31577636104160683, 0.0, 0.0, 0.3406825146869639, 0.0, 0.0, 0.5815932317514677, 0.0, 0.20744422108354546, 0.5074393418681352, 0.0, 0.2650899616353201], [0.2295007949253146, 0.33780278082710324, 0.3601219461844525, 0.1685934526515945, 0.1686962222584653, 0.5913523432622722, 0.3352162781877862, 0.0, 1.0000000000000002, 0.7382478227439061, 0.0, 0.3518653175777764, 0.26913781238289175, 0.0, 0.5341611275980379, 0.0, 0.27764986925564394, 0.333428615593494, 0.0, 0.0, 0.0, 0.315760181635375, 0.7496909036987262, 0.0, 0.2638510150921231, 0.317675633603129, 0.0, 0.0, 0.4375548318275109, 0.0, 0.0, 0.0, 0.31161498714751185, 0.0, 0.0, 0.0, 0.0, 0.2576393087518446, 0.0, 0.0, 0.0, 0.31135968517240376, 0.25247155649797065, 0.0, 0.25955380396232147, 0.0, 0.0, 0.30600286902757157, 0.2355860959908904, 0.0, 0.0, 0.25688017192967927, 0.0, 0.2756494006032192, 0.0, 0.431926074967758, 0.0, 0.0, 0.0, 0.0, 0.2611127200199904, 0.3253993333064365, 0.0, 0.0, 0.0, 0.22436973930423829, 0.17390388085484618, 0.0, 0.0, 0.0, 0.30967612917215287, 0.2809580588817643, 0.0, 0.0, 0.0, 0.0, 0.15476478080820957, 0.22550179150423488, 0.0, 0.0, 0.0, 0.0, 0.0, 0.0, 0.0, 0.0, 0.24609785467757303, 0.16276443754475206, 0.0, 0.0, 0.0, 0.0, 0.0, 0.0, 0.26192451817439344, 0.0, 0.2806667831196127, 0.0, 0.2805180899932024, 0.15094821542930825, 0.0, 0.0, 0.0, 0.0, 0.2696711932367954, 0.0, 0.0, 0.34794766120687043, 0.0, 0.3159289607835243, 0.0, 0.0, 0.323886260943626, 0.314003364083983, 0.0, 0.0, 0.28586750476301515, 0.0, 0.0, 0.0, 0.0, 0.27745009196544174, 0.24235322580366842, 0.0, 0.0, 0.29563011527103145, 0.0, 0.0, 0.2767515961707483, 0.0, 0.21687923436515055, 0.25475616917821664, 0.1703766511493438, 0.28413392796564174, 0.16103693246355025, 0.0, 0.0, 0.0, 0.0, 0.41861302999560573, 0.0, 0.0, 0.0, 0.0], [0.31265489598823415, 0.22736516789894243, 0.49095328367685764, 0.0, 0.22708898253472193, 0.800410661537725, 0.45649944635101086, 0.0, 0.7382478227439061, 1.0, 0.0, 0.4793552645643231, 0.36648723756551904, 0.0, 0.723319318332627, 0.0, 0.3783443380234738, 0.4543967077794948, 0.0, 0.0, 0.0, 0.43033209006656764, 0.7882521426870801, 0.0, 0.3595763140746997, 0.4329425536292519, 0.0, 0.0, 0.37502957112920526, 0.0, 0.0, 0.0, 0.41947786041988805, 0.0, 0.0, 0.0, 0.0, 0.35067459842079196, 0.0, 0.0, 0.0, 0.4241733890908168, 0.3439602008231682, 0.0, 0.35359689105912967, 0.0, 0.0, 0.41688976668559957, 0.3171322162504087, 0.0, 0.0, 0.34982088846759263, 0.0, 0.37561836523599346, 0.0, 0.3766660802945379, 0.0, 0.0, 0.0, 0.0, 0.35564733605284693, 0.4438094739802919, 0.0, 0.0, 0.0, 0.0, 0.0, 0.0, 0.0, 0.0, 0.42213457848847885, 0.38261029273623515, 0.0, 0.0, 0.0, 0.0, 0.20833529130307452, 0.30572378114602383, 0.0, 0.0, 0.0, 0.0, 0.0, 0.0, 0.0, 0.0, 0.0, 0.0, 0.0, 0.0, 0.0, 0.0, 0.0, 0.0, 0.3568386519314705, 0.0, 0.3823725905020534, 0.0, 0.381983857929654, 0.0, 0.0, 0.0, 0.0, 0.0, 0.36738007334532835, 0.0, 0.0, 0.4738706664503437, 0.0, 0.4305481682089667, 0.0, 0.0, 0.44177790351054447, 0.42761157850572395, 0.0, 0.0, 0.38945790849075324, 0.0, 0.0, 0.0, 0.0, 0.3777925589820234, 0.33016409651529705, 0.0, 0.0, 0.4027445873167156, 0.0, 0.0, 0.3770258902305824, 0.0, 0.0, 0.3469590815473109, 0.0, 0.38693520943273635, 0.0, 0.0, 0.0, 0.0, 0.0, 0.570694021410724, 0.0, 0.0, 0.0, 0.0], [0.24273767194387297, 0.2656315046257328, 0.0, 0.2630439657751654, 0.5151752736940823, 0.0, 0.0, 0.3113267198821282, 0.0, 0.0, 1.0000000000000002, 0.0, 0.0, 0.0, 0.0, 0.0, 0.0, 0.0, 0.2723232836979813, 0.0, 0.0, 0.0, 0.0, 0.0, 0.0, 0.0, 0.0, 0.0, 0.0, 0.2443123195297168, 0.4611857651781378, 0.0, 0.0, 0.0, 0.22318985190577292, 0.2605134613765139, 0.0, 0.0, 0.0, 0.0, 0.0, 0.0, 0.0, 0.0, 0.0, 0.0, 0.0, 0.0, 0.0, 0.0, 0.0, 0.0, 0.0, 0.0, 0.0, 0.0, 0.27110867059007976, 0.0, 0.0, 0.0, 0.0, 0.0, 0.27189283439504314, 0.0, 0.0, 0.0, 0.0, 0.2704391587516208, 0.0, 0.0, 0.0, 0.0, 0.240303483926651, 0.0, 0.22095137711579654, 0.0, 0.23518634545494443, 0.2758572518593392, 0.0, 0.0, 0.0, 0.0, 0.0, 0.0, 0.0, 0.0, 0.29516015006741747, 0.0, 0.0, 0.0, 0.0, 0.0, 0.0, 0.0, 0.0, 0.0, 0.0, 0.0, 0.0, 0.0, 0.2932323353316744, 0.32976664740905787, 0.0, 0.0, 0.0, 0.21175469395814503, 0.0, 0.0, 0.0, 0.0, 0.0, 0.0, 0.0, 0.0, 0.0, 0.0, 0.0, 0.2568548707085557, 0.0, 0.0, 0.0, 0.0, 0.0, 0.3167616841096294, 0.0, 0.0, 0.0, 0.0, 0.0, 0.0, 0.0, 0.0, 0.0, 0.0, 0.0, 0.0, 0.0, 0.0, 0.29973112753916964, 0.0, 0.23143771501275043, 0.24496535610097706, 0.0, 0.29569016174247326], [0.29986587689202165, 0.22542970935831788, 0.4699286137976532, 0.0, 0.22515587503725373, 0.36449447409095403, 0.43829639167258044, 0.0, 0.3518653175777764, 0.4793552645643231, 0.0, 1.0000000000000002, 0.3519439969946947, 0.0, 0.3441480285452173, 0.0, 0.36261315997263455, 0.4353834649276565, 0.0, 0.0, 0.0, 0.4122882504885775, 0.3717815589496548, 0.0, 0.3445306245566568, 0.4147892572228342, 0.0, 0.0, 0.3600751525776347, 0.0, 0.0, 0.0, 0.0, 0.0, 0.0, 0.0, 0.0, 0.3371767170631861, 0.0, 0.0, 0.0, 0.40682275219757025, 0.3298592920675901, 0.0, 0.3391331566025717, 0.0, 0.0, 0.3997990551814798, 0.0, 0.0, 0.0, 0.3358716738270641, 0.0, 0.3600005303991841, 0.0, 0.3609053066443788, 0.0, 0.0, 0.0, 0.0, 0.34129723220246955, 0.4242829170527224, 0.0, 0.0, 0.0, 0.0, 0.0, 0.0, 0.0, 0.0, 0.40418101423074765, 0.36735359059808476, 0.0, 0.0, 0.0, 0.0, 0.0, 0.29721422672155, 0.0, 0.0, 0.0, 0.0, 0.0, 0.0, 0.0, 0.0, 0.0, 0.0, 0.0, 0.0, 0.0, 0.0, 0.0, 0.0, 0.3422097813257809, 0.0, 0.581710951084422, 0.0, 0.36682566803757244, 0.0, 0.0, 0.0, 0.0, 0.0, 0.35235254352293227, 0.0, 0.0, 0.45488450463838237, 0.0, 0.41253281567357003, 0.0, 0.0, 0.42225435582596904, 0.6810735152855502, 0.0, 0.0, 0.3734917867748583, 0.0, 0.0, 0.0, 0.0, 0.36283729554511535, 0.3166588708194974, 0.0, 0.0, 0.38627048668953873, 0.0, 0.0, 0.36160380226140226, 0.0, 0.0, 0.33304131381366253, 0.0, 0.3715060499219968, 0.0, 0.0, 0.0, 0.0, 0.0, 0.5462545201361108, 0.0, 0.0, 0.0, 0.0], [0.5066745478226286, 0.17728756219775596, 0.7752535117792582, 0.0, 0.17707220717926378, 0.6238849716690436, 0.5430157362089209, 0.0, 0.26913781238289175, 0.36648723756551904, 0.0, 0.3519439969946947, 0.9999999999999999, 0.0, 0.4592274346478347, 0.0, 0.47433659167773157, 0.6025495570818665, 0.0, 0.0, 0.0, 0.5229233494583649, 0.2848600120063955, 0.0, 0.4494971953318653, 0.5407187946603234, 0.1759966489306232, 0.0, 0.2758905325381119, 0.0, 0.0, 0.0, 0.0, 0.0, 0.2243923294292439, 0.24128488689082173, 0.22289243094550304, 0.25865626380527484, 0.0, 0.0, 0.0, 0.31142930726147433, 0.43975730254019996, 0.0, 0.4466270311130997, 0.0, 0.0, 0.3060282090678549, 0.0, 0.0, 0.0, 0.25734576321990665, 0.0, 0.47712218677800633, 0.0, 0.47050009525181835, 0.0, 0.0, 0.15180333353615985, 0.2549950088300884, 0.2613949866703334, 0.3239160522266187, 0.0, 0.0, 0.0, 0.0, 0.0, 0.18903082336543864, 0.0, 0.0, 0.3089673909357401, 0.281467290965159, 0.21662715888542802, 0.0, 0.0, 0.0, 0.0, 0.23008183177318794, 0.0, 0.2563374253701871, 0.22363556265413495, 0.21319305904256658, 0.2199107850059224, 0.22054014320934462, 0.0, 0.1487929823651254, 0.2420055546556295, 0.0, 0.0, 0.0, 0.0, 0.0, 0.0, 0.0, 0.26194620809469654, 0.0, 0.2806900250833663, 0.0, 0.2811098462339384, 0.20686082457670316, 0.0, 0.0, 0.18768648004684116, 0.0, 0.46403652180555655, 0.18424045744387815, 0.0, 0.5695379088426625, 0.0, 0.3155416973484398, 0.20336010752309291, 0.0, 0.32231185388797295, 0.3145724902657407, 0.0, 0.15953431881555616, 0.4979266754728143, 0.29522576455810234, 0.0, 0.22223371379561258, 0.22721608240819205, 0.27807684991324, 0.41702914798000085, 0.0, 0.0, 0.5089869037946824, 0.21059613618513676, 0.0, 0.5055591346429212, 0.0, 0.0, 0.4694578963739711, 0.0, 0.28464891626203354, 0.20844636813610623, 0.0, 0.0, 0.20973177073859714, 0.0, 0.41746483028740683, 0.17911317972752092, 0.0, 0.0, 0.1968572323658122], [0.0, 0.368987454270398, 0.0, 0.5567303134837981, 0.6185660958698156, 0.0, 0.0, 0.5512651740510357, 0.0, 0.0, 0.0, 0.0, 0.0, 1.0000000000000002, 0.0, 0.3303199513133568, 0.0, 0.0, 0.33384094297201145, 0.0, 0.0, 0.0, 0.0, 0.0, 0.0, 0.0, 0.0, 0.35135299756280486, 0.0, 0.0, 0.3286711375268271, 0.0, 0.4523955757700225, 0.0, 0.5668839999559017, 0.0, 0.0, 0.31870211324907205, 0.0, 0.0, 0.0, 0.0, 0.0, 0.44424593384272737, 0.0, 0.6407165601212904, 0.0, 0.0, 0.3145571423111239, 0.0, 0.0, 0.0, 0.0, 0.0, 0.362228811721439, 0.0, 0.32924809988287845, 0.0, 0.31700170709220205, 0.0, 0.3323130957236628, 0.37967480235209694, 0.37426000441083834, 0.41260688858318095, 0.0, 0.0, 0.0, 0.0, 0.39813013513853973, 0.0, 0.37541886963357946, 0.0, 0.3466134702270547, 0.0, 0.0, 0.0, 0.3573668255335429, 0.36357907085284086, 0.0, 0.0, 0.0, 0.0, 0.0, 0.0, 0.0, 0.2732139681322016, 0.0, 0.313707582189578, 0.0, 0.34042777324325163, 0.0, 0.3390525259869256, 0.34563564464345087, 0.30158050556996213, 0.0, 0.0, 0.0, 0.0, 0.0, 0.0, 0.0, 0.0, 0.0, 0.0, 0.0, 0.0, 0.0, 0.3024682331868489, 0.3373344021334656, 0.0, 0.0, 0.0, 0.0, 0.0, 0.0, 0.0, 0.0, 0.0, 0.0, 0.0, 0.0, 0.0, 0.0, 0.39657579278089683, 0.0, 0.0, 0.0, 0.4126874374395453, 0.0, 0.0, 0.47368846362722195, 0.0, 0.6247278007645759, 0.0, 0.0, 0.40359106816143336, 0.0, 0.0, 0.3640086611882614, 0.0, 0.0, 0.33906347087817845, 0.0, 0.0], [0.22446726681338516, 0.16874741215192843, 0.351769239734288, 0.0, 0.1685424310375514, 0.5796411558867655, 0.3280906587725544, 0.0, 0.5341611275980379, 0.723319318332627, 0.0, 0.3441480285452173, 0.4592274346478347, 0.0, 0.9999999999999999, 0.0, 0.4475472127924101, 0.5566971237994548, 0.0, 0.0, 0.0, 0.6760919422905097, 0.5711043523357435, 0.0, 0.42422336519281756, 0.5103505870908721, 0.3072254449311457, 0.0, 0.2695374551590561, 0.0, 0.0, 0.0, 0.3074570616643099, 0.0, 0.18964027187495966, 0.20961897078231426, 0.19921262058035627, 0.2523966277748129, 0.0, 0.0, 0.0, 0.30453078626272106, 0.4126864724825729, 0.0, 0.576390760416334, 0.0, 0.0, 0.2992731354474038, 0.23196538122052604, 0.0, 0.0, 0.2514197260635486, 0.1675645015645385, 0.44802550661351426, 0.0, 0.44417040250569073, 0.0, 0.0, 0.0, 0.2183415523611869, 0.2554810759980137, 0.3176007478194286, 0.0, 0.0, 0.0, 0.0, 0.0, 0.17309656665839593, 0.0, 0.0, 0.3025532898326643, 0.4402763298203261, 0.18821864563976015, 0.0, 0.0, 0.0, 0.1546236901289026, 0.22248235051520515, 0.0, 0.22925535801899846, 0.19992062713488037, 0.18871910243503381, 0.1965822118305555, 0.2099164655481041, 0.1841228953053955, 0.0, 0.21410798058864097, 0.0, 0.0, 0.0, 0.0, 0.0, 0.0, 0.0, 0.2561641727533554, 0.0, 0.274494250550882, 0.0, 0.27459061349297126, 0.1797126778295488, 0.0, 0.0, 0.16778368498454427, 0.0, 0.43752567618479543, 0.16375866546569245, 0.0, 0.5484632489767113, 0.0, 0.3088051050184031, 0.17412874772978987, 0.0, 0.31608225028695713, 0.3073286629636767, 0.0, 0.0, 0.4672750220834959, 0.2414256677273221, 0.0, 0.19672191574463224, 0.20113232261617467, 0.27160508182229737, 0.3932038781102124, 0.0, 0.0, 0.4798105892885643, 0.1864202989329492, 0.0, 0.46652656115202357, 0.0, 0.0, 0.43282597534987255, 0.0, 0.27809415494333084, 0.18441738251076942, 0.0, 0.0, 0.3661145650947161, 0.0, 0.4089036751706257, 0.16028864606430387, 0.0, 0.0, 0.0], [0.0, 0.23965906116856694, 0.0, 0.23525624329666675, 0.23936228124638864, 0.0, 0.0, 0.29056473276460054, 0.0, 0.0, 0.0, 0.0, 0.0, 0.3303199513133568, 0.0, 0.9999999999999998, 0.0, 0.0, 0.6157032481937388, 0.6282230494969707, 0.8436763965497972, 0.0, 0.0, 0.6251230345873313, 0.0, 0.0, 0.0, 0.23572298561736688, 0.0, 0.33663132202696405, 0.21347342664707927, 0.3306203019502413, 0.2938330225352459, 0.3167188479472545, 0.21333651506255336, 0.3658818238173022, 0.3845036866303024, 0.2204874680847291, 0.4039819205560164, 0.5860809703939204, 0.3080915294679533, 0.0, 0.0, 0.5745666294704164, 0.0, 0.2411220604034973, 0.33212374316838733, 0.0, 0.5047550847746334, 0.3240776213710839, 0.4111599466955507, 0.0, 0.0, 0.0, 0.2352692915183759, 0.0, 0.4825963607018505, 0.3336003342406786, 0.7380985061627076, 0.35739190621147815, 0.21583889537011394, 0.24660054326504136, 0.24308360691395192, 0.27119713085236263, 0.369301564068661, 0.0, 0.23903319901142953, 0.0, 0.8312155140228803, 0.3129158140329507, 0.24331395158515617, 0.0, 0.555560181856014, 0.3080915294679533, 0.30986672982422575, 0.3012327681211642, 0.43344094394954275, 0.23897226047737294, 0.31431264318418967, 0.42271224925650935, 0.37336754768599795, 0.3300701328800033, 0.3671004278892168, 0.42168765712326806, 0.39344811015015285, 0.48239666370104906, 0.0, 0.578571266956075, 0.0, 0.23739047511727215, 0.30299706678065613, 0.5817520766127572, 0.24651541665620602, 0.5334701530227168, 0.0, 0.34872720273233815, 0.0, 0.0, 0.0, 0.31368154362159606, 0.0, 0.0, 0.3220941386860398, 0.32778546706167533, 0.0, 0.3107237416277021, 0.33891674159411894, 0.2802437891110524, 0.24544383315706522, 0.0, 0.29374198277584224, 0.0, 0.0, 0.0, 0.3178644693663821, 0.3355252908993554, 0.0, 0.0, 0.0, 0.3511287704839024, 0.35955628756444535, 0.0, 0.0, 0.2575778148554648, 0.30179993400072075, 0.0, 0.3327414239018464, 0.2712500737850763, 0.0, 0.0, 0.30772893190859574, 0.0, 0.24174663394503262, 0.0, 0.32320179926594145, 0.5990928340752983, 0.0, 0.0, 0.26491721268982915, 0.0, 0.33437929862397703, 0.2209351679222319, 0.33980996491486437, 0.0], [0.2365109725419441, 0.17511322207461721, 0.3709872849059306, 0.0, 0.17490050827388237, 0.28734237414639757, 0.3455227300142058, 0.0, 0.27764986925564394, 0.3783443380234738, 0.0, 0.36261315997263455, 0.47433659167773157, 0.0, 0.4475472127924101, 0.0, 1.0000000000000002, 0.5756799452878165, 0.0, 0.0, 0.0, 0.7041503260475576, 0.29308701065735565, 0.0, 0.44140191891660197, 0.8074934850256288, 0.16383980065471065, 0.0, 0.2838584850177066, 0.0, 0.0, 0.0, 0.0, 0.0, 0.18994803408985328, 0.2117955377016984, 0.20302682733823613, 0.2656299541509942, 0.0, 0.0, 0.0, 0.5395029663680215, 0.42863207245828466, 0.0, 0.4379651448496051, 0.0, 0.0, 0.3153443951182021, 0.0, 0.0, 0.0, 0.50436606533311, 0.0, 0.46546971652524954, 0.0, 0.46219388202307915, 0.0, 0.0, 0.0, 0.21960987603519183, 0.269116724251875, 0.3351425559916664, 0.0, 0.0, 0.0, 0.0, 0.0, 0.0, 0.0, 0.0, 0.31903718984387885, 0.28959630495610056, 0.19017969344217014, 0.0, 0.0, 0.0, 0.0, 0.23296097527055915, 0.0, 0.23369072614677477, 0.2037617349170761, 0.19177677488583245, 0.20035655268847255, 0.21783533258304727, 0.0, 0.0, 0.21754133655604957, 0.0, 0.0, 0.0, 0.0, 0.0, 0.0, 0.0, 0.2699204390233626, 0.0, 0.289234859901432, 0.0, 0.28915331527061766, 0.1815787144201203, 0.0, 0.0, 0.17100734042898627, 0.0, 0.4550369958163436, 0.16661745739855358, 0.0, 0.5737301357515285, 0.0, 0.32552137597395203, 0.17514024375829285, 0.0, 0.3335718185653757, 0.3236576104790591, 0.0, 0.0, 0.4853298435462954, 0.23921604547144754, 0.0, 0.19990925170839757, 0.20439111705665974, 0.28599610423468597, 0.40894128316948497, 0.0, 0.0, 0.49898533852828875, 0.18944072561452033, 0.0, 0.482181010803382, 0.0, 0.0, 0.44716802672924527, 0.0, 0.2928698182889296, 0.1873746310869153, 0.0, 0.0, 0.19524469197317892, 0.0, 0.4312431193648242, 0.16341978827469686, 0.0, 0.0, 0.0], [0.2839747093748405, 0.20899153430515743, 0.44559987271726725, 0.0, 0.20873766778921543, 0.3449400506737605, 0.697485014468235, 0.0, 0.333428615593494, 0.4543967077794948, 0.0, 0.4353834649276565, 0.6025495570818665, 0.0, 0.5566971237994548, 0.0, 0.5756799452878165, 1.0, 0.0, 0.0, 0.0, 0.6354246476053332, 0.35183619752672207, 0.0, 0.5457044101031354, 0.6565176000396842, 0.20746976965901706, 0.0, 0.34075781721041415, 0.0, 0.0, 0.0, 0.0, 0.0, 0.26451995070819245, 0.2844333696670205, 0.26275182844663575, 0.3187921325072054, 0.0, 0.0, 0.0, 0.38526348519467546, 0.53315079847055, 0.0, 0.5416197819586565, 0.0, 0.0, 0.6356735380841302, 0.0, 0.0, 0.0, 0.3178528082729678, 0.0, 0.5788446652679746, 0.0, 0.5712153171213163, 0.0, 0.0, 0.0, 0.3005952446687311, 0.32308998670737055, 0.4026355600926487, 0.0, 0.0, 0.0, 0.0, 0.0, 0.0, 0.0, 0.0, 0.38318032323419904, 0.3476457811112698, 0.2553661505996261, 0.0, 0.0, 0.0, 0.0, 0.27902650937117746, 0.0, 0.3021777228127925, 0.26362785287865176, 0.25131793770629207, 0.25923698086261504, 0.2599788859062076, 0.0, 0.0, 0.28528291297408814, 0.0, 0.0, 0.29243962605480867, 0.0, 0.0, 0.0, 0.0, 0.3240944718772047, 0.0, 0.34728536863456416, 0.0, 0.3471013819630926, 0.24385332270343796, 0.0, 0.0, 0.22125006936228347, 0.0, 0.5627320834898908, 0.21718780158604684, 0.0, 0.6911300558841965, 0.0, 0.39091731621580006, 0.239726579579822, 0.0, 0.40076334747294057, 0.38853466319142455, 0.0, 0.0, 0.6036738971124868, 0.34802038415186665, 0.0, 0.2619753142562315, 0.2678486696563997, 0.34330516919363596, 0.5057267484155807, 0.0, 0.0, 0.6172333919485263, 0.24825661244625494, 0.0, 0.612092652200845, 0.27686547100823594, 0.0, 0.5678871645631812, 0.0, 0.3515754690254233, 0.24572240577435123, 0.0, 0.0, 0.2472376742949639, 0.0, 0.517974299706494, 0.21114362328348288, 0.0, 0.0, 0.0], [0.19351829364423181, 0.4288255612402027, 0.0, 0.4119903151530293, 0.4303968643420024, 0.0, 0.0, 0.5311031421243473, 0.0, 0.0, 0.2723232836979813, 0.0, 0.0, 0.33384094297201145, 0.0, 0.6157032481937388, 0.0, 0.0, 1.0, 0.32854243337348915, 0.4468240418957947, 0.0, 0.0, 0.32416896591115874, 0.0, 0.0, 0.0, 0.2145027912258679, 0.0, 0.48635570963929214, 0.3819069028062569, 0.2916111456403913, 0.27013427895167197, 0.27785111930048345, 0.19932810154976777, 0.5238210747959743, 0.3384191304712613, 0.19874201846933187, 0.35631698953888, 0.31558906640357465, 0.2691186870205601, 0.0, 0.0, 0.2658514707911881, 0.0, 0.22528915187306284, 0.2929371991629379, 0.0, 0.4515051022223169, 0.28308257648869956, 0.36374919652468984, 0.0, 0.0, 0.0, 0.21629393413792936, 0.0, 0.4257202377452626, 0.29125657978946695, 0.4816588917923452, 0.6115593174563366, 0.19843067286127528, 0.22671127761346804, 0.4370984538445352, 0.24838200760564308, 0.3225857984749792, 0.0, 0.20244263183399508, 0.2123570653930571, 0.5310961574243859, 0.4625788025019374, 0.22384319722870566, 0.0, 0.6849229886996782, 0.2691186870205601, 0.27200211463061535, 0.2630409282521958, 0.567020971338194, 0.4362966376421602, 0.27455284471392594, 0.3703291920418303, 0.3275478921049492, 0.2882221435689211, 0.32204987308394095, 0.36834517590849336, 0.345824684131496, 0.42413900715567526, 0.23176874080893606, 0.5108046437456418, 0.0, 0.2134615746837139, 0.2658132747558778, 0.5134299332829382, 0.22016375886198183, 0.4691288465351312, 0.0, 0.4925194095025639, 0.0, 0.0, 0.0, 0.2749784711695742, 0.0, 0.0, 0.28333004028354225, 0.28911078663436607, 0.0, 0.4382332538067543, 0.2973248880258658, 0.23302848264635193, 0.2179095961391633, 0.0, 0.25745979280063896, 0.0, 0.0, 0.0, 0.4565918835843445, 0.29585814340486694, 0.0, 0.0, 0.0, 0.3072559382096586, 0.314680167643273, 0.0, 0.0, 0.4880946188891023, 0.26362296334931823, 0.0, 0.29116605352869146, 0.24843049658439673, 0.0, 0.0, 0.28289002011315917, 0.0, 0.22223360577390203, 0.0, 0.28231754378751955, 0.5383809125545183, 0.0, 0.0, 0.47066590160285365, 0.0, 0.4785242591629781, 0.3951817170830187, 0.2973983780136185, 0.23218492212105984], [0.0, 0.0, 0.0, 0.0, 0.0, 0.0, 0.0, 0.0, 0.0, 0.0, 0.0, 0.0, 0.0, 0.0, 0.0, 0.6282230494969707, 0.0, 0.0, 0.32854243337348915, 0.9999999999999999, 0.7439707292731816, 0.0, 0.0, 0.551361646460126, 0.0, 0.0, 0.24294008824375954, 0.0, 0.0, 0.511623770271559, 0.0, 0.5056863786568065, 0.0, 0.2791415485060554, 0.0, 0.6031456440173293, 0.5879050984217744, 0.0, 0.3559915476656384, 0.9027467992392222, 0.27157416487692887, 0.0, 0.0, 0.24965187786118154, 0.0, 0.0, 0.29266964517691807, 0.0, 0.26514908314627383, 0.28566546289390377, 0.3622824900909299, 0.0, 0.0, 0.0, 0.0, 0.0, 0.21098072098137077, 0.2940639707999001, 0.4684357972183921, 0.31502789528035624, 0.0, 0.0, 0.0, 0.0, 0.3255291179958337, 0.0, 0.2109538038103227, 0.0, 0.5147011498007037, 0.2757975174718684, 0.0, 0.0, 0.2918231878271353, 0.27157416487692887, 0.27309733871906466, 0.44811697350649526, 0.18767927506094578, 0.0, 0.27705790461170476, 0.37257515525087426, 0.3290691289718724, 0.2909506595411032, 0.3235455753971961, 0.3717060106129019, 0.3467465963693371, 0.24999403694202912, 0.0, 0.3087286163965774, 0.2892071152069786, 0.0, 0.4605052814281066, 0.3015186542593662, 0.0, 0.2768182675186089, 0.0, 0.3073305372360763, 0.0, 0.0, 0.0, 0.5170949862173794, 0.0, 0.0, 0.48392240939634523, 0.5013504761715906, 0.0, 0.6162676421804244, 0.29870575962364065, 0.0, 0.0, 0.0, 0.4845694408389822, 0.0, 0.0, 0.0, 0.28015124697840593, 0.29566958656306136, 0.0, 0.0, 0.0, 0.5380353079573091, 0.3169199760379685, 0.0, 0.0, 0.0, 0.2660282974273829, 0.0, 0.2932862649147962, 0.0, 0.0, 0.0, 0.0, 0.0, 0.0, 0.0, 0.2848934499236167, 0.3082419144682815, 0.0, 0.2895069605037753, 0.0, 0.0, 0.5307531401462054, 0.0, 0.29951517929992916, 0.0], [0.0, 0.0, 0.0, 0.0, 0.0, 0.0, 0.0, 0.0, 0.0, 0.0, 0.0, 0.0, 0.0, 0.0, 0.0, 0.8436763965497972, 0.0, 0.0, 0.4468240418957947, 0.7439707292731816, 1.0000000000000002, 0.0, 0.0, 0.7399590120566901, 0.0, 0.0, 0.0, 0.0, 0.0, 0.402961550252487, 0.0, 0.39676777014093106, 0.0, 0.37912549906091214, 0.0, 0.4378202184015719, 0.4609720862209876, 0.0, 0.4848069064445557, 0.6955554917302211, 0.3680531208470366, 0.0, 0.0, 0.3300479826815215, 0.0, 0.0, 0.3985720060458137, 0.0, 0.3601211607923486, 0.3871504683958493, 0.4941259901452921, 0.0, 0.0, 0.0, 0.0, 0.0, 0.27875285262046157, 0.3984342556666245, 0.6315072185654372, 0.42701384497205586, 0.0, 0.0, 0.0, 0.0, 0.4411760148806712, 0.0, 0.27904383419414985, 0.0, 0.6905123386867298, 0.3744133972242615, 0.0, 0.0, 0.3963494947800969, 0.3680531208470366, 0.371027088835592, 0.3598040370994159, 0.24826203863477217, 0.0, 0.3754850042303909, 0.5056788475375232, 0.44693632465213046, 0.394248497853982, 0.43943432426273504, 0.5037576284389139, 0.4713964585376024, 0.33875081669276685, 0.0, 0.4198768689047712, 0.0, 0.0, 0.3626999621327859, 0.40863563639807055, 0.0, 0.3751602340887811, 0.0, 0.41788605746745594, 0.0, 0.0, 0.0, 0.375356503102833, 0.0, 0.0, 0.38604861261114093, 0.3933657675693427, 0.0, 0.37242052851400137, 0.40569729155609724, 0.0, 0.0, 0.0, 0.3514713183109128, 0.0, 0.0, 0.0, 0.3804968550603313, 0.40260335893081617, 0.0, 0.0, 0.0, 0.4198147382941729, 0.4299226296068151, 0.0, 0.0, 0.0, 0.3605370383671939, 0.0, 0.3978305554468605, 0.0, 0.0, 0.0, 0.0, 0.0, 0.0, 0.0, 0.3861041914674924, 0.41767876363101225, 0.0, 0.0, 0.0, 0.0, 0.4021876812755944, 0.0, 0.4063118869993704, 0.0], [0.2689110761948877, 0.1975096626667744, 0.4220133663940256, 0.0, 0.19726974342749612, 0.3266214710290948, 0.39275495891089934, 0.0, 0.315760181635375, 0.43033209006656764, 0.0, 0.4122882504885775, 0.5229233494583649, 0.0, 0.6760919422905097, 0.0, 0.7041503260475576, 0.6354246476053332, 0.0, 0.0, 0.0, 1.0, 0.33315138724249876, 0.0, 0.49330547285724513, 0.8021100394039384, 0.17978010642413025, 0.0, 0.3226613415998879, 0.0, 0.0, 0.0, 0.0, 0.0, 0.1983477271642731, 0.22557833230842717, 0.22040143739446083, 0.30183610561201113, 0.0, 0.0, 0.0, 0.5742526094551291, 0.4775434444061062, 0.0, 0.6718516262537749, 0.0, 0.0, 0.35855226387879174, 0.0, 0.0, 0.0, 0.4778566373246553, 0.19613718886376294, 0.5187190911802859, 0.0, 0.5166253460998483, 0.0, 0.0, 0.0, 0.2315196157270273, 0.3059408433462903, 0.38135124795289777, 0.0, 0.0, 0.0, 0.0, 0.0, 0.20286528519918595, 0.0, 0.0, 0.3628911420853042, 0.3291835094296264, 0.202571768193587, 0.0, 0.0, 0.0, 0.0, 0.2640106215415326, 0.0, 0.2537981116844615, 0.22123078372876886, 0.20687519242351082, 0.2175274601441071, 0.2456957992415281, 0.21550582896202888, 0.0, 0.23458360298640993, 0.0, 0.0, 0.0, 0.0, 0.0, 0.0, 0.0, 0.30690440666531354, 0.0, 0.3288652515020951, 0.0, 0.3286640714249645, 0.19339512071915782, 0.0, 0.0, 0.18566826574122636, 0.0, 0.5083433454228304, 0.180222376035914, 0.0, 0.6486527177484889, 0.0, 0.37020254711192485, 0.18463833533042065, 0.0, 0.3795826521007291, 0.3679009236228147, 0.0, 0.0, 0.5407110201319115, 0.24353730424770892, 0.0, 0.21564793202427565, 0.22048265070639952, 0.32506753951836537, 0.45684764509078296, 0.0, 0.0, 0.5573753454743147, 0.2043552280388704, 0.0, 0.5319184717520568, 0.0, 0.0, 0.4930902371794304, 0.0, 0.33290450513510916, 0.20205362697720183, 0.0, 0.0, 0.21424044317326518, 0.0, 0.4905568679626216, 0.17755192208572312, 0.0, 0.0, 0.0], [0.2424909732646737, 0.3740994899415143, 0.3794773883854083, 0.18649623816945038, 0.18626961338922357, 0.6324390875651822, 0.3547027515232724, 0.0, 0.7496909036987262, 0.7882521426870801, 0.0, 0.3717815589496548, 0.2848600120063955, 0.0, 0.5711043523357435, 0.0, 0.29308701065735565, 0.35183619752672207, 0.0, 0.0, 0.0, 0.33315138724249876, 0.9999999999999997, 0.0, 0.2784174288650639, 0.3351723370562106, 0.0, 0.0, 0.4836087766869142, 0.0, 0.1663020685102446, 0.0, 0.5673284059068153, 0.0, 0.0, 0.0, 0.0, 0.2731454679348218, 0.2014926765543087, 0.18287695398474843, 0.0, 0.3289832312668408, 0.26672771218030905, 0.0, 0.2742450393596839, 0.0, 0.1656522199462016, 0.3232817443219231, 0.25537156775428255, 0.0, 0.0, 0.2718128853640747, 0.18549099058590449, 0.2909753173263817, 0.18308686867896584, 0.4845808841465523, 0.0, 0.0, 0.1596940908923814, 0.0, 0.27610765850314356, 0.3423199919390847, 0.0, 0.0, 0.0, 0.24780186766215515, 0.19206559049878863, 0.0, 0.0, 0.0, 0.3264556397770598, 0.29729044510234776, 0.0, 0.0, 0.0, 0.0, 0.17088690844092994, 0.2426249878500129, 0.0, 0.0, 0.0, 0.0, 0.0, 0.0, 0.0, 0.0, 0.0, 0.1938604224404475, 0.0, 0.0, 0.0, 0.0, 0.0, 0.0, 0.27671444841410203, 0.0, 0.2965150212756858, 0.0, 0.2969050902806338, 0.18132972377509413, 0.22067053877025847, 0.0, 0.0, 0.0, 0.2849350919708879, 0.0, 0.0, 0.3680756125989579, 0.0, 0.3333704398849832, 0.0, 0.2066789168629725, 0.5307091986911271, 0.3322567085055441, 0.0, 0.0, 0.30200940886085725, 0.0, 0.19063171636424886, 0.0, 0.0, 0.2936977841657658, 0.2560708759988807, 0.0, 0.0, 0.3123633380082586, 0.0, 0.0, 0.2924162590802176, 0.24715485460079836, 0.28665510741288114, 0.2694752595960866, 0.2251913945510955, 0.30065093078227634, 0.20863346099227706, 0.0, 0.0, 0.0, 0.0, 0.44111218727411516, 0.0, 0.17216979312169023, 0.0, 0.0], [0.0, 0.0, 0.0, 0.0, 0.0, 0.0, 0.0, 0.0, 0.0, 0.0, 0.0, 0.0, 0.0, 0.0, 0.0, 0.6251230345873313, 0.0, 0.0, 0.32416896591115874, 0.551361646460126, 0.7399590120566901, 0.0, 0.0, 1.0, 0.0, 0.0, 0.0, 0.0, 0.0, 0.2930180112707192, 0.0, 0.2871962739571482, 0.0, 0.27568535927867177, 0.0, 0.31857032169984323, 0.33427301601089743, 0.0, 0.3509224982415085, 0.5136849922132, 0.26861429754871163, 0.0, 0.0, 0.24885641429802124, 0.0, 0.0, 0.2885022515798718, 0.0, 0.26186614153573495, 0.28255201552013426, 0.3567428826860439, 0.0, 0.0, 0.0, 0.0, 0.0, 0.208364253307631, 0.29090883529953043, 0.4634715841428694, 0.31155910709761353, 0.0, 0.0, 0.0, 0.0, 0.321981199506695, 0.0, 0.21205930973310194, 0.0, 0.5110389841980774, 0.2724690334741057, 0.0, 0.0, 0.2882099809667921, 0.26861429754871163, 0.26965986667681113, 0.2626670163993691, 0.1887209901691459, 0.0, 0.2740382703977649, 0.368137794670835, 0.32499476173881814, 0.28781243669766104, 0.3195395980060118, 0.36765481348590834, 0.3422248561560935, 0.2472975763163918, 0.0, 0.30461890507363915, 0.0, 0.0, 0.26374134585675196, 0.29823242409091566, 0.0, 0.2738012450921445, 0.0, 0.303284741200981, 0.0, 0.0, 0.0, 0.27311996321723175, 0.0, 0.0, 0.2800766471979064, 0.2847337693484554, 0.0, 0.2701895294179945, 0.29500733624634723, 0.0, 0.0, 0.0, 0.2557735676768104, 0.0, 0.0, 0.0, 0.2766825561760983, 0.29148690080527495, 0.200083227670081, 0.0, 0.0, 0.3059319597024344, 0.3132559673387037, 0.0, 0.0, 0.0, 0.2631288741103917, 0.0, 0.2899114069980125, 0.0, 0.0, 0.0, 0.0, 0.0, 0.0, 0.0, 0.28178841666379195, 0.304917186423958, 0.0, 0.0, 0.0, 0.0, 0.2899266863792261, 0.0, 0.2960523927749632, 0.0], [0.22471681141006516, 0.16538061190076217, 0.3526151423209337, 0.0, 0.16517972051113153, 0.2729603227191516, 0.3282286372542743, 0.0, 0.2638510150921231, 0.3595763140746997, 0.0, 0.3445306245566568, 0.4494971953318653, 0.0, 0.42422336519281756, 0.0, 0.44140191891660197, 0.5457044101031354, 0.0, 0.0, 0.0, 0.49330547285724513, 0.2784174288650639, 0.0, 1.0000000000000002, 0.5034513875161893, 0.15473375548094903, 0.0, 0.2696508090989964, 0.0, 0.0, 0.0, 0.0, 0.0, 0.1793909205424883, 0.20002416269876286, 0.19174280810823394, 0.25226877307962525, 0.0, 0.0, 0.0, 0.30486933902060603, 0.4062994631437353, 0.0, 0.41515126698888216, 0.0, 0.15501316129108986, 0.29962418662900586, 0.0, 0.0, 0.0, 0.25152546059499326, 0.0, 0.4412560998492805, 0.0, 0.4381802092349241, 0.0, 0.0, 0.0, 0.20740418826097912, 0.25566978049290034, 0.3186163282762459, 0.0, 0.0, 0.19061366452873021, 0.21969271352530098, 0.0, 0.0, 0.0, 0.0, 0.3032208770345385, 0.27510143985521907, 0.17960970450971137, 0.0, 0.0, 0.0, 0.0, 0.22080116790261925, 0.0, 0.22070243941499088, 0.19243687029062742, 0.18111802183309247, 0.1892209445374019, 0.2057282720823875, 0.0, 0.0, 0.38851668701126446, 0.0, 0.0, 0.0, 0.0, 0.0, 0.0, 0.0, 0.25646465657524853, 0.0, 0.274816235786392, 0.0, 0.2746706421937581, 0.17148675892764614, 0.0, 0.0, 0.16150293087301423, 0.0, 0.43133383457909674, 0.15735703296111142, 0.0, 0.5438372448667349, 0.0, 0.3093433672962768, 0.16540613174745292, 0.0, 0.3171347961668947, 0.3074579099908959, 0.0, 0.0, 0.4600431641747566, 0.22592066725658771, 0.0, 0.1887985040790961, 0.1930312720275756, 0.2716665971121927, 0.3876392763861834, 0.0, 0.0, 0.4729923718970763, 0.17891180774290052, 0.0, 0.4570108897202203, 0.0, 0.0, 0.42377737483817945, 0.0, 0.2782111074021964, 0.17696054459342495, 0.0, 0.324879879828079, 0.18439319570706802, 0.0, 0.6380522633371855, 0.15433708695078524, 0.0, 0.0, 0.2716100178516948], [0.27054233396583466, 0.19870778799735317, 0.42457336724306033, 0.0, 0.1984664133694423, 0.32860280932245767, 0.3951374735617167, 0.0, 0.317675633603129, 0.4329425536292519, 0.0, 0.4147892572228342, 0.5407187946603234, 0.0, 0.5103505870908721, 0.0, 0.8074934850256288, 0.6565176000396842, 0.0, 0.0, 0.0, 0.8021100394039384, 0.3351723370562106, 0.0, 0.5034513875161893, 1.0, 0.18592560995433627, 0.0, 0.3246186571122008, 0.0, 0.0, 0.0, 0.0, 0.0, 0.215573795916806, 0.24035973608597178, 0.23039994020405546, 0.30366709189862706, 0.0, 0.0, 0.0, 0.644159654948381, 0.48878988024331005, 0.0, 0.4994381574662659, 0.0, 0.0, 0.36072729948914733, 0.0, 0.0, 0.0, 0.6475700896063861, 0.0, 0.530858850158957, 0.0, 0.5271670690254969, 0.0, 0.0, 0.0, 0.24923281992136637, 0.30779672963115656, 0.38366458586179325, 0.0, 0.0, 0.0, 0.0, 0.0, 0.0, 0.0, 0.0, 0.36509249802761384, 0.33118038945934863, 0.21582859837461352, 0.0, 0.0, 0.0, 0.0, 0.2656121523676189, 0.0, 0.2651978811024775, 0.2312338675252691, 0.21763577317914087, 0.2273695949648945, 0.2471862294144798, 0.0, 0.0, 0.24687457612734276, 0.0, 0.0, 0.0, 0.0, 0.0, 0.0, 0.0, 0.30876613808000564, 0.0, 0.33086020092812185, 0.0, 0.3306578004603372, 0.20606766483588748, 0.0, 0.0, 0.19406336876105465, 0.0, 0.5189062222007198, 0.18908300483893248, 0.0, 0.6542323625807152, 0.0, 0.3724482552112187, 0.19876472598436296, 0.0, 0.3818852614231776, 0.37013266970442027, 0.0, 0.0, 0.5534450904361228, 0.27150126471007885, 0.0, 0.22686482545720774, 0.23195102127489478, 0.327039451413648, 0.4663404916576028, 0.0, 0.0, 0.5690224920456615, 0.214984733241436, 0.0, 0.549788832293972, 0.0, 0.0, 0.5097895843183086, 0.0, 0.3349239573223123, 0.21264019684222654, 0.0, 0.0, 0.22156391975819995, 0.0, 0.493532664699144, 0.18545257862901846, 0.0, 0.0, 0.0], [0.0, 0.0, 0.0, 0.0, 0.0, 0.0, 0.0, 0.0, 0.0, 0.0, 0.0, 0.0, 0.1759966489306232, 0.0, 0.3072254449311457, 0.0, 0.16383980065471065, 0.20746976965901706, 0.0, 0.24294008824375954, 0.0, 0.17978010642413025, 0.0, 0.0, 0.15473375548094903, 0.18592560995433627, 1.0, 0.22954804482810937, 0.0, 0.1620194722065083, 0.20010444674240127, 0.1547288168977026, 0.0, 0.0, 0.16864135820221737, 0.38113417770285285, 0.36756990873795736, 0.0, 0.0, 0.21426488355354603, 0.0, 0.0, 0.1530103372209994, 0.0, 0.15559169560480898, 0.0, 0.0, 0.0, 0.0, 0.0, 0.0, 0.0, 0.0, 0.16480362966802214, 0.0, 0.1619632208220719, 0.0, 0.0, 0.0, 0.19628176192588492, 0.0, 0.0, 0.0, 0.0, 0.0, 0.0, 0.0, 0.0, 0.0, 0.0, 0.0, 0.29864839255602277, 0.1712122962436198, 0.0, 0.0, 0.14635038502640083, 0.0, 0.0, 0.0, 0.21328244522217146, 0.3592534541005969, 0.1741957649146856, 0.18281877804102806, 0.20422711004985697, 0.0, 0.0, 0.1975481439129894, 0.0, 0.1907585112751682, 0.0, 0.14583142336347968, 0.0, 0.0, 0.0, 0.0, 0.0, 0.0, 0.2741706855425369, 0.0, 0.3267578474968916, 0.0, 0.0, 0.30685563471664623, 0.15340212689766092, 0.16165664910684982, 0.34014103281991714, 0.0, 0.20069120273722804, 0.0, 0.0, 0.30968625286487794, 0.18193339253882926, 0.0, 0.0, 0.0, 0.0, 0.17324994510685082, 0.20866639428672953, 0.0, 0.3544993775800594, 0.18565369554601965, 0.0, 0.1452806653666377, 0.0, 0.0, 0.17731527880796918, 0.17207387142713026, 0.0, 0.17604285261235442, 0.0, 0.0, 0.16498279083619644, 0.0, 0.0, 0.1701539172904005, 0.0, 0.0, 0.668420115214943, 0.0, 0.0, 0.3064141775011092, 0.0, 0.0, 0.0], [0.0, 0.2227470890179853, 0.0, 0.20310483379061847, 0.2224490556107248, 0.0, 0.0, 0.2992030267843699, 0.0, 0.0, 0.0, 0.0, 0.0, 0.35135299756280486, 0.0, 0.23572298561736688, 0.0, 0.0, 0.2145027912258679, 0.0, 0.0, 0.0, 0.0, 0.0, 0.0, 0.0, 0.22954804482810937, 1.0000000000000004, 0.0, 0.2691929316970257, 0.38919053687040644, 0.0, 0.2730981674882168, 0.0, 0.20298347023423344, 0.0, 0.0, 0.1991033000254439, 0.0, 0.0, 0.0, 0.0, 0.0, 0.26864257190485297, 0.0, 0.41519316709270665, 0.0, 0.0, 0.18969303179422933, 0.0, 0.0, 0.0, 0.0, 0.0, 0.2186670913484968, 0.0, 0.39943847171723595, 0.0, 0.19105782523277481, 0.0, 0.2006078360072292, 0.22919873296134785, 0.41448184969440544, 0.25067468844930135, 0.0, 0.0, 0.0, 0.0, 0.23409215961133786, 0.0, 0.2263696343159235, 0.0, 0.20890491860570562, 0.0, 0.0, 0.0, 0.21012418950272302, 0.45909044635138035, 0.0, 0.22500152573577362, 0.21647521258242136, 0.1813761427195458, 0.0, 0.0, 0.0, 0.17554814650510348, 0.0, 0.201566504723252, 0.0, 0.21360778029020874, 0.0, 0.21436605572689166, 0.2196090048619278, 0.19377449526761234, 0.0, 0.0, 0.0, 0.0, 0.0, 0.0, 0.0, 0.0, 0.0, 0.0, 0.0, 0.0, 0.0, 0.22428433989475494, 0.21674744322838851, 0.0, 0.0, 0.450552696419022, 0.23590649750975193, 0.0, 0.0, 0.0, 0.0, 0.0, 0.0, 0.0, 0.24474206734290643, 0.0, 0.0, 0.23940137366353614, 0.16531943788453501, 0.0, 0.0, 0.2507236250037622, 0.0, 0.0, 0.2859849510570996, 0.0, 0.2246649310748723, 0.0, 0.0, 0.23730307356131358, 0.2606991684901066, 0.0, 0.4416094227076733, 0.0, 0.0, 0.20503706599585172, 0.0, 0.0], [0.2348555814431893, 0.3632767275244921, 0.36752866093915526, 0.18091782476555426, 0.1804044817370412, 0.2856886060075027, 0.3435341110927572, 0.0, 0.4375548318275109, 0.37502957112920526, 0.0, 0.3600751525776347, 0.2758905325381119, 0.0, 0.2695374551590561, 0.0, 0.2838584850177066, 0.34075781721041415, 0.0, 0.0, 0.0, 0.3226613415998879, 0.4836087766869142, 0.0, 0.2696508090989964, 0.3246186571122008, 0.0, 0.0, 1.0000000000000004, 0.0, 0.0, 0.0, 0.0, 0.0, 0.0, 0.0, 0.0, 0.26454484811022855, 0.0, 0.0, 0.0, 0.3186244297015609, 0.5682724630748414, 0.0, 0.5849192766372969, 0.0, 0.0, 0.3131024673228711, 0.0, 0.0, 0.0, 0.26325422499852913, 0.0, 0.28181328325865274, 0.0, 0.48763459281398147, 0.0, 0.0, 0.0, 0.0, 0.26741376722462956, 0.33154125147055, 0.0, 0.0, 0.0, 0.0, 0.0, 0.0, 0.0, 0.0, 0.3161764253037417, 0.2879295645607766, 0.0, 0.0, 0.0, 0.0, 0.0, 0.23498537626787067, 0.0, 0.0, 0.0, 0.0, 0.18748983784786388, 0.0, 0.0, 0.0, 0.0, 0.19997399986460676, 0.0, 0.0, 0.0, 0.0, 0.0, 0.0, 0.42877549762367245, 0.0, 0.2871785567553157, 0.0, 0.2875563435311559, 0.18828407566351915, 0.0, 0.0, 0.0, 0.0, 0.2759632484354429, 0.0, 0.0, 0.3564858965600913, 0.0, 0.32287349686086414, 0.0, 0.3083469579219762, 0.32990825147823283, 0.321794833902123, 0.0, 0.0, 0.292499940778882, 0.0, 0.0, 0.0, 0.0, 0.2844500269028192, 0.5461567943283759, 0.0, 0.0, 0.3025278524054332, 0.0, 0.0, 0.283208853612744, 0.0, 0.3183964164675297, 0.2609902048102881, 0.2501268290368249, 0.29118423753959183, 0.22869419977668962, 0.0, 0.0, 0.0, 0.0, 0.42722274495085927, 0.0, 0.30667641575728316, 0.0, 0.0], [0.15984310066468121, 0.1863168571469653, 0.0, 0.18512552121160422, 0.1870736680632605, 0.0, 0.0, 0.219106038473206, 0.0, 0.0, 0.2443123195297168, 0.0, 0.0, 0.0, 0.0, 0.33663132202696405, 0.0, 0.0, 0.48635570963929214, 0.511623770271559, 0.402961550252487, 0.0, 0.0, 0.2930180112707192, 0.0, 0.0, 0.1620194722065083, 0.2691929316970257, 0.0, 0.9999999999999998, 0.16592957138011294, 0.4235444789879633, 0.0, 0.41108353955170185, 0.0, 0.6696389164819547, 0.49598660775671255, 0.1667893245586435, 0.3204239940486509, 0.47628740973863565, 0.406009611722256, 0.0, 0.0, 0.0, 0.0, 0.17915251947747654, 0.26342866076267063, 0.0, 0.39060604517097297, 0.42722758400113875, 0.3265832669067102, 0.0, 0.0, 0.0, 0.0, 0.0, 0.3706173514876831, 0.44055701364270433, 0.26284456714495963, 0.28222675853250334, 0.0, 0.0, 0.3717140153298443, 0.0, 0.4868427589123064, 0.0, 0.0, 0.1893840448566387, 0.27232162573541124, 0.4074950487714485, 0.0, 0.0, 0.43299914330243877, 0.406009611722256, 0.40131886614999007, 0.5572111319834818, 0.33148133240456973, 0.19033405317069868, 0.41434383389245033, 0.33421891041567187, 0.2953941462606578, 0.26057111945145334, 0.2904358403946099, 0.5557090200835739, 0.31156061107450844, 0.37437092323859705, 0.20669574390888762, 0.2775097086173522, 0.19012943142321315, 0.0, 0.5481788094922596, 0.2700800277073949, 0.0, 0.24795509102076244, 0.0, 0.4488876493093234, 0.0, 0.0, 0.0, 0.41327846740340496, 0.0, 0.0, 0.415478701115299, 0.4199128851057605, 0.0, 0.5672550816135532, 0.43990027629854994, 0.0, 0.0, 0.0, 0.3872267519806603, 0.2181143301889719, 0.20603991663810395, 0.0, 0.41257296642762875, 0.2660931075262395, 0.0, 0.0, 0.0, 0.46158922042867767, 0.49651029701561383, 0.0, 0.0, 0.21290900643705213, 0.3978966209744587, 0.0, 0.2629386129536394, 0.0, 0.0, 0.0, 0.0, 0.15934275341007823, 0.0, 0.0, 0.25518829353370126, 0.46158915879849904, 0.0, 0.19307544209775762, 0.6103780254700788, 0.0, 0.58382191249362, 0.17182139341087696, 0.44479231913092365, 0.20706690226963184], [0.16808583415304035, 0.38623592827491593, 0.0, 0.36444176679276674, 0.5549437831947714, 0.0, 0.0, 0.490962306415052, 0.0, 0.0, 0.4611857651781378, 0.0, 0.0, 0.3286711375268271, 0.0, 0.21347342664707927, 0.0, 0.0, 0.3819069028062569, 0.0, 0.0, 0.0, 0.1663020685102446, 0.0, 0.0, 0.0, 0.20010444674240127, 0.38919053687040644, 0.0, 0.16592957138011294, 0.9999999999999999, 0.0, 0.45873994204172736, 0.0, 0.48204491135788324, 0.17639350461403264, 0.0, 0.18269731782417217, 0.18279763307517646, 0.16432155177964572, 0.0, 0.0, 0.0, 0.24736247104322306, 0.0, 0.21189679369104555, 0.15028255238672428, 0.0, 0.1747189674515302, 0.0, 0.0, 0.0, 0.25100530374818164, 0.0, 0.36730868513048737, 0.0, 0.37858495608757364, 0.0, 0.32071219943229423, 0.0, 0.18475152245901091, 0.21108255641000656, 0.3936183087342783, 0.23070206425443848, 0.0, 0.2351222203884415, 0.18223788434016353, 0.1844487867410858, 0.21621152045366532, 0.0, 0.20850296382304195, 0.0, 0.3556331168748994, 0.0, 0.0, 0.0, 0.35380577808986474, 0.39214273054929144, 0.0, 0.0, 0.0, 0.0, 0.0, 0.0, 0.0, 0.16061504262821075, 0.20130935115152104, 0.18442013426557813, 0.0, 0.19591695273113613, 0.0, 0.19645706418830522, 0.20115920652772445, 0.17729095656821864, 0.0, 0.0, 0.0, 0.0, 0.0, 0.0, 0.20993796844036341, 0.0, 0.0, 0.0, 0.0, 0.14323309884619562, 0.0, 0.20240353585918905, 0.1983096975203395, 0.0, 0.0, 0.3732035072265779, 0.17078952330403882, 0.0, 0.0, 0.0, 0.0, 0.0, 0.17147723802664683, 0.0, 0.0, 0.0, 0.0, 0.43874510475903267, 0.0, 0.0, 0.0, 0.23074710176581015, 0.0, 0.24116727209254757, 0.2633770400451784, 0.0, 0.20690453931136998, 0.0, 0.0, 0.21917717546886437, 0.0, 0.0, 0.41855428493126046, 0.0, 0.15823593285617252, 0.5490878395659289, 0.0, 0.201670837301951], [0.0, 0.0, 0.0, 0.0, 0.0, 0.0, 0.0, 0.0, 0.0, 0.0, 0.0, 0.0, 0.0, 0.0, 0.0, 0.3306203019502413, 0.0, 0.0, 0.2916111456403913, 0.5056863786568065, 0.39676777014093106, 0.0, 0.0, 0.2871962739571482, 0.0, 0.0, 0.1547288168977026, 0.0, 0.0, 0.4235444789879633, 0.0, 1.0, 0.0, 0.24672434493067097, 0.0, 0.468100580094311, 0.4809547503779229, 0.15406394389460695, 0.3172959440750085, 0.47141456214798017, 0.23842468679042753, 0.0, 0.0, 0.0, 0.0, 0.0, 0.5540232452114224, 0.0, 0.23435684941331225, 0.25079594205209926, 0.5014186755707349, 0.0, 0.0, 0.0, 0.0, 0.0, 0.0, 0.2579698343998648, 0.2611095724424381, 0.2767156113491115, 0.14980641285747207, 0.0, 0.0, 0.0, 0.28579367273206463, 0.0, 0.0, 0.0, 0.2668176616634708, 0.24342333274227726, 0.22091368298359218, 0.0, 0.25793324296425263, 0.23842468679042753, 0.24160661780024603, 0.38127997403466035, 0.15241701820988746, 0.0, 0.3978607129644331, 0.32860438191789043, 0.29085374684281534, 0.25530464795557756, 0.2859716533504812, 0.3263340207587963, 0.30739262737668394, 0.2193658529358369, 0.0, 0.2740245897461702, 0.1818761058302444, 0.18722239293810414, 0.3812263636424621, 0.26471402659321164, 0.0, 0.24302867233671843, 0.14970759973106404, 0.2726023846373638, 0.15926566074629256, 0.0, 0.0, 0.40131677218124867, 0.0, 0.0, 0.4020991383470709, 0.8456135250361583, 0.0, 0.4101798763719106, 0.26401652947971116, 0.0, 0.0, 0.0, 0.37597736713826446, 0.0, 0.0, 0.0, 0.24761678532695536, 0.41310341123892846, 0.0, 0.0, 0.0, 0.44481437891120573, 0.27907538494080303, 0.0, 0.0, 0.0, 0.23355577111047524, 0.16746438154252427, 0.2582001830863213, 0.23864337830147886, 0.0, 0.0, 0.0, 0.0, 0.0, 0.0, 0.2501181642129508, 0.2704774534025772, 0.0, 0.18438731049382387, 0.0, 0.0, 0.4149524546647662, 0.0, 0.2637489596071635, 0.0], [0.0, 0.2823637565556812, 0.0, 0.2550077111832248, 0.2819824499633424, 0.3493223291035986, 0.0, 0.3838866483064937, 0.31161498714751185, 0.41947786041988805, 0.0, 0.0, 0.0, 0.4523955757700225, 0.3074570616643099, 0.2938330225352459, 0.0, 0.0, 0.27013427895167197, 0.0, 0.0, 0.0, 0.5673284059068153, 0.0, 0.0, 0.0, 0.0, 0.2730981674882168, 0.0, 0.0, 0.45873994204172736, 0.0, 1.0000000000000002, 0.0, 0.2580532997436849, 0.0, 0.0, 0.25147160444521516, 0.24927232505664432, 0.22617849437025384, 0.0, 0.0, 0.0, 0.3404792046954848, 0.0, 0.2916628843865481, 0.20493307609447856, 0.0, 0.514194315806718, 0.0, 0.0, 0.0, 0.23280014625009343, 0.0, 0.5036867521211107, 0.0, 0.26645108232764525, 0.0, 0.4397911739992422, 0.0, 0.2542990905929802, 0.29054213692347347, 0.28639851992514775, 0.31754718097569656, 0.0, 0.30697709378497195, 0.2379309621176722, 0.0, 0.29760184000265044, 0.0, 0.28699148662173624, 0.0, 0.26486284718988373, 0.0, 0.0, 0.0, 0.47848076080468116, 0.27981478789055025, 0.0, 0.0, 0.0, 0.0, 0.0, 0.0, 0.0, 0.22107671283179, 0.0, 0.25384295515711724, 0.0, 0.2696676176096424, 0.0, 0.2704110477613881, 0.2768832570554596, 0.24403008119004882, 0.0, 0.0, 0.0, 0.0, 0.0, 0.0, 0.27338924168326595, 0.0, 0.0, 0.0, 0.0, 0.0, 0.0, 0.27859599973372257, 0.27296108342695663, 0.0, 0.0, 0.2556883705534377, 0.2350812587683084, 0.0, 0.0, 0.0, 0.0, 0.0, 0.23577697070761552, 0.0, 0.0, 0.0, 0.0, 0.3034754415433384, 0.0, 0.0, 0.0, 0.3176091723359406, 0.0, 0.30644313740468976, 0.3625222724831363, 0.0, 0.2847913537389889, 0.0, 0.0, 0.3016838814567064, 0.0, 0.0, 0.2945818116634576, 0.0, 0.0, 0.4743517191959928, 0.0, 0.0], [0.0, 0.0, 0.0, 0.24707222799276185, 0.0, 0.0, 0.0, 0.0, 0.0, 0.0, 0.0, 0.0, 0.0, 0.0, 0.0, 0.3167188479472545, 0.0, 0.0, 0.27785111930048345, 0.2791415485060554, 0.37912549906091214, 0.0, 0.0, 0.27568535927867177, 0.0, 0.0, 0.0, 0.0, 0.0, 0.41108353955170185, 0.0, 0.24672434493067097, 0.0, 0.9999999999999999, 0.0, 0.27225222084990003, 0.46381026736179204, 0.1704275789028859, 0.30147021863169876, 0.26731128220110434, 0.5696822989099936, 0.0, 0.0, 0.0, 0.0, 0.0, 0.24784628314045665, 0.0, 0.37128110483417426, 0.6626695997717017, 0.30726515711826385, 0.0, 0.0, 0.0, 0.0, 0.0, 0.0, 0.4167618504966078, 0.24729673992926382, 0.26553243258552933, 0.0, 0.0, 0.0, 0.0, 0.6507309671012474, 0.0, 0.0, 0.0, 0.25621320991376534, 0.5455402723907331, 0.0, 0.0, 0.24646424639906445, 0.3819932610723757, 0.37957246194683414, 0.526325829289003, 0.15437818659403812, 0.0, 0.548019913661565, 0.3144491357240947, 0.2779209407214474, 0.24515777160623306, 0.27325592942003607, 0.5228376241848032, 0.2931311240174999, 0.35496904851224986, 0.0, 0.2610944064213547, 0.0, 0.0, 0.37001044922373133, 0.2541042072793126, 0.0, 0.23328800866742316, 0.0, 0.5963268398213205, 0.0, 0.0, 0.0, 0.23341005573769033, 0.0, 0.0, 0.24005879062214747, 0.2446088584443834, 0.0, 0.23158436206578428, 0.5834497782164079, 0.0, 0.0, 0.0, 0.21855739628593768, 0.0, 0.0, 0.0, 0.3902270073461665, 0.4116756172667591, 0.0, 0.0, 0.17221472050479147, 0.26105577139262093, 0.4604583665161086, 0.0, 0.0, 0.0, 0.3769417318085157, 0.0, 0.42036299159415325, 0.0, 0.0, 0.0, 0.0, 0.16658639360775815, 0.0, 0.0, 0.24009335153650915, 0.43753553714443877, 0.0, 0.0, 0.19373511407377966, 0.0, 0.25009463890340794, 0.0, 0.4194680239305198, 0.0], [0.0, 0.21047604184993843, 0.0, 0.3534992649832933, 0.542832901332687, 0.0, 0.0, 0.2914118137682597, 0.0, 0.0, 0.22318985190577292, 0.0, 0.2243923294292439, 0.5668839999559017, 0.18964027187495966, 0.21333651506255336, 0.18994803408985328, 0.26451995070819245, 0.19932810154976777, 0.0, 0.0, 0.1983477271642731, 0.0, 0.0, 0.1793909205424883, 0.215573795916806, 0.16864135820221737, 0.20298347023423344, 0.0, 0.0, 0.48204491135788324, 0.0, 0.2580532997436849, 0.0, 0.9999999999999998, 0.23547055674258918, 0.21506542526015526, 0.18639745030176186, 0.0, 0.0, 0.0, 0.0, 0.1813952731838052, 0.2537230320432693, 0.18040275593501484, 0.38496647086574376, 0.0, 0.0, 0.17929366379200581, 0.0, 0.0, 0.0, 0.0, 0.19537633841127663, 0.20662080960418025, 0.18752183211299747, 0.19660597528893664, 0.0, 0.18061198163336303, 0.2502554568546786, 0.18955643134565917, 0.21657226733423396, 0.21348358444026724, 0.23645206556522422, 0.0, 0.0, 0.0, 0.0, 0.222813216991616, 0.0, 0.21396629852352234, 0.0, 0.40888091128584625, 0.0, 0.0, 0.0, 0.20000006283247643, 0.20835576108445897, 0.0, 0.24726947307026942, 0.21576314675972386, 0.2065108079496782, 0.21217328928365842, 0.20715164148341073, 0.0, 0.1631292468199032, 0.23447135020367993, 0.18730697392278445, 0.0, 0.1997432737074463, 0.0, 0.20004861827366863, 0.20467429270830007, 0.3343369313431236, 0.0, 0.1604518160101497, 0.0, 0.0, 0.0, 0.2018760236456411, 0.0, 0.0, 0.18107954324684777, 0.0, 0.18743484284770529, 0.17817106356416143, 0.0, 0.4098619723510153, 0.2014139588933731, 0.0, 0.33915650585756973, 0.0, 0.0, 0.0, 0.0, 0.0, 0.20538952918158399, 0.29474682395712043, 0.0, 0.21526809547972323, 0.2200942984166653, 0.0, 0.1684475017406009, 0.2262128486809122, 0.0, 0.20578611424966856, 0.20399528216342946, 0.23649822558822256, 0.22450303398803842, 0.0, 0.2702216447438577, 0.21034987300278218, 0.38026087603797615, 0.0, 0.2019569404159924, 0.22586942386272682, 0.0, 0.2009666143669333, 0.2173627664730521, 0.0, 0.17273350161133008, 0.19364997028151082, 0.0, 0.0], [0.15856705124342013, 0.19803968941329952, 0.0, 0.19745191390776884, 0.19806084241459473, 0.0, 0.0, 0.23369498901144442, 0.0, 0.0, 0.2605134613765139, 0.0, 0.24128488689082173, 0.0, 0.20961897078231426, 0.3658818238173022, 0.2117955377016984, 0.2844333696670205, 0.5238210747959743, 0.6031456440173293, 0.4378202184015719, 0.22557833230842717, 0.0, 0.31857032169984323, 0.20002416269876286, 0.24035973608597178, 0.38113417770285285, 0.0, 0.0, 0.6696389164819547, 0.17639350461403264, 0.468100580094311, 0.0, 0.27225222084990003, 0.23547055674258918, 0.9999999999999999, 0.7868924362310582, 0.0, 0.3478638737309507, 0.5565803876650232, 0.2644708029302076, 0.0, 0.20050535729371466, 0.0, 0.20114484982421607, 0.0, 0.28598767909604655, 0.0, 0.2586050952616317, 0.27819352542322184, 0.3543904390366341, 0.0, 0.0, 0.21595933483997837, 0.0, 0.20920007457518328, 0.20060826405479693, 0.28632273930468904, 0.28522466086881554, 0.5759181337036284, 0.0, 0.0, 0.20113530463023688, 0.0, 0.3170144967675249, 0.0, 0.0, 0.20096804701542795, 0.29608362402401706, 0.26890481212769973, 0.0, 0.0, 0.6991878531308655, 0.2644708029302076, 0.26641304928307574, 0.4333762759371783, 0.3602761091286351, 0.19887647425896104, 0.26981110859357477, 0.6389149606797738, 0.5614375169294994, 0.5115746289068199, 0.552040198960388, 0.6059395571708753, 0.33841621171848946, 0.2434270517154987, 0.47839338000429393, 0.3013949553559095, 0.22445045091358773, 0.0, 0.4338889087873262, 0.29363205674055143, 0.0, 0.2695777395083687, 0.0, 0.2999849877421095, 0.0, 0.0, 0.0, 0.6818554536564437, 0.0, 0.0, 0.6583014325226257, 0.46408694920721255, 0.20898546211793, 0.8506033988269894, 0.2913335792304255, 0.24322481961571174, 0.0, 0.0, 0.6476674287853621, 0.0, 0.0, 0.0, 0.27323699955073255, 0.28889182820784864, 0.22702742034084047, 0.3055005212894117, 0.0, 0.7452320986669756, 0.5521208507719852, 0.0, 0.18781502125767266, 0.21621726988774032, 0.25906999458015484, 0.22936097098545205, 0.5112788276421153, 0.0, 0.24138328877551818, 0.0, 0.0, 0.2261852953889808, 0.0, 0.0, 0.5005730237087371, 0.3001448409409634, 0.0, 0.45419015909859023, 0.22178759922339406, 0.0, 0.8348637096759185, 0.18263218855613172, 0.29187847752165097, 0.21973250693934393], [0.0, 0.0, 0.0, 0.0, 0.0, 0.0, 0.0, 0.0, 0.0, 0.0, 0.0, 0.0, 0.22289243094550304, 0.0, 0.19921262058035627, 0.3845036866303024, 0.20302682733823613, 0.26275182844663575, 0.3384191304712613, 0.5879050984217744, 0.4609720862209876, 0.22040143739446083, 0.0, 0.33427301601089743, 0.19174280810823394, 0.23039994020405546, 0.36756990873795736, 0.0, 0.0, 0.49598660775671255, 0.0, 0.4809547503779229, 0.0, 0.46381026736179204, 0.21506542526015526, 0.7868924362310582, 1.0, 0.0, 0.36781784280274765, 0.5476326263059452, 0.2775068702903209, 0.0, 0.19055144445090272, 0.0, 0.19281000273388918, 0.0, 0.30239234119099917, 0.0, 0.27228009411112114, 0.29190600141824324, 0.3756151632614367, 0.0, 0.0, 0.2052382228178201, 0.0, 0.20064229031300665, 0.0, 0.3003182322771419, 0.3023069918298595, 0.5706128413181324, 0.0, 0.0, 0.0, 0.0, 0.33264050269410134, 0.0, 0.0, 0.0, 0.31059692702931774, 0.2829210212289221, 0.0, 0.0, 0.5148781918710651, 0.2775068702903209, 0.2806332209957303, 0.6239231602797999, 0.181266032319895, 0.0, 0.28311040570752066, 0.6462921825153449, 0.5683677354838034, 0.5141295853865171, 0.5588446576972361, 0.62591215430447, 0.35685025134384896, 0.2553592569256979, 0.2460817383533629, 0.3180096672436591, 0.21420220734322878, 0.0, 0.4464304937754253, 0.30810551554336896, 0.0, 0.28286553359407557, 0.0, 0.3164152790593207, 0.0, 0.0, 0.0, 0.6746266635654726, 0.0, 0.0, 0.6638768416346575, 0.47683090408611806, 0.2003257232661697, 0.6648919150161643, 0.3067392554285804, 0.24304272862890686, 0.0, 0.0, 0.6377957548343743, 0.0, 0.0, 0.0, 0.28768573131571945, 0.30539855061881693, 0.215756842908384, 0.27103858680017573, 0.0, 0.7474714501058177, 0.5557620076516626, 0.0, 0.18003252280038062, 0.0, 0.2718398499400386, 0.2197761394568505, 0.5145928637574951, 0.0, 0.22296316581353748, 0.0, 0.0, 0.2089438380622187, 0.0, 0.0, 0.5030744261350705, 0.31485721497520125, 0.0, 0.4380258845736614, 0.0, 0.0, 0.66811823154253, 0.0, 0.30673387785219475, 0.0], [0.2199202954386219, 0.37935345437566886, 0.34350255991417433, 0.18871388002551628, 0.3788697786033649, 0.2677916945813669, 0.3220134783870836, 0.2723366407638118, 0.2576393087518446, 0.35067459842079196, 0.0, 0.3371767170631861, 0.25865626380527484, 0.31870211324907205, 0.2523966277748129, 0.2204874680847291, 0.2656299541509942, 0.3187921325072054, 0.19874201846933187, 0.0, 0.0, 0.30183610561201113, 0.2731454679348218, 0.0, 0.25226877307962525, 0.30366709189862706, 0.0, 0.1991033000254439, 0.26454484811022855, 0.1667893245586435, 0.18269731782417217, 0.15406394389460695, 0.25147160444521516, 0.1704275789028859, 0.18639745030176186, 0.0, 0.0, 1.0, 0.0, 0.0, 0.15836535412770708, 0.29836199030628463, 0.241879366114125, 0.24741269457230652, 0.24871874307968103, 0.21067437638390651, 0.0, 0.2931648262329605, 0.3498503346175937, 0.18220679747585547, 0.0, 0.2467627113424649, 0.0, 0.26371608904510135, 0.2013509091127368, 0.2642584792636666, 0.19603762242246342, 0.18845052970761106, 0.1758990107357425, 0.0, 0.7427707852108592, 0.5205538218519321, 0.20803864765625169, 0.23097460382244095, 0.20732322422958668, 0.0, 0.0, 0.0, 0.21496421179928912, 0.1704101856359738, 0.5040125606716012, 0.26989226868844934, 0.19233008894456338, 0.15836535412770708, 0.16597156815386319, 0.1701341446050043, 0.19295469293551523, 0.4263425923997792, 0.17561080840710575, 0.0, 0.0, 0.0, 0.0, 0.2167560895521335, 0.0, 0.3284616189461542, 0.0, 0.18675623648330514, 0.0, 0.197457649307824, 0.15012469964856054, 0.19830595418277233, 0.20325360089024513, 0.17953675146730227, 0.25093573828495463, 0.18363805294557498, 0.2688916903429801, 0.0, 0.26959333749881464, 0.0, 0.0, 0.0, 0.0, 0.0, 0.2584137824325248, 0.0, 0.1828994062485379, 0.5445537320261348, 0.20082174278057605, 0.30206065832020373, 0.0, 0.0, 0.30792056537401424, 0.30163605431263135, 0.17129972904051327, 0.0, 0.27387422093728214, 0.0, 0.0, 0.0, 0.0, 0.2667063991386919, 0.23223620221703567, 0.22044324974884874, 0.17355161820738493, 0.28328905053299114, 0.0, 0.23101969453881505, 0.26519861429145636, 0.0, 0.2633409939965127, 0.5174512847338413, 0.20687622214639653, 0.2729430532629039, 0.0, 0.4214187359353515, 0.0, 0.0, 0.44709129877270115, 0.39929431943941784, 0.0, 0.18883370802152866, 0.1784680665416415, 0.0], [0.0, 0.0, 0.0, 0.0, 0.0, 0.0, 0.0, 0.0, 0.0, 0.0, 0.0, 0.0, 0.0, 0.0, 0.0, 0.4039819205560164, 0.0, 0.0, 0.35631698953888, 0.3559915476656384, 0.4848069064445557, 0.0, 0.2014926765543087, 0.3509224982415085, 0.0, 0.0, 0.0, 0.0, 0.0, 0.3204239940486509, 0.18279763307517646, 0.3172959440750085, 0.24927232505664432, 0.30147021863169876, 0.0, 0.3478638737309507, 0.36781784280274765, 0.0, 0.9999999999999999, 0.5423085348977864, 0.29132894232266393, 0.0, 0.17438294877705973, 0.0, 0.0, 0.0, 0.49932895672347005, 0.0, 0.2863584890673043, 0.306445265884219, 0.7830641681841121, 0.0, 0.20556021922137416, 0.0, 0.4947063497542458, 0.0, 0.0, 0.3152109792763404, 0.4931360057698859, 0.3381162725375241, 0.0, 0.0, 0.37368763050791015, 0.28528222628117234, 0.349208672643561, 0.2705644150199682, 0.2097083231415285, 0.0, 0.32602205841943965, 0.2974367420551551, 0.0, 0.0, 0.3151662685361127, 0.6400433124806275, 0.2952169146971393, 0.2846997707480619, 0.18623695937195825, 0.0, 0.29721157883055493, 0.4015186863216015, 0.35539153088111863, 0.3119544123563662, 0.3494261455320241, 0.398744552803495, 0.37560023761360567, 0.26804112769446753, 0.0, 0.33482813787367766, 0.0, 0.0, 0.28840908130083914, 0.3234516459831211, 0.0, 0.29695451011820323, 0.0, 0.33309035846965707, 0.0, 0.0, 0.0, 0.2982342105537314, 0.24096343783820262, 0.0, 0.30785201010589947, 0.31457535611668136, 0.0, 0.2969843811437857, 0.3225993806448098, 0.0, 0.0, 0.0, 0.2792113867165173, 0.22531650368539613, 0.20714896026348717, 0.0, 0.30256068338279263, 0.32187186346611873, 0.0, 0.0, 0.20776294587100044, 0.3329266050950857, 0.34099965828856726, 0.0, 0.0, 0.0, 0.28537965882189315, 0.0, 0.3154924402277802, 0.0, 0.0, 0.2701270082220938, 0.0, 0.0, 0.0, 0.0, 0.30561709534673426, 0.330493924444841, 0.0, 0.0, 0.0, 0.0, 0.323256706124792, 0.1891940493014592, 0.32227243946679646, 0.0], [0.0, 0.0, 0.0, 0.0, 0.0, 0.0, 0.0, 0.0, 0.0, 0.0, 0.0, 0.0, 0.0, 0.0, 0.0, 0.5860809703939204, 0.0, 0.0, 0.31558906640357465, 0.9027467992392222, 0.6955554917302211, 0.0, 0.18287695398474843, 0.5136849922132, 0.0, 0.0, 0.21426488355354603, 0.0, 0.0, 0.47628740973863565, 0.16432155177964572, 0.47141456214798017, 0.22617849437025384, 0.26731128220110434, 0.0, 0.5565803876650232, 0.5476326263059452, 0.0, 0.5423085348977864, 1.0, 0.2587860030062261, 0.0, 0.0, 0.22290104512800657, 0.0, 0.0, 0.4458455475297494, 0.0, 0.25391182992860756, 0.2722137555784749, 0.35027582080135844, 0.0, 0.18308794729715547, 0.0, 0.18109895772793747, 0.0, 0.1866321587916448, 0.280058489649608, 0.5978334312855668, 0.3003057099600224, 0.0, 0.0, 0.0, 0.0, 0.3102002701415308, 0.2450617996314348, 0.37988365220134834, 0.0, 0.4779628391647871, 0.26383491037059953, 0.0, 0.0, 0.2794554624045622, 0.2587860030062261, 0.26170144723361466, 0.41738252741549436, 0.16903765998941886, 0.0, 0.2640115187990563, 0.3562272003696079, 0.31512288754235235, 0.2771458281924731, 0.30983342706520234, 0.3542027380384098, 0.3327768070045609, 0.2381324878959086, 0.0, 0.2965564442322815, 0.25482309990365204, 0.0, 0.4286995257197239, 0.287320435664263, 0.0, 0.26378316598235, 0.0, 0.29506961493312356, 0.0, 0.0, 0.0, 0.47717318485722127, 0.2182278529783258, 0.0, 0.45154288568552037, 0.4673725162122884, 0.0, 0.559610626116161, 0.2860463447064317, 0.0, 0.0, 0.0, 0.447102181560357, 0.20443392644716754, 0.18801840209518234, 0.0, 0.26827818875702564, 0.28479608506937504, 0.0, 0.0, 0.18856791890173658, 0.4999435374351647, 0.3026631626205009, 0.0, 0.0, 0.0, 0.25350128503196395, 0.0, 0.2800420882364427, 0.0, 0.0, 0.24439069253799012, 0.0, 0.0, 0.0, 0.0, 0.27147809594406125, 0.2936166592771608, 0.0, 0.25533527886942253, 0.0, 0.0, 0.4936925096928566, 0.17012559095303165, 0.2860413299062675, 0.0], [0.0, 0.0, 0.0, 0.0, 0.0, 0.0, 0.0, 0.0, 0.0, 0.0, 0.0, 0.0, 0.0, 0.0, 0.0, 0.3080915294679533, 0.0, 0.0, 0.2691186870205601, 0.27157416487692887, 0.3680531208470366, 0.0, 0.0, 0.26861429754871163, 0.0, 0.0, 0.0, 0.0, 0.0, 0.406009611722256, 0.0, 0.23842468679042753, 0.0, 0.5696822989099936, 0.0, 0.2644708029302076, 0.2775068702903209, 0.15836535412770708, 0.29132894232266393, 0.2587860030062261, 0.9999999999999998, 0.0, 0.0, 0.0, 0.0, 0.0, 0.23950888367558507, 0.0, 0.3628451711451277, 0.3980327872095509, 0.2961609107847454, 0.0, 0.0, 0.0, 0.0, 0.0, 0.0, 0.4105719105209532, 0.23835969043297595, 0.2586502307391962, 0.0, 0.0, 0.0, 0.0, 0.6699179711293207, 0.0, 0.0, 0.0, 0.2497110888415883, 0.5748703082701165, 0.0, 0.0, 0.23926624637245636, 0.3783986369406398, 0.37277964987606566, 0.37048154847613946, 0.1566724468666737, 0.0, 0.38603942133527025, 0.30562074215213864, 0.269804246442518, 0.23893621295472806, 0.2652754770178182, 0.5179176296917116, 0.2841083312699602, 0.3488035546449873, 0.0, 0.2528886117911896, 0.0, 0.0, 0.3654434789248246, 0.2475866811393105, 0.0, 0.2273043978058853, 0.0, 0.6237623682407423, 0.0, 0.0, 0.0, 0.22673881101952503, 0.0, 0.0, 0.23251411296317012, 0.23638036399348494, 0.0, 0.22430602263019003, 0.5990709417062383, 0.0, 0.0, 0.0, 0.2123381752916224, 0.0, 0.0, 0.0, 0.3833749902137995, 0.43952297299095044, 0.0, 0.0, 0.17477405482743233, 0.25397868386731953, 0.5177533367711998, 0.0, 0.0, 0.0, 0.3706712867174966, 0.0, 0.4524866875309282, 0.0, 0.0, 0.0, 0.0, 0.15104653542009175, 0.0, 0.0, 0.2339351902394793, 0.4300737600475025, 0.0, 0.0, 0.19124235089746783, 0.0, 0.24069142137431618, 0.0, 0.41399887290034987, 0.0], [0.2653462571013666, 0.19947894784713358, 0.4158319048117026, 0.0, 0.19923663647475146, 0.3225350127750364, 0.38784108494356045, 0.0, 0.31135968517240376, 0.4241733890908168, 0.0, 0.40682275219757025, 0.31142930726147433, 0.0, 0.30453078626272106, 0.0, 0.5395029663680215, 0.38526348519467546, 0.0, 0.0, 0.0, 0.5742526094551291, 0.3289832312668408, 0.0, 0.30486933902060603, 0.644159654948381, 0.0, 0.0, 0.3186244297015609, 0.0, 0.0, 0.0, 0.0, 0.0, 0.0, 0.0, 0.0, 0.29836199030628463, 0.0, 0.0, 0.0, 1.0, 0.29188692433904045, 0.34118452896962054, 0.3000932106585358, 0.0, 0.0, 0.7593937647949351, 0.0, 0.0, 0.0, 0.8852597226387029, 0.0, 0.31855839779438344, 0.19582514637248172, 0.31935901903433567, 0.0, 0.0, 0.0, 0.0, 0.30200816465886726, 0.37544079759541615, 0.0, 0.0, 0.0, 0.0, 0.0, 0.0, 0.29041394709408924, 0.0, 0.5601261556464875, 0.6988009294730138, 0.0, 0.0, 0.0, 0.0, 0.0, 0.26299985658667846, 0.0, 0.0, 0.0, 0.0, 0.0, 0.0, 0.0, 0.0, 0.0, 0.0, 0.0, 0.28181190051415994, 0.0, 0.0, 0.0, 0.0, 0.3028156639875721, 0.0, 0.3244839348450516, 0.0, 0.3245978469818618, 0.0, 0.0, 0.0, 0.0, 0.0, 0.31179082319400786, 0.0, 0.20127102290282048, 0.4025196263417041, 0.0, 0.7666619083720082, 0.0, 0.0, 0.37364575797837496, 0.36329800587439687, 0.0, 0.0, 0.3304965830256732, 0.0, 0.0, 0.0, 0.0, 0.32106860342881616, 0.28020609420709436, 0.0, 0.0, 0.34180423906218516, 0.0, 0.0, 0.6795801448651888, 0.0, 0.0, 0.2947026417160446, 0.0, 0.32873943797483846, 0.0, 0.2943973961576552, 0.0, 0.0, 0.0, 0.48337141206304624, 0.0, 0.0, 0.0, 0.0], [0.21514757482820132, 0.16141077326941444, 0.33720635467714943, 0.0, 0.161214704128233, 0.2614997297103979, 0.31444753241121076, 0.0, 0.25247155649797065, 0.3439602008231682, 0.0, 0.3298592920675901, 0.43975730254019996, 0.0, 0.4126864724825729, 0.0, 0.42863207245828466, 0.53315079847055, 0.0, 0.0, 0.0, 0.4775434444061062, 0.26672771218030905, 0.0, 0.4062994631437353, 0.48878988024331005, 0.1530103372209994, 0.0, 0.5682724630748414, 0.0, 0.0, 0.0, 0.0, 0.0, 0.1813952731838052, 0.20050535729371466, 0.19055144445090272, 0.241879366114125, 0.17438294877705973, 0.0, 0.0, 0.29188692433904045, 0.9999999999999998, 0.0, 0.6886434437032947, 0.0, 0.0, 0.28684927181996633, 0.0, 0.0, 0.17172379702010407, 0.24096483806017718, 0.0, 0.4290856599513855, 0.1584542561644193, 0.42540398014792247, 0.0, 0.2562841613540983, 0.0, 0.20884870679814319, 0.24486485669701064, 0.30447581252487504, 0.16371721048135982, 0.18288960269610904, 0.0, 0.0, 0.0, 0.0, 0.0, 0.0, 0.29002232063252714, 0.26355094926781336, 0.18003545505683421, 0.14670022195842133, 0.0, 0.0, 0.0, 0.21306581086539572, 0.0, 0.21928801243296647, 0.19122866897238253, 0.18051415346934865, 0.3555817830064344, 0.2007899178660955, 0.0, 0.0, 0.20479919821733616, 0.0, 0.0, 0.0, 0.0, 0.16287577842501635, 0.0, 0.0, 0.24552991136612728, 0.0, 0.2630990441944493, 0.0, 0.26316890594204567, 0.17189930159443415, 0.0, 0.0, 0.16048894611174422, 0.0, 0.4190197582120645, 0.1566389225488499, 0.0, 0.5252665393364697, 0.0, 0.29600189867128546, 0.16655814427657867, 0.27554783069463773, 0.3030239546556659, 0.2945488910586712, 0.0, 0.0, 0.44750826485807976, 0.23092919303477713, 0.0, 0.422142226284425, 0.19238768351434585, 0.2603059186903233, 0.6430071817952163, 0.0, 0.0, 0.45951595815739615, 0.17831529515126174, 0.0, 0.4467733289764143, 0.0, 0.0, 0.4144837721498123, 0.0, 0.26653005339153035, 0.17639945961710266, 0.0, 0.0, 0.1823394318111148, 0.0, 0.39197548319611036, 0.15331976933817001, 0.2740549855157287, 0.0, 0.0], [0.0, 0.27770509196239934, 0.0, 0.251040834991658, 0.27733041968690836, 0.0, 0.0, 0.37710235655004465, 0.0, 0.0, 0.0, 0.0, 0.0, 0.44424593384272737, 0.0, 0.5745666294704164, 0.0, 0.0, 0.2658514707911881, 0.24965187786118154, 0.3300479826815215, 0.0, 0.0, 0.24885641429802124, 0.0, 0.0, 0.0, 0.26864257190485297, 0.0, 0.0, 0.24736247104322306, 0.0, 0.3404792046954848, 0.0, 0.2537230320432693, 0.0, 0.0, 0.24741269457230652, 0.0, 0.22290104512800657, 0.0, 0.34118452896962054, 0.0, 0.9999999999999997, 0.0, 0.28676863049045925, 0.0, 0.33919715566137904, 0.23651946983088246, 0.0, 0.0, 0.29212051525274785, 0.0, 0.0, 0.495767161980298, 0.0, 0.6030784641901243, 0.0, 0.4764180155445406, 0.0, 0.2501034594542662, 0.2857485388262796, 0.28167328655731466, 0.3123294466135387, 0.0, 0.0, 0.23595934813929675, 0.0, 0.8471436814414537, 0.0, 0.5129773519711222, 0.3151799531279039, 0.2604884225947546, 0.0, 0.0, 0.0, 0.2626487093000444, 0.2752170483378625, 0.0, 0.0, 0.0, 0.0, 0.0, 0.0, 0.0, 0.2175716813582452, 0.0, 0.2498184356328004, 0.0, 0.5351080025219648, 0.0, 0.266079619888372, 0.2724620734414433, 0.24016113857684102, 0.0, 0.0, 0.0, 0.0, 0.0, 0.0, 0.0, 0.0, 0.0, 0.0, 0.0, 0.0, 0.22308115124553946, 0.27455899236587933, 0.26863345806918176, 0.33869401706281616, 0.0, 0.0, 0.0, 0.0, 0.0, 0.0, 0.0, 0.0, 0.0, 0.0, 0.0, 0.0, 0.0, 0.2984684593736217, 0.0, 0.0, 0.0, 0.3123904193709738, 0.30326136451745184, 0.0, 0.35654152939897465, 0.0, 0.2800929833253953, 0.0, 0.0, 0.5774892525490097, 0.0, 0.0, 0.28991181532835525, 0.0, 0.0, 0.25558249360199886, 0.0, 0.0], [0.22119636445446933, 0.16628845091314984, 0.3466433126787521, 0.0, 0.16608645675192668, 0.2688697139144475, 0.3233097723433113, 0.0, 0.25955380396232147, 0.35359689105912967, 0.0, 0.3391331566025717, 0.4466270311130997, 0.0, 0.576390760416334, 0.0, 0.4379651448496051, 0.5416197819586565, 0.0, 0.0, 0.0, 0.6718516262537749, 0.2742450393596839, 0.0, 0.41515126698888216, 0.4994381574662659, 0.15559169560480898, 0.0, 0.5849192766372969, 0.0, 0.0, 0.0, 0.0, 0.0, 0.18040275593501484, 0.20114484982421607, 0.19281000273388918, 0.24871874307968103, 0.0, 0.0, 0.0, 0.3000932106585358, 0.6886434437032947, 0.0, 1.0000000000000002, 0.0, 0.0, 0.29491217351922716, 0.0, 0.0, 0.0, 0.2477560766293399, 0.16716241861265033, 0.4378632359542188, 0.0, 0.4347048694599089, 0.0, 0.0, 0.0, 0.2085702828214871, 0.2517582451995481, 0.3129727187531699, 0.0, 0.0, 0.0, 0.0, 0.0, 0.21542658279705124, 0.0, 0.0, 0.29814453000117336, 0.2709787440698086, 0.1806159871647754, 0.0, 0.0, 0.0, 0.0, 0.2192403720501565, 0.0, 0.22193063129749147, 0.19350787413498705, 0.1821283199314113, 0.3628835355882493, 0.2068575952188841, 0.18143988489976018, 0.0, 0.20659678841879683, 0.0, 0.0, 0.0, 0.0, 0.0, 0.0, 0.0, 0.252431387974427, 0.0, 0.2704943627080717, 0.0, 0.2705893214642453, 0.17244755786474925, 0.0, 0.0, 0.1624017724493666, 0.0, 0.42812812208566947, 0.15823395894824474, 0.0, 0.5398065331132443, 0.0, 0.30430524470117615, 0.16633609942131045, 0.28387461995619256, 0.31147634853231704, 0.3028503171321392, 0.0, 0.0, 0.4566460198556697, 0.22720561274730422, 0.0, 0.18985164483066813, 0.1941080236675932, 0.2676472945001723, 0.6592442539221363, 0.0, 0.0, 0.4694789422890067, 0.17990979931381115, 0.0, 0.4538115735739684, 0.0, 0.0, 0.42098005034949876, 0.0, 0.27404180984946436, 0.17794777593333233, 0.0, 0.0, 0.1854155862040358, 0.0, 0.40294519394228295, 0.15519583972460793, 0.2823366624380807, 0.0, 0.0], [0.0, 0.23788903114663293, 0.0, 0.3995399995115743, 0.4255481173735068, 0.0, 0.0, 0.329366104724829, 0.0, 0.0, 0.0, 0.0, 0.0, 0.6407165601212904, 0.0, 0.2411220604034973, 0.0, 0.0, 0.22528915187306284, 0.0, 0.0, 0.0, 0.0, 0.0, 0.0, 0.0, 0.0, 0.41519316709270665, 0.0, 0.17915251947747654, 0.21189679369104555, 0.0, 0.2916628843865481, 0.0, 0.38496647086574376, 0.0, 0.0, 0.21067437638390651, 0.0, 0.0, 0.0, 0.0, 0.0, 0.28676863049045925, 0.0, 0.9999999999999998, 0.0, 0.0, 0.20264537281929543, 0.0, 0.0, 0.0, 0.0, 0.0, 0.233531682653532, 0.0, 0.41262376471667034, 0.0, 0.20413539206931242, 0.0, 0.21424479196820892, 0.24477924611534857, 0.43219120078470946, 0.26724824495718613, 0.0, 0.0, 0.0, 0.0, 0.2518330345388691, 0.0, 0.24183386862663414, 0.0, 0.22320408710204478, 0.0, 0.0, 0.0, 0.22604863127559538, 0.2354925990747187, 0.0, 0.0, 0.0, 0.0, 0.0, 0.0, 0.0, 0.1843756568993939, 0.0, 0.21170235890917793, 0.0, 0.22575839721557842, 0.0, 0.22610351071346677, 0.2313316459443581, 0.20351852506899507, 0.0, 0.0, 0.0, 0.0, 0.0, 0.0, 0.0, 0.0, 0.0, 0.0, 0.0, 0.0, 0.0, 0.22733348566683906, 0.22764667712020778, 0.0, 0.0, 0.20857351239661562, 0.19182558982119824, 0.0, 0.0, 0.0, 0.0, 0.0, 0.0, 0.0, 0.1959343713808222, 0.0, 0.0, 0.2556754437827614, 0.0, 0.0, 0.0, 0.26730041699088775, 0.0, 0.0, 0.3054160687267064, 0.0, 0.42978711775727213, 0.0, 0.0, 0.25528729035422026, 0.0, 0.0, 0.4561867607509494, 0.0, 0.0, 0.21887148488228916, 0.0, 0.0], [0.0, 0.0, 0.0, 0.0, 0.0, 0.0, 0.0, 0.0, 0.0, 0.0, 0.0, 0.0, 0.0, 0.0, 0.0, 0.33212374316838733, 0.0, 0.0, 0.2929371991629379, 0.29266964517691807, 0.3985720060458137, 0.0, 0.1656522199462016, 0.2885022515798718, 0.15501316129108986, 0.0, 0.0, 0.0, 0.0, 0.26342866076267063, 0.15028255238672428, 0.5540232452114224, 0.20493307609447856, 0.24784628314045665, 0.0, 0.28598767909604655, 0.30239234119099917, 0.0, 0.49932895672347005, 0.4458455475297494, 0.23950888367558507, 0.0, 0.0, 0.0, 0.0, 0.0, 1.0, 0.0, 0.23542254847983798, 0.2519363951773331, 0.3259028239720244, 0.0, 0.16899624953599998, 0.0, 0.16408795446279684, 0.0, 0.0, 0.25914290961571607, 0.4054195690291834, 0.27797392988960257, 0.0, 0.0, 0.0, 0.0, 0.4697157828874753, 0.44440872601406767, 0.17240651056727824, 0.0, 0.26803097091250355, 0.24453026014432863, 0.22109752845344385, 0.0, 0.25910615178659385, 0.23950888367558507, 0.24270528399114566, 0.23405887424340055, 0.1531101094271296, 0.0, 0.24434514776881658, 0.33009865607263705, 0.2921763562194214, 0.2564656036762533, 0.28727206221325335, 0.3278179708211429, 0.30879044458097005, 0.22036338292178176, 0.0, 0.2752706713103688, 0.0, 0.1877394443126026, 0.2371083921615955, 0.26591776990919697, 0.0, 0.24413380508575735, 0.15036239169904403, 0.2738419989587203, 0.0, 0.0, 0.0, 0.24518587914441042, 0.19810212999482466, 0.0, 0.25309291514224136, 0.549272888335763, 0.0, 0.38698292907509, 0.2652171010427709, 0.0, 0.0, 0.0, 0.22954673507144605, 0.18523839012055768, 0.17030239368498956, 0.0, 0.24874278176204845, 0.26461899079003076, 0.0, 0.0, 0.34160729910983434, 0.27370737317238747, 0.2803444341619641, 0.0, 0.0, 0.0, 0.23461782740572423, 0.16822589815931166, 0.25937430577478, 0.23893849810455556, 0.0, 0.22207823800164223, 0.0, 0.0, 0.0, 0.0, 0.2512555352554023, 0.2717074049500953, 0.1855514072852211, 0.0, 0.0, 0.0, 0.2657575049266654, 0.1555412077666782, 0.2649483144404194, 0.0], [0.26076511776201977, 0.19563455146202455, 0.4087039087366105, 0.0, 0.19539690996069456, 0.3169452775245969, 0.6504419637353227, 0.0, 0.30600286902757157, 0.41688976668559957, 0.0, 0.3997990551814798, 0.3060282090678549, 0.0, 0.2992731354474038, 0.0, 0.3153443951182021, 0.6356735380841302, 0.0, 0.0, 0.0, 0.35855226387879174, 0.3232817443219231, 0.0, 0.29962418662900586, 0.36072729948914733, 0.0, 0.0, 0.3131024673228711, 0.0, 0.0, 0.0, 0.0, 0.0, 0.0, 0.0, 0.0, 0.2931648262329605, 0.0, 0.0, 0.0, 0.7593937647949351, 0.28684927181996633, 0.33919715566137904, 0.29491217351922716, 0.0, 0.0, 1.0, 0.0, 0.0, 0.0, 0.6424655985687868, 0.0, 0.31307233722441297, 0.19205116674729977, 0.3138645776193732, 0.0, 0.0, 0.0, 0.0, 0.2967833276455152, 0.36903353975584047, 0.0, 0.0, 0.0, 0.0, 0.0, 0.0, 0.2887922872298947, 0.0, 0.5500865780209588, 0.6941341153688474, 0.0, 0.0, 0.0, 0.0, 0.0, 0.25824195929580324, 0.0, 0.0, 0.0, 0.0, 0.0, 0.0, 0.0, 0.0, 0.0, 0.0, 0.0, 0.5641422849271679, 0.0, 0.0, 0.0, 0.0, 0.29758939324606337, 0.0, 0.3188836931916346, 0.0, 0.318968367661489, 0.0, 0.0, 0.0, 0.0, 0.0, 0.3064078295863921, 0.0, 0.19785503446077288, 0.39554861856864093, 0.0, 0.7614203802766424, 0.0, 0.0, 0.3672738457944265, 0.357001822237221, 0.0, 0.0, 0.3247925695697954, 0.0, 0.0, 0.0, 0.0, 0.31549834384903064, 0.275368403352437, 0.0, 0.0, 0.33590307104486083, 0.0, 0.0, 0.6749860259292784, 0.25917055643474335, 0.0, 0.28959974905257185, 0.0, 0.32304217612147407, 0.0, 0.2927534928732252, 0.0, 0.0, 0.0, 0.4750856853351817, 0.0, 0.0, 0.0, 0.0], [0.0, 0.1961508013688318, 0.0, 0.17704569542003157, 0.19588577255841777, 0.2655706167884884, 0.0, 0.26686647910608224, 0.2355860959908904, 0.3171322162504087, 0.0, 0.0, 0.0, 0.3145571423111239, 0.23196538122052604, 0.5047550847746334, 0.0, 0.0, 0.4515051022223169, 0.26514908314627383, 0.3601211607923486, 0.0, 0.25537156775428255, 0.26186614153573495, 0.0, 0.0, 0.0, 0.18969303179422933, 0.0, 0.39060604517097297, 0.1747189674515302, 0.23435684941331225, 0.514194315806718, 0.37128110483417426, 0.17929366379200581, 0.2586050952616317, 0.27228009411112114, 0.3498503346175937, 0.2863584890673043, 0.25391182992860756, 0.3628451711451277, 0.0, 0.0, 0.23651946983088246, 0.0, 0.20264537281929543, 0.23542254847983798, 0.0, 1.0, 0.38604601920072235, 0.29186294598109996, 0.0, 0.0, 0.0, 0.1925579606453846, 0.0, 0.18502398698879688, 0.3981035926824753, 0.4031768055897004, 0.2522221483059716, 0.1766550035161537, 0.20183211076423654, 0.19895364716571584, 0.22058277075148322, 0.43983068724289515, 0.0, 0.0, 0.0, 0.4501417866761828, 0.36819570054369494, 0.19936703914262782, 0.0, 0.418105063491791, 0.3628451711451277, 0.3625099811192835, 0.35932827323234495, 0.47888041578786167, 0.19437212769607315, 0.3741042835873002, 0.29868681491380805, 0.26398966049241906, 0.2328688033561087, 0.2595584911589532, 0.49662946067654046, 0.2784374063655047, 0.49339582425572104, 0.0, 0.4242756227066377, 0.0, 0.18728519888301104, 0.3515789476777129, 0.4291594192982603, 0.19228151979279529, 0.3910489914035819, 0.0, 0.40543661481497384, 0.0, 0.0, 0.0, 0.22170996258776834, 0.0, 0.0, 0.22802541784024294, 0.2323474054403549, 0.0, 0.2199757850502337, 0.3974506473316897, 0.193297098734895, 0.18954470169661622, 0.0, 0.20760181904198366, 0.0, 0.0, 0.0, 0.3726956613570136, 0.2378037276786092, 0.0, 0.0, 0.0, 0.24796988769765727, 0.253940265688293, 0.0, 0.13208110764762793, 0.21081654310243383, 0.3605918605380642, 0.0, 0.23498459953477985, 0.2206258327807642, 0.0, 0.0, 0.2518346635552108, 0.17466900640280075, 0.19783704394501045, 0.0, 0.22805824632745575, 0.6284155348168914, 0.0, 0.0, 0.39348184655986684, 0.0, 0.23755820142123535, 0.18051963172164096, 0.39941361674552583, 0.0], [0.0, 0.0, 0.0, 0.23048814028617018, 0.0, 0.0, 0.0, 0.0, 0.0, 0.0, 0.0, 0.0, 0.0, 0.0, 0.0, 0.3240776213710839, 0.0, 0.0, 0.28308257648869956, 0.28566546289390377, 0.3871504683958493, 0.0, 0.0, 0.28255201552013426, 0.0, 0.0, 0.0, 0.0, 0.0, 0.42722758400113875, 0.0, 0.25079594205209926, 0.0, 0.6626695997717017, 0.0, 0.27819352542322184, 0.29190600141824324, 0.18220679747585547, 0.306445265884219, 0.2722137555784749, 0.3980327872095509, 0.0, 0.0, 0.0, 0.0, 0.0, 0.2519363951773331, 0.0, 0.38604601920072235, 1.0000000000000002, 0.31152795299488273, 0.0, 0.0, 0.0, 0.0, 0.0, 0.0, 0.6123332309537846, 0.2507275731976972, 0.2720709384311706, 0.0, 0.0, 0.0, 0.0, 0.47994864455008246, 0.0, 0.0, 0.0, 0.2626679670210894, 0.7221081375324252, 0.0, 0.0, 0.2516811680369127, 0.3980327872095509, 0.3944275280348424, 0.39210559850420207, 0.16480178472488805, 0.0, 0.5751122616790785, 0.32147863113722114, 0.28380370785884895, 0.25133401001807637, 0.2790399520184032, 0.5447910683766415, 0.2988499955473583, 0.37007569675893387, 0.0, 0.26601036361711766, 0.0, 0.0, 0.3845414740989629, 0.26043332916471756, 0.0, 0.2390986493375186, 0.0, 0.4406947116128074, 0.0, 0.0, 0.0, 0.2385037156802412, 0.0, 0.0, 0.24457868346604325, 0.2486455445046823, 0.0, 0.23594469604125146, 0.43255670829377935, 0.0, 0.0, 0.0, 0.22335586730872156, 0.0, 0.0, 0.0, 0.4056491684411872, 0.25454275877622756, 0.0, 0.0, 0.0, 0.2671569967821556, 0.27355273224705573, 0.0, 0.0, 0.0, 0.39289133048310565, 0.0, 0.25316694895757863, 0.0, 0.0, 0.0, 0.0, 0.17816999521370228, 0.0, 0.0, 0.2460734968557073, 0.4561498674156641, 0.0, 0.0, 0.20691618941434742, 0.0, 0.25318029177276435, 0.0, 0.7905224353104622, 0.0], [0.0, 0.0, 0.0, 0.0, 0.0, 0.0, 0.0, 0.0, 0.0, 0.0, 0.0, 0.0, 0.0, 0.0, 0.0, 0.4111599466955507, 0.0, 0.0, 0.36374919652468984, 0.3622824900909299, 0.4941259901452921, 0.0, 0.0, 0.3567428826860439, 0.0, 0.0, 0.0, 0.0, 0.0, 0.3265832669067102, 0.0, 0.5014186755707349, 0.0, 0.30726515711826385, 0.0, 0.3543904390366341, 0.3756151632614367, 0.0, 0.7830641681841121, 0.35027582080135844, 0.2961609107847454, 0.0, 0.17172379702010407, 0.0, 0.0, 0.0, 0.3259028239720244, 0.0, 0.29186294598109996, 0.31152795299488273, 0.9999999999999999, 0.0, 0.0, 0.0, 0.2906161763032909, 0.0, 0.0, 0.3203433264728597, 0.3267983864749991, 0.3437920869945792, 0.0, 0.0, 0.36798929746453385, 0.28093198023610944, 0.35500063165541274, 0.0, 0.0, 0.0, 0.33136355895501174, 0.30298952389825834, 0.0, 0.0, 0.3212244760350042, 0.6395577631659753, 0.3009987009126676, 0.28936425260950566, 0.1833970467474897, 0.0, 0.49200145408008, 0.4089016703376826, 0.36222295877290084, 0.31706543051493463, 0.3561429052442974, 0.4053581116494242, 0.38325599781264397, 0.2724326766408071, 0.0, 0.3418121215129953, 0.0, 0.0, 0.293952955228721, 0.32881640013332064, 0.0, 0.30187978398946447, 0.0, 0.33995203652359074, 0.19762461709282464, 0.0, 0.0, 0.3038296322072985, 0.0, 0.0, 0.3142733145266223, 0.4971193656163802, 0.0, 0.3031790040694838, 0.3288004693464588, 0.0, 0.0, 0.0, 0.2844239233649306, 0.0, 0.0, 0.0, 0.3083765830647389, 0.5091608896593078, 0.0, 0.0, 0.0, 0.3388099529392544, 0.34705860384087994, 0.0, 0.0, 0.0, 0.29011295274097, 0.0, 0.32106769837675125, 0.0, 0.0, 0.0, 0.0, 0.0, 0.0, 0.0, 0.3106860464588856, 0.33590869141792196, 0.0, 0.0, 0.0, 0.0, 0.3314514149116695, 0.0, 0.32799863630095255, 0.0], [0.21906909344416647, 0.16848273937585317, 0.34282417335763965, 0.0, 0.1682780797651952, 0.26648523122509005, 0.32044248564065936, 0.0, 0.25688017192967927, 0.34982088846759263, 0.0, 0.3358716738270641, 0.25734576321990665, 0.0, 0.2514197260635486, 0.0, 0.50436606533311, 0.3178528082729678, 0.0, 0.0, 0.0, 0.4778566373246553, 0.2718128853640747, 0.0, 0.25152546059499326, 0.6475700896063861, 0.0, 0.0, 0.26325422499852913, 0.0, 0.0, 0.0, 0.0, 0.0, 0.0, 0.0, 0.0, 0.2467627113424649, 0.0, 0.0, 0.0, 0.8852597226387029, 0.24096483806017718, 0.29212051525274785, 0.2477560766293399, 0.0, 0.0, 0.6424655985687868, 0.0, 0.0, 0.0, 0.9999999999999999, 0.0, 0.2628703993519141, 0.16539668699674887, 0.2634798389888175, 0.0, 0.0, 0.0, 0.0, 0.24943878787296245, 0.30925576029610713, 0.0, 0.0, 0.0, 0.0, 0.0, 0.0, 0.24871125933271457, 0.0, 0.4659354457782741, 0.5912738582953303, 0.0, 0.0, 0.0, 0.0, 0.0, 0.21919016373937497, 0.0, 0.0, 0.0, 0.0, 0.0, 0.0, 0.0, 0.0, 0.0, 0.0, 0.0, 0.24128596285174075, 0.0, 0.0, 0.0, 0.0, 0.24998696875538914, 0.0, 0.2678750306822462, 0.0, 0.2682274234420433, 0.0, 0.0, 0.0, 0.0, 0.0, 0.2574135913107248, 0.0, 0.1703950450272363, 0.33252367989364134, 0.0, 0.6479439062724208, 0.0, 0.0, 0.30773252705756565, 0.300164475993119, 0.15143109177779257, 0.0, 0.2728387226956418, 0.0, 0.0, 0.0, 0.0, 0.26532990674885426, 0.2313373314778998, 0.0, 0.0, 0.2821925796304756, 0.0, 0.0, 0.5746675670700507, 0.0, 0.0, 0.24344700353407414, 0.0, 0.27161145820355836, 0.0, 0.252122695467241, 0.0, 0.0, 0.0, 0.39850574919273307, 0.0, 0.0, 0.0, 0.0], [0.0, 0.0, 0.0, 0.0, 0.0, 0.0, 0.0, 0.0, 0.0, 0.0, 0.0, 0.0, 0.0, 0.0, 0.1675645015645385, 0.0, 0.0, 0.0, 0.0, 0.0, 0.0, 0.19613718886376294, 0.18549099058590449, 0.0, 0.0, 0.0, 0.0, 0.0, 0.0, 0.0, 0.25100530374818164, 0.0, 0.23280014625009343, 0.0, 0.0, 0.0, 0.0, 0.0, 0.20556021922137416, 0.18308794729715547, 0.0, 0.0, 0.0, 0.0, 0.16716241861265033, 0.0, 0.16899624953599998, 0.0, 0.0, 0.0, 0.0, 0.0, 0.9999999999999996, 0.0, 0.1864008510720197, 0.0, 0.0, 0.0, 0.16258464994399782, 0.0, 0.0, 0.0, 0.0, 0.0, 0.0, 0.2754134568337303, 0.21346670514284288, 0.19004447260433954, 0.0, 0.0, 0.0, 0.0, 0.0, 0.2336085812231741, 0.19429652994180255, 0.0, 0.0, 0.0, 0.2092175819685167, 0.0, 0.0, 0.27437937316372346, 0.23157287582400932, 0.0, 0.2037235948136298, 0.0, 0.0, 0.0, 0.0, 0.0, 0.0, 0.0, 0.0, 0.0, 0.0, 0.0, 0.0, 0.0, 0.0, 0.0, 0.24648417356487384, 0.0, 0.0, 0.0, 0.0, 0.0, 0.0, 0.0, 0.0, 0.0, 0.0, 0.21085115442068056, 0.19029459558371503, 0.0, 0.0, 0.0, 0.0, 0.0, 0.41058136477871193, 0.0, 0.0, 0.0, 0.0, 0.0, 0.0, 0.0, 0.0, 0.0, 0.0, 0.2892940785364814, 0.0, 0.0, 0.0, 0.0, 0.0, 0.0, 0.0, 0.0, 0.0, 0.0, 0.0, 0.429152805389434, 0.18369602671504084, 0.0], [0.23480690983954453, 0.1738515304616353, 0.36831431972178647, 0.0, 0.17364034926486474, 0.28527207094930185, 0.3430332370713612, 0.0, 0.2756494006032192, 0.37561836523599346, 0.0, 0.3600005303991841, 0.47712218677800633, 0.0, 0.44802550661351426, 0.0, 0.46546971652524954, 0.5788446652679746, 0.0, 0.0, 0.0, 0.5187190911802859, 0.2909753173263817, 0.0, 0.4412560998492805, 0.530858850158957, 0.16480362966802214, 0.0, 0.28181328325865274, 0.0, 0.0, 0.0, 0.0, 0.0, 0.19537633841127663, 0.21595933483997837, 0.2052382228178201, 0.26371608904510135, 0.0, 0.0, 0.0, 0.31855839779438344, 0.4290856599513855, 0.0, 0.4378632359542188, 0.0, 0.0, 0.31307233722441297, 0.0, 0.0, 0.0, 0.2628703993519141, 0.0, 1.0000000000000002, 0.0, 0.7132636477573951, 0.0, 0.0, 0.0, 0.22494574913650214, 0.2671777369505216, 0.3327278522529172, 0.0, 0.0, 0.0, 0.0, 0.17900063324408927, 0.0, 0.0, 0.0, 0.31673852534620994, 0.28750976217660695, 0.19391171211815564, 0.0, 0.0, 0.0, 0.0, 0.23128249031568973, 0.0, 0.23618966566580052, 0.20596764451093652, 0.19442730627559324, 0.2025282518555346, 0.21626582795698288, 0.0, 0.0, 0.22058412413384051, 0.0, 0.0, 0.0, 0.0, 0.0, 0.0, 0.0, 0.2679756609531889, 0.0, 0.4875360345799168, 0.0, 0.5352934034865348, 0.18514846352663789, 0.0, 0.0, 0.17285865335104386, 0.0, 0.6926986964851286, 0.16871188870104534, 0.0, 0.5702941354760132, 0.0, 0.5403888091066016, 0.1793956357857309, 0.0, 0.33116843199738877, 0.32132565582834066, 0.0, 0.0, 0.48584342981574696, 0.24872809183780734, 0.0, 0.20267218140659557, 0.20721599025556223, 0.283935500918823, 0.4088461277560102, 0.0, 0.0, 0.7399742673162767, 0.19205897065508512, 0.0, 0.6487692605237669, 0.0, 0.0, 0.4497611761122161, 0.0, 0.2907596898300219, 0.18999547183787543, 0.0, 0.0, 0.1963932681925519, 0.0, 0.42813601060163264, 0.16513691130749675, 0.0, 0.0, 0.0], [0.0, 0.2260859599174347, 0.0, 0.20418223596567786, 0.22578065137499514, 0.0, 0.0, 0.3073743685824116, 0.0, 0.0, 0.0, 0.0, 0.0, 0.362228811721439, 0.0, 0.2352692915183759, 0.0, 0.0, 0.21629393413792936, 0.0, 0.0, 0.0, 0.18308686867896584, 0.0, 0.0, 0.0, 0.0, 0.2186670913484968, 0.0, 0.0, 0.36730868513048737, 0.0, 0.5036867521211107, 0.0, 0.20662080960418025, 0.0, 0.0, 0.2013509091127368, 0.4947063497542458, 0.18109895772793747, 0.0, 0.19582514637248172, 0.1584542561644193, 0.495767161980298, 0.0, 0.233531682653532, 0.16408795446279684, 0.19205116674729977, 0.1925579606453846, 0.0, 0.2906161763032909, 0.16539668699674887, 0.1864008510720197, 0.0, 1.0, 0.0, 0.21334483381972502, 0.0, 0.35213658774661766, 0.0, 0.3699418325169721, 0.42266643701412354, 0.5091811274602216, 0.703148249175237, 0.0, 0.2457936236846802, 0.19050904627642937, 0.0, 0.42681526057469654, 0.0, 0.4172464624512272, 0.18089964583487708, 0.21207314913159261, 0.2584356289403064, 0.0, 0.0, 0.21388948618513004, 0.22404502508045265, 0.0, 0.0, 0.0, 0.0, 0.0, 0.0, 0.20151042834871635, 0.17701401003322442, 0.0, 0.38122222859927773, 0.18870504150353834, 0.40023685967229206, 0.15822785081485868, 0.4028747406507223, 0.4135334630946714, 0.3664852205134153, 0.0, 0.0, 0.0, 0.0, 0.0, 0.16505231129765824, 0.43737048540902795, 0.24583204513415127, 0.0, 0.0, 0.0, 0.0, 0.1769854348670409, 0.2230691530573092, 0.40993389980230144, 0.1943957003768932, 0.15479584217976305, 0.20472723341495577, 0.1882273160534013, 0.0, 0.0, 0.0, 0.0, 0.19136760365084726, 0.18878436595082057, 0.0, 0.0, 0.0, 0.0, 0.4414811736316092, 0.0, 0.0, 0.0, 0.46360609552302534, 0.17405889204617586, 0.24536608991666867, 0.2902681171463916, 0.0, 0.2280297137694725, 0.0, 0.17608368427410473, 0.43266965175344085, 0.0, 0.0, 0.23586883981342807, 0.0, 0.0, 0.37980888581840083, 0.0, 0.0], [0.2353970415096141, 0.34975094858626327, 0.36937406139308326, 0.17392919479901658, 0.17303030103409392, 0.28593344669859366, 0.34382852650661894, 0.0, 0.431926074967758, 0.3766660802945379, 0.0, 0.3609053066443788, 0.47050009525181835, 0.0, 0.44417040250569073, 0.0, 0.46219388202307915, 0.5712153171213163, 0.0, 0.0, 0.0, 0.5166253460998483, 0.4845808841465523, 0.0, 0.4381802092349241, 0.5271670690254969, 0.1619632208220719, 0.0, 0.48763459281398147, 0.0, 0.0, 0.0, 0.0, 0.0, 0.18752183211299747, 0.20920007457518328, 0.20064229031300665, 0.2642584792636666, 0.0, 0.0, 0.0, 0.31935901903433567, 0.42540398014792247, 0.0, 0.4347048694599089, 0.0, 0.0, 0.3138645776193732, 0.0, 0.0, 0.0, 0.2634798389888175, 0.0, 0.7132636477573951, 0.0, 1.0000000000000002, 0.0, 0.0, 0.0, 0.21685945068437215, 0.2678211280847034, 0.33375936843470605, 0.0, 0.0, 0.0, 0.0, 0.0, 0.0, 0.0, 0.0, 0.31763220975768897, 0.28817632579692737, 0.18784951970277458, 0.0, 0.0, 0.0, 0.0, 0.23129529722321487, 0.0, 0.2309487437410777, 0.20136935063662068, 0.18949171984459373, 0.19800399468650853, 0.2155060242231163, 0.0, 0.0, 0.2149471898047263, 0.20870257741606144, 0.0, 0.0, 0.0, 0.0, 0.0, 0.0, 0.26865378264658246, 0.0, 0.5136022497109813, 0.0, 0.5934401662388828, 0.37746135433217454, 0.0, 0.0, 0.16899952834762913, 0.0, 0.7474324026151351, 0.16464429270462674, 0.0, 0.5696439161606662, 0.0, 0.5662767721722933, 0.17294676241274376, 0.0, 0.3322074227958621, 0.322070618332672, 0.0, 0.0, 0.4816747518333588, 0.23600500610649158, 0.0, 0.19752729673142774, 0.20195575984151848, 0.28457823353722667, 0.4058970655712875, 0.0, 0.0, 0.785264298709339, 0.18718350502386702, 0.0, 0.6416452826667847, 0.0, 0.3617814694660612, 0.4435804409576112, 0.28420939144287494, 0.29143378809377857, 0.44132784539975733, 0.0, 0.0, 0.19300840842105962, 0.0, 0.4293678757426894, 0.16150408774879774, 0.0, 0.0, 0.0], [0.1966618011611554, 0.4251048770956798, 0.0, 0.40826300264819265, 0.4269369617313434, 0.0, 0.0, 0.5260546983520195, 0.0, 0.0, 0.27110867059007976, 0.0, 0.0, 0.32924809988287845, 0.0, 0.4825963607018505, 0.0, 0.0, 0.4257202377452626, 0.21098072098137077, 0.27875285262046157, 0.0, 0.0, 0.208364253307631, 0.0, 0.0, 0.0, 0.39943847171723595, 0.0, 0.3706173514876831, 0.37858495608757364, 0.0, 0.26645108232764525, 0.0, 0.19660597528893664, 0.20060826405479693, 0.0, 0.19603762242246342, 0.0, 0.1866321587916448, 0.0, 0.0, 0.0, 0.6030784641901243, 0.0, 0.41262376471667034, 0.0, 0.0, 0.18502398698879688, 0.0, 0.0, 0.0, 0.0, 0.0, 0.21334483381972502, 0.0, 0.9999999999999997, 0.0, 0.4249102411738938, 0.0, 0.19572513253806162, 0.2236201400667071, 0.626629826946742, 0.24499667775703096, 0.0, 0.0, 0.19928720927757423, 0.21173874552473707, 0.49990162600474475, 0.0, 0.2207909563663298, 0.0, 0.390076876561152, 0.0, 0.0, 0.0, 0.38589984733059196, 0.433720048994113, 0.0, 0.0, 0.0, 0.0, 0.0, 0.0, 0.0, 0.17409154447092515, 0.231093899983497, 0.19989401665290052, 0.0, 0.21055759763015638, 0.0, 0.21171876936204018, 0.21717069393582059, 0.1921666610090463, 0.0, 0.0, 0.0, 0.0, 0.0, 0.0, 0.0, 0.0, 0.0, 0.0, 0.0, 0.16268044062734915, 0.0, 0.22988468910711493, 0.2149489920741336, 0.0, 0.0, 0.2109141858825995, 0.1939783131793488, 0.0, 0.0, 0.0, 0.0, 0.0, 0.0, 0.0, 0.19813320469773887, 0.0, 0.0, 0.4873922859479356, 0.0, 0.0, 0.0, 0.24504450585382825, 0.0, 0.0, 0.2790329293391958, 0.0, 0.2192035406264916, 0.0, 0.0, 0.22984729821963537, 0.0, 0.0, 0.6798225675842032, 0.0, 0.18221522195750356, 0.3917546207319252, 0.0, 0.2315088695008842], [0.0, 0.0, 0.0, 0.0, 0.0, 0.0, 0.0, 0.0, 0.0, 0.0, 0.0, 0.0, 0.0, 0.0, 0.0, 0.3336003342406786, 0.0, 0.0, 0.29125657978946695, 0.2940639707999001, 0.3984342556666245, 0.0, 0.0, 0.29090883529953043, 0.0, 0.0, 0.0, 0.0, 0.0, 0.44055701364270433, 0.0, 0.2579698343998648, 0.0, 0.4167618504966078, 0.0, 0.28632273930468904, 0.3003182322771419, 0.18845052970761106, 0.3152109792763404, 0.280058489649608, 0.4105719105209532, 0.0, 0.2562841613540983, 0.0, 0.0, 0.0, 0.25914290961571607, 0.0, 0.3981035926824753, 0.6123332309537846, 0.3203433264728597, 0.0, 0.0, 0.0, 0.0, 0.0, 0.0, 1.0, 0.257822465253823, 0.2801089223766563, 0.0, 0.0, 0.0, 0.0, 0.49507618414280347, 0.0, 0.0, 0.0, 0.27044528318717215, 0.579563487988955, 0.0, 0.0, 0.25901660216916594, 0.4105719105209532, 0.4067233818854221, 0.40447347861392324, 0.17044909442678863, 0.0, 0.4212182358220637, 0.33089242265598573, 0.2920753772162579, 0.25877573989998104, 0.28717277818201153, 0.5619534796272727, 0.30750289371508266, 0.3817511939375092, 0.0, 0.2736914071388177, 0.0, 0.0, 0.3965391042034188, 0.4558426608550037, 0.0, 0.2461702829209227, 0.0, 0.45437936865444817, 0.0, 0.0, 0.0, 0.24547313638598806, 0.0, 0.0, 0.25164088768484866, 0.25575792580731754, 0.0, 0.2427575940590733, 0.44605985545827276, 0.0, 0.0, 0.0, 0.22988605717923669, 0.0, 0.0, 0.0, 0.4183122233896478, 0.26183071786925444, 0.0, 0.0, 0.0, 0.5968696812593602, 0.2815908192734321, 0.0, 0.0, 0.0, 0.4052767410922747, 0.0, 0.2606100070046303, 0.0, 0.0, 0.0, 0.0, 0.1842753971924344, 0.0, 0.0, 0.25335142004419875, 0.47054049950009674, 0.0, 0.0, 0.21400664541827122, 0.0, 0.26029897042965494, 0.0, 0.6333347879899739, 0.0], [0.0, 0.19757430319281893, 0.0, 0.17827381951811377, 0.1973072700459935, 0.0, 0.0, 0.26890949236689227, 0.0, 0.0, 0.0, 0.0, 0.15180333353615985, 0.31700170709220205, 0.0, 0.7380985061627076, 0.0, 0.0, 0.4816588917923452, 0.4684357972183921, 0.6315072185654372, 0.0, 0.1596940908923814, 0.4634715841428694, 0.0, 0.0, 0.0, 0.19105782523277481, 0.0, 0.26284456714495963, 0.32071219943229423, 0.2611095724424381, 0.4397911739992422, 0.24729673992926382, 0.18061198163336303, 0.28522466086881554, 0.3023069918298595, 0.1758990107357425, 0.4931360057698859, 0.5978334312855668, 0.23835969043297595, 0.0, 0.0, 0.4764180155445406, 0.0, 0.20413539206931242, 0.4054195690291834, 0.0, 0.4031768055897004, 0.2507275731976972, 0.3267983864749991, 0.0, 0.16258464994399782, 0.0, 0.35213658774661766, 0.0, 0.4249102411738938, 0.257822465253823, 1.0000000000000002, 0.27669477113708113, 0.17793702081084142, 0.20329684287752434, 0.20039748974832527, 0.2221785274238909, 0.285715763233848, 0.21438888307328727, 0.3333308175146094, 0.0, 0.6704001102208839, 0.24385557475987998, 0.200814704684329, 0.0, 0.4438632666880032, 0.23835969043297595, 0.24225329730437486, 0.23288952445348796, 0.33456945590757475, 0.1957782693391598, 0.24317274953301418, 0.3290970280343865, 0.2915285210733908, 0.2551843106650481, 0.2866351012326233, 0.32624505965771494, 0.30845657772034546, 0.6372183149085477, 0.0, 0.45261089020155365, 0.0, 0.18861871229075888, 0.236582657800853, 0.4537666666093028, 0.1936422458354163, 0.4136100413561405, 0.0, 0.2736041767737451, 0.0, 0.0, 0.0, 0.24453172056164152, 0.19093155598698844, 0.0, 0.25293712719690026, 0.2588707428202639, 0.0, 0.24400807440892822, 0.26462904196226533, 0.1945678893339064, 0.19087876026288886, 0.0, 0.22891339085012471, 0.178569493579797, 0.16417774980338723, 0.0, 0.24819125076743967, 0.5271675900699399, 0.0, 0.0, 0.16466362613953262, 0.2726849916966542, 0.2793237674560594, 0.0, 0.0, 0.21234647686532823, 0.23349210205594767, 0.0, 0.2584054627274343, 0.22222190097578232, 0.0, 0.21401597475440554, 0.25366216913079537, 0.0, 0.19927270135516448, 0.0, 0.25004998012587004, 0.48149907089082633, 0.0, 0.0, 0.20599763130596468, 0.0, 0.2667626069982588, 0.3316232165968916, 0.26398370130606813, 0.0], [0.0, 0.0, 0.0, 0.0, 0.0, 0.0, 0.0, 0.0, 0.0, 0.0, 0.0, 0.0, 0.2549950088300884, 0.0, 0.2183415523611869, 0.35739190621147815, 0.21960987603519183, 0.3005952446687311, 0.6115593174563366, 0.31502789528035624, 0.42701384497205586, 0.2315196157270273, 0.0, 0.31155910709761353, 0.20740418826097912, 0.24923281992136637, 0.19628176192588492, 0.0, 0.0, 0.28222675853250334, 0.0, 0.2767156113491115, 0.0, 0.26553243258552933, 0.2502554568546786, 0.5759181337036284, 0.5706128413181324, 0.0, 0.3381162725375241, 0.3003057099600224, 0.2586502307391962, 0.0, 0.20884870679814319, 0.0, 0.2085702828214871, 0.0, 0.27797392988960257, 0.0, 0.2522221483059716, 0.2720709384311706, 0.3437920869945792, 0.0, 0.0, 0.22494574913650214, 0.0, 0.21685945068437215, 0.0, 0.2801089223766563, 0.27669477113708113, 1.0, 0.0, 0.0, 0.0, 0.0, 0.31003752334139023, 0.0, 0.2117597949003256, 0.0, 0.28962765305938654, 0.473522568237903, 0.0, 0.0, 0.519191082388386, 0.2586502307391962, 0.2597388197523261, 0.2529182437165728, 0.1811726887113028, 0.0, 0.263873004961318, 0.6404313111762497, 0.5624373370878702, 0.5148957777748259, 0.5530289858523278, 0.5999761786696438, 0.32966202402169664, 0.2381192337533902, 0.269898756324518, 0.2934514532235934, 0.0, 0.0, 0.2540282926955662, 0.28716969278612814, 0.0, 0.26364477195008507, 0.0, 0.4826688793524972, 0.0, 0.0, 0.0, 0.49375201887599185, 0.0, 0.0, 0.47912787007107027, 0.2743429709981225, 0.21670033797836868, 0.4657600119519294, 0.28414282074691966, 0.24654134503689282, 0.0, 0.0, 0.47313864641708625, 0.0, 0.0, 0.0, 0.45353336284632756, 0.2808447772417083, 0.23647439542698606, 0.32925304876812356, 0.0, 0.5424650589192086, 0.5550778693808641, 0.0, 0.19474837231015374, 0.0, 0.2533682853961105, 0.23787425185439517, 0.5140581213923955, 0.0, 0.25511054025972685, 0.0, 0.0, 0.23903743884732823, 0.0, 0.0, 0.5038072524499047, 0.293600316958302, 0.0, 0.23390514389075215, 0.0, 0.0, 0.479191336487319, 0.0, 0.2851057327068947, 0.0], [0.2226078621089526, 0.376844388384924, 0.3485890425007197, 0.1873192543770197, 0.37635848388772386, 0.2706958248895187, 0.32550562964173413, 0.28198896571562193, 0.2611127200199904, 0.35564733605284693, 0.0, 0.34129723220246955, 0.2613949866703334, 0.3323130957236628, 0.2554810759980137, 0.21583889537011394, 0.269116724251875, 0.32308998670737055, 0.19843067286127528, 0.0, 0.0, 0.3059408433462903, 0.27610765850314356, 0.0, 0.25566978049290034, 0.30779672963115656, 0.0, 0.2006078360072292, 0.26741376722462956, 0.0, 0.18475152245901091, 0.14980641285747207, 0.2542990905929802, 0.0, 0.18955643134565917, 0.0, 0.0, 0.7427707852108592, 0.0, 0.0, 0.0, 0.30200816465886726, 0.24486485669701064, 0.2501034594542662, 0.2517582451995481, 0.21424479196820892, 0.0, 0.2967833276455152, 0.1766550035161537, 0.0, 0.0, 0.24943878787296245, 0.0, 0.2671777369505216, 0.3699418325169721, 0.2678211280847034, 0.19572513253806162, 0.0, 0.17793702081084142, 0.0, 0.9999999999999998, 0.8311811755196623, 0.21037778409969052, 0.5709420180409112, 0.0, 0.0, 0.0, 0.0, 0.21860732960530485, 0.0, 0.5106664937941459, 0.27281917916884824, 0.19455847361468848, 0.0, 0.0, 0.0, 0.19622480320970365, 0.4273100030420599, 0.0, 0.0, 0.0, 0.0, 0.0, 0.0, 0.3231005263062247, 0.16239479510491608, 0.0, 0.470401502893125, 0.30187253249788315, 0.19808788066009064, 0.24220243584713566, 0.4838976144883481, 0.5095592054290463, 0.44115035303155414, 0.25403301067984635, 0.0, 0.27221059109186163, 0.0, 0.2724478650745756, 0.24452252638317726, 0.3455734403313711, 0.40992881139718623, 0.0, 0.0, 0.2615717641341889, 0.0, 0.0, 0.5424457939236401, 0.5092185292451304, 0.30613294410359526, 0.22932772104685023, 0.0, 0.31305347162283265, 0.30490721777694285, 0.0, 0.0, 0.27725462051678823, 0.31547842312941926, 0.0, 0.0, 0.0, 0.26949595954797945, 0.23507427714539933, 0.5397152272937525, 0.0, 0.28675102392095697, 0.0, 0.5710534769813119, 0.2684395109779858, 0.0, 0.26629548362093225, 0.24731345817619374, 0.2091972191267555, 0.27590304869748766, 0.25408337263687564, 0.22160584662254293, 0.0, 0.0, 0.2163889282319887, 0.4052069496196486, 0.0, 0.19088739047688086, 0.0, 0.0], [0.27673448297531544, 0.4305527543714998, 0.43552939125565526, 0.21401624491343482, 0.42999759811581645, 0.33561036697237767, 0.40356390372930023, 0.3221784100635651, 0.3253993333064365, 0.4438094739802919, 0.0, 0.4242829170527224, 0.3239160522266187, 0.37967480235209694, 0.3176007478194286, 0.24660054326504136, 0.3351425559916664, 0.4026355600926487, 0.22671127761346804, 0.0, 0.0, 0.38135124795289777, 0.3423199919390847, 0.0, 0.3186163282762459, 0.38366458586179325, 0.0, 0.22919873296134785, 0.33154125147055, 0.0, 0.21108255641000656, 0.0, 0.29054213692347347, 0.0, 0.21657226733423396, 0.0, 0.0, 0.5205538218519321, 0.0, 0.0, 0.0, 0.37544079759541615, 0.30447581252487504, 0.2857485388262796, 0.3129727187531699, 0.24477924611534857, 0.0, 0.36903353975584047, 0.20183211076423654, 0.0, 0.0, 0.30925576029610713, 0.0, 0.3327278522529172, 0.42266643701412354, 0.33375936843470605, 0.2236201400667071, 0.0, 0.20329684287752434, 0.0, 0.8311811755196623, 1.0000000000000002, 0.2403611071161121, 0.669870607935453, 0.0, 0.0, 0.0, 0.0, 0.2497635384481892, 0.0, 0.6152093437611502, 0.3382429148115953, 0.22228720735402113, 0.0, 0.0, 0.0, 0.22419102447041592, 0.5012761485127054, 0.0, 0.0, 0.0, 0.0, 0.0, 0.0, 0.38580573386991124, 0.18553951838762253, 0.0, 0.5519832675161062, 0.36040997221337967, 0.2263196302095365, 0.28841468311369584, 0.5666355229586219, 0.5978682981925246, 0.516667649173171, 0.31587590141852623, 0.0, 0.3384787103325592, 0.0, 0.33761258399277017, 0.29059059019412503, 0.4123145915673077, 0.4905718644501479, 0.0, 0.0, 0.32517237362078233, 0.0, 0.0, 0.6528276917376252, 0.5978359308973017, 0.3815036506334125, 0.27253308229953993, 0.0, 0.39253491878984137, 0.37802586461173254, 0.0, 0.0, 0.34475068001522485, 0.37730011920996737, 0.0, 0.0, 0.0, 0.3338700471995712, 0.29223207990196076, 0.6328664123842405, 0.0, 0.35647391604061845, 0.0, 0.6700013796527324, 0.3337099982761653, 0.0, 0.3042482719221774, 0.30681185367057845, 0.23901228644509154, 0.3420663154297025, 0.30144664714021785, 0.2531894081190491, 0.0, 0.0, 0.24722896754565749, 0.506268168483931, 0.0, 0.21809291654002244, 0.0, 0.0], [0.19736650647730686, 0.4419828317835504, 0.0, 0.4169062242732314, 0.4437985741717677, 0.0, 0.0, 0.5613273181411957, 0.0, 0.0, 0.27189283439504314, 0.0, 0.0, 0.37426000441083834, 0.0, 0.24308360691395192, 0.0, 0.0, 0.4370984538445352, 0.0, 0.0, 0.0, 0.0, 0.0, 0.0, 0.0, 0.0, 0.41448184969440544, 0.0, 0.3717140153298443, 0.3936183087342783, 0.0, 0.28639851992514775, 0.0, 0.21348358444026724, 0.20113530463023688, 0.0, 0.20803864765625169, 0.37368763050791015, 0.0, 0.0, 0.0, 0.16371721048135982, 0.28167328655731466, 0.0, 0.43219120078470946, 0.0, 0.0, 0.19895364716571584, 0.0, 0.36798929746453385, 0.0, 0.0, 0.0, 0.5091811274602216, 0.0, 0.626629826946742, 0.0, 0.20039748974832527, 0.0, 0.21037778409969052, 0.2403611071161121, 0.9999999999999998, 0.5321452596945533, 0.0, 0.0, 0.0, 0.21236233723127104, 0.24620149249356582, 0.0, 0.23742370792663586, 0.0, 0.40597732244056045, 0.3321866511285335, 0.0, 0.0, 0.40387489438835084, 0.4499982641113001, 0.0, 0.0, 0.0, 0.0, 0.0, 0.0, 0.0, 0.182893414416636, 0.23177449454876262, 0.2100004301656971, 0.0, 0.22309193361199267, 0.0, 0.22370696211088528, 0.22906132278256972, 0.20188238823315402, 0.0, 0.0, 0.0, 0.0, 0.0, 0.0, 0.0, 0.0, 0.0, 0.0, 0.0, 0.16310047973585667, 0.0, 0.23047824884607132, 0.2258165679747778, 0.0, 0.0, 0.2115033381858366, 0.1945324840006559, 0.0, 0.0, 0.0, 0.0, 0.0, 0.0, 0.0, 0.19870356866762556, 0.0, 0.0, 0.5057363033138652, 0.0, 0.0, 0.0, 0.26275325534969246, 0.0, 0.0, 0.29990918250610415, 0.0, 0.23560357133268287, 0.0, 0.0, 0.24957850353086392, 0.0, 0.0, 0.6927866385520698, 0.0, 0.18277108368118436, 0.4071575544361673, 0.0, 0.23219068619273261], [0.0, 0.2590010428805079, 0.0, 0.2347351886894961, 0.2586524656263885, 0.0, 0.0, 0.350574525047504, 0.0, 0.0, 0.0, 0.0, 0.0, 0.41260688858318095, 0.0, 0.27119713085236263, 0.0, 0.0, 0.24838200760564308, 0.0, 0.0, 0.0, 0.0, 0.0, 0.0, 0.0, 0.0, 0.25067468844930135, 0.0, 0.0, 0.23070206425443848, 0.0, 0.31754718097569656, 0.0, 0.23645206556522422, 0.0, 0.0, 0.23097460382244095, 0.28528222628117234, 0.0, 0.0, 0.0, 0.18288960269610904, 0.3123294466135387, 0.0, 0.26724824495718613, 0.0, 0.0, 0.22058277075148322, 0.0, 0.28093198023610944, 0.0, 0.0, 0.0, 0.703148249175237, 0.0, 0.24499667775703096, 0.0, 0.2221785274238909, 0.0, 0.5709420180409112, 0.669870607935453, 0.5321452596945533, 1.0000000000000002, 0.0, 0.0, 0.0, 0.0, 0.2726900599780458, 0.0, 0.2632338827230311, 0.0, 0.2429326677976935, 0.24584365483023937, 0.0, 0.0, 0.24477017057499365, 0.2567278588568511, 0.0, 0.0, 0.0, 0.0, 0.0, 0.0, 0.4300322878515072, 0.203274749065964, 0.0, 0.6111724805442857, 0.40171098999063337, 0.2477291886424169, 0.32124040193260056, 0.626838175716124, 0.6618414305254687, 0.5717388814699772, 0.0, 0.0, 0.0, 0.0, 0.0, 0.32348842258955857, 0.45948288958298844, 0.5471323858949728, 0.0, 0.0, 0.0, 0.0, 0.0, 0.25746881001464533, 0.6620433131006916, 0.0, 0.30338661977200837, 0.0, 0.0, 0.0, 0.0, 0.0, 0.0, 0.4207293414444992, 0.0, 0.0, 0.0, 0.0, 0.0, 0.6998608575885474, 0.0, 0.0, 0.0, 0.7411437409231298, 0.0, 0.0, 0.33252877842019724, 0.0, 0.2612289730912066, 0.0, 0.33542182419180405, 0.27643040018874293, 0.0, 0.0, 0.2708623457436279, 0.0, 0.0, 0.23838036132422513, 0.0, 0.0], [0.0, 0.0, 0.0, 0.0, 0.0, 0.0, 0.0, 0.0, 0.0, 0.0, 0.0, 0.0, 0.0, 0.0, 0.0, 0.369301564068661, 0.0, 0.0, 0.3225857984749792, 0.3255291179958337, 0.4411760148806712, 0.0, 0.0, 0.321981199506695, 0.19061366452873021, 0.0, 0.0, 0.0, 0.0, 0.4868427589123064, 0.0, 0.28579367273206463, 0.0, 0.6507309671012474, 0.0, 0.3170144967675249, 0.33264050269410134, 0.20732322422958668, 0.349208672643561, 0.3102002701415308, 0.6699179711293207, 0.0, 0.0, 0.0, 0.0, 0.0, 0.4697157828874753, 0.0, 0.43983068724289515, 0.47994864455008246, 0.35500063165541274, 0.0, 0.0, 0.0, 0.0, 0.0, 0.0, 0.49507618414280347, 0.285715763233848, 0.31003752334139023, 0.0, 0.0, 0.0, 0.0, 0.9999999999999998, 0.2722614551449196, 0.0, 0.0, 0.2993223988784775, 0.6482136682131292, 0.0, 0.0, 0.2868024290274322, 0.45357692470465444, 0.44942283666341565, 0.4467749970504785, 0.18779931981331907, 0.0, 0.4652862512549807, 0.36633989348399054, 0.3234075613037992, 0.2864068262740152, 0.3179790393488587, 0.6208148306906884, 0.3405535078621731, 0.4216555653321831, 0.0, 0.3031312156842439, 0.0, 0.0, 0.43820024543650554, 0.2967759248208312, 0.0, 0.27246406213881363, 0.0, 0.7078405532456715, 0.0, 0.0, 0.0, 0.271786107489492, 0.0, 0.0, 0.27870881660921404, 0.2833431944353199, 0.0, 0.2688699852618507, 0.6943954712334929, 0.0, 0.0, 0.0, 0.254524427796183, 0.0, 0.0, 0.0, 0.46220890114481383, 0.48294323072166967, 0.0, 0.0, 0.20949726179702183, 0.30443785765313397, 0.5405067038748562, 0.0, 0.0, 0.0, 0.44765874857375093, 0.0, 0.49531067231244214, 0.0, 0.0, 0.0, 0.0, 0.20265046571611303, 0.0, 0.0, 0.28041222618269274, 0.5197294523949543, 0.2280843672495203, 0.0, 0.2356765774343969, 0.0, 0.2885107504414201, 0.0, 0.4975275692220056, 0.0], [0.0, 0.0, 0.0, 0.0, 0.0, 0.0, 0.0, 0.0, 0.22436973930423829, 0.0, 0.0, 0.0, 0.0, 0.0, 0.0, 0.0, 0.0, 0.0, 0.0, 0.0, 0.0, 0.0, 0.24780186766215515, 0.0, 0.21969271352530098, 0.0, 0.0, 0.0, 0.0, 0.0, 0.2351222203884415, 0.0, 0.30697709378497195, 0.0, 0.0, 0.0, 0.0, 0.0, 0.2705644150199682, 0.2450617996314348, 0.0, 0.0, 0.0, 0.0, 0.0, 0.0, 0.44440872601406767, 0.0, 0.0, 0.0, 0.0, 0.0, 0.2754134568337303, 0.0, 0.2457936236846802, 0.0, 0.0, 0.0, 0.21438888307328727, 0.0, 0.0, 0.0, 0.0, 0.0, 0.2722614551449196, 0.9999999999999999, 0.5177637534487021, 0.0, 0.0, 0.0, 0.0, 0.0, 0.0, 0.0, 0.0, 0.0, 0.0, 0.0, 0.0, 0.0, 0.0, 0.0, 0.0, 0.0, 0.0, 0.0, 0.2766366940186273, 0.0, 0.0, 0.0, 0.0, 0.0, 0.0, 0.0, 0.0, 0.0, 0.0, 0.0, 0.0, 0.0, 0.2994178538037919, 0.0, 0.0, 0.0, 0.0, 0.0, 0.0, 0.0, 0.0, 0.0, 0.0, 0.2775284997661867, 0.254707842554996, 0.0, 0.0, 0.0, 0.0, 0.0, 0.255513236998212, 0.0, 0.0, 0.0, 0.0, 0.0, 0.0, 0.0, 0.0, 0.0, 0.0, 0.33727390560422077, 0.0, 0.0, 0.0, 0.0, 0.0, 0.0, 0.2650223706388248, 0.0, 0.0, 0.0, 0.0, 0.2429979400335396, 0.0, 0.0], [0.0, 0.0, 0.0, 0.0, 0.0, 0.0, 0.0, 0.0, 0.17390388085484618, 0.0, 0.0, 0.0, 0.0, 0.0, 0.0, 0.23903319901142953, 0.0, 0.0, 0.20244263183399508, 0.2109538038103227, 0.27904383419414985, 0.0, 0.19206559049878863, 0.21205930973310194, 0.0, 0.0, 0.0, 0.0, 0.0, 0.0, 0.18223788434016353, 0.0, 0.2379309621176722, 0.0, 0.0, 0.0, 0.0, 0.0, 0.2097083231415285, 0.37988365220134834, 0.0, 0.0, 0.0, 0.23595934813929675, 0.0, 0.0, 0.17240651056727824, 0.0, 0.0, 0.0, 0.0, 0.0, 0.21346670514284288, 0.17900063324408927, 0.19050904627642937, 0.0, 0.19928720927757423, 0.0, 0.3333308175146094, 0.2117597949003256, 0.0, 0.0, 0.0, 0.0, 0.0, 0.5177637534487021, 0.9999999999999998, 0.0, 0.1990958054703233, 0.1743127988943976, 0.0, 0.0, 0.0, 0.0, 0.0, 0.0, 0.0, 0.0, 0.0, 0.0, 0.0, 0.0, 0.0, 0.0, 0.0, 0.0, 0.21441480845801897, 0.0, 0.0, 0.0, 0.0, 0.0, 0.0, 0.0, 0.0, 0.18663674517534995, 0.0, 0.0, 0.0, 0.0, 0.23207196716979378, 0.0, 0.0, 0.0, 0.0, 0.0, 0.0, 0.0, 0.0, 0.0, 0.0, 0.2151060268056899, 0.19741825453751036, 0.0, 0.1744643056331188, 0.0, 0.0, 0.0, 0.19804249744891408, 0.0, 0.0, 0.0, 0.0, 0.0, 0.0, 0.0, 0.0, 0.0, 0.0, 0.26141333175109277, 0.0, 0.0, 0.0, 0.0, 0.0, 0.0, 0.0, 0.0, 0.0, 0.0, 0.0, 0.18834217547610035, 0.0, 0.0], [0.49224461852868157, 0.20714992659145662, 0.23509790495224964, 0.20485092593330262, 0.20911626373341707, 0.18544200111291126, 0.0, 0.24245211878436895, 0.0, 0.0, 0.2704391587516208, 0.0, 0.18903082336543864, 0.0, 0.17309656665839593, 0.0, 0.0, 0.0, 0.2123570653930571, 0.0, 0.0, 0.20286528519918595, 0.0, 0.0, 0.0, 0.0, 0.0, 0.0, 0.0, 0.1893840448566387, 0.1844487867410858, 0.0, 0.0, 0.0, 0.0, 0.20096804701542795, 0.0, 0.0, 0.0, 0.0, 0.0, 0.0, 0.0, 0.0, 0.21542658279705124, 0.0, 0.0, 0.0, 0.0, 0.0, 0.0, 0.0, 0.19004447260433954, 0.0, 0.0, 0.0, 0.21173874552473707, 0.0, 0.0, 0.0, 0.0, 0.0, 0.21236233723127104, 0.0, 0.0, 0.0, 0.0, 1.0000000000000002, 0.0, 0.0, 0.0, 0.0, 0.1862765081465157, 0.0, 0.0, 0.17009065070468493, 0.18230984619623516, 0.21654686005601184, 0.0, 0.0, 0.0, 0.0, 0.0, 0.0, 0.2081906663537587, 0.0, 0.23032757975137297, 0.0, 0.0, 0.0, 0.0, 0.0, 0.0, 0.0, 0.0, 0.0, 0.0, 0.0, 0.0, 0.0, 0.0, 0.0, 0.0, 0.0, 0.0, 0.16309045348060663, 0.18285264897613784, 0.0, 0.0, 0.0, 0.0, 0.0, 0.0, 0.0, 0.0, 0.0, 0.0, 0.0, 0.0, 0.0, 0.0, 0.0, 0.0, 0.25120298203555863, 0.1698745096934344, 0.0, 0.0, 0.0, 0.0, 0.0, 0.0, 0.0, 0.0, 0.0, 0.0, 0.0, 0.0, 0.0, 0.23409318780445165, 0.0, 0.1813020601482921, 0.19103364868284375, 0.0, 0.6593444399467172], [0.0, 0.24273302218275325, 0.0, 0.21597975981386466, 0.24240061317503472, 0.0, 0.0, 0.3360727883041384, 0.0, 0.0, 0.0, 0.0, 0.0, 0.39813013513853973, 0.0, 0.8312155140228803, 0.0, 0.0, 0.5310961574243859, 0.5147011498007037, 0.6905123386867298, 0.0, 0.0, 0.5110389841980774, 0.0, 0.0, 0.0, 0.23409215961133786, 0.0, 0.27232162573541124, 0.21621152045366532, 0.2668176616634708, 0.29760184000265044, 0.25621320991376534, 0.222813216991616, 0.29608362402401706, 0.31059692702931774, 0.21496421179928912, 0.32602205841943965, 0.4779628391647871, 0.2497110888415883, 0.29041394709408924, 0.0, 0.8471436814414537, 0.0, 0.2518330345388691, 0.26803097091250355, 0.2887922872298947, 0.4501417866761828, 0.2626679670210894, 0.33136355895501174, 0.24871125933271457, 0.0, 0.0, 0.42681526057469654, 0.0, 0.49990162600474475, 0.27044528318717215, 0.6704001102208839, 0.28962765305938654, 0.21860732960530485, 0.2497635384481892, 0.24620149249356582, 0.2726900599780458, 0.2993223988784775, 0.0, 0.1990958054703233, 0.0, 0.9999999999999999, 0.2532389557263547, 0.44168682601924203, 0.2682790292667543, 0.495602252668969, 0.2497110888415883, 0.2506036216669504, 0.24418749970398776, 0.40662373913737154, 0.24028779300817701, 0.25475336015158323, 0.3421658888225437, 0.3020398011999324, 0.26756385428331575, 0.2969699454257828, 0.34178182111385375, 0.3180134610608718, 0.4180293392621723, 0.0, 0.49906668119418696, 0.0, 0.4592077573740238, 0.2451128234946599, 0.5079524176353767, 0.23604211289579446, 0.46219566523556693, 0.0, 0.28182166985588636, 0.0, 0.0, 0.0, 0.2538414378061759, 0.0, 0.0, 0.2602487542697392, 0.26452988921965087, 0.0, 0.25106159028700953, 0.46275487268402843, 0.23196254048904894, 0.23228210927131507, 0.2882940403230401, 0.23772180770419632, 0.0, 0.0, 0.0, 0.2571399730130979, 0.27080858092202886, 0.0, 0.0, 0.0, 0.2843701545210925, 0.2911750070336444, 0.0, 0.0, 0.260881608824799, 0.24461169140801858, 0.0, 0.2694787157433297, 0.27274329435944106, 0.2581340078245299, 0.0, 0.31163507215056485, 0.0, 0.24481523152328616, 0.0, 0.26195810494898264, 0.7822287260641664, 0.0, 0.0, 0.25067518731478555, 0.0, 0.269269387996913, 0.2233282330800598, 0.27518408757197366, 0.0], [0.0, 0.0, 0.0, 0.0, 0.0, 0.0, 0.0, 0.0, 0.0, 0.0, 0.0, 0.0, 0.0, 0.0, 0.0, 0.3129158140329507, 0.0, 0.0, 0.4625788025019374, 0.2757975174718684, 0.3744133972242615, 0.0, 0.0, 0.2724690334741057, 0.0, 0.0, 0.0, 0.0, 0.0, 0.4074950487714485, 0.0, 0.24342333274227726, 0.0, 0.5455402723907331, 0.0, 0.26890481212769973, 0.2829210212289221, 0.1704101856359738, 0.2974367420551551, 0.26383491037059953, 0.5748703082701165, 0.0, 0.0, 0.0, 0.0, 0.0, 0.24453026014432863, 0.0, 0.36819570054369494, 0.7221081375324252, 0.30298952389825834, 0.0, 0.0, 0.0, 0.0, 0.0, 0.0, 0.579563487988955, 0.24385557475987998, 0.473522568237903, 0.0, 0.0, 0.0, 0.0, 0.6482136682131292, 0.0, 0.1743127988943976, 0.0, 0.2532389557263547, 0.9999999999999998, 0.0, 0.0, 0.24340097412905773, 0.3788662908020857, 0.37630893889682787, 0.3731607628121345, 0.15391760693294632, 0.0, 0.38867847177080167, 0.3106170039121815, 0.27446669726259, 0.2423118546099099, 0.269859666783824, 0.5185577117527742, 0.28938883235202445, 0.3521929157646986, 0.0, 0.25772486594836486, 0.0, 0.0, 0.366780499693072, 0.25113966131626375, 0.0, 0.23056631809910247, 0.0, 0.7563465361102923, 0.0, 0.0, 0.0, 0.23054022108955957, 0.0, 0.0, 0.2369607242101351, 0.24133615009717563, 0.0, 0.22859566195693215, 0.5809177940977547, 0.0, 0.0, 0.0, 0.21587607546271198, 0.0, 0.0, 0.0, 0.5394309016135105, 0.41035089013092757, 0.0, 0.0, 0.17170092642963694, 0.2579284024793844, 0.4612235954557361, 0.0, 0.0, 0.0, 0.37396429206081505, 0.0, 0.41955781176344353, 0.0, 0.0, 0.0, 0.0, 0.1666955494097293, 0.0, 0.0, 0.2372922653849916, 0.4341082027289791, 0.0, 0.0, 0.19333786060068325, 0.0, 0.24653629277625783, 0.0, 0.7465005664979069, 0.0], [0.2636232087272222, 0.4250316512691011, 0.4140569524498397, 0.2112661431224887, 0.4244834023597414, 0.3200569632090834, 0.38486128618021354, 0.3184935012746079, 0.30967612917215287, 0.42213457848847885, 0.0, 0.40418101423074765, 0.3089673909357401, 0.37541886963357946, 0.3025532898326643, 0.24331395158515617, 0.31903718984387885, 0.38318032323419904, 0.22384319722870566, 0.0, 0.0, 0.3628911420853042, 0.3264556397770598, 0.0, 0.3032208770345385, 0.36509249802761384, 0.0, 0.2263696343159235, 0.3161764253037417, 0.0, 0.20850296382304195, 0.22091368298359218, 0.28699148662173624, 0.0, 0.21396629852352234, 0.0, 0.0, 0.5040125606716012, 0.0, 0.0, 0.0, 0.5601261556464875, 0.29002232063252714, 0.5129773519711222, 0.29814453000117336, 0.24183386862663414, 0.22109752845344385, 0.5500865780209588, 0.19936703914262782, 0.0, 0.0, 0.4659354457782741, 0.0, 0.31673852534620994, 0.4172464624512272, 0.31763220975768897, 0.2207909563663298, 0.0, 0.200814704684329, 0.0, 0.5106664937941459, 0.6152093437611502, 0.23742370792663586, 0.2632338827230311, 0.0, 0.0, 0.0, 0.0, 0.44168682601924203, 0.0, 0.9999999999999998, 0.5096084973265648, 0.21957320767049163, 0.0, 0.0, 0.0, 0.22149338074805627, 0.4893240179181186, 0.0, 0.0, 0.0, 0.0, 0.0, 0.0, 0.0, 0.18319229394035405, 0.0, 0.21034360724918424, 0.0, 0.6121522511353306, 0.0, 0.22409730914787362, 0.2294532194370888, 0.2022122990297491, 0.4714327551708251, 0.0, 0.3224110980813419, 0.0, 0.3220318304890342, 0.0, 0.0, 0.0, 0.0, 0.21901950464006822, 0.30976618309979187, 0.0, 0.18299389402231933, 0.6301578396055504, 0.22618559136744187, 0.564064720418296, 0.0, 0.0, 0.37264583812389385, 0.36050677258154323, 0.0, 0.0, 0.32838533684671156, 0.0, 0.0, 0.0, 0.0, 0.31849459391381313, 0.2783865522232614, 0.2515804362910946, 0.0, 0.5318291604399633, 0.0, 0.49744191613742283, 0.4978673059304906, 0.0, 0.30052987490906496, 0.29251950724129205, 0.23609117676581645, 0.32621371955879364, 0.0, 0.44774520231659576, 0.0, 0.0, 0.24410109111631337, 0.4813081715575183, 0.0, 0.21542498983647737, 0.0, 0.0], [0.23960287317119167, 0.18427496001162855, 0.37495776167058625, 0.0, 0.18405111725058546, 0.2914634193960106, 0.35047819406432495, 0.0, 0.2809580588817643, 0.38261029273623515, 0.0, 0.36735359059808476, 0.281467290965159, 0.0, 0.4402763298203261, 0.0, 0.28959630495610056, 0.3476457811112698, 0.0, 0.0, 0.0, 0.3291835094296264, 0.29729044510234776, 0.0, 0.27510143985521907, 0.33118038945934863, 0.29864839255602277, 0.0, 0.2879295645607766, 0.0, 0.0, 0.0, 0.0, 0.0, 0.0, 0.0, 0.0, 0.26989226868844934, 0.0, 0.0, 0.0, 0.6988009294730138, 0.26355094926781336, 0.3151799531279039, 0.2709787440698086, 0.0, 0.0, 0.6941341153688474, 0.0, 0.0, 0.0, 0.5912738582953303, 0.0, 0.28750976217660695, 0.18089964583487708, 0.28817632579692737, 0.0, 0.0, 0.0, 0.0, 0.27281917916884824, 0.3382429148115953, 0.0, 0.0, 0.0, 0.0, 0.0, 0.0, 0.2682790292667543, 0.0, 0.5096084973265648, 0.9999999999999999, 0.0, 0.0, 0.0, 0.0, 0.0, 0.2397352916248018, 0.0, 0.0, 0.0, 0.0, 0.0, 0.0, 0.0, 0.0, 0.0, 0.0, 0.0, 0.26033261784518735, 0.0, 0.0, 0.0, 0.0, 0.2734187421303868, 0.0, 0.29298348750708475, 0.0, 0.29336891073774063, 0.0, 0.0, 0.0, 0.0, 0.0, 0.28154147671718016, 0.0, 0.18593044577986917, 0.3636917825666736, 0.0, 0.7004077615871894, 0.0, 0.0, 0.33657690590670425, 0.3282994864367147, 0.0, 0.0, 0.2984124361974193, 0.0, 0.0, 0.0, 0.0, 0.29019980406990964, 0.25302103743807297, 0.0, 0.0, 0.30864304865663256, 0.0, 0.0, 0.6211281737716757, 0.0, 0.0, 0.2662657730244727, 0.0, 0.297070137775396, 0.0, 0.27195886578493916, 0.0, 0.3558934592197894, 0.0, 0.43585848181798703, 0.0, 0.0, 0.0, 0.0], [0.15722029100005822, 0.39928976264794386, 0.0, 0.3770145944924984, 0.39974217807112794, 0.0, 0.0, 0.50953966953034, 0.0, 0.0, 0.240303483926651, 0.0, 0.21662715888542802, 0.3466134702270547, 0.18821864563976015, 0.555560181856014, 0.19017969344217014, 0.2553661505996261, 0.6849229886996782, 0.2918231878271353, 0.3963494947800969, 0.202571768193587, 0.0, 0.2882099809667921, 0.17960970450971137, 0.21582859837461352, 0.1712122962436198, 0.20890491860570562, 0.0, 0.43299914330243877, 0.3556331168748994, 0.25793324296425263, 0.26486284718988373, 0.24646424639906445, 0.40888091128584625, 0.6991878531308655, 0.5148781918710651, 0.19233008894456338, 0.3151662685361127, 0.2794554624045622, 0.23926624637245636, 0.0, 0.18003545505683421, 0.2604884225947546, 0.1806159871647754, 0.22320408710204478, 0.25910615178659385, 0.0, 0.418105063491791, 0.2516811680369127, 0.3212244760350042, 0.0, 0.0, 0.19391171211815564, 0.21207314913159261, 0.18784951970277458, 0.390076876561152, 0.25901660216916594, 0.4438632666880032, 0.519191082388386, 0.19455847361468848, 0.22228720735402113, 0.40597732244056045, 0.2429326677976935, 0.2868024290274322, 0.0, 0.0, 0.1862765081465157, 0.495602252668969, 0.24340097412905773, 0.21957320767049163, 0.0, 1.0, 0.23926624637245636, 0.2411995818535301, 0.23390363105279025, 0.5304727087985713, 0.4012772369377088, 0.2440976110312335, 0.5763058702002343, 0.5064923560843768, 0.46125821168758796, 0.4980145643156352, 0.5465905846770251, 0.3064483217204855, 0.3892549746332549, 0.43591114988264984, 0.4670473386915514, 0.17996953224380255, 0.2062379632480742, 0.2357862318874628, 0.4724397077229924, 0.3946860091442401, 0.4304746382548493, 0.0, 0.27166194964334267, 0.0, 0.0, 0.0, 0.44125055563581667, 0.0, 0.0, 0.43219722311066733, 0.4101196234358054, 0.1876563858160111, 0.5701051450943474, 0.26373820140610005, 0.43118206178539, 0.208709126819038, 0.0, 0.42116038948001416, 0.0, 0.0, 0.0, 0.24735574597843563, 0.26172687857292687, 0.2038498396407868, 0.2742375542153001, 0.0, 0.48657011028424474, 0.4979311343217976, 0.0, 0.16864660217983798, 0.44159764258346906, 0.23438014504491145, 0.20595205867847027, 0.4610901895077848, 0.2429800929597693, 0.21671542746288547, 0.0, 0.277357259411143, 0.20307064629351243, 0.21788716272793893, 0.0, 0.4513521233663789, 0.5024001573462392, 0.0, 0.20403035104123274, 0.4312594716508111, 0.0, 0.5923770808107084, 0.36781558051117014, 0.26413774140839963, 0.2036692137223129], [0.0, 0.0, 0.0, 0.0, 0.0, 0.0, 0.0, 0.0, 0.0, 0.0, 0.0, 0.0, 0.0, 0.0, 0.0, 0.3080915294679533, 0.0, 0.0, 0.2691186870205601, 0.27157416487692887, 0.3680531208470366, 0.0, 0.0, 0.26861429754871163, 0.0, 0.0, 0.0, 0.0, 0.0, 0.406009611722256, 0.0, 0.23842468679042753, 0.0, 0.3819932610723757, 0.0, 0.2644708029302076, 0.2775068702903209, 0.15836535412770708, 0.6400433124806275, 0.2587860030062261, 0.3783986369406398, 0.0, 0.14670022195842133, 0.0, 0.0, 0.0, 0.23950888367558507, 0.0, 0.3628451711451277, 0.3980327872095509, 0.6395577631659753, 0.0, 0.2336085812231741, 0.0, 0.2584356289403064, 0.0, 0.0, 0.4105719105209532, 0.23835969043297595, 0.2586502307391962, 0.0, 0.0, 0.3321866511285335, 0.24584365483023937, 0.45357692470465444, 0.0, 0.0, 0.0, 0.2497110888415883, 0.3788662908020857, 0.0, 0.0, 0.23926624637245636, 0.9999999999999998, 0.5987329737575544, 0.37048154847613946, 0.1566724468666737, 0.0, 0.6323421008689085, 0.30562074215213864, 0.269804246442518, 0.23893621295472806, 0.5345785933879504, 0.5179176296917116, 0.2841083312699602, 0.3488035546449873, 0.0, 0.2528886117911896, 0.0, 0.0, 0.3654434789248246, 0.2475866811393105, 0.0, 0.2273043978058853, 0.0, 0.41652871353784915, 0.0, 0.0, 0.0, 0.22673881101952503, 0.0, 0.0, 0.23251411296317012, 0.23638036399348494, 0.0, 0.22430602263019003, 0.40876604658249366, 0.0, 0.0, 0.0, 0.2123381752916224, 0.0, 0.0, 0.0, 0.3833749902137995, 0.241986680643286, 0.0, 0.0, 0.0, 0.25397868386731953, 0.2600589306709, 0.0, 0.0, 0.0, 0.3706712867174966, 0.0, 0.24067873673314719, 0.0, 0.0, 0.0, 0.0, 0.15104653542009175, 0.0, 0.0, 0.2339351902394793, 0.4300737600475025, 0.0, 0.0, 0.19124235089746783, 0.0, 0.24069142137431618, 0.0, 0.5822208836974706, 0.0], [0.0, 0.0, 0.0, 0.0, 0.0, 0.0, 0.0, 0.0, 0.0, 0.0, 0.22095137711579654, 0.0, 0.0, 0.0, 0.0, 0.30986672982422575, 0.0, 0.0, 0.27200211463061535, 0.27309733871906466, 0.371027088835592, 0.0, 0.0, 0.26965986667681113, 0.0, 0.0, 0.0, 0.0, 0.0, 0.40131886614999007, 0.0, 0.24160661780024603, 0.0, 0.37957246194683414, 0.0, 0.26641304928307574, 0.2806332209957303, 0.16597156815386319, 0.2952169146971393, 0.26170144723361466, 0.37277964987606566, 0.0, 0.0, 0.0, 0.0, 0.0, 0.24270528399114566, 0.0, 0.3625099811192835, 0.3944275280348424, 0.3009987009126676, 0.0, 0.19429652994180255, 0.0, 0.0, 0.0, 0.0, 0.4067233818854221, 0.24225329730437486, 0.2597388197523261, 0.0, 0.0, 0.0, 0.0, 0.44942283666341565, 0.0, 0.0, 0.0, 0.2506036216669504, 0.37630893889682787, 0.0, 0.0, 0.2411995818535301, 0.5987329737575544, 1.0, 0.36708281055989206, 0.15013234639743292, 0.0, 0.5778092659041126, 0.30768276604878114, 0.2719843371594497, 0.23979023355196746, 0.4830130448068527, 0.5102268713811601, 0.28693399801567426, 0.3464347992340194, 0.0, 0.2555981449476573, 0.0, 0.0, 0.3612214055275752, 0.24855040121188385, 0.0, 0.22818916999856426, 0.0, 0.41456739790761266, 0.0, 0.0, 0.0, 0.22840395750782205, 0.1984827218680716, 0.2180956492721265, 0.23500534692565705, 0.2395350121988706, 0.0, 0.22670931236794115, 0.4062533457039923, 0.0, 0.0, 0.0, 0.2138660183183406, 0.0, 0.0, 0.0, 0.38098316003674076, 0.24515241835921028, 0.0, 0.1738595909132633, 0.0, 0.25540317020570924, 0.26155737078438207, 0.0, 0.18637971203680784, 0.0, 0.3678848661661033, 0.0, 0.242028627862579, 0.0, 0.0, 0.21705783261977704, 0.0, 0.1622902193015485, 0.0, 0.0, 0.23484577249486402, 0.4270144351349697, 0.0, 0.0, 0.188491955291241, 0.0, 0.24504501743643664, 0.0, 0.5706307727316257, 0.0], [0.1962765258666505, 0.0, 0.0, 0.0, 0.0, 0.0, 0.0, 0.0, 0.0, 0.0, 0.0, 0.0, 0.0, 0.0, 0.0, 0.3012327681211642, 0.0, 0.0, 0.2630409282521958, 0.44811697350649526, 0.3598040370994159, 0.0, 0.0, 0.2626670163993691, 0.0, 0.0, 0.14635038502640083, 0.0, 0.0, 0.5572111319834818, 0.0, 0.38127997403466035, 0.0, 0.526325829289003, 0.0, 0.4333762759371783, 0.6239231602797999, 0.1701341446050043, 0.2846997707480619, 0.41738252741549436, 0.37048154847613946, 0.0, 0.0, 0.0, 0.0, 0.0, 0.23405887424340055, 0.0, 0.35932827323234495, 0.39210559850420207, 0.28936425260950566, 0.0, 0.0, 0.0, 0.0, 0.0, 0.0, 0.40447347861392324, 0.23288952445348796, 0.2529182437165728, 0.0, 0.0, 0.0, 0.0, 0.4467749970504785, 0.0, 0.0, 0.17009065070468493, 0.24418749970398776, 0.3731607628121345, 0.0, 0.0, 0.23390363105279025, 0.37048154847613946, 0.36708281055989206, 1.0000000000000002, 0.1536682816080336, 0.0, 0.38012091913507384, 0.29879742057286673, 0.263757190465256, 0.2336509632023897, 0.25932992323179427, 0.5070814392531164, 0.2777062383378578, 0.3445179577055046, 0.0, 0.2471773919768036, 0.17135704867274182, 0.0, 0.5015378175504435, 0.24210496398945897, 0.0, 0.22227174253559595, 0.0, 0.410109891585078, 0.0, 0.0, 0.0, 0.37154657694292453, 0.0, 0.0, 0.37585374217753204, 0.3780107683436328, 0.0, 0.3625855520084886, 0.5973192399254829, 0.0, 0.0, 0.0, 0.3481564865848158, 0.0, 0.0, 0.0, 0.37753709238354066, 0.23648443077406328, 0.0, 0.0, 0.0, 0.4190831598482986, 0.2542694753598334, 0.0, 0.0, 0.0, 0.5520051003397084, 0.0, 0.23532312189411514, 0.0, 0.0, 0.0, 0.0, 0.16642552557784768, 0.0, 0.0, 0.22875572526023036, 0.4246452362280988, 0.0, 0.1744028967958477, 0.19302467989398736, 0.0, 0.37739437324785774, 0.0, 0.4063828973583719, 0.18597207686162937], [0.1538723661740708, 0.5862864833943647, 0.0, 0.372076656391703, 0.3976677368490631, 0.16753744859529324, 0.0, 0.7162375257440057, 0.15476478080820957, 0.20833529130307452, 0.23518634545494443, 0.0, 0.0, 0.3573668255335429, 0.1546236901289026, 0.43344094394954275, 0.0, 0.0, 0.567020971338194, 0.18767927506094578, 0.24826203863477217, 0.0, 0.17088690844092994, 0.1887209901691459, 0.0, 0.0, 0.0, 0.21012418950272302, 0.0, 0.33148133240456973, 0.35380577808986474, 0.15241701820988746, 0.47848076080468116, 0.15437818659403812, 0.20000006283247643, 0.3602761091286351, 0.181266032319895, 0.19295469293551523, 0.18623695937195825, 0.16903765998941886, 0.1566724468666737, 0.0, 0.0, 0.2626487093000444, 0.0, 0.22604863127559538, 0.1531101094271296, 0.0, 0.47888041578786167, 0.16480178472488805, 0.1833970467474897, 0.0, 0.0, 0.0, 0.21388948618513004, 0.0, 0.38589984733059196, 0.17044909442678863, 0.33456945590757475, 0.1811726887113028, 0.19622480320970365, 0.22419102447041592, 0.40387489438835084, 0.24477017057499365, 0.18779931981331907, 0.0, 0.0, 0.18230984619623516, 0.40662373913737154, 0.15391760693294632, 0.22149338074805627, 0.0, 0.5304727087985713, 0.1566724468666737, 0.15013234639743292, 0.1536682816080336, 0.9999999999999999, 0.39890983937920993, 0.15983604279494135, 0.2088784093515648, 0.18199044773750436, 0.16837912570455782, 0.1789356671468785, 0.21443899210429082, 0.18808971458965895, 0.3135446280255471, 0.19897488888238185, 0.36001573359832884, 0.0, 0.20677000668066847, 0.14768978232928007, 0.3810336602710797, 0.21187449311880696, 0.34609851057445007, 0.0, 0.16609632180624087, 0.0, 0.0, 0.0, 0.15405972970598292, 0.0, 0.0, 0.15273575513938614, 0.15111015024599087, 0.0, 0.2946879164634705, 0.16519810018497463, 0.20821261547664965, 0.20849946460254745, 0.0, 0.14448634749995554, 0.0, 0.0, 0.0, 0.15493659654770672, 0.1551208684052533, 0.0, 0.0, 0.0, 0.1755194029253594, 0.1794544600735213, 0.0, 0.0, 0.439126813046802, 0.15347300915980505, 0.0, 0.16632808519592238, 0.24481795445320184, 0.0, 0.0, 0.27972772375196003, 0.0, 0.21974935934274883, 0.0, 0.1643564067150818, 0.4122011742746919, 0.0, 0.0, 0.42664145010869364, 0.0, 0.30074532438773344, 0.365865573143234, 0.16959907500009808, 0.19933218309749354], [0.40735738189961757, 0.6281915191834249, 0.29840882767072696, 0.41573195175929645, 0.6306957694297822, 0.23786942955847404, 0.28603262895743764, 0.5561491422687427, 0.22550179150423488, 0.30572378114602383, 0.2758572518593392, 0.29721422672155, 0.23008183177318794, 0.36357907085284086, 0.22248235051520515, 0.23897226047737294, 0.23296097527055915, 0.27902650937117746, 0.4362966376421602, 0.0, 0.0, 0.2640106215415326, 0.2426249878500129, 0.0, 0.22080116790261925, 0.2656121523676189, 0.0, 0.45909044635138035, 0.23498537626787067, 0.19033405317069868, 0.39214273054929144, 0.0, 0.27981478789055025, 0.0, 0.20835576108445897, 0.19887647425896104, 0.0, 0.4263425923997792, 0.0, 0.0, 0.0, 0.26299985658667846, 0.21306581086539572, 0.2752170483378625, 0.2192403720501565, 0.2354925990747187, 0.0, 0.25824195929580324, 0.19437212769607315, 0.0, 0.0, 0.21919016373937497, 0.0, 0.23128249031568973, 0.22404502508045265, 0.23129529722321487, 0.433720048994113, 0.0, 0.1957782693391598, 0.0, 0.4273100030420599, 0.5012761485127054, 0.4499982641113001, 0.2567278588568511, 0.0, 0.0, 0.0, 0.21654686005601184, 0.24028779300817701, 0.0, 0.4893240179181186, 0.2397352916248018, 0.4012772369377088, 0.0, 0.0, 0.0, 0.39890983937920993, 1.0000000000000002, 0.0, 0.22760067139077522, 0.25442420357055584, 0.18347134190421296, 0.0, 0.0, 0.0, 0.17912072347368999, 0.23634152689205348, 0.20566858080180428, 0.0, 0.2182928853636438, 0.0, 0.21895836102522842, 0.22424122801016458, 0.19771799631091402, 0.22104335484145438, 0.0, 0.23686032818054542, 0.0, 0.23981065841216864, 0.0, 0.0, 0.0, 0.0, 0.0, 0.22778634654503974, 0.16055074300414313, 0.0, 0.5232169040577968, 0.22115846629581376, 0.2643820926400729, 0.0, 0.0, 0.2646712252930578, 0.2679321189769524, 0.0, 0.0, 0.2412493214968902, 0.0, 0.0, 0.0, 0.0, 0.23741225240060054, 0.20471135688099978, 0.5157469314035162, 0.16722915515093922, 0.24971337530718843, 0.0, 0.25677797710741834, 0.23376703397788584, 0.0, 0.2930162041283326, 0.21687101263576677, 0.23018856433172552, 0.2424451904047686, 0.0, 0.24358368906834335, 0.37434213982178405, 0.0, 0.47951029761755715, 0.34687645352415525, 0.18824779611399986, 0.4056831237107845, 0.0, 0.2367659194414023], [0.0, 0.0, 0.0, 0.17411784627124768, 0.0, 0.0, 0.0, 0.0, 0.0, 0.0, 0.0, 0.0, 0.0, 0.0, 0.0, 0.31431264318418967, 0.0, 0.0, 0.27455284471392594, 0.27705790461170476, 0.3754850042303909, 0.0, 0.0, 0.2740382703977649, 0.0, 0.0, 0.0, 0.0, 0.0, 0.41434383389245033, 0.0, 0.3978607129644331, 0.0, 0.548019913661565, 0.0, 0.26981110859357477, 0.28311040570752066, 0.17561080840710575, 0.29721157883055493, 0.2640115187990563, 0.38603942133527025, 0.0, 0.0, 0.0, 0.0, 0.0, 0.24434514776881658, 0.0, 0.3741042835873002, 0.5751122616790785, 0.49200145408008, 0.0, 0.2092175819685167, 0.0, 0.0, 0.0, 0.0, 0.4212182358220637, 0.24317274953301418, 0.263873004961318, 0.0, 0.0, 0.0, 0.0, 0.4652862512549807, 0.0, 0.0, 0.0, 0.25475336015158323, 0.38867847177080167, 0.0, 0.0, 0.2440976110312335, 0.6323421008689085, 0.5778092659041126, 0.38012091913507384, 0.15983604279494135, 0.0, 1.0, 0.3117919646919221, 0.2752522472400114, 0.24376091343995462, 0.5035553926783791, 0.5283756402560393, 0.2898451661631909, 0.35870011109933947, 0.0, 0.25799504498073883, 0.0, 0.0, 0.3729449938054421, 0.25258605551566254, 0.0, 0.23189422378842056, 0.0, 0.427235158689509, 0.2753076112992947, 0.0, 0.0, 0.23131721643583952, 0.0, 0.0, 0.23720913570485888, 0.3944493391823383, 0.0, 0.22883530416035375, 0.4193404237654837, 0.0, 0.0, 0.0, 0.21662579701581758, 0.0, 0.0, 0.0, 0.39325773582847784, 0.40384117112881984, 0.0, 0.0, 0.0, 0.2591071282506079, 0.2653101499544045, 0.0, 0.0, 0.0, 0.3808414911184269, 0.0, 0.245538622991243, 0.0, 0.0, 0.0, 0.0, 0.17143647985729724, 0.0, 0.0, 0.23865890797109765, 0.4421391799415135, 0.0, 0.0, 0.20027446365823945, 0.0, 0.24555156376602033, 0.0, 0.5950031559865026, 0.0], [0.0, 0.0, 0.0, 0.0, 0.0, 0.0, 0.0, 0.0, 0.0, 0.0, 0.0, 0.0, 0.2563374253701871, 0.0, 0.22925535801899846, 0.42271224925650935, 0.23369072614677477, 0.3021777228127925, 0.3703291920418303, 0.37257515525087426, 0.5056788475375232, 0.2537981116844615, 0.0, 0.368137794670835, 0.22070243941499088, 0.2651978811024775, 0.21328244522217146, 0.22500152573577362, 0.0, 0.33421891041567187, 0.0, 0.32860438191789043, 0.0, 0.3144491357240947, 0.24726947307026942, 0.6389149606797738, 0.6462921825153449, 0.0, 0.4015186863216015, 0.3562272003696079, 0.30562074215213864, 0.0, 0.21928801243296647, 0.0, 0.22193063129749147, 0.0, 0.33009865607263705, 0.0, 0.29868681491380805, 0.32147863113722114, 0.4089016703376826, 0.0, 0.0, 0.23618966566580052, 0.0, 0.2309487437410777, 0.0, 0.33089242265598573, 0.3290970280343865, 0.6404313111762497, 0.0, 0.0, 0.0, 0.0, 0.36633989348399054, 0.0, 0.0, 0.0, 0.3421658888225437, 0.3106170039121815, 0.0, 0.0, 0.5763058702002343, 0.30562074215213864, 0.30768276604878114, 0.29879742057286673, 0.2088784093515648, 0.22760067139077522, 0.3117919646919221, 1.0, 0.876606407616636, 0.7997149634162024, 0.6252886798678637, 0.7018783103495616, 0.39077773301862895, 0.28131388146927233, 0.28318972564765266, 0.3479952890601629, 0.0, 0.0, 0.30082568938865406, 0.3393192976556589, 0.0, 0.3115222848927692, 0.0, 0.3463852018608009, 0.0, 0.0, 0.0, 0.5477611022542556, 0.0, 0.0, 0.5425712867189403, 0.3257868321155898, 0.2305814719112257, 0.5255616501223072, 0.3364879519088339, 0.28000841173760277, 0.0, 0.0, 0.5195771034873703, 0.0, 0.0, 0.0, 0.3155865472404806, 0.33346155883910744, 0.2482945715081257, 0.3114053051251779, 0.0, 0.6086724794599023, 0.622880967676061, 0.0, 0.20722333319144687, 0.0, 0.5023311073060734, 0.25296742988803245, 0.576798498243938, 0.0, 0.25641822790547425, 0.0, 0.0, 0.24029584705337007, 0.0, 0.0, 0.5645293159457971, 0.34685919092821976, 0.24174118915269938, 0.2541645262890033, 0.0, 0.0, 0.5453968111549126, 0.0, 0.3372143673481602, 0.0], [0.0, 0.0, 0.0, 0.0, 0.0, 0.0, 0.0, 0.0, 0.0, 0.0, 0.0, 0.0, 0.22363556265413495, 0.0, 0.19992062713488037, 0.37336754768599795, 0.2037617349170761, 0.26362785287865176, 0.3275478921049492, 0.3290691289718724, 0.44693632465213046, 0.22123078372876886, 0.0, 0.32499476173881814, 0.19243687029062742, 0.2312338675252691, 0.3592534541005969, 0.21647521258242136, 0.0, 0.2953941462606578, 0.0, 0.29085374684281534, 0.0, 0.2779209407214474, 0.21576314675972386, 0.5614375169294994, 0.5683677354838034, 0.0, 0.35539153088111863, 0.31512288754235235, 0.269804246442518, 0.0, 0.19122866897238253, 0.0, 0.19350787413498705, 0.0, 0.2921763562194214, 0.0, 0.26398966049241906, 0.28380370785884895, 0.36222295877290084, 0.0, 0.0, 0.20596764451093652, 0.0, 0.20136935063662068, 0.0, 0.2920753772162579, 0.2915285210733908, 0.5624373370878702, 0.0, 0.0, 0.0, 0.0, 0.3234075613037992, 0.0, 0.0, 0.0, 0.3020398011999324, 0.27446669726259, 0.0, 0.0, 0.5064923560843768, 0.269804246442518, 0.2719843371594497, 0.263757190465256, 0.18199044773750436, 0.25442420357055584, 0.2752522472400114, 0.876606407616636, 1.0000000000000002, 0.7007135020992519, 0.5495478704203649, 0.6163529668192125, 0.3455608961519109, 0.24832396100660697, 0.2469554592612285, 0.30779405416474365, 0.0, 0.0, 0.2658800711776495, 0.2995535799131586, 0.0, 0.275014171923268, 0.0, 0.306334674120858, 0.0, 0.26437468506580253, 0.0, 0.4813373485463454, 0.0, 0.0, 0.4770997754586308, 0.28835988199496265, 0.20105079764607442, 0.4621406500569055, 0.2973996030251149, 0.24399742332770002, 0.0, 0.0, 0.45655602271466716, 0.0, 0.0, 0.0, 0.2789262240652653, 0.2951315712839717, 0.2165236480360789, 0.2718543560223823, 0.0, 0.5346862379576175, 0.5471837377793375, 0.0, 0.1806841464046979, 0.0, 0.4411210087963533, 0.22057100183499537, 0.5066866492129147, 0.0, 0.2237063747553616, 0.0, 0.0, 0.20964046464001956, 0.0, 0.0, 0.49574659011455513, 0.30618271573722805, 0.2784128127785207, 0.22156872676012027, 0.0, 0.0, 0.4803158338236408, 0.0, 0.2978501370677491, 0.0], [0.0, 0.0, 0.0, 0.0, 0.0, 0.0, 0.0, 0.0, 0.0, 0.0, 0.0, 0.0, 0.21319305904256658, 0.0, 0.18871910243503381, 0.3300701328800033, 0.19177677488583245, 0.25131793770629207, 0.2882221435689211, 0.2909506595411032, 0.394248497853982, 0.20687519242351082, 0.0, 0.28781243669766104, 0.18111802183309247, 0.21763577317914087, 0.1741957649146856, 0.1813761427195458, 0.0, 0.26057111945145334, 0.0, 0.25530464795557756, 0.0, 0.24515777160623306, 0.2065108079496782, 0.5115746289068199, 0.5141295853865171, 0.0, 0.3119544123563662, 0.2771458281924731, 0.23893621295472806, 0.0, 0.18051415346934865, 0.0, 0.1821283199314113, 0.0, 0.2564656036762533, 0.0, 0.2328688033561087, 0.25133401001807637, 0.31706543051493463, 0.0, 0.27437937316372346, 0.19442730627559324, 0.0, 0.18949171984459373, 0.0, 0.25877573989998104, 0.2551843106650481, 0.5148957777748259, 0.0, 0.0, 0.0, 0.0, 0.2864068262740152, 0.0, 0.0, 0.0, 0.26756385428331575, 0.2423118546099099, 0.0, 0.0, 0.46125821168758796, 0.23893621295472806, 0.23979023355196746, 0.2336509632023897, 0.16837912570455782, 0.18347134190421296, 0.24376091343995462, 0.7997149634162024, 0.7007135020992519, 1.0, 0.49822618761974624, 0.5556249377489293, 0.30429138091946684, 0.21997933998720448, 0.2331551817695561, 0.2708399724358677, 0.0, 0.0, 0.23453635985548094, 0.2652819549922486, 0.0, 0.24355007608164495, 0.0, 0.2696612426637594, 0.0, 0.0, 0.0, 0.4385883879087296, 0.0, 0.0, 0.43172902801366375, 0.2531155914488587, 0.18922766920898731, 0.41855519618524517, 0.26234015963299084, 0.22645527495378315, 0.0, 0.0, 0.4170836291025257, 0.0, 0.0, 0.0, 0.24604454546272436, 0.25912336156686167, 0.20439185840368307, 0.26290307016134906, 0.243369920979543, 0.48632220181622215, 0.49763618910187724, 0.0, 0.1700587129595205, 0.0, 0.3976582352107187, 0.20762602583539608, 0.4608552631115984, 0.0, 0.21326731901270526, 0.0, 0.0, 0.199851452180852, 0.0, 0.0, 0.45147806460744355, 0.27123388113792707, 0.19487016490920403, 0.20758569241351316, 0.0, 0.0, 0.4321986240721066, 0.16946281832365528, 0.26331006786631345, 0.0], [0.0, 0.0, 0.0, 0.0, 0.0, 0.0, 0.0, 0.0, 0.0, 0.0, 0.0, 0.0, 0.2199107850059224, 0.0, 0.1965822118305555, 0.3671004278892168, 0.20035655268847255, 0.25923698086261504, 0.32204987308394095, 0.3235455753971961, 0.43943432426273504, 0.2175274601441071, 0.0, 0.3195395980060118, 0.1892209445374019, 0.2273695949648945, 0.18281877804102806, 0.0, 0.18748983784786388, 0.2904358403946099, 0.0, 0.2859716533504812, 0.0, 0.27325592942003607, 0.21217328928365842, 0.552040198960388, 0.5588446576972361, 0.0, 0.3494261455320241, 0.30983342706520234, 0.2652754770178182, 0.0, 0.3555817830064344, 0.0, 0.3628835355882493, 0.0, 0.28727206221325335, 0.0, 0.2595584911589532, 0.2790399520184032, 0.3561429052442974, 0.0, 0.23157287582400932, 0.2025282518555346, 0.0, 0.19800399468650853, 0.0, 0.28717277818201153, 0.2866351012326233, 0.5530289858523278, 0.0, 0.0, 0.0, 0.0, 0.3179790393488587, 0.0, 0.0, 0.0, 0.2969699454257828, 0.269859666783824, 0.0, 0.0, 0.4980145643156352, 0.5345785933879504, 0.4830130448068527, 0.25932992323179427, 0.1789356671468785, 0.0, 0.5035553926783791, 0.6252886798678637, 0.5495478704203649, 0.49822618761974624, 1.0, 0.6060072420659566, 0.3397605218379429, 0.24415574654424982, 0.24283179235188718, 0.3026276110120312, 0.0, 0.0, 0.2614171705641008, 0.2945254563322382, 0.0, 0.2703979518689606, 0.0, 0.301192727230932, 0.0, 0.0, 0.0, 0.47328074388722535, 0.0, 0.0, 0.4691059009436282, 0.28351964899600923, 0.19769093047393432, 0.4543988601119771, 0.2924076347857086, 0.23990509702112128, 0.0, 0.0, 0.44891837412781865, 0.21640456344798914, 0.0, 0.0, 0.2742443386911488, 0.29017767284123824, 0.21290798380617323, 0.2673437600033361, 0.0, 0.525730993417348, 0.5380191588780892, 0.0, 0.3388353169873763, 0.0, 0.2598582362658394, 0.216885042570849, 0.4982003585121785, 0.0, 0.21998044889933793, 0.0, 0.0, 0.2061487833189245, 0.0, 0.0, 0.48744387504681425, 0.30104331952799257, 0.0, 0.21786156881842628, 0.0, 0.0, 0.47226709261384314, 0.18008730195296835, 0.4849770353851501, 0.0], [0.0, 0.0, 0.0, 0.0, 0.0, 0.0, 0.0, 0.0, 0.0, 0.0, 0.0, 0.0, 0.22054014320934462, 0.0, 0.2099164655481041, 0.42168765712326806, 0.21783533258304727, 0.2599788859062076, 0.36834517590849336, 0.3717060106129019, 0.5037576284389139, 0.2456957992415281, 0.0, 0.36765481348590834, 0.2057282720823875, 0.2471862294144798, 0.20422711004985697, 0.0, 0.0, 0.5557090200835739, 0.0, 0.3263340207587963, 0.0, 0.5228376241848032, 0.20715164148341073, 0.6059395571708753, 0.62591215430447, 0.2167560895521335, 0.398744552803495, 0.3542027380384098, 0.5179176296917116, 0.0, 0.2007899178660955, 0.0, 0.2068575952188841, 0.0, 0.3278179708211429, 0.0, 0.49662946067654046, 0.5447910683766415, 0.4053581116494242, 0.0, 0.0, 0.21626582795698288, 0.0, 0.2155060242231163, 0.0, 0.5619534796272727, 0.32624505965771494, 0.5999761786696438, 0.0, 0.0, 0.0, 0.0, 0.6208148306906884, 0.0, 0.0, 0.0, 0.34178182111385375, 0.5185577117527742, 0.0, 0.0, 0.5465905846770251, 0.5179176296917116, 0.5102268713811601, 0.5070814392531164, 0.21443899210429082, 0.0, 0.5283756402560393, 0.7018783103495616, 0.6163529668192125, 0.5556249377489293, 0.6060072420659566, 0.9999999999999998, 0.38886163728461925, 0.4774105734374366, 0.2590526929263953, 0.34613092545432916, 0.0, 0.0, 0.5001857879861478, 0.33887412511748805, 0.0, 0.3111135808573057, 0.0, 0.5701066096807913, 0.0, 0.0, 0.0, 0.5194902923892066, 0.0, 0.0, 0.5255975780324839, 0.32353593769518496, 0.214920889931817, 0.5070432101091503, 0.5594817773555243, 0.2826685631868445, 0.0, 0.0, 0.48678322923597506, 0.0, 0.0, 0.0, 0.524728809331737, 0.3312093538946773, 0.22734962147077686, 0.24249702311191912, 0.0, 0.5859073135097896, 0.5995716190735961, 0.0, 0.19314918416901197, 0.0, 0.5073411356965817, 0.23560947204659152, 0.5552254618813435, 0.0, 0.22056378593927, 0.0, 0.0, 0.41347751265917554, 0.0, 0.0, 0.5433187665918103, 0.5886458370920257, 0.0, 0.24337346014166056, 0.26175513176868276, 0.0, 0.5279473276267822, 0.0, 0.5666439939666735, 0.0], [0.0, 0.0, 0.0, 0.0, 0.0, 0.0, 0.0, 0.0, 0.0, 0.0, 0.0, 0.0, 0.0, 0.0, 0.1841228953053955, 0.39344811015015285, 0.0, 0.0, 0.345824684131496, 0.3467465963693371, 0.4713964585376024, 0.21550582896202888, 0.0, 0.3422248561560935, 0.0, 0.0, 0.0, 0.0, 0.0, 0.31156061107450844, 0.0, 0.30739262737668394, 0.0, 0.2931311240174999, 0.0, 0.33841621171848946, 0.35685025134384896, 0.0, 0.37560023761360567, 0.3327768070045609, 0.2841083312699602, 0.0, 0.0, 0.0, 0.18143988489976018, 0.0, 0.30879044458097005, 0.0, 0.2784374063655047, 0.2988499955473583, 0.38325599781264397, 0.0, 0.2037235948136298, 0.0, 0.20151042834871635, 0.0, 0.0, 0.30750289371508266, 0.30845657772034546, 0.32966202402169664, 0.3231005263062247, 0.38580573386991124, 0.0, 0.4300322878515072, 0.3405535078621731, 0.0, 0.0, 0.2081906663537587, 0.3180134610608718, 0.28938883235202445, 0.0, 0.0, 0.3064483217204855, 0.2841083312699602, 0.28693399801567426, 0.2777062383378578, 0.18808971458965895, 0.0, 0.2898451661631909, 0.39077773301862895, 0.3455608961519109, 0.30429138091946684, 0.3397605218379429, 0.38886163728461925, 0.9999999999999998, 0.26145680797803983, 0.0, 0.6862909328465198, 0.3842119966696386, 0.0, 0.5877987351081244, 0.6774492292425485, 0.38962447493559854, 0.6219526365006448, 0.0, 0.3233758910840883, 0.0, 0.0, 0.0, 0.5997470276789263, 0.4395105593073483, 0.5231144030964813, 0.2987868310514617, 0.3047569533438578, 0.0, 0.28823921624941423, 0.3136758233863544, 0.0, 0.39312743155959645, 0.0, 0.5620296455423702, 0.0, 0.0, 0.0, 0.2941914249641089, 0.3118823263172558, 0.0, 0.40229857142128045, 0.0, 0.3242806406907907, 0.33210810753814707, 0.0, 0.0, 0.40314221894003605, 0.2783065012348796, 0.0, 0.3072992337784053, 0.4301162384833183, 0.0, 0.0, 0.0, 0.0, 0.0, 0.0, 0.61915788581137, 0.3223754775423112, 0.0, 0.0, 0.0, 0.0, 0.31215361189648433, 0.0, 0.31386920010473285, 0.0], [0.0, 0.1803168241144313, 0.0, 0.16834766974038254, 0.18008117384509348, 0.0, 0.0, 0.23484088720412638, 0.0, 0.0, 0.0, 0.0, 0.1487929823651254, 0.2732139681322016, 0.0, 0.48239666370104906, 0.0, 0.0, 0.42413900715567526, 0.24999403694202912, 0.33875081669276685, 0.0, 0.0, 0.2472975763163918, 0.0, 0.0, 0.0, 0.17554814650510348, 0.0, 0.37437092323859705, 0.16061504262821075, 0.2193658529358369, 0.22107671283179, 0.35496904851224986, 0.1631292468199032, 0.2434270517154987, 0.2553592569256979, 0.3284616189461542, 0.26804112769446753, 0.2381324878959086, 0.3488035546449873, 0.0, 0.0, 0.2175716813582452, 0.0, 0.1843756568993939, 0.22036338292178176, 0.0, 0.49339582425572104, 0.37007569675893387, 0.2724326766408071, 0.0, 0.0, 0.0, 0.17701401003322442, 0.0, 0.17409154447092515, 0.3817511939375092, 0.6372183149085477, 0.2381192337533902, 0.16239479510491608, 0.18553951838762253, 0.182893414416636, 0.203274749065964, 0.4216555653321831, 0.0, 0.0, 0.0, 0.4180293392621723, 0.3521929157646986, 0.18319229394035405, 0.0, 0.3892549746332549, 0.3488035546449873, 0.3464347992340194, 0.3445179577055046, 0.3135446280255471, 0.17912072347368999, 0.35870011109933947, 0.28131388146927233, 0.24832396100660697, 0.21997933998720448, 0.24415574654424982, 0.4774105734374366, 0.26145680797803983, 1.0, 0.0, 0.39855992875700125, 0.0, 0.174696019439339, 0.33696594525501444, 0.4035970668414798, 0.18018105766801112, 0.36870044577258926, 0.0, 0.38703367900904523, 0.0, 0.0, 0.0, 0.20869736721193416, 0.0, 0.0, 0.21396518356373231, 0.21748494613854005, 0.0, 0.20641189773337082, 0.37995484275350316, 0.19070949136689133, 0.17833626075114953, 0.0, 0.19544450987001305, 0.0, 0.0, 0.0, 0.35630496210301577, 0.48609146084225147, 0.0, 0.0, 0.0, 0.23379674758822602, 0.23939140075403215, 0.0, 0.0, 0.19379869599173782, 0.3454221033025629, 0.0, 0.22155365562587356, 0.2033144322341758, 0.0, 0.0, 0.23151595562858904, 0.16364056351480866, 0.1818750113310863, 0.0, 0.21537053719505092, 0.5918642386633015, 0.0, 0.0, 0.3762748756179415, 0.0, 0.22138155547572025, 0.16605804088742449, 0.38301554927657344, 0.0], [0.21172511416140513, 0.22608561460340815, 0.0, 0.22357646103852424, 0.22823169569825885, 0.0, 0.0, 0.2646147994798434, 0.24609785467757303, 0.0, 0.29516015006741747, 0.0, 0.2420055546556295, 0.0, 0.21410798058864097, 0.0, 0.21754133655604957, 0.28528291297408814, 0.23176874080893606, 0.0, 0.0, 0.23458360298640993, 0.0, 0.0, 0.38851668701126446, 0.24687457612734276, 0.1975481439129894, 0.0, 0.0, 0.20669574390888762, 0.20130935115152104, 0.0, 0.0, 0.0, 0.23447135020367993, 0.47839338000429393, 0.2460817383533629, 0.0, 0.0, 0.0, 0.0, 0.0, 0.20479919821733616, 0.0, 0.20659678841879683, 0.0, 0.0, 0.0, 0.0, 0.0, 0.0, 0.0, 0.0, 0.22058412413384051, 0.0, 0.2149471898047263, 0.231093899983497, 0.0, 0.0, 0.269898756324518, 0.0, 0.0, 0.23177449454876262, 0.0, 0.0, 0.2766366940186273, 0.21441480845801897, 0.23032757975137297, 0.0, 0.0, 0.0, 0.0, 0.43591114988264984, 0.0, 0.0, 0.0, 0.19897488888238185, 0.23634152689205348, 0.0, 0.28318972564765266, 0.2469554592612285, 0.2331551817695561, 0.24283179235188718, 0.2590526929263953, 0.0, 0.0, 1.0, 0.0, 0.0, 0.0, 0.0, 0.0, 0.0, 0.0, 0.0, 0.0, 0.0, 0.0, 0.0, 0.22209545143755782, 0.0, 0.0, 0.20725773811195794, 0.0, 0.21464991690075322, 0.38030292465156446, 0.0, 0.2566778749413164, 0.0, 0.0, 0.21524593896296937, 0.0, 0.0, 0.0, 0.0, 0.0, 0.23188923371780545, 0.2986664187862725, 0.0, 0.2430423493524434, 0.24849123715735524, 0.0, 0.19290566098288345, 0.2741655839237959, 0.0, 0.23552168669812878, 0.23031509859055976, 0.0, 0.24209027056377616, 0.0, 0.0, 0.22686086381500542, 0.0, 0.0, 0.22784255176518817, 0.0, 0.0, 0.2354142665825801, 0.2554917740502992, 0.28371403555912666, 0.3958710236782982, 0.2084961389224723, 0.0, 0.4827637701708062], [0.0, 0.39051665719501444, 0.0, 0.3749316754089872, 0.206771381532989, 0.0, 0.0, 0.2696471466217793, 0.16276443754475206, 0.0, 0.0, 0.0, 0.0, 0.313707582189578, 0.0, 0.578571266956075, 0.0, 0.0, 0.5108046437456418, 0.3087286163965774, 0.4198768689047712, 0.0, 0.1938604224404475, 0.30461890507363915, 0.0, 0.0, 0.0, 0.201566504723252, 0.19997399986460676, 0.2775097086173522, 0.18442013426557813, 0.2740245897461702, 0.25384295515711724, 0.2610944064213547, 0.18730697392278445, 0.3013949553559095, 0.3180096672436591, 0.18675623648330514, 0.33482813787367766, 0.2965564442322815, 0.2528886117911896, 0.0, 0.0, 0.2498184356328004, 0.0, 0.21170235890917793, 0.2752706713103688, 0.0, 0.4242756227066377, 0.26601036361711766, 0.3418121215129953, 0.0, 0.0, 0.0, 0.38122222859927773, 0.20870257741606144, 0.19989401665290052, 0.2736914071388177, 0.45261089020155365, 0.2934514532235934, 0.470401502893125, 0.5519832675161062, 0.2100004301656971, 0.6111724805442857, 0.3031312156842439, 0.0, 0.0, 0.0, 0.49906668119418696, 0.25772486594836486, 0.21034360724918424, 0.0, 0.4670473386915514, 0.2528886117911896, 0.2555981449476573, 0.2471773919768036, 0.36001573359832884, 0.20566858080180428, 0.25799504498073883, 0.3479952890601629, 0.30779405416474365, 0.2708399724358677, 0.3026276110120312, 0.34613092545432916, 0.6862909328465198, 0.39855992875700125, 0.0, 0.9999999999999999, 0.3375381927138688, 0.20058808212155718, 0.5198943002871657, 0.8006008365305439, 0.5491846377138702, 0.7329098771261261, 0.0, 0.2881347331398893, 0.0, 0.0, 0.0, 0.7214450485205548, 0.3861489214976263, 0.4594399525236799, 0.2662429033052352, 0.2716750229991943, 0.0, 0.25684413704114, 0.27939374636621844, 0.21897494423990374, 0.5501189135245692, 0.0, 0.49717085489464924, 0.0, 0.0, 0.0, 0.26203882556896574, 0.27801545853655074, 0.0, 0.35335648335906905, 0.0, 0.28872587236018976, 0.29570235955947, 0.0, 0.0, 0.5766963800560788, 0.2477243255597316, 0.0, 0.27360634035779396, 0.6112917932501842, 0.0, 0.0, 0.5915821013959989, 0.0, 0.4647368735452235, 0.0, 0.7811843968666292, 0.5059121055402012, 0.0, 0.0, 0.2209979447330143, 0.0, 0.2784740998523306, 0.19066985068905834, 0.2794628043019162, 0.0], [0.0, 0.0, 0.0, 0.0, 0.0, 0.0, 0.0, 0.0, 0.0, 0.0, 0.0, 0.0, 0.0, 0.0, 0.0, 0.0, 0.0, 0.0, 0.0, 0.2892071152069786, 0.0, 0.0, 0.0, 0.0, 0.0, 0.0, 0.1907585112751682, 0.0, 0.0, 0.19012943142321315, 0.0, 0.1818761058302444, 0.0, 0.0, 0.0, 0.22445045091358773, 0.21420220734322878, 0.0, 0.0, 0.25482309990365204, 0.0, 0.0, 0.0, 0.0, 0.0, 0.0, 0.0, 0.0, 0.0, 0.0, 0.0, 0.0, 0.0, 0.0, 0.18870504150353834, 0.0, 0.0, 0.0, 0.0, 0.0, 0.30187253249788315, 0.36040997221337967, 0.0, 0.40171098999063337, 0.0, 0.0, 0.0, 0.0, 0.0, 0.0, 0.0, 0.0, 0.17996953224380255, 0.0, 0.0, 0.17135704867274182, 0.0, 0.0, 0.0, 0.0, 0.0, 0.0, 0.0, 0.0, 0.3842119966696386, 0.0, 0.0, 0.3375381927138688, 1.0000000000000002, 0.0, 0.4583059396054052, 0.33822969069180703, 0.6322706231231303, 0.31052193845400383, 0.17110112507688946, 0.0, 0.0, 0.0, 0.0, 0.48173063320226667, 0.4105907732801038, 0.48861405163368543, 0.3472969044772131, 0.3687241528648283, 0.0, 0.22428848112043442, 0.0, 0.0, 0.367237060406831, 0.0, 0.4517955458124711, 0.0, 0.0, 0.0, 0.0, 0.0, 0.0, 0.3757791802168126, 0.0, 0.20288910305612698, 0.0, 0.0, 0.0, 0.3766048305966307, 0.0, 0.0, 0.0, 0.40178941175655164, 0.0, 0.0, 0.0, 0.0, 0.0, 0.0, 0.30007826905558965, 0.0, 0.0, 0.22732319391473546, 0.0, 0.0, 0.1854191931959207, 0.0, 0.0, 0.0], [0.0, 0.21994902923526477, 0.0, 0.20283703050692858, 0.2196579991040116, 0.0, 0.3053581592956872, 0.2911650138020381, 0.0, 0.0, 0.0, 0.0, 0.0, 0.34042777324325163, 0.0, 0.23739047511727215, 0.0, 0.29243962605480867, 0.2134615746837139, 0.0, 0.0, 0.0, 0.0, 0.0, 0.0, 0.0, 0.0, 0.21360778029020874, 0.0, 0.0, 0.19591695273113613, 0.18722239293810414, 0.2696676176096424, 0.0, 0.1997432737074463, 0.0, 0.0, 0.197457649307824, 0.0, 0.0, 0.0, 0.28181190051415994, 0.0, 0.5351080025219648, 0.0, 0.22575839721557842, 0.1877394443126026, 0.5641422849271679, 0.18728519888301104, 0.0, 0.0, 0.24128596285174075, 0.0, 0.0, 0.40023685967229206, 0.0, 0.21055759763015638, 0.0, 0.18861871229075888, 0.0, 0.19808788066009064, 0.2263196302095365, 0.22309193361199267, 0.2477291886424169, 0.0, 0.0, 0.0, 0.0, 0.4592077573740238, 0.0, 0.6121522511353306, 0.26033261784518735, 0.2062379632480742, 0.0, 0.0, 0.0, 0.20677000668066847, 0.2182928853636438, 0.0, 0.0, 0.0, 0.0, 0.0, 0.0, 0.0, 0.174696019439339, 0.0, 0.20058808212155718, 0.0, 1.0, 0.0, 0.21290818216096866, 0.2182469861441633, 0.19283389580609892, 0.1673598143940212, 0.0, 0.0, 0.0, 0.0, 0.0, 0.0, 0.0, 0.0, 0.18561709354090736, 0.0, 0.0, 0.1842607676006024, 0.22678048056736672, 0.21569533093619303, 0.27975478527558423, 0.0, 0.0, 0.0, 0.0, 0.0, 0.0, 0.0, 0.0, 0.0, 0.0, 0.0, 0.0, 0.0, 0.23639410942260186, 0.0, 0.1890257221905188, 0.0, 0.4677901876783676, 0.2504880914304008, 0.24873282771834287, 0.2823967130388327, 0.0, 0.22184607209619397, 0.0, 0.0, 0.4655064586912203, 0.0, 0.0, 0.23278733952795563, 0.0, 0.0, 0.2025066159568018, 0.0, 0.0], [0.0, 0.0, 0.0, 0.0, 0.0, 0.0, 0.0, 0.0, 0.0, 0.0, 0.0, 0.0, 0.0, 0.0, 0.0, 0.30299706678065613, 0.0, 0.0, 0.2658132747558778, 0.4605052814281066, 0.3626999621327859, 0.0, 0.0, 0.26374134585675196, 0.0, 0.0, 0.14583142336347968, 0.0, 0.0, 0.5481788094922596, 0.0, 0.3812263636424621, 0.0, 0.37001044922373133, 0.0, 0.4338889087873262, 0.4464304937754253, 0.15012469964856054, 0.28840908130083914, 0.4286995257197239, 0.3654434789248246, 0.0, 0.0, 0.0, 0.0, 0.0, 0.2371083921615955, 0.0, 0.3515789476777129, 0.3845414740989629, 0.293952955228721, 0.0, 0.0, 0.0, 0.15822785081485868, 0.0, 0.0, 0.3965391042034188, 0.236582657800853, 0.2540282926955662, 0.24220243584713566, 0.28841468311369584, 0.0, 0.32124040193260056, 0.43820024543650554, 0.0, 0.0, 0.0, 0.2451128234946599, 0.366780499693072, 0.0, 0.0, 0.2357862318874628, 0.3654434789248246, 0.3612214055275752, 0.5015378175504435, 0.14768978232928007, 0.0, 0.3729449938054421, 0.30082568938865406, 0.2658800711776495, 0.23453635985548094, 0.2614171705641008, 0.5001857879861478, 0.5877987351081244, 0.33696594525501444, 0.0, 0.5198943002871657, 0.4583059396054052, 0.0, 0.9999999999999999, 0.5144681936423324, 0.29126228256487136, 0.47232299576063386, 0.0, 0.4040373909231605, 0.0, 0.0, 0.0, 0.6046018111324294, 0.32874607602508366, 0.389967724565949, 0.37396647165734886, 0.37795761762257174, 0.0, 0.37280987101570934, 0.3959479842573427, 0.0, 0.2936789876918262, 0.0, 0.5666981234872721, 0.0, 0.0, 0.0, 0.3713510611782955, 0.2395066228107622, 0.0, 0.30011650656638317, 0.0, 0.4154698944985764, 0.2557587133910248, 0.0, 0.0, 0.3013674202734582, 0.3581410913020701, 0.0, 0.23666730709611591, 0.3213031142811087, 0.0, 0.0, 0.0, 0.1434221468320166, 0.0, 0.0, 0.4714023834319854, 0.4154698390261289, 0.0, 0.17378446031327124, 0.18058648739029315, 0.0, 0.38100894985304423, 0.0, 0.4003512424563996, 0.0], [0.0, 0.22055539325342208, 0.0, 0.20420760824485204, 0.22026471897726688, 0.0, 0.0, 0.2904470842558491, 0.0, 0.0, 0.0, 0.0, 0.0, 0.3390525259869256, 0.0, 0.5817520766127572, 0.0, 0.0, 0.5134299332829382, 0.3015186542593662, 0.40863563639807055, 0.0, 0.0, 0.29823242409091566, 0.0, 0.0, 0.0, 0.21436605572689166, 0.0, 0.2700800277073949, 0.19645706418830522, 0.26471402659321164, 0.2704110477613881, 0.2541042072793126, 0.20004861827366863, 0.29363205674055143, 0.30810551554336896, 0.19830595418277233, 0.3234516459831211, 0.287320435664263, 0.2475866811393105, 0.0, 0.16287577842501635, 0.266079619888372, 0.0, 0.22610351071346677, 0.26591776990919697, 0.0, 0.4291594192982603, 0.26043332916471756, 0.32881640013332064, 0.0, 0.0, 0.0, 0.4028747406507223, 0.0, 0.21171876936204018, 0.4558426608550037, 0.4537666666093028, 0.28716969278612814, 0.4838976144883481, 0.5666355229586219, 0.22370696211088528, 0.626838175716124, 0.2967759248208312, 0.0, 0.0, 0.0, 0.5079524176353767, 0.25113966131626375, 0.22409730914787362, 0.0, 0.4724397077229924, 0.2475866811393105, 0.24855040121188385, 0.24210496398945897, 0.3810336602710797, 0.21895836102522842, 0.25258605551566254, 0.3393192976556589, 0.2995535799131586, 0.2652819549922486, 0.2945254563322382, 0.33887412511748805, 0.6774492292425485, 0.4035970668414798, 0.0, 0.8006008365305439, 0.33822969069180703, 0.21290818216096866, 0.5144681936423324, 1.0, 0.5623907515623858, 0.7397009324141924, 0.0, 0.2795430593210646, 0.0, 0.0, 0.0, 0.5257121551550299, 0.38719388235629854, 0.45930013551498816, 0.2581517371828662, 0.2624442913299726, 0.0, 0.24903860098907163, 0.2719136247009949, 0.22929369539381791, 0.5627757780609832, 0.0, 0.49269881796242754, 0.0, 0.0, 0.0, 0.255023341787525, 0.26866877535762645, 0.0, 0.35347425813161965, 0.0, 0.47527341405885887, 0.2887337197172433, 0.0, 0.0, 0.5919933818204054, 0.24253066663773273, 0.0, 0.26721661407486785, 0.6269605466691461, 0.0, 0.0, 0.283176724231876, 0.0, 0.2224588356709029, 0.0, 0.5444143691488645, 0.5149197227617732, 0.0, 0.0, 0.23407110264665862, 0.0, 0.2672306973582934, 0.20308093462761298, 0.27287687230130575, 0.0], [0.0, 0.22583432204679002, 0.0, 0.20963250237530145, 0.22553745743141013, 0.0, 0.0, 0.2963919991599251, 0.0, 0.0, 0.0, 0.0, 0.0, 0.34563564464345087, 0.0, 0.24651541665620602, 0.0, 0.0, 0.22016375886198183, 0.0, 0.0, 0.0, 0.0, 0.0, 0.0, 0.0, 0.0, 0.2196090048619278, 0.0, 0.0, 0.20115920652772445, 0.0, 0.2768832570554596, 0.0, 0.20467429270830007, 0.0, 0.0, 0.20325360089024513, 0.0, 0.0, 0.0, 0.0, 0.0, 0.2724620734414433, 0.0, 0.2313316459443581, 0.0, 0.0, 0.19228151979279529, 0.0, 0.0, 0.0, 0.0, 0.0, 0.4135334630946714, 0.0, 0.21717069393582059, 0.0, 0.1936422458354163, 0.0, 0.5095592054290463, 0.5978682981925246, 0.22906132278256972, 0.6618414305254687, 0.0, 0.0, 0.0, 0.0, 0.23604211289579446, 0.0, 0.2294532194370888, 0.0, 0.3946860091442401, 0.0, 0.0, 0.0, 0.21187449311880696, 0.22424122801016458, 0.0, 0.0, 0.0, 0.0, 0.0, 0.0, 0.38962447493559854, 0.18018105766801112, 0.0, 0.5491846377138702, 0.6322706231231303, 0.2182469861441633, 0.29126228256487136, 0.5623907515623858, 0.9999999999999999, 0.5138319697177138, 0.0, 0.0, 0.0, 0.0, 0.0, 0.29345436134091707, 0.4163927821934115, 0.4954373999903311, 0.0, 0.23017232688697742, 0.0, 0.0, 0.0, 0.2360318858898865, 0.5948709972033472, 0.0, 0.2752188966513203, 0.0, 0.0, 0.0, 0.0, 0.0, 0.0, 0.38104004813952, 0.0, 0.0, 0.0, 0.0, 0.0, 0.6246351455733388, 0.0, 0.0, 0.0, 0.6619706347918018, 0.0, 0.0, 0.2899554621528129, 0.0, 0.22778409730495952, 0.0, 0.3044128152154761, 0.2392797732870575, 0.0, 0.0, 0.24009861735580085, 0.0, 0.0, 0.2079522383122726, 0.0, 0.0], [0.0, 0.1990382825261956, 0.0, 0.18582642644120978, 0.1987781657838107, 0.0, 0.0, 0.25922332586322655, 0.0, 0.0, 0.0, 0.0, 0.0, 0.30158050556996213, 0.0, 0.5334701530227168, 0.0, 0.0, 0.4691288465351312, 0.2768182675186089, 0.3751602340887811, 0.0, 0.0, 0.2738012450921445, 0.0, 0.0, 0.0, 0.19377449526761234, 0.0, 0.24795509102076244, 0.17729095656821864, 0.24302867233671843, 0.24403008119004882, 0.23328800866742316, 0.3343369313431236, 0.2695777395083687, 0.28286553359407557, 0.17953675146730227, 0.29695451011820323, 0.26378316598235, 0.2273043978058853, 0.0, 0.0, 0.24016113857684102, 0.0, 0.20351852506899507, 0.24413380508575735, 0.0, 0.3910489914035819, 0.2390986493375186, 0.30187978398946447, 0.0, 0.0, 0.0, 0.3664852205134153, 0.0, 0.1921666610090463, 0.2461702829209227, 0.4136100413561405, 0.26364477195008507, 0.44115035303155414, 0.516667649173171, 0.20188238823315402, 0.5717388814699772, 0.27246406213881363, 0.0, 0.0, 0.0, 0.46219566523556693, 0.23056631809910247, 0.2022122990297491, 0.0, 0.4304746382548493, 0.2273043978058853, 0.22818916999856426, 0.22227174253559595, 0.34609851057445007, 0.19771799631091402, 0.23189422378842056, 0.3115222848927692, 0.275014171923268, 0.24355007608164495, 0.2703979518689606, 0.3111135808573057, 0.6219526365006448, 0.36870044577258926, 0.0, 0.7329098771261261, 0.31052193845400383, 0.19283389580609892, 0.47232299576063386, 0.7397009324141924, 0.5138319697177138, 1.0, 0.0, 0.4332638677357156, 0.0, 0.0, 0.0, 0.4826458527448437, 0.35547498701515307, 0.42167430103662257, 0.23700396520876432, 0.2409448736250299, 0.0, 0.2286373764846805, 0.2496384798788828, 0.21050997215335515, 0.5144088329951411, 0.0, 0.7444981003989386, 0.0, 0.0, 0.0, 0.23413184774200682, 0.24665944836324905, 0.0, 0.3245176720119332, 0.0, 0.25888301741319497, 0.26508067390609247, 0.0, 0.0, 0.5397902066092677, 0.2226625716531598, 0.0, 0.24532624802963035, 0.5718504959735535, 0.0, 0.0, 0.2555531820840078, 0.0, 0.2007582490849481, 0.0, 0.4998159826966782, 0.4685353500485362, 0.0, 0.0, 0.2124547689836462, 0.0, 0.245339177611478, 0.18329907605805312, 0.2505228183041935, 0.0], [0.22320306356458355, 0.1674542653563728, 0.3498319303737723, 0.0, 0.1672508550552475, 0.27129072144679645, 0.3262209793466194, 0.0, 0.26192451817439344, 0.3568386519314705, 0.0, 0.3422097813257809, 0.26194620809469654, 0.0, 0.2561641727533554, 0.0, 0.2699204390233626, 0.3240944718772047, 0.0, 0.0, 0.0, 0.30690440666531354, 0.27671444841410203, 0.0, 0.25646465657524853, 0.30876613808000564, 0.0, 0.0, 0.42877549762367245, 0.0, 0.0, 0.14970759973106404, 0.0, 0.0, 0.0, 0.0, 0.0, 0.25093573828495463, 0.0, 0.0, 0.0, 0.3028156639875721, 0.24552991136612728, 0.0, 0.252431387974427, 0.0, 0.15036239169904403, 0.29758939324606337, 0.0, 0.0, 0.0, 0.24998696875538914, 0.0, 0.2679756609531889, 0.0, 0.26865378264658246, 0.0, 0.0, 0.0, 0.0, 0.25403301067984635, 0.31587590141852623, 0.0, 0.0, 0.0, 0.0, 0.0, 0.0, 0.0, 0.0, 0.4714327551708251, 0.2734187421303868, 0.0, 0.0, 0.0, 0.0, 0.0, 0.22104335484145438, 0.0, 0.0, 0.0, 0.0, 0.0, 0.0, 0.0, 0.0, 0.0, 0.0, 0.17110112507688946, 0.1673598143940212, 0.0, 0.0, 0.0, 0.0, 1.0000000000000002, 0.0, 0.27294991696749205, 0.0, 0.27302239445696386, 0.0, 0.0, 0.0, 0.14836879085606428, 0.14842396311135952, 0.2622711459677399, 0.0, 0.0, 0.33857160118261265, 0.0, 0.30708470991188763, 0.0, 0.0, 0.31436968353748995, 0.3055772992391105, 0.0, 0.0, 0.27800764601173306, 0.0, 0.0, 0.0, 0.0, 0.27005221212494807, 0.235702810884562, 0.0, 0.0, 0.45610474195528417, 0.0, 0.1903362390074658, 0.2691572555633265, 0.0, 0.0, 0.24788419459944866, 0.0, 0.2765093889462874, 0.0, 0.0, 0.0, 0.0, 0.0, 0.4066517076078687, 0.0, 0.0, 0.0, 0.0], [0.0, 0.0, 0.0, 0.0, 0.0, 0.0, 0.0, 0.0, 0.0, 0.0, 0.0, 0.0, 0.0, 0.0, 0.0, 0.34872720273233815, 0.0, 0.0, 0.4925194095025639, 0.3073305372360763, 0.41788605746745594, 0.0, 0.0, 0.303284741200981, 0.0, 0.0, 0.0, 0.0, 0.0, 0.4488876493093234, 0.0, 0.2726023846373638, 0.0, 0.5963268398213205, 0.1604518160101497, 0.2999849877421095, 0.3164152790593207, 0.18363805294557498, 0.33309035846965707, 0.29506961493312356, 0.6237623682407423, 0.0, 0.0, 0.0, 0.0, 0.0, 0.2738419989587203, 0.0, 0.40543661481497384, 0.4406947116128074, 0.33995203652359074, 0.0, 0.0, 0.0, 0.0, 0.0, 0.0, 0.45437936865444817, 0.2736041767737451, 0.4826688793524972, 0.0, 0.0, 0.0, 0.0, 0.7078405532456715, 0.0, 0.18663674517534995, 0.0, 0.28182166985588636, 0.7563465361102923, 0.0, 0.0, 0.27166194964334267, 0.41652871353784915, 0.41456739790761266, 0.410109891585078, 0.16609632180624087, 0.0, 0.427235158689509, 0.3463852018608009, 0.306334674120858, 0.2696612426637594, 0.301192727230932, 0.5701066096807913, 0.3233758910840883, 0.38703367900904523, 0.0, 0.2881347331398893, 0.0, 0.0, 0.4040373909231605, 0.2795430593210646, 0.0, 0.4332638677357156, 0.0, 0.9999999999999998, 0.0, 0.0, 0.0, 0.2571861948114641, 0.0, 0.0, 0.2649205569811078, 0.27026501229175215, 0.0, 0.25556847148809186, 0.6353265188660645, 0.0, 0.0, 0.0, 0.4006016947562637, 0.0, 0.0, 0.0, 0.5890416738344523, 0.4516354702146223, 0.0, 0.0, 0.18528674463546474, 0.28741837573109286, 0.5048522149825816, 0.0, 0.0, 0.0, 0.41103301001960446, 0.0, 0.46007159633328215, 0.0, 0.0, 0.0, 0.0, 0.1795695411347226, 0.0, 0.0, 0.2641295503517141, 0.4770578128283995, 0.0, 0.0, 0.20854154001583664, 0.0, 0.27691785091270615, 0.0, 0.4576840635735208, 0.0], [0.2391745769726056, 0.17943661901074334, 0.3748644961337949, 0.0, 0.179218653486675, 0.2907031942232096, 0.3495640404247441, 0.0, 0.2806667831196127, 0.3823725905020534, 0.0, 0.581710951084422, 0.2806900250833663, 0.0, 0.274494250550882, 0.0, 0.289234859901432, 0.34728536863456416, 0.0, 0.0, 0.0, 0.3288652515020951, 0.2965150212756858, 0.0, 0.274816235786392, 0.33086020092812185, 0.0, 0.0, 0.2871785567553157, 0.0, 0.0, 0.15926566074629256, 0.0, 0.0, 0.0, 0.0, 0.0, 0.2688916903429801, 0.0, 0.0, 0.0, 0.3244839348450516, 0.2630990441944493, 0.0, 0.2704943627080717, 0.0, 0.0, 0.3188836931916346, 0.0, 0.0, 0.19762461709282464, 0.2678750306822462, 0.0, 0.4875360345799168, 0.0, 0.5136022497109813, 0.0, 0.0, 0.0, 0.0, 0.27221059109186163, 0.3384787103325592, 0.0, 0.0, 0.0, 0.0, 0.0, 0.0, 0.0, 0.0, 0.3224110980813419, 0.29298348750708475, 0.0, 0.0, 0.0, 0.0, 0.0, 0.23686032818054542, 0.2753076112992947, 0.0, 0.0, 0.0, 0.0, 0.0, 0.0, 0.0, 0.0, 0.0, 0.0, 0.0, 0.0, 0.0, 0.0, 0.0, 0.27294991696749205, 0.0, 0.9999999999999998, 0.0, 0.5202024579610613, 0.0, 0.0, 0.0, 0.0, 0.1579000705240017, 0.49765198238687763, 0.0, 0.0, 0.3627984230797007, 0.0, 0.540635984817877, 0.0, 0.0, 0.3368647135586252, 0.5238763172429128, 0.0, 0.1614681731170409, 0.2979007548915952, 0.0, 0.0, 0.0, 0.0, 0.28937606215611766, 0.25256875593133327, 0.0, 0.0, 0.5325666411916615, 0.0, 0.0, 0.4575314081275791, 0.0, 0.0, 0.26562179046598694, 0.0, 0.29629528857719356, 0.0, 0.0, 0.0, 0.0, 0.0, 0.4357500680726876, 0.0, 0.0, 0.0, 0.0], [0.0, 0.0, 0.0, 0.0, 0.0, 0.0, 0.0, 0.0, 0.0, 0.0, 0.0, 0.0, 0.0, 0.0, 0.0, 0.0, 0.0, 0.0, 0.0, 0.0, 0.0, 0.0, 0.0, 0.0, 0.0, 0.0, 0.2741706855425369, 0.0, 0.0, 0.0, 0.0, 0.0, 0.0, 0.0, 0.0, 0.0, 0.0, 0.0, 0.0, 0.0, 0.0, 0.0, 0.0, 0.0, 0.0, 0.0, 0.0, 0.0, 0.0, 0.0, 0.0, 0.0, 0.0, 0.0, 0.0, 0.0, 0.0, 0.0, 0.0, 0.0, 0.0, 0.0, 0.0, 0.0, 0.0, 0.0, 0.0, 0.0, 0.0, 0.0, 0.0, 0.0, 0.0, 0.0, 0.0, 0.0, 0.0, 0.0, 0.0, 0.0, 0.26437468506580253, 0.0, 0.0, 0.0, 0.0, 0.0, 0.0, 0.0, 0.0, 0.0, 0.0, 0.0, 0.0, 0.0, 0.0, 0.0, 0.0, 0.9999999999999999, 0.0, 0.0, 0.0, 0.0, 0.0, 0.0, 0.0, 0.0, 0.0, 0.0, 0.0, 0.0, 0.0, 0.0, 0.0, 0.0, 0.0, 0.0, 0.0, 0.0, 0.0, 0.0, 0.0, 0.24489756306535734, 0.0, 0.0, 0.0, 0.0, 0.0, 0.0, 0.0, 0.0, 0.0, 0.0, 0.0, 0.0, 0.0, 0.0, 0.2655593897538259, 0.0, 0.0, 0.0, 0.0, 0.0, 0.0, 0.0], [0.23925854071998384, 0.18478402528037677, 0.3743198818989968, 0.0, 0.18455956414679245, 0.2910856177011771, 0.3500238960395708, 0.0, 0.2805180899932024, 0.381983857929654, 0.0, 0.36682566803757244, 0.2811098462339384, 0.0, 0.27459061349297126, 0.0, 0.28915331527061766, 0.3471013819630926, 0.0, 0.0, 0.0, 0.3286640714249645, 0.2969050902806338, 0.0, 0.2746706421937581, 0.3306578004603372, 0.0, 0.0, 0.2875563435311559, 0.0, 0.0, 0.0, 0.0, 0.0, 0.0, 0.0, 0.0, 0.26959333749881464, 0.0, 0.0, 0.0, 0.3245978469818618, 0.26316890594204567, 0.0, 0.2705893214642453, 0.0, 0.0, 0.318968367661489, 0.0, 0.0, 0.0, 0.2682274234420433, 0.0, 0.5352934034865348, 0.0, 0.5934401662388828, 0.0, 0.0, 0.0, 0.0, 0.2724478650745756, 0.33761258399277017, 0.0, 0.0, 0.0, 0.0, 0.0, 0.0, 0.0, 0.0, 0.3220318304890342, 0.29336891073774063, 0.0, 0.0, 0.0, 0.0, 0.0, 0.23981065841216864, 0.0, 0.0, 0.0, 0.0, 0.0, 0.0, 0.0, 0.0, 0.0, 0.0, 0.0, 0.0, 0.0, 0.0, 0.0, 0.0, 0.27302239445696386, 0.0, 0.5202024579610613, 0.0, 1.0, 0.0, 0.0, 0.0, 0.0, 0.0, 0.8122686796255513, 0.0, 0.0, 0.3632108724463817, 0.0, 0.5742661461266919, 0.0, 0.0, 0.5242708632842789, 0.5301609935452344, 0.0, 0.16628010016979386, 0.4774919933474672, 0.0, 0.0, 0.0, 0.0, 0.46973868570452015, 0.2526574217899169, 0.0, 0.0, 0.5924452044812255, 0.0, 0.0, 0.4626724499586359, 0.0, 0.0, 0.4291500421661217, 0.0, 0.7562438169845198, 0.0, 0.0, 0.0, 0.0, 0.0, 0.4351169974769544, 0.0, 0.0, 0.0, 0.0], [0.0, 0.1703930048302703, 0.0, 0.16851994975108883, 0.0, 0.0, 0.0, 0.0, 0.15094821542930825, 0.0, 0.0, 0.0, 0.20686082457670316, 0.0, 0.1797126778295488, 0.31368154362159606, 0.1815787144201203, 0.24385332270343796, 0.2749784711695742, 0.5170949862173794, 0.375356503102833, 0.19339512071915782, 0.18132972377509413, 0.27311996321723175, 0.17148675892764614, 0.20606766483588748, 0.3267578474968916, 0.0, 0.18828407566351915, 0.41327846740340496, 0.0, 0.40131677218124867, 0.0, 0.23341005573769033, 0.2018760236456411, 0.6818554536564437, 0.6746266635654726, 0.0, 0.2982342105537314, 0.47717318485722127, 0.22673881101952503, 0.0, 0.17189930159443415, 0.0, 0.17244755786474925, 0.0, 0.24518587914441042, 0.0, 0.22170996258776834, 0.2385037156802412, 0.3038296322072985, 0.0, 0.0, 0.18514846352663789, 0.16505231129765824, 0.37746135433217454, 0.0, 0.24547313638598806, 0.24453172056164152, 0.49375201887599185, 0.24452252638317726, 0.29059059019412503, 0.0, 0.32348842258955857, 0.271786107489492, 0.0, 0.0, 0.0, 0.2538414378061759, 0.23054022108955957, 0.0, 0.0, 0.44125055563581667, 0.22673881101952503, 0.22840395750782205, 0.37154657694292453, 0.15405972970598292, 0.0, 0.23131721643583952, 0.5477611022542556, 0.4813373485463454, 0.4385883879087296, 0.47328074388722535, 0.5194902923892066, 0.5997470276789263, 0.20869736721193416, 0.22209545143755782, 0.7214450485205548, 0.48173063320226667, 0.0, 0.6046018111324294, 0.5257121551550299, 0.29345436134091707, 0.4826458527448437, 0.0, 0.2571861948114641, 0.0, 0.0, 0.0, 1.0, 0.33136251713409043, 0.3920977025051967, 0.5643817103773826, 0.39787576513952955, 0.1791695517084739, 0.585537603493376, 0.2497690808697747, 0.2085239875218223, 0.29573937406465434, 0.0, 0.775879349158587, 0.0, 0.0, 0.0, 0.23425433627554257, 0.24767569393431443, 0.19463746767727824, 0.5638296473529135, 0.0, 0.638909997297231, 0.47334988912241016, 0.0, 0.16101949303949994, 0.3036355516633369, 0.2221085348216702, 0.1966380911591554, 0.43833478854610025, 0.32355157379524047, 0.2069451874859202, 0.0, 0.3122478681582011, 0.19391548850907142, 0.24529663368206994, 0.0, 0.8971659596328831, 0.2573232417892183, 0.0, 0.38939094792236784, 0.0, 0.0, 0.5711695233557713, 0.0, 0.25023623864034966, 0.0], [0.0, 0.0, 0.0, 0.0, 0.0, 0.0, 0.0, 0.0, 0.0, 0.0, 0.2932323353316744, 0.0, 0.0, 0.0, 0.0, 0.0, 0.0, 0.0, 0.0, 0.0, 0.0, 0.0, 0.22067053877025847, 0.0, 0.0, 0.0, 0.0, 0.0, 0.0, 0.0, 0.20993796844036341, 0.0, 0.27338924168326595, 0.0, 0.0, 0.0, 0.0, 0.0, 0.24096343783820262, 0.2182278529783258, 0.0, 0.0, 0.0, 0.0, 0.0, 0.0, 0.19810212999482466, 0.0, 0.0, 0.0, 0.0, 0.0, 0.24648417356487384, 0.0, 0.43737048540902795, 0.0, 0.0, 0.0, 0.19093155598698844, 0.0, 0.3455734403313711, 0.4123145915673077, 0.0, 0.45948288958298844, 0.0, 0.2994178538037919, 0.23207196716979378, 0.0, 0.0, 0.0, 0.0, 0.0, 0.0, 0.0, 0.1984827218680716, 0.0, 0.0, 0.0, 0.0, 0.0, 0.0, 0.0, 0.0, 0.0, 0.4395105593073483, 0.0, 0.0, 0.3861489214976263, 0.4105907732801038, 0.0, 0.32874607602508366, 0.38719388235629854, 0.4163927821934115, 0.35547498701515307, 0.0, 0.0, 0.0, 0.0, 0.0, 0.33136251713409043, 0.9999999999999999, 0.8548411862354349, 0.0, 0.0, 0.0, 0.0, 0.0, 0.0, 0.4200535130596818, 0.0, 0.31077141242859674, 0.24716562004949436, 0.22681766681349494, 0.0, 0.0, 0.0, 0.0, 0.6604181783193137, 0.22753760576252227, 0.0, 0.0, 0.0, 0.0, 0.43083923357693005, 0.0, 0.0, 0.0, 0.45957258954268126, 0.0, 0.3006208482917523, 0.0, 0.0, 0.0, 0.0, 0.3438594911613157, 0.0, 0.0, 0.0, 0.0, 0.0, 0.0, 0.21695189049518102, 0.0, 0.0], [0.0, 0.0, 0.0, 0.0, 0.0, 0.0, 0.0, 0.0, 0.0, 0.0, 0.32976664740905787, 0.0, 0.0, 0.0, 0.0, 0.0, 0.0, 0.0, 0.0, 0.0, 0.0, 0.0, 0.0, 0.0, 0.0, 0.0, 0.0, 0.0, 0.0, 0.0, 0.0, 0.0, 0.0, 0.0, 0.0, 0.0, 0.0, 0.0, 0.0, 0.0, 0.0, 0.0, 0.0, 0.0, 0.0, 0.0, 0.0, 0.0, 0.0, 0.0, 0.0, 0.0, 0.0, 0.0, 0.24583204513415127, 0.0, 0.0, 0.0, 0.0, 0.0, 0.40992881139718623, 0.4905718644501479, 0.0, 0.5471323858949728, 0.0, 0.0, 0.0, 0.0, 0.0, 0.0, 0.0, 0.0, 0.0, 0.0, 0.2180956492721265, 0.0, 0.0, 0.0, 0.0, 0.0, 0.0, 0.0, 0.0, 0.0, 0.5231144030964813, 0.0, 0.0, 0.4594399525236799, 0.48861405163368543, 0.0, 0.389967724565949, 0.45930013551498816, 0.4954373999903311, 0.42167430103662257, 0.0, 0.0, 0.0, 0.0, 0.0, 0.3920977025051967, 0.8548411862354349, 1.0000000000000002, 0.0, 0.0, 0.0, 0.0, 0.0, 0.0, 0.5001684714141148, 0.0, 0.36773246977792096, 0.0, 0.0, 0.0, 0.0, 0.0, 0.0, 0.7718865967658551, 0.0, 0.0, 0.0, 0.0, 0.0, 0.5126262481611253, 0.0, 0.0, 0.0, 0.5472391967340139, 0.0, 0.0, 0.0, 0.0, 0.0, 0.0, 0.40604424018360535, 0.0, 0.0, 0.0, 0.0, 0.0, 0.0, 0.0, 0.0, 0.0], [0.0, 0.0, 0.0, 0.0, 0.0, 0.0, 0.0, 0.0, 0.0, 0.0, 0.0, 0.0, 0.18768648004684116, 0.0, 0.16778368498454427, 0.3220941386860398, 0.17100734042898627, 0.22125006936228347, 0.28333004028354225, 0.48392240939634523, 0.38604861261114093, 0.18566826574122636, 0.0, 0.2800766471979064, 0.16150293087301423, 0.19406336876105465, 0.30685563471664623, 0.0, 0.0, 0.415478701115299, 0.0, 0.4020991383470709, 0.0, 0.24005879062214747, 0.18107954324684777, 0.6583014325226257, 0.6638768416346575, 0.0, 0.30785201010589947, 0.45154288568552037, 0.23251411296317012, 0.0, 0.16048894611174422, 0.0, 0.1624017724493666, 0.0, 0.25309291514224136, 0.0, 0.22802541784024294, 0.24457868346604325, 0.3142733145266223, 0.0, 0.0, 0.17285865335104386, 0.0, 0.16899952834762913, 0.0, 0.25164088768484866, 0.25293712719690026, 0.47912787007107027, 0.0, 0.0, 0.0, 0.0, 0.27870881660921404, 0.0, 0.0, 0.0, 0.2602487542697392, 0.2369607242101351, 0.0, 0.0, 0.43219722311066733, 0.23251411296317012, 0.23500534692565705, 0.37585374217753204, 0.15273575513938614, 0.0, 0.23720913570485888, 0.5425712867189403, 0.4770997754586308, 0.43172902801366375, 0.4691059009436282, 0.5255975780324839, 0.2987868310514617, 0.21396518356373231, 0.20725773811195794, 0.2662429033052352, 0.3472969044772131, 0.0, 0.37396647165734886, 0.2581517371828662, 0.0, 0.23700396520876432, 0.14836879085606428, 0.2649205569811078, 0.0, 0.0, 0.0, 0.5643817103773826, 0.0, 0.0, 0.9999999999999999, 0.39865142306968254, 0.1687321822744266, 0.551309420151878, 0.25688380605069805, 0.2047752020357317, 0.0, 0.0, 0.5335874495219924, 0.0, 0.0, 0.0, 0.2409271206699771, 0.2556165628567351, 0.1817177950791423, 0.22815417441523939, 0.0, 0.6273083515901132, 0.46660627914057007, 0.0, 0.15163943979434363, 0.0, 0.22776589823064256, 0.18511454280122824, 0.4320469135273838, 0.0, 0.1877459092085819, 0.0, 0.0, 0.17594107313120594, 0.0, 0.0, 0.4224347787910405, 0.2638184439036676, 0.0, 0.3656738694815016, 0.0, 0.0, 0.5583027872203523, 0.0, 0.2569473001896714, 0.0], [0.0, 0.0, 0.0, 0.0, 0.0, 0.0, 0.0, 0.0, 0.0, 0.0, 0.0, 0.0, 0.0, 0.0, 0.0, 0.32778546706167533, 0.0, 0.0, 0.28911078663436607, 0.5013504761715906, 0.3933657675693427, 0.0, 0.0, 0.2847337693484554, 0.0, 0.0, 0.15340212689766092, 0.0, 0.0, 0.4199128851057605, 0.0, 0.8456135250361583, 0.0, 0.2446088584443834, 0.0, 0.46408694920721255, 0.47683090408611806, 0.0, 0.31457535611668136, 0.4673725162122884, 0.23638036399348494, 0.0, 0.0, 0.0, 0.0, 0.0, 0.549272888335763, 0.0, 0.2323474054403549, 0.2486455445046823, 0.4971193656163802, 0.0, 0.0, 0.0, 0.0, 0.0, 0.0, 0.25575792580731754, 0.2588707428202639, 0.2743429709981225, 0.0, 0.0, 0.0, 0.0, 0.2833431944353199, 0.0, 0.0, 0.0, 0.26452988921965087, 0.24133615009717563, 0.21901950464006822, 0.0, 0.4101196234358054, 0.23638036399348494, 0.2395350121988706, 0.3780107683436328, 0.15111015024599087, 0.0, 0.3944493391823383, 0.3257868321155898, 0.28835988199496265, 0.2531155914488587, 0.28351964899600923, 0.32353593769518496, 0.3047569533438578, 0.21748494613854005, 0.0, 0.2716750229991943, 0.3687241528648283, 0.18561709354090736, 0.37795761762257174, 0.2624442913299726, 0.23017232688697742, 0.2409448736250299, 0.14842396311135952, 0.27026501229175215, 0.1579000705240017, 0.0, 0.0, 0.39787576513952955, 0.0, 0.0, 0.39865142306968254, 1.0, 0.0, 0.406662874490091, 0.26175277476013614, 0.0, 0.0, 0.0, 0.3727536275451794, 0.0, 0.0, 0.0, 0.2454936467964454, 0.4095613421165611, 0.0, 0.0, 0.0, 0.4410004107040656, 0.27668251120285203, 0.0, 0.0, 0.0, 0.2315531958165069, 0.1660284930971126, 0.25598629941695916, 0.23659718037974295, 0.0, 0.0, 0.0, 0.0, 0.0, 0.0, 0.24797357813038878, 0.2681583008370717, 0.0, 0.1828063199203067, 0.0, 0.0, 0.41139453130482445, 0.0, 0.26148749910970776, 0.0], [0.22981858339759506, 0.17277036319512823, 0.3601554449620194, 0.0, 0.17256049531551196, 0.2793502367126562, 0.33591236484283665, 0.0, 0.2696711932367954, 0.36738007334532835, 0.0, 0.35235254352293227, 0.46403652180555655, 0.0, 0.43752567618479543, 0.0, 0.4550369958163436, 0.5627320834898908, 0.0, 0.0, 0.0, 0.5083433454228304, 0.2849350919708879, 0.0, 0.43133383457909674, 0.5189062222007198, 0.16165664910684982, 0.0, 0.2759632484354429, 0.0, 0.0, 0.0, 0.0, 0.0, 0.18743484284770529, 0.20898546211793, 0.2003257232661697, 0.2584137824325248, 0.0, 0.0, 0.0, 0.31179082319400786, 0.4190197582120645, 0.0, 0.42812812208566947, 0.0, 0.0, 0.3064078295863921, 0.0, 0.0, 0.0, 0.2574135913107248, 0.0, 0.6926986964851286, 0.0, 0.7474324026151351, 0.0, 0.0, 0.0, 0.21670033797836868, 0.2615717641341889, 0.32517237362078233, 0.0, 0.0, 0.0, 0.0, 0.0, 0.0, 0.0, 0.0, 0.30976618309979187, 0.28154147671718016, 0.1876563858160111, 0.0, 0.0, 0.0, 0.0, 0.22778634654503974, 0.0, 0.2305814719112257, 0.20105079764607442, 0.18922766920898731, 0.19769093047393432, 0.214920889931817, 0.0, 0.0, 0.21464991690075322, 0.0, 0.0, 0.0, 0.0, 0.0, 0.0, 0.0, 0.2622711459677399, 0.0, 0.49765198238687763, 0.0, 0.8122686796255513, 0.1791695517084739, 0.0, 0.0, 0.1687321822744266, 0.0, 1.0000000000000002, 0.1644019076921318, 0.0, 0.5608481543302606, 0.0, 0.5493279445343734, 0.1728198690388318, 0.0, 0.3236176749925166, 0.3146554014867054, 0.0, 0.15546946363392378, 0.47444605003434365, 0.23606207177205252, 0.0, 0.19725204877708796, 0.20167434096583217, 0.2780801674744058, 0.39975615791703445, 0.0, 0.0, 0.7607491015504216, 0.18692267081160105, 0.0, 0.6343326866987742, 0.0, 0.0, 0.43738982351079597, 0.0, 0.6051637968884765, 0.18488416789584713, 0.0, 0.0, 0.19264307289289714, 0.0, 0.41865196965181667, 0.16124536279189716, 0.0, 0.0, 0.0], [0.12567730023694237, 0.16080273098578404, 0.0, 0.16050955854371526, 0.16060740044665459, 0.0, 0.0, 0.18997171907701357, 0.0, 0.0, 0.21175469395814503, 0.0, 0.18424045744387815, 0.0, 0.16375866546569245, 0.3107237416277021, 0.16661745739855358, 0.21718780158604684, 0.4382332538067543, 0.6162676421804244, 0.37242052851400137, 0.180222376035914, 0.0, 0.2701895294179945, 0.15735703296111142, 0.18908300483893248, 0.34014103281991714, 0.0, 0.0, 0.5672550816135532, 0.14323309884619562, 0.4101798763719106, 0.0, 0.23158436206578428, 0.17817106356416143, 0.8506033988269894, 0.6648919150161643, 0.0, 0.2969843811437857, 0.559610626116161, 0.22430602263019003, 0.0, 0.1566389225488499, 0.0, 0.15823395894824474, 0.0, 0.38698292907509, 0.0, 0.2199757850502337, 0.23594469604125146, 0.3031790040694838, 0.0, 0.0, 0.16871188870104534, 0.0, 0.16464429270462674, 0.16268044062734915, 0.2427575940590733, 0.24400807440892822, 0.4657600119519294, 0.0, 0.0, 0.16310047973585667, 0.0, 0.2688699852618507, 0.0, 0.0, 0.16309045348060663, 0.25106159028700953, 0.22859566195693215, 0.0, 0.0, 0.5701051450943474, 0.22430602263019003, 0.22670931236794115, 0.3625855520084886, 0.2946879164634705, 0.16055074300414313, 0.22883530416035375, 0.5255616501223072, 0.4621406500569055, 0.41855519618524517, 0.4543988601119771, 0.5070432101091503, 0.28823921624941423, 0.20641189773337082, 0.38030292465156446, 0.25684413704114, 0.22428848112043442, 0.0, 0.37280987101570934, 0.24903860098907163, 0.0, 0.2286373764846805, 0.0, 0.25556847148809186, 0.0, 0.0, 0.0, 0.585537603493376, 0.0, 0.0, 0.551309420151878, 0.406662874490091, 0.1644019076921318, 0.9999999999999998, 0.24781542969163436, 0.1979039723754345, 0.0, 0.0, 0.5537607590145082, 0.0, 0.0, 0.0, 0.23242203878517462, 0.2465929220471714, 0.1773585054844261, 0.22585905621796037, 0.28931569045574684, 0.620715038091037, 0.4523371777275399, 0.0, 0.14774782645204182, 0.1728255792547594, 0.21972542686473628, 0.18037703023546595, 0.4188366835405459, 0.0, 0.18430221331324312, 0.0, 0.0, 0.17271070238394493, 0.0, 0.0, 0.4095575715260779, 0.25450526462404877, 0.0, 0.4053394286063803, 0.17985552358644674, 0.0, 0.7182916903845206, 0.1482922679425512, 0.2478766823940701, 0.17831826866694417], [0.200869244485711, 0.0, 0.0, 0.0, 0.0, 0.0, 0.0, 0.0, 0.0, 0.0, 0.0, 0.0, 0.0, 0.0, 0.0, 0.33891674159411894, 0.0, 0.0, 0.2973248880258658, 0.29870575962364065, 0.40569729155609724, 0.0, 0.0, 0.29500733624634723, 0.0, 0.0, 0.0, 0.0, 0.0, 0.43990027629854994, 0.0, 0.26401652947971116, 0.0, 0.5834497782164079, 0.0, 0.2913335792304255, 0.3067392554285804, 0.1828994062485379, 0.3225993806448098, 0.2860463447064317, 0.5990709417062383, 0.20127102290282048, 0.0, 0.22308115124553946, 0.0, 0.0, 0.2652171010427709, 0.19785503446077288, 0.3974506473316897, 0.43255670829377935, 0.3288004693464588, 0.1703950450272363, 0.0, 0.0, 0.1769854348670409, 0.0, 0.0, 0.44605985545827276, 0.26462904196226533, 0.28414282074691966, 0.0, 0.0, 0.0, 0.0, 0.6943954712334929, 0.0, 0.0, 0.18285264897613784, 0.46275487268402843, 0.5809177940977547, 0.18299389402231933, 0.18593044577986917, 0.26373820140610005, 0.40876604658249366, 0.4062533457039923, 0.5973192399254829, 0.16519810018497463, 0.0, 0.4193404237654837, 0.3364879519088339, 0.2973996030251149, 0.26234015963299084, 0.2924076347857086, 0.5594817773555243, 0.3136758233863544, 0.37995484275350316, 0.0, 0.27939374636621844, 0.0, 0.1842607676006024, 0.3959479842573427, 0.2719136247009949, 0.0, 0.2496384798788828, 0.0, 0.6353265188660645, 0.0, 0.0, 0.0, 0.2497690808697747, 0.0, 0.0, 0.25688380605069805, 0.26175277476013614, 0.0, 0.24781542969163436, 1.0, 0.0, 0.0, 0.19980182416585543, 0.23387544214880593, 0.0, 0.0, 0.0, 0.41765721866055583, 0.43756686842883874, 0.0, 0.0, 0.18428474436022835, 0.27935240352181656, 0.4873257625270503, 0.0, 0.0, 0.0, 0.5979524069419788, 0.0, 0.446649124297852, 0.0, 0.17889945135457036, 0.0, 0.0, 0.17891252742627808, 0.0, 0.0, 0.2569207892380198, 0.6594991184277708, 0.0, 0.0, 0.2075074314205942, 0.0, 0.26762303745628896, 0.0, 0.448905793663227, 0.19992566757113478], [0.2966940763937069, 0.45446257309961346, 0.4644223317144009, 0.22681700284464923, 0.45391052762828654, 0.36086116594645434, 0.4339274205008215, 0.2684501554750618, 0.34794766120687043, 0.4738706664503437, 0.0, 0.45488450463838237, 0.5695379088426625, 0.3024682331868489, 0.5484632489767113, 0.2802437891110524, 0.5737301357515285, 0.6911300558841965, 0.23302848264635193, 0.0, 0.0, 0.6486527177484889, 0.3680756125989579, 0.0, 0.5438372448667349, 0.6542323625807152, 0.20069120273722804, 0.22428433989475494, 0.3564858965600913, 0.0, 0.20240353585918905, 0.0, 0.27859599973372257, 0.0, 0.4098619723510153, 0.24322481961571174, 0.24304272862890686, 0.5445537320261348, 0.0, 0.0, 0.0, 0.4025196263417041, 0.5252665393364697, 0.27455899236587933, 0.5398065331132443, 0.22733348566683906, 0.0, 0.39554861856864093, 0.193297098734895, 0.0, 0.0, 0.33252367989364134, 0.0, 0.5702941354760132, 0.2230691530573092, 0.5696439161606662, 0.22988468910711493, 0.0, 0.1945678893339064, 0.24654134503689282, 0.5424457939236401, 0.6528276917376252, 0.23047824884607132, 0.25746881001464533, 0.0, 0.0, 0.0, 0.0, 0.23196254048904894, 0.0, 0.6301578396055504, 0.3636917825666736, 0.43118206178539, 0.0, 0.0, 0.0, 0.20821261547664965, 0.5232169040577968, 0.0, 0.28000841173760277, 0.24399742332770002, 0.22645527495378315, 0.23990509702112128, 0.2826685631868445, 0.0, 0.19070949136689133, 0.2566778749413164, 0.21897494423990374, 0.0, 0.22678048056736672, 0.0, 0.22929369539381791, 0.2360318858898865, 0.21050997215335515, 0.33857160118261265, 0.0, 0.3627984230797007, 0.0, 0.3632108724463817, 0.2085239875218223, 0.0, 0.0, 0.2047752020357317, 0.0, 0.5608481543302606, 0.1979039723754345, 0.0, 1.0000000000000002, 0.23546699567094792, 0.4079396894607994, 0.19661825800283883, 0.0, 0.41696225415240223, 0.40646793927237024, 0.0, 0.0, 0.5947467390720812, 0.24799974787130377, 0.0, 0.23605832660592202, 0.24135063611707502, 0.3592825810105861, 0.5040336632048774, 0.24422084427313864, 0.0, 0.6148678456768617, 0.22369680391183608, 0.25751907291322995, 0.5788736283295718, 0.0, 0.29177822237025325, 0.5369026073385464, 0.2292160268421731, 0.3678028498658673, 0.22108406101895428, 0.23514424361983596, 0.0, 0.23915978842489083, 0.2541549000262344, 0.5398539065347944, 0.19597849924685498, 0.20955267751611487, 0.0, 0.0], [0.0, 0.2226352791297048, 0.0, 0.2078570905824077, 0.22234432422991285, 0.0, 0.0, 0.2899555642161166, 0.0, 0.0, 0.0, 0.0, 0.0, 0.3373344021334656, 0.0, 0.24544383315706522, 0.0, 0.0, 0.2179095961391633, 0.0, 0.0, 0.0, 0.0, 0.0, 0.0, 0.0, 0.0, 0.21674744322838851, 0.0, 0.0, 0.1983096975203395, 0.0, 0.27296108342695663, 0.0, 0.2014139588933731, 0.0, 0.0, 0.20082174278057605, 0.0, 0.0, 0.0, 0.0, 0.0, 0.26863345806918176, 0.0, 0.22764667712020778, 0.0, 0.0, 0.18954470169661622, 0.0, 0.0, 0.0, 0.0, 0.0, 0.40993389980230144, 0.0, 0.2149489920741336, 0.0, 0.19087876026288886, 0.0, 0.5092185292451304, 0.5978359308973017, 0.2258165679747778, 0.6620433131006916, 0.0, 0.0, 0.0, 0.0, 0.23228210927131507, 0.0, 0.22618559136744187, 0.0, 0.208709126819038, 0.0, 0.0, 0.0, 0.20849946460254745, 0.22115846629581376, 0.0, 0.0, 0.0, 0.0, 0.0, 0.0, 0.39312743155959645, 0.17833626075114953, 0.0, 0.5501189135245692, 0.367237060406831, 0.21569533093619303, 0.2936789876918262, 0.5627757780609832, 0.5948709972033472, 0.5144088329951411, 0.0, 0.0, 0.0, 0.0, 0.0, 0.29573937406465434, 0.4200535130596818, 0.5001684714141148, 0.0, 0.0, 0.0, 0.0, 0.0, 0.23546699567094792, 1.0, 0.0, 0.2773619170439551, 0.0, 0.0, 0.0, 0.0, 0.0, 0.0, 0.3846175532945603, 0.0, 0.0, 0.0, 0.0, 0.0, 0.6246048207173365, 0.0, 0.0, 0.0, 0.6621725567784137, 0.0, 0.0, 0.28585030630109726, 0.0, 0.2245591564363291, 0.0, 0.3066536497314613, 0.23546819575207273, 0.0, 0.0, 0.23764235801665864, 0.0, 0.0, 0.205030110009268, 0.0, 0.0], [0.2690705915024867, 0.1980228305481738, 0.4222130259043784, 0.0, 0.1977822879528224, 0.32683623014180113, 0.3930132019046038, 0.0, 0.3159289607835243, 0.4305481682089667, 0.0, 0.41253281567357003, 0.3155416973484398, 0.0, 0.3088051050184031, 0.0, 0.32552137597395203, 0.39091731621580006, 0.0, 0.0, 0.0, 0.37020254711192485, 0.3333704398849832, 0.0, 0.3093433672962768, 0.3724482552112187, 0.0, 0.0, 0.32287349686086414, 0.0, 0.0, 0.0, 0.0, 0.0, 0.0, 0.0, 0.0, 0.30206065832020373, 0.0, 0.0, 0.0, 0.7666619083720082, 0.29600189867128546, 0.33869401706281616, 0.30430524470117615, 0.0, 0.0, 0.7614203802766424, 0.0, 0.0, 0.0, 0.6479439062724208, 0.0, 0.5403888091066016, 0.1943957003768932, 0.5662767721722933, 0.0, 0.0, 0.0, 0.0, 0.30613294410359526, 0.3815036506334125, 0.0, 0.0, 0.0, 0.0, 0.0, 0.0, 0.2882940403230401, 0.0, 0.564064720418296, 0.7004077615871894, 0.0, 0.0, 0.0, 0.0, 0.0, 0.2643820926400729, 0.0, 0.0, 0.0, 0.0, 0.0, 0.0, 0.0, 0.0, 0.0, 0.0, 0.0, 0.27975478527558423, 0.0, 0.0, 0.0, 0.0, 0.30708470991188763, 0.0, 0.540635984817877, 0.0, 0.5742661461266919, 0.0, 0.0, 0.0, 0.0, 0.0, 0.5493279445343734, 0.0, 0.19980182416585543, 0.4079396894607994, 0.0, 0.9999999999999999, 0.0, 0.0, 0.37972969914980226, 0.3681428246701406, 0.0, 0.0, 0.3351558700393855, 0.0, 0.0, 0.0, 0.0, 0.3252871537192493, 0.2841389976045608, 0.0, 0.0, 0.5893477730001166, 0.0, 0.0, 0.868077667141533, 0.0, 0.0, 0.2986804169981083, 0.0, 0.3331233954484541, 0.0, 0.2922484117864203, 0.0, 0.0, 0.0, 0.4907889562135093, 0.0, 0.0, 0.0, 0.0], [0.0, 0.0, 0.0, 0.0, 0.0, 0.0, 0.0, 0.0, 0.0, 0.0, 0.0, 0.0, 0.20336010752309291, 0.0, 0.17412874772978987, 0.29374198277584224, 0.17514024375829285, 0.239726579579822, 0.25745979280063896, 0.4845694408389822, 0.3514713183109128, 0.18463833533042065, 0.0, 0.2557735676768104, 0.16540613174745292, 0.19876472598436296, 0.30968625286487794, 0.0, 0.0, 0.3872267519806603, 0.0, 0.37597736713826446, 0.0, 0.21855739628593768, 0.33915650585756973, 0.6476674287853621, 0.6377957548343743, 0.0, 0.2792113867165173, 0.447102181560357, 0.2123381752916224, 0.0, 0.16655814427657867, 0.0, 0.16633609942131045, 0.0, 0.22954673507144605, 0.0, 0.20760181904198366, 0.22335586730872156, 0.2844239233649306, 0.0, 0.0, 0.1793956357857309, 0.15479584217976305, 0.17294676241274376, 0.0, 0.22988605717923669, 0.22891339085012471, 0.47313864641708625, 0.22932772104685023, 0.27253308229953993, 0.0, 0.30338661977200837, 0.254524427796183, 0.0, 0.0, 0.0, 0.23772180770419632, 0.21587607546271198, 0.0, 0.0, 0.42116038948001416, 0.2123381752916224, 0.2138660183183406, 0.3481564865848158, 0.14448634749995554, 0.0, 0.21662579701581758, 0.5195771034873703, 0.45655602271466716, 0.4170836291025257, 0.44891837412781865, 0.48678322923597506, 0.5620296455423702, 0.19544450987001305, 0.21524593896296937, 0.49717085489464924, 0.4517955458124711, 0.0, 0.5666981234872721, 0.49269881796242754, 0.2752188966513203, 0.7444981003989386, 0.0, 0.4006016947562637, 0.0, 0.0, 0.0, 0.775879349158587, 0.31077141242859674, 0.36773246977792096, 0.5335874495219924, 0.3727536275451794, 0.1728198690388318, 0.5537607590145082, 0.23387544214880593, 0.19661825800283883, 0.2773619170439551, 0.0, 0.9999999999999997, 0.0, 0.0, 0.0, 0.21934795244044736, 0.23187960770224628, 0.18858980299702208, 0.5457349721805208, 0.0, 0.6051783355681797, 0.45003833444170305, 0.0, 0.15531303971259175, 0.2847674204978555, 0.20800197720304703, 0.189706197215485, 0.416754352148206, 0.3034458467164319, 0.20345224455770147, 0.0, 0.0, 0.19063384608609468, 0.0, 0.0, 0.6377040861452906, 0.24098250754924094, 0.0, 0.36904706186965586, 0.0, 0.0, 0.5396013563314201, 0.0, 0.23432965820028098, 0.0], [0.0, 0.0, 0.0, 0.0, 0.0, 0.0, 0.0, 0.0, 0.0, 0.0, 0.0, 0.0, 0.0, 0.0, 0.0, 0.0, 0.0, 0.0, 0.0, 0.0, 0.0, 0.0, 0.2066789168629725, 0.0, 0.0, 0.0, 0.18193339253882926, 0.450552696419022, 0.3083469579219762, 0.2181143301889719, 0.3732035072265779, 0.0, 0.2556883705534377, 0.0, 0.0, 0.0, 0.0, 0.0, 0.22531650368539613, 0.20443392644716754, 0.0, 0.0, 0.27554783069463773, 0.0, 0.28387461995619256, 0.20857351239661562, 0.18523839012055768, 0.0, 0.0, 0.0, 0.0, 0.0, 0.21085115442068056, 0.0, 0.20472723341495577, 0.0, 0.2109141858825995, 0.0, 0.178569493579797, 0.0, 0.0, 0.0, 0.2115033381858366, 0.0, 0.0, 0.2775284997661867, 0.2151060268056899, 0.0, 0.0, 0.0, 0.0, 0.0, 0.0, 0.0, 0.0, 0.0, 0.0, 0.0, 0.0, 0.0, 0.0, 0.0, 0.21640456344798914, 0.0, 0.0, 0.0, 0.0, 0.0, 0.0, 0.0, 0.0, 0.0, 0.0, 0.0, 0.0, 0.0, 0.0, 0.0, 0.0, 0.0, 0.24716562004949436, 0.0, 0.0, 0.0, 0.0, 0.0, 0.0, 0.0, 0.0, 0.0, 0.0, 1.0, 0.4348891367896311, 0.0, 0.0, 0.0, 0.0, 0.0, 0.21311057727353677, 0.0, 0.2279771014419389, 0.0, 0.2650623062344362, 0.0, 0.0, 0.0, 0.0, 0.0, 0.0, 0.27707983451065904, 0.0, 0.0, 0.0, 0.0, 0.0, 0.0, 0.0, 0.0, 0.23318157479435034, 0.0, 0.0, 0.47372590834770034, 0.0, 0.0], [0.27541137327726556, 0.1917393534893775, 0.43356388459829537, 0.0, 0.19150644356888166, 0.3339573246307186, 0.40157615756267284, 0.0, 0.323886260943626, 0.44177790351054447, 0.0, 0.42225435582596904, 0.32231185388797295, 0.0, 0.31608225028695713, 0.0, 0.3335718185653757, 0.40076334747294057, 0.0, 0.0, 0.0, 0.3795826521007291, 0.5307091986911271, 0.0, 0.3171347961668947, 0.3818852614231776, 0.0, 0.23590649750975193, 0.32990825147823283, 0.20603991663810395, 0.17078952330403882, 0.0, 0.2350812587683084, 0.0, 0.0, 0.0, 0.0, 0.30792056537401424, 0.20714896026348717, 0.18801840209518234, 0.0, 0.37364575797837496, 0.3030239546556659, 0.0, 0.31147634853231704, 0.19182558982119824, 0.17030239368498956, 0.3672738457944265, 0.0, 0.0, 0.0, 0.30773252705756565, 0.19029459558371503, 0.33116843199738877, 0.1882273160534013, 0.3322074227958621, 0.1939783131793488, 0.0, 0.16417774980338723, 0.0, 0.31305347162283265, 0.39253491878984137, 0.1945324840006559, 0.0, 0.0, 0.254707842554996, 0.19741825453751036, 0.0, 0.0, 0.0, 0.37264583812389385, 0.33657690590670425, 0.0, 0.0, 0.0, 0.0, 0.0, 0.2646712252930578, 0.0, 0.0, 0.0, 0.0, 0.0, 0.0, 0.0, 0.0, 0.0, 0.0, 0.0, 0.0, 0.0, 0.0, 0.0, 0.0, 0.31436968353748995, 0.0, 0.3368647135586252, 0.0, 0.5242708632842789, 0.0, 0.22681766681349494, 0.0, 0.0, 0.0, 0.3236176749925166, 0.0, 0.0, 0.41696225415240223, 0.0, 0.37972969914980226, 0.0, 0.4348891367896311, 0.9999999999999996, 0.63063148225239, 0.0, 0.0, 0.5684168102868141, 0.0, 0.19599026804986325, 0.0, 0.21269773397224476, 0.563234430504481, 0.2908348738333767, 0.0, 0.0, 0.3547695599721438, 0.0, 0.0, 0.3321144799645034, 0.25401031956221737, 0.0, 0.510656723748431, 0.0, 0.5704103063680371, 0.0, 0.0, 0.0, 0.0, 0.21445768739467186, 0.5039834238133228, 0.0, 0.17682201918132848, 0.0, 0.0], [0.26778412592750633, 0.2059487369409941, 0.41905898347451265, 0.0, 0.20569856657651647, 0.3257443283955872, 0.3917002146594059, 0.0, 0.314003364083983, 0.42761157850572395, 0.0, 0.6810735152855502, 0.3145724902657407, 0.0, 0.3073286629636767, 0.0, 0.3236576104790591, 0.38853466319142455, 0.0, 0.0, 0.0, 0.3679009236228147, 0.3322567085055441, 0.0, 0.3074579099908959, 0.37013266970442027, 0.0, 0.0, 0.321794833902123, 0.0, 0.0, 0.0, 0.0, 0.0, 0.0, 0.0, 0.0, 0.30163605431263135, 0.0, 0.0, 0.0, 0.36329800587439687, 0.2945488910586712, 0.0, 0.3028503171321392, 0.0, 0.0, 0.357001822237221, 0.0, 0.0, 0.0, 0.300164475993119, 0.0, 0.32132565582834066, 0.0, 0.322070618332672, 0.0, 0.0, 0.0, 0.0, 0.30490721777694285, 0.37802586461173254, 0.0, 0.0, 0.0, 0.0, 0.0, 0.0, 0.0, 0.0, 0.36050677258154323, 0.3282994864367147, 0.0, 0.0, 0.0, 0.0, 0.0, 0.2679321189769524, 0.0, 0.0, 0.0, 0.0, 0.0, 0.0, 0.0, 0.0, 0.0, 0.0, 0.0, 0.0, 0.0, 0.0, 0.0, 0.0, 0.3055772992391105, 0.0, 0.5238763172429128, 0.0, 0.5301609935452344, 0.0, 0.0, 0.0, 0.0, 0.0, 0.3146554014867054, 0.0, 0.0, 0.40646793927237024, 0.0, 0.3681428246701406, 0.0, 0.0, 0.63063148225239, 1.0, 0.0, 0.0, 0.691345439285186, 0.0, 0.0, 0.0, 0.0, 0.7040451466337457, 0.28278048779162823, 0.0, 0.0, 0.3449445656232407, 0.0, 0.0, 0.32291689579438365, 0.0, 0.0, 0.6248433528965414, 0.0, 0.6980389599042943, 0.0, 0.0, 0.0, 0.0, 0.0, 0.4871226335350671, 0.0, 0.0, 0.0, 0.0], [0.0, 0.0, 0.0, 0.0, 0.0, 0.0, 0.0, 0.0, 0.0, 0.0, 0.0, 0.0, 0.0, 0.0, 0.0, 0.3178644693663821, 0.0, 0.0, 0.4565918835843445, 0.28015124697840593, 0.3804968550603313, 0.0, 0.0, 0.2766825561760983, 0.0, 0.0, 0.0, 0.0, 0.0, 0.41257296642762875, 0.0, 0.24761678532695536, 0.0, 0.3902270073461665, 0.0, 0.27323699955073255, 0.28768573131571945, 0.17129972904051327, 0.30256068338279263, 0.26827818875702564, 0.3833749902137995, 0.0, 0.0, 0.0, 0.0, 0.0, 0.24874278176204845, 0.0, 0.3726956613570136, 0.4056491684411872, 0.3083765830647389, 0.15143109177779257, 0.0, 0.0, 0.0, 0.0, 0.0, 0.4183122233896478, 0.24819125076743967, 0.45353336284632756, 0.0, 0.0, 0.0, 0.0, 0.46220890114481383, 0.0, 0.1744643056331188, 0.0, 0.2571399730130979, 0.5394309016135105, 0.0, 0.0, 0.24735574597843563, 0.3833749902137995, 0.38098316003674076, 0.37753709238354066, 0.15493659654770672, 0.0, 0.39325773582847784, 0.3155865472404806, 0.2789262240652653, 0.24604454546272436, 0.2742443386911488, 0.524728809331737, 0.2941914249641089, 0.35630496210301577, 0.0, 0.26203882556896574, 0.0, 0.0, 0.3713510611782955, 0.255023341787525, 0.0, 0.23413184774200682, 0.0, 0.5890416738344523, 0.0, 0.0, 0.0, 0.23425433627554257, 0.0, 0.0, 0.2409271206699771, 0.2454936467964454, 0.0, 0.23242203878517462, 0.41765721866055583, 0.0, 0.0, 0.0, 0.21934795244044736, 0.0, 0.0, 0.0, 1.0, 0.25125868833769666, 0.0, 0.0, 0.0, 0.26200005079131355, 0.26830823341507276, 0.0, 0.0, 0.0, 0.37835406774302255, 0.0, 0.4114297665687579, 0.0, 0.0, 0.0, 0.0, 0.1675045735179066, 0.0, 0.0, 0.24096180659655075, 0.43917971366332964, 0.0, 0.0, 0.1945299937861543, 0.0, 0.2509992701780974, 0.0, 0.42100397652692695, 0.0], [0.0, 0.0, 0.0, 0.0, 0.0, 0.0, 0.0, 0.0, 0.0, 0.0, 0.0, 0.0, 0.15953431881555616, 0.0, 0.0, 0.3355252908993554, 0.0, 0.0, 0.29585814340486694, 0.29566958656306136, 0.40260335893081617, 0.0, 0.0, 0.29148690080527495, 0.0, 0.0, 0.0, 0.0, 0.0, 0.2660931075262395, 0.0, 0.41310341123892846, 0.0, 0.4116756172667591, 0.0, 0.28889182820784864, 0.30539855061881693, 0.0, 0.32187186346611873, 0.28479608506937504, 0.43952297299095044, 0.0, 0.0, 0.0, 0.0, 0.0, 0.26461899079003076, 0.0, 0.2378037276786092, 0.25454275877622756, 0.5091608896593078, 0.0, 0.0, 0.0, 0.0, 0.0, 0.0, 0.26183071786925444, 0.5271675900699399, 0.2808447772417083, 0.0, 0.0, 0.0, 0.0, 0.48294323072166967, 0.0, 0.0, 0.0, 0.27080858092202886, 0.41035089013092757, 0.0, 0.0, 0.26172687857292687, 0.241986680643286, 0.24515241835921028, 0.23648443077406328, 0.1551208684052533, 0.0, 0.40384117112881984, 0.33346155883910744, 0.2951315712839717, 0.25912336156686167, 0.29017767284123824, 0.3312093538946773, 0.3118823263172558, 0.48609146084225147, 0.0, 0.27801545853655074, 0.0, 0.0, 0.2395066228107622, 0.26866877535762645, 0.0, 0.24665944836324905, 0.0, 0.4516354702146223, 0.1614681731170409, 0.0, 0.16628010016979386, 0.24767569393431443, 0.0, 0.0, 0.2556165628567351, 0.4095613421165611, 0.15546946363392378, 0.2465929220471714, 0.43756686842883874, 0.0, 0.0, 0.0, 0.23187960770224628, 0.0, 0.0, 0.0, 0.25125868833769666, 0.9999999999999998, 0.0, 0.0, 0.173043210224513, 0.2765129462477095, 0.48184895619732226, 0.0, 0.0, 0.0, 0.23704502481232193, 0.0, 0.43853828923677934, 0.0, 0.0, 0.0, 0.0, 0.0, 0.0, 0.1676964160648965, 0.25385485513790473, 0.2745231139149295, 0.0, 0.0, 0.0, 0.0, 0.26830290608552443, 0.0, 0.2676618643035248, 0.0], [0.24360645303997389, 0.1827615579213462, 0.38181069003931073, 0.0, 0.1825395535224031, 0.29608988935399233, 0.35604141993715116, 0.0, 0.28586750476301515, 0.38945790849075324, 0.0, 0.3734917867748583, 0.4979266754728143, 0.0, 0.4672750220834959, 0.0, 0.4853298435462954, 0.6036738971124868, 0.0, 0.0, 0.0, 0.5407110201319115, 0.30200940886085725, 0.200083227670081, 0.4600431641747566, 0.5534450904361228, 0.17324994510685082, 0.0, 0.292499940778882, 0.0, 0.0, 0.0, 0.0, 0.0, 0.20538952918158399, 0.22702742034084047, 0.215756842908384, 0.27387422093728214, 0.0, 0.0, 0.0, 0.3304965830256732, 0.44750826485807976, 0.0, 0.4566460198556697, 0.0, 0.0, 0.3247925695697954, 0.0, 0.0, 0.0, 0.2728387226956418, 0.0, 0.48584342981574696, 0.0, 0.4816747518333588, 0.0, 0.0, 0.0, 0.23647439542698606, 0.27725462051678823, 0.34475068001522485, 0.0, 0.0, 0.0, 0.0, 0.0, 0.0, 0.0, 0.0, 0.32838533684671156, 0.2984124361974193, 0.2038498396407868, 0.0, 0.0, 0.0, 0.0, 0.2412493214968902, 0.0, 0.2482945715081257, 0.2165236480360789, 0.20439185840368307, 0.21290798380617323, 0.22734962147077686, 0.0, 0.0, 0.23188923371780545, 0.0, 0.0, 0.0, 0.0, 0.0, 0.0, 0.0, 0.27800764601173306, 0.0, 0.2979007548915952, 0.0, 0.4774919933474672, 0.19463746767727824, 0.0, 0.0, 0.1817177950791423, 0.0, 0.47444605003434365, 0.1773585054844261, 0.0, 0.5947467390720812, 0.0, 0.3351558700393855, 0.18858980299702208, 0.0, 0.5684168102868141, 0.691345439285186, 0.0, 0.0, 1.0, 0.2614756018677257, 0.0, 0.21305928985975225, 0.21783597248042785, 0.6296586601573019, 0.42638418036243886, 0.0, 0.0, 0.5202989286371227, 0.20190214372279794, 0.0, 0.5058707543959704, 0.0, 0.0, 0.7580693256111306, 0.0, 0.6247580232474859, 0.19973288897076502, 0.0, 0.0, 0.20645857741273255, 0.0, 0.4438244642835635, 0.17360030769207066, 0.0, 0.0, 0.0], [0.0, 0.0, 0.0, 0.0, 0.0, 0.0, 0.0, 0.0, 0.0, 0.0, 0.2568548707085557, 0.0, 0.29522576455810234, 0.0, 0.2414256677273221, 0.0, 0.23921604547144754, 0.34802038415186665, 0.0, 0.0, 0.0, 0.24353730424770892, 0.0, 0.0, 0.22592066725658771, 0.27150126471007885, 0.20866639428672953, 0.0, 0.0, 0.0, 0.0, 0.0, 0.0, 0.0, 0.29474682395712043, 0.3055005212894117, 0.27103858680017573, 0.0, 0.0, 0.0, 0.0, 0.0, 0.23092919303477713, 0.0, 0.22720561274730422, 0.0, 0.0, 0.0, 0.0, 0.0, 0.0, 0.0, 0.0, 0.24872809183780734, 0.19136760365084726, 0.23600500610649158, 0.0, 0.0, 0.0, 0.32925304876812356, 0.31547842312941926, 0.37730011920996737, 0.0, 0.4207293414444992, 0.0, 0.0, 0.0, 0.0, 0.0, 0.0, 0.0, 0.0, 0.2742375542153001, 0.0, 0.1738595909132633, 0.0, 0.0, 0.0, 0.0, 0.3114053051251779, 0.2718543560223823, 0.26290307016134906, 0.2673437600033361, 0.24249702311191912, 0.40229857142128045, 0.0, 0.2986664187862725, 0.35335648335906905, 0.3757791802168126, 0.0, 0.30011650656638317, 0.35347425813161965, 0.38104004813952, 0.3245176720119332, 0.0, 0.0, 0.0, 0.0, 0.0, 0.5638296473529135, 0.6604181783193137, 0.7718865967658551, 0.22815417441523939, 0.0, 0.23606207177205252, 0.22585905621796037, 0.0, 0.24799974787130377, 0.3846175532945603, 0.0, 0.5457349721805208, 0.0, 0.0, 0.0, 0.0, 0.0, 0.2614756018677257, 0.9999999999999999, 0.0, 0.2740517252888597, 0.2801958277788997, 0.0, 0.21214874268612807, 0.39425996156266924, 0.0, 0.2592957564344071, 0.25970062541358563, 0.42081147596098445, 0.29540064895950496, 0.0, 0.0, 0.276750556669665, 0.0, 0.0, 0.5700413958627941, 0.0, 0.0, 0.24866366850340182, 0.0, 0.0, 0.21739319973160642, 0.0, 0.0, 0.0], [0.0, 0.0, 0.0, 0.0, 0.0, 0.0, 0.0, 0.0, 0.0, 0.0, 0.0, 0.0, 0.0, 0.0, 0.0, 0.0, 0.0, 0.0, 0.0, 0.0, 0.0, 0.0, 0.19063171636424886, 0.0, 0.0, 0.0, 0.0, 0.0, 0.0, 0.0, 0.17147723802664683, 0.0, 0.23577697070761552, 0.17221472050479147, 0.0, 0.0, 0.0, 0.0, 0.20776294587100044, 0.18856791890173658, 0.17477405482743233, 0.0, 0.0, 0.0, 0.0, 0.0, 0.34160729910983434, 0.0, 0.0, 0.0, 0.0, 0.0, 0.41058136477871193, 0.0, 0.18878436595082057, 0.0, 0.0, 0.0, 0.16466362613953262, 0.0, 0.0, 0.0, 0.0, 0.0, 0.20949726179702183, 0.255513236998212, 0.19804249744891408, 0.0, 0.0, 0.17170092642963694, 0.0, 0.0, 0.0, 0.0, 0.0, 0.0, 0.0, 0.0, 0.0, 0.0, 0.0, 0.243369920979543, 0.0, 0.0, 0.0, 0.0, 0.0, 0.0, 0.0, 0.0, 0.0, 0.0, 0.0, 0.0, 0.0, 0.18528674463546474, 0.0, 0.0, 0.0, 0.0, 0.22753760576252227, 0.0, 0.0, 0.0, 0.0, 0.28931569045574684, 0.18428474436022835, 0.0, 0.0, 0.0, 0.0, 0.21311057727353677, 0.19599026804986325, 0.0, 0.0, 0.173043210224513, 0.0, 0.0, 1.0000000000000002, 0.0, 0.2001882543559637, 0.0, 0.0, 0.0, 0.0, 0.0, 0.18554528548412882, 0.0, 0.0, 0.25484608947730314, 0.0, 0.0, 0.0, 0.0, 0.0, 0.0, 0.0, 0.0, 0.0, 0.0, 0.0, 0.35486637349739364, 0.0, 0.0], [0.0, 0.0, 0.0, 0.0, 0.0, 0.0, 0.0, 0.0, 0.0, 0.0, 0.0, 0.0, 0.22223371379561258, 0.0, 0.19672191574463224, 0.3511287704839024, 0.19990925170839757, 0.2619753142562315, 0.3072559382096586, 0.5380353079573091, 0.4198147382941729, 0.21564793202427565, 0.0, 0.3059319597024344, 0.1887985040790961, 0.22686482545720774, 0.3544993775800594, 0.0, 0.0, 0.46158922042867767, 0.0, 0.44481437891120573, 0.0, 0.26105577139262093, 0.21526809547972323, 0.7452320986669756, 0.7474714501058177, 0.0, 0.3329266050950857, 0.4999435374351647, 0.25397868386731953, 0.0, 0.422142226284425, 0.0, 0.18985164483066813, 0.0, 0.27370737317238747, 0.0, 0.24796988769765727, 0.2671569967821556, 0.3388099529392544, 0.0, 0.0, 0.20267218140659557, 0.0, 0.19752729673142774, 0.0, 0.5968696812593602, 0.2726849916966542, 0.5424650589192086, 0.0, 0.0, 0.0, 0.0, 0.30443785765313397, 0.0, 0.0, 0.0, 0.2843701545210925, 0.2579284024793844, 0.0, 0.0, 0.48657011028424474, 0.25397868386731953, 0.25540317020570924, 0.4190831598482986, 0.1755194029253594, 0.0, 0.2591071282506079, 0.6086724794599023, 0.5346862379576175, 0.48632220181622215, 0.525730993417348, 0.5859073135097896, 0.3242806406907907, 0.23379674758822602, 0.2430423493524434, 0.28872587236018976, 0.20288910305612698, 0.0, 0.4154698944985764, 0.47527341405885887, 0.0, 0.25888301741319497, 0.0, 0.28741837573109286, 0.0, 0.0, 0.0, 0.638909997297231, 0.0, 0.0, 0.6273083515901132, 0.4410004107040656, 0.19725204877708796, 0.620715038091037, 0.27935240352181656, 0.23605832660592202, 0.0, 0.0, 0.6051783355681797, 0.0, 0.0, 0.0, 0.26200005079131355, 0.2765129462477095, 0.21305928985975225, 0.2740517252888597, 0.0, 0.9999999999999999, 0.5246996801497871, 0.0, 0.17727021467781706, 0.0, 0.24879213706756553, 0.21643060524222396, 0.48589701984156886, 0.0, 0.22231112283052387, 0.0, 0.0, 0.2083263433859227, 0.0, 0.0, 0.4757743924035838, 0.288270704191891, 0.0, 0.42244998775462267, 0.0, 0.0, 0.6255514153286624, 0.0, 0.2801093803284035, 0.0], [0.0, 0.0, 0.0, 0.0, 0.0, 0.0, 0.0, 0.0, 0.0, 0.0, 0.0, 0.0, 0.22721608240819205, 0.0, 0.20113232261617467, 0.35955628756444535, 0.20439111705665974, 0.2678486696563997, 0.314680167643273, 0.3169199760379685, 0.4299226296068151, 0.22048265070639952, 0.0, 0.3132559673387037, 0.1930312720275756, 0.23195102127489478, 0.18565369554601965, 0.24474206734290643, 0.0, 0.49651029701561383, 0.0, 0.27907538494080303, 0.0, 0.4604583665161086, 0.2200942984166653, 0.5521208507719852, 0.5557620076516626, 0.0, 0.34099965828856726, 0.3026631626205009, 0.5177533367711998, 0.0, 0.19238768351434585, 0.0, 0.1941080236675932, 0.1959343713808222, 0.2803444341619641, 0.0, 0.253940265688293, 0.27355273224705573, 0.34705860384087994, 0.0, 0.0, 0.20721599025556223, 0.0, 0.20195575984151848, 0.19813320469773887, 0.2815908192734321, 0.2793237674560594, 0.5550778693808641, 0.0, 0.0, 0.19870356866762556, 0.0, 0.5405067038748562, 0.0, 0.0, 0.0, 0.2911750070336444, 0.4612235954557361, 0.0, 0.0, 0.4979311343217976, 0.2600589306709, 0.26155737078438207, 0.2542694753598334, 0.1794544600735213, 0.0, 0.2653101499544045, 0.622880967676061, 0.5471837377793375, 0.49763618910187724, 0.5380191588780892, 0.5995716190735961, 0.33210810753814707, 0.23939140075403215, 0.24849123715735524, 0.29570235955947, 0.0, 0.0, 0.2557587133910248, 0.2887337197172433, 0.0, 0.26508067390609247, 0.0, 0.5048522149825816, 0.0, 0.0, 0.0, 0.47334988912241016, 0.0, 0.0, 0.46660627914057007, 0.27668251120285203, 0.20167434096583217, 0.4523371777275399, 0.4873257625270503, 0.24135063611707502, 0.0, 0.0, 0.45003833444170305, 0.2279771014419389, 0.21269773397224476, 0.0, 0.26830823341507276, 0.48184895619732226, 0.21783597248042785, 0.2801958277788997, 0.2001882543559637, 0.5246996801497871, 1.0000000000000002, 0.0, 0.18124452414900863, 0.0, 0.2547482179997405, 0.22128287106608618, 0.7102072539730931, 0.0, 0.2272952269149149, 0.0, 0.0, 0.21299691571597917, 0.0, 0.0, 0.4868461276603025, 0.29516889513959754, 0.0, 0.22123988466609967, 0.21905123402266952, 0.0, 0.4682774824339674, 0.0, 0.28683234576323435, 0.0], [0.23665716282977775, 0.18316008602316064, 0.3702007414371866, 0.0, 0.1829375975235526, 0.28794117622083504, 0.3462427760154697, 0.0, 0.27745009196544174, 0.3777925589820234, 0.0, 0.36283729554511535, 0.27807684991324, 0.0, 0.27160508182229737, 0.0, 0.28599610423468597, 0.34330516919363596, 0.0, 0.0, 0.0, 0.32506753951836537, 0.2936977841657658, 0.0, 0.2716665971121927, 0.327039451413648, 0.0, 0.0, 0.2844500269028192, 0.0, 0.0, 0.0, 0.0, 0.0, 0.0, 0.0, 0.0, 0.2667063991386919, 0.0, 0.0, 0.0, 0.32106860342881616, 0.2603059186903233, 0.0, 0.2676472945001723, 0.0, 0.0, 0.31549834384903064, 0.0, 0.0, 0.0, 0.26532990674885426, 0.0, 0.283935500918823, 0.0, 0.28457823353722667, 0.0, 0.0, 0.0, 0.0, 0.26949595954797945, 0.3338700471995712, 0.0, 0.0, 0.0, 0.0, 0.0, 0.0, 0.0, 0.0, 0.31849459391381313, 0.29019980406990964, 0.0, 0.0, 0.0, 0.0, 0.0, 0.23741225240060054, 0.0, 0.0, 0.0, 0.0, 0.0, 0.0, 0.0, 0.0, 0.0, 0.0, 0.0, 0.0, 0.0, 0.0, 0.0, 0.0, 0.27005221212494807, 0.0, 0.28937606215611766, 0.24489756306535734, 0.46973868570452015, 0.0, 0.0, 0.0, 0.0, 0.0, 0.2780801674744058, 0.0, 0.0, 0.3592825810105861, 0.0, 0.3252871537192493, 0.0, 0.0, 0.563234430504481, 0.7040451466337457, 0.0, 0.0, 0.6296586601573019, 0.0, 0.0, 0.0, 0.0, 1.0000000000000002, 0.24991036235846287, 0.0, 0.0, 0.304848548998927, 0.0, 0.0, 0.2853813538192558, 0.0, 0.0, 0.569449360753488, 0.0, 0.6361377545914447, 0.0, 0.0, 0.19423471539726458, 0.0, 0.0, 0.43032882533702976, 0.0, 0.0, 0.0, 0.0], [0.20653772606378976, 0.15526854886144195, 0.3236713303695626, 0.0, 0.15507994081248017, 0.2510517722850831, 0.3018840990387708, 0.0, 0.24235322580366842, 0.33016409651529705, 0.0, 0.3166588708194974, 0.41702914798000085, 0.0, 0.3932038781102124, 0.0, 0.40894128316948497, 0.5057267484155807, 0.0, 0.0, 0.0, 0.45684764509078296, 0.2560708759988807, 0.0, 0.3876392763861834, 0.4663404916576028, 0.1452806653666377, 0.0, 0.5461567943283759, 0.0, 0.0, 0.0, 0.0, 0.0, 0.1684475017406009, 0.18781502125767266, 0.18003252280038062, 0.23223620221703567, 0.0, 0.0, 0.0, 0.28020609420709436, 0.6430071817952163, 0.0, 0.6592442539221363, 0.0, 0.0, 0.275368403352437, 0.13208110764762793, 0.0, 0.0, 0.2313373314778998, 0.0, 0.4088461277560102, 0.0, 0.4058970655712875, 0.0, 0.0, 0.0, 0.19474837231015374, 0.23507427714539933, 0.29223207990196076, 0.0, 0.0, 0.0, 0.0, 0.0, 0.0, 0.0, 0.0, 0.2783865522232614, 0.25302103743807297, 0.16864660217983798, 0.0, 0.18637971203680784, 0.0, 0.0, 0.20471135688099978, 0.0, 0.20722333319144687, 0.1806841464046979, 0.1700587129595205, 0.3388353169873763, 0.19314918416901197, 0.0, 0.0, 0.19290566098288345, 0.0, 0.0, 0.0, 0.0, 0.0, 0.0, 0.0, 0.235702810884562, 0.0, 0.25256875593133327, 0.0, 0.2526574217899169, 0.16101949303949994, 0.0, 0.0, 0.15163943979434363, 0.0, 0.39975615791703445, 0.14774782645204182, 0.0, 0.5040336632048774, 0.0, 0.2841389976045608, 0.15531303971259175, 0.2650623062344362, 0.2908348738333767, 0.28278048779162823, 0.0, 0.0, 0.42638418036243886, 0.21214874268612807, 0.0, 0.17727021467781706, 0.18124452414900863, 0.24991036235846287, 1.0000000000000002, 0.0, 0.0, 0.438366667618372, 0.16798721325510702, 0.0, 0.423737572263267, 0.20569493427671134, 0.0, 0.3930817874509075, 0.0, 0.255881114467251, 0.16615521276772338, 0.0, 0.0, 0.17312813276028674, 0.0, 0.37624209733475267, 0.1449110427756546, 0.2636262688503819, 0.0, 0.0], [0.2761858321657638, 0.4927632307701802, 0.0, 0.4632754825329427, 0.49797226373886566, 0.0, 0.0, 0.6202562511460122, 0.0, 0.0, 0.3167616841096294, 0.0, 0.0, 0.39657579278089683, 0.0, 0.2575778148554648, 0.0, 0.0, 0.4880946188891023, 0.0, 0.0, 0.0, 0.0, 0.0, 0.0, 0.0, 0.0, 0.23940137366353614, 0.0, 0.21290900643705213, 0.43874510475903267, 0.0, 0.3034754415433384, 0.0, 0.2262128486809122, 0.21621726988774032, 0.0, 0.22044324974884874, 0.0, 0.0, 0.0, 0.0, 0.0, 0.2984684593736217, 0.0, 0.2556754437827614, 0.0, 0.0, 0.21081654310243383, 0.0, 0.0, 0.0, 0.0, 0.0, 0.4414811736316092, 0.0, 0.4873922859479356, 0.0, 0.21234647686532823, 0.0, 0.5397152272937525, 0.6328664123842405, 0.5057363033138652, 0.6998608575885474, 0.0, 0.0, 0.0, 0.25120298203555863, 0.260881608824799, 0.0, 0.2515804362910946, 0.0, 0.44159764258346906, 0.0, 0.0, 0.0, 0.439126813046802, 0.5157469314035162, 0.0, 0.0, 0.0, 0.0, 0.0, 0.0, 0.40314221894003605, 0.19379869599173782, 0.2741655839237959, 0.5766963800560788, 0.3766048305966307, 0.23639410942260186, 0.3013674202734582, 0.5919933818204054, 0.6246351455733388, 0.5397902066092677, 0.0, 0.0, 0.0, 0.0, 0.0, 0.3036355516633369, 0.43083923357693005, 0.5126262481611253, 0.0, 0.0, 0.0, 0.1728255792547594, 0.0, 0.24422084427313864, 0.6246048207173365, 0.0, 0.2847674204978555, 0.0, 0.0, 0.0, 0.0, 0.0, 0.0, 0.39425996156266924, 0.0, 0.0, 0.0, 0.0, 0.0, 0.9999999999999998, 0.0, 0.0, 0.0, 0.6999974839834352, 0.0, 0.0, 0.31779169671592233, 0.0, 0.24965177144791229, 0.0, 0.31497420129994397, 0.26445997897806867, 0.0, 0.0, 0.5388490124757139, 0.0, 0.22274125666613992, 0.4539610599951638, 0.0, 0.2746578961832419], [0.1960271094136603, 0.0, 0.0, 0.0, 0.0, 0.0, 0.0, 0.0, 0.0, 0.0, 0.0, 0.0, 0.0, 0.0, 0.0, 0.30179993400072075, 0.0, 0.0, 0.26362296334931823, 0.2660282974273829, 0.3605370383671939, 0.0, 0.0, 0.2631288741103917, 0.0, 0.0, 0.0, 0.16531943788453501, 0.0, 0.3978966209744587, 0.0, 0.23355577111047524, 0.0, 0.3769417318085157, 0.0, 0.25906999458015484, 0.2718398499400386, 0.17355161820738493, 0.28537965882189315, 0.25350128503196395, 0.3706712867174966, 0.0, 0.0, 0.0, 0.0, 0.0, 0.23461782740572423, 0.0, 0.3605918605380642, 0.39289133048310565, 0.29011295274097, 0.0, 0.0, 0.0, 0.0, 0.0, 0.0, 0.4052767410922747, 0.23349210205594767, 0.2533682853961105, 0.0, 0.0, 0.0, 0.0, 0.44765874857375093, 0.0, 0.0, 0.1698745096934344, 0.24461169140801858, 0.37396429206081505, 0.0, 0.0, 0.23438014504491145, 0.3706712867174966, 0.3678848661661033, 0.5520051003397084, 0.15347300915980505, 0.16722915515093922, 0.3808414911184269, 0.5023311073060734, 0.4411210087963533, 0.3976582352107187, 0.2598582362658394, 0.5073411356965817, 0.2783065012348796, 0.3454221033025629, 0.0, 0.2477243255597316, 0.0, 0.0, 0.3581410913020701, 0.24253066663773273, 0.0, 0.2226625716531598, 0.0, 0.41103301001960446, 0.0, 0.0, 0.0, 0.2221085348216702, 0.0, 0.0, 0.22776589823064256, 0.2315531958165069, 0.0, 0.21972542686473628, 0.5979524069419788, 0.0, 0.0, 0.0, 0.20800197720304703, 0.0, 0.0, 0.0, 0.37835406774302255, 0.23704502481232193, 0.0, 0.0, 0.0, 0.24879213706756553, 0.2547482179997405, 0.0, 0.0, 0.0, 0.9999999999999999, 0.0, 0.23576379067246026, 0.0, 0.0, 0.0, 0.0, 0.17069931474021455, 0.0, 0.0, 0.22915795541877973, 0.4257247898637959, 0.17761887335464074, 0.0, 0.19411682485364457, 0.0, 0.23577621627816978, 0.0, 0.40688965339858074, 0.1857357546852446], [0.25194123808988994, 0.18940147730923687, 0.394824506213086, 0.0, 0.18917140725726744, 0.3062408768586419, 0.36824775367183255, 0.0, 0.29563011527103145, 0.4027445873167156, 0.0, 0.38627048668953873, 0.5089869037946824, 0.0, 0.4798105892885643, 0.0, 0.49898533852828875, 0.6172333919485263, 0.0, 0.0, 0.0, 0.5573753454743147, 0.3123633380082586, 0.0, 0.4729923718970763, 0.5690224920456615, 0.17731527880796918, 0.0, 0.3025278524054332, 0.0, 0.0, 0.16746438154252427, 0.0, 0.0, 0.20578611424966856, 0.22936097098545205, 0.2197761394568505, 0.28328905053299114, 0.0, 0.0, 0.0, 0.34180423906218516, 0.45951595815739615, 0.0, 0.4694789422890067, 0.0, 0.16822589815931166, 0.33590307104486083, 0.0, 0.0, 0.0, 0.2821925796304756, 0.0, 0.7399742673162767, 0.0, 0.785264298709339, 0.0, 0.0, 0.0, 0.23787425185439517, 0.28675102392095697, 0.35647391604061845, 0.0, 0.0, 0.0, 0.0, 0.0, 0.0, 0.0, 0.0, 0.5318291604399633, 0.30864304865663256, 0.20595205867847027, 0.0, 0.0, 0.0, 0.0, 0.24971337530718843, 0.0, 0.25296742988803245, 0.22057100183499537, 0.20762602583539608, 0.216885042570849, 0.23560947204659152, 0.0, 0.0, 0.23552168669812878, 0.0, 0.0, 0.1890257221905188, 0.0, 0.0, 0.0, 0.0, 0.45610474195528417, 0.0, 0.5325666411916615, 0.0, 0.5924452044812255, 0.1966380911591554, 0.0, 0.0, 0.18511454280122824, 0.1660284930971126, 0.7607491015504216, 0.18037703023546595, 0.0, 0.6148678456768617, 0.0, 0.5893477730001166, 0.189706197215485, 0.0, 0.3547695599721438, 0.3449445656232407, 0.0, 0.0, 0.5202989286371227, 0.2592957564344071, 0.0, 0.21643060524222396, 0.22128287106608618, 0.304848548998927, 0.438366667618372, 0.0, 0.0, 1.0000000000000002, 0.20509691548484943, 0.214646907059517, 0.6956764048986156, 0.0, 0.0, 0.47975753592273457, 0.0, 0.31213186090171846, 0.20286162554977047, 0.0, 0.0, 0.21130315622124696, 0.0, 0.4589519872741217, 0.1768984587844793, 0.0, 0.0, 0.0], [0.0, 0.0, 0.0, 0.0, 0.0, 0.0, 0.0, 0.0, 0.0, 0.0, 0.0, 0.0, 0.21059613618513676, 0.0, 0.1864202989329492, 0.3327414239018464, 0.18944072561452033, 0.24825661244625494, 0.29116605352869146, 0.2932862649147962, 0.3978305554468605, 0.2043552280388704, 0.0, 0.2899114069980125, 0.17891180774290052, 0.214984733241436, 0.17207387142713026, 0.0, 0.0, 0.2629386129536394, 0.0, 0.2582001830863213, 0.0, 0.42036299159415325, 0.20399528216342946, 0.5112788276421153, 0.5145928637574951, 0.0, 0.3154924402277802, 0.2800420882364427, 0.4524866875309282, 0.0, 0.17831529515126174, 0.0, 0.17990979931381115, 0.0, 0.25937430577478, 0.0, 0.23498459953477985, 0.25316694895757863, 0.32106769837675125, 0.0, 0.0, 0.19205897065508512, 0.0, 0.18718350502386702, 0.0, 0.2606100070046303, 0.2584054627274343, 0.5140581213923955, 0.0, 0.0, 0.0, 0.0, 0.49531067231244214, 0.0, 0.0, 0.0, 0.2694787157433297, 0.41955781176344353, 0.0, 0.0, 0.4610901895077848, 0.24067873673314719, 0.242028627862579, 0.23532312189411514, 0.16632808519592238, 0.0, 0.245538622991243, 0.576798498243938, 0.5066866492129147, 0.4608552631115984, 0.4982003585121785, 0.5552254618813435, 0.3072992337784053, 0.22155365562587356, 0.23031509859055976, 0.27360634035779396, 0.0, 0.0, 0.23666730709611591, 0.26721661407486785, 0.0, 0.24532624802963035, 0.0, 0.46007159633328215, 0.0, 0.0, 0.0, 0.43833478854610025, 0.0, 0.0, 0.4320469135273838, 0.25598629941695916, 0.18692267081160105, 0.4188366835405459, 0.446649124297852, 0.22369680391183608, 0.0, 0.0, 0.416754352148206, 0.0, 0.0, 0.0, 0.4114297665687579, 0.43853828923677934, 0.20190214372279794, 0.25970062541358563, 0.18554528548412882, 0.48589701984156886, 0.7102072539730931, 0.0, 0.16798721325510702, 0.0, 0.23576379067246026, 0.20509691548484943, 0.9999999999999999, 0.0, 0.2106694915882379, 0.0, 0.0, 0.19741704457588694, 0.0, 0.0, 0.450859804413726, 0.2731750077038909, 0.0, 0.20505707336782264, 0.0, 0.0, 0.4335183689129889, 0.0, 0.2654410629191372, 0.0], [0.0, 0.25905160490062545, 0.0, 0.23478101354487443, 0.2587029595974746, 0.0, 0.0, 0.3506429639850119, 0.0, 0.0, 0.0, 0.0, 0.0, 0.4126874374395453, 0.0, 0.2712500737850763, 0.0, 0.0, 0.24843049658439673, 0.0, 0.0, 0.0, 0.0, 0.0, 0.0, 0.0, 0.0, 0.2507236250037622, 0.0, 0.0, 0.23074710176581015, 0.23864337830147886, 0.3176091723359406, 0.0, 0.23649822558822256, 0.0, 0.0, 0.23101969453881505, 0.0, 0.0, 0.0, 0.0, 0.0, 0.3123904193709738, 0.0, 0.26730041699088775, 0.23893849810455556, 0.0, 0.2206258327807642, 0.0, 0.0, 0.0, 0.0, 0.0, 0.46360609552302534, 0.0, 0.24504450585382825, 0.0, 0.22222190097578232, 0.0, 0.5710534769813119, 0.6700013796527324, 0.26275325534969246, 0.7411437409231298, 0.0, 0.0, 0.0, 0.0, 0.27274329435944106, 0.0, 0.49744191613742283, 0.0, 0.2429800929597693, 0.0, 0.0, 0.0, 0.24481795445320184, 0.25677797710741834, 0.0, 0.0, 0.0, 0.0, 0.0, 0.0, 0.4301162384833183, 0.2033144322341758, 0.0, 0.6112917932501842, 0.40178941175655164, 0.4677901876783676, 0.3213031142811087, 0.6269605466691461, 0.6619706347918018, 0.5718504959735535, 0.1903362390074658, 0.0, 0.0, 0.0, 0.0, 0.32355157379524047, 0.45957258954268126, 0.5472391967340139, 0.0, 0.23659718037974295, 0.0, 0.0, 0.0, 0.25751907291322995, 0.6621725567784137, 0.0, 0.3034458467164319, 0.0, 0.0, 0.0, 0.0, 0.0, 0.0, 0.42081147596098445, 0.0, 0.0, 0.0, 0.0, 0.0, 0.6999974839834352, 0.0, 0.214646907059517, 0.0, 1.0000000000000002, 0.0, 0.0, 0.33259369447843845, 0.0, 0.2612799700464537, 0.0, 0.33548730502861474, 0.2764843647569934, 0.0, 0.0, 0.2709152233198039, 0.0, 0.0, 0.23842689778790443, 0.0, 0.0], [0.23585262860885498, 0.1773065680888884, 0.36961157425258484, 0.0, 0.17709118998353113, 0.2866847696002084, 0.3447319753656997, 0.0, 0.2767515961707483, 0.3770258902305824, 0.0, 0.36160380226140226, 0.5055591346429212, 0.0, 0.46652656115202357, 0.0, 0.482181010803382, 0.612092652200845, 0.0, 0.0, 0.0, 0.5319184717520568, 0.2924162590802176, 0.0, 0.4570108897202203, 0.549788832293972, 0.17604285261235442, 0.0, 0.283208853612744, 0.0, 0.0, 0.0, 0.0, 0.0, 0.22450303398803842, 0.24138328877551818, 0.22296316581353748, 0.26519861429145636, 0.0, 0.0, 0.0, 0.6795801448651888, 0.4467733289764143, 0.30326136451745184, 0.4538115735739684, 0.0, 0.0, 0.6749860259292784, 0.0, 0.0, 0.0, 0.5746675670700507, 0.0, 0.6487692605237669, 0.17405889204617586, 0.6416452826667847, 0.0, 0.0, 0.0, 0.25511054025972685, 0.2684395109779858, 0.3337099982761653, 0.0, 0.0, 0.0, 0.0, 0.0, 0.0, 0.2581340078245299, 0.0, 0.4978673059304906, 0.6211281737716757, 0.21671542746288547, 0.0, 0.0, 0.0, 0.0, 0.23376703397788584, 0.0, 0.25641822790547425, 0.2237063747553616, 0.21326731901270526, 0.21998044889933793, 0.22056378593927, 0.0, 0.0, 0.24209027056377616, 0.0, 0.0, 0.2504880914304008, 0.0, 0.0, 0.0, 0.0, 0.2691572555633265, 0.0, 0.4575314081275791, 0.0, 0.4626724499586359, 0.2069451874859202, 0.0, 0.0, 0.1877459092085819, 0.0, 0.6343326866987742, 0.18430221331324312, 0.17889945135457036, 0.5788736283295718, 0.0, 0.868077667141533, 0.20345224455770147, 0.0, 0.3321144799645034, 0.32291689579438365, 0.0, 0.0, 0.5058707543959704, 0.29540064895950496, 0.0, 0.22231112283052387, 0.2272952269149149, 0.2853813538192558, 0.423737572263267, 0.0, 0.0, 0.6956764048986156, 0.2106694915882379, 0.0, 1.0000000000000002, 0.0, 0.0, 0.4763767754465711, 0.0, 0.2921995637727952, 0.20851933639256484, 0.2616746906396359, 0.0, 0.2097868307641318, 0.0, 0.42964396549182104, 0.17916928217272457, 0.0, 0.0, 0.0], [0.0, 0.0, 0.0, 0.0, 0.0, 0.0, 0.29126616256463206, 0.0, 0.0, 0.0, 0.0, 0.0, 0.0, 0.0, 0.0, 0.0, 0.0, 0.27686547100823594, 0.0, 0.0, 0.0, 0.0, 0.24715485460079836, 0.0, 0.0, 0.0, 0.0, 0.0, 0.0, 0.0, 0.24116727209254757, 0.0, 0.30644313740468976, 0.0, 0.0, 0.0, 0.0, 0.0, 0.2701270082220938, 0.24439069253799012, 0.0, 0.0, 0.0, 0.0, 0.0, 0.0, 0.22207823800164223, 0.25917055643474335, 0.0, 0.0, 0.0, 0.0, 0.2892940785364814, 0.0, 0.24536608991666867, 0.0, 0.0, 0.0, 0.21401597475440554, 0.0, 0.0, 0.0, 0.0, 0.0, 0.0, 0.33727390560422077, 0.26141333175109277, 0.0, 0.0, 0.0, 0.0, 0.0, 0.0, 0.0, 0.21705783261977704, 0.0, 0.0, 0.0, 0.0, 0.0, 0.0, 0.0, 0.0, 0.0, 0.0, 0.0, 0.0, 0.0, 0.0, 0.24873282771834287, 0.0, 0.0, 0.0, 0.0, 0.0, 0.0, 0.0, 0.0, 0.0, 0.0, 0.3006208482917523, 0.0, 0.0, 0.0, 0.0, 0.0, 0.0, 0.0, 0.0, 0.0, 0.0, 0.27707983451065904, 0.25401031956221737, 0.0, 0.0, 0.0, 0.0, 0.0, 0.25484608947730314, 0.0, 0.0, 0.0, 0.20569493427671134, 0.0, 0.0, 0.0, 0.0, 0.0, 0.0, 1.0000000000000002, 0.0, 0.0, 0.0, 0.0, 0.0, 0.0, 0.0, 0.0, 0.0, 0.0, 0.0, 0.24902837607835585, 0.0, 0.0], [0.0, 0.5445312758124866, 0.0, 0.5104184521436814, 0.2952848116523554, 0.0, 0.0, 0.4019643240509884, 0.21687923436515055, 0.0, 0.0, 0.0, 0.0, 0.47368846362722195, 0.0, 0.30772893190859574, 0.0, 0.0, 0.28289002011315917, 0.0, 0.0, 0.0, 0.28665510741288114, 0.0, 0.0, 0.0, 0.0, 0.2859849510570996, 0.3183964164675297, 0.0, 0.2633770400451784, 0.0, 0.3625222724831363, 0.0, 0.2702216447438577, 0.0, 0.0, 0.2633409939965127, 0.0, 0.0, 0.0, 0.0, 0.0, 0.35654152939897465, 0.0, 0.3054160687267064, 0.0, 0.0, 0.2518346635552108, 0.0, 0.0, 0.0, 0.0, 0.0, 0.2902681171463916, 0.3617814694660612, 0.2790329293391958, 0.0, 0.25366216913079537, 0.0, 0.26629548362093225, 0.3042482719221774, 0.29990918250610415, 0.33252877842019724, 0.0, 0.0, 0.0, 0.0, 0.31163507215056485, 0.0, 0.30052987490906496, 0.0, 0.277357259411143, 0.0, 0.0, 0.0, 0.27972772375196003, 0.2930162041283326, 0.0, 0.0, 0.0, 0.0, 0.0, 0.0, 0.0, 0.23151595562858904, 0.0, 0.5915821013959989, 0.0, 0.2823967130388327, 0.0, 0.283176724231876, 0.2899554621528129, 0.2555531820840078, 0.0, 0.0, 0.0, 0.0, 0.0, 0.3122478681582011, 0.0, 0.0, 0.0, 0.0, 0.0, 0.0, 0.0, 0.29177822237025325, 0.28585030630109726, 0.0, 0.0, 0.0, 0.0, 0.0, 0.0, 0.0, 0.0, 0.0, 0.0, 0.0, 0.0, 0.0, 0.0, 0.31779169671592233, 0.0, 0.0, 0.0, 0.33259369447843845, 0.0, 0.0, 1.0, 0.0, 0.7855830533894625, 0.0, 0.43294161347408855, 0.31590959976452376, 0.0, 0.0, 0.3084919945546549, 0.0, 0.0, 0.2721245131599295, 0.0, 0.0], [0.21722301814049033, 0.1661929188405256, 0.3400465576950633, 0.0, 0.1659910407241677, 0.26419342396780837, 0.317686639056755, 0.0, 0.25475616917821664, 0.3469590815473109, 0.0, 0.33304131381366253, 0.4694578963739711, 0.0, 0.43282597534987255, 0.0, 0.44716802672924527, 0.5678871645631812, 0.0, 0.0, 0.0, 0.4930902371794304, 0.2694752595960866, 0.0, 0.42377737483817945, 0.5097895843183086, 0.16498279083619644, 0.0, 0.2609902048102881, 0.15934275341007823, 0.0, 0.0, 0.0, 0.16658639360775815, 0.21034987300278218, 0.2261852953889808, 0.2089438380622187, 0.5174512847338413, 0.0, 0.0, 0.15104653542009175, 0.2947026417160446, 0.4144837721498123, 0.0, 0.42098005034949876, 0.0, 0.0, 0.28959974905257185, 0.17466900640280075, 0.17816999521370228, 0.0, 0.24344700353407414, 0.0, 0.4497611761122161, 0.0, 0.4435804409576112, 0.0, 0.1842753971924344, 0.0, 0.23903743884732823, 0.24731345817619374, 0.30681185367057845, 0.0, 0.0, 0.20265046571611303, 0.0, 0.0, 0.0, 0.0, 0.1666955494097293, 0.29251950724129205, 0.2662657730244727, 0.20307064629351243, 0.15104653542009175, 0.1622902193015485, 0.16642552557784768, 0.0, 0.21687101263576677, 0.17143647985729724, 0.24029584705337007, 0.20964046464001956, 0.199851452180852, 0.2061487833189245, 0.41347751265917554, 0.0, 0.16364056351480866, 0.22686086381500542, 0.0, 0.0, 0.0, 0.1434221468320166, 0.0, 0.0, 0.0, 0.24788419459944866, 0.1795695411347226, 0.26562179046598694, 0.0, 0.4291500421661217, 0.19391548850907142, 0.0, 0.0, 0.17594107313120594, 0.0, 0.43738982351079597, 0.17271070238394493, 0.17891252742627808, 0.5369026073385464, 0.0, 0.2986804169981083, 0.19063384608609468, 0.0, 0.510656723748431, 0.6248433528965414, 0.1675045735179066, 0.0, 0.7580693256111306, 0.276750556669665, 0.0, 0.2083263433859227, 0.21299691571597917, 0.569449360753488, 0.3930817874509075, 0.0, 0.17069931474021455, 0.47975753592273457, 0.19741704457588694, 0.0, 0.4763767754465711, 0.0, 0.0, 0.9999999999999997, 0.0, 0.5646468342814989, 0.195401808862397, 0.20060833284924057, 0.0, 0.19660677105909571, 0.2296619253497956, 0.3952769925979357, 0.16790428935178367, 0.0, 0.1721944748267121, 0.0], [0.0, 0.42777454231883283, 0.0, 0.5904021757419069, 0.4215123021271707, 0.0, 0.0, 0.31577636104160683, 0.1703766511493438, 0.0, 0.0, 0.0, 0.0, 0.6247278007645759, 0.0, 0.24174663394503262, 0.0, 0.0, 0.22223360577390203, 0.0, 0.0, 0.0, 0.2251913945510955, 0.0, 0.0, 0.0, 0.0, 0.2246649310748723, 0.2501268290368249, 0.0, 0.20690453931136998, 0.0, 0.2847913537389889, 0.0, 0.38026087603797615, 0.0, 0.0, 0.20687622214639653, 0.0, 0.0, 0.0, 0.0, 0.0, 0.2800929833253953, 0.0, 0.42978711775727213, 0.0, 0.0, 0.19783704394501045, 0.0, 0.0, 0.0, 0.0, 0.0, 0.2280297137694725, 0.28420939144287494, 0.2192035406264916, 0.0, 0.19927270135516448, 0.0, 0.2091972191267555, 0.23901228644509154, 0.23560357133268287, 0.2612289730912066, 0.0, 0.0, 0.0, 0.0, 0.24481523152328616, 0.0, 0.23609117676581645, 0.0, 0.21788716272793893, 0.0, 0.0, 0.0, 0.21974935934274883, 0.23018856433172552, 0.0, 0.0, 0.0, 0.0, 0.0, 0.0, 0.0, 0.1818750113310863, 0.0, 0.4647368735452235, 0.0, 0.22184607209619397, 0.0, 0.2224588356709029, 0.22778409730495952, 0.2007582490849481, 0.0, 0.0, 0.0, 0.0, 0.0, 0.24529663368206994, 0.0, 0.0, 0.0, 0.0, 0.0, 0.0, 0.0, 0.2292160268421731, 0.2245591564363291, 0.0, 0.0, 0.0, 0.0, 0.0, 0.0, 0.0, 0.0, 0.0, 0.0, 0.0, 0.0, 0.0, 0.0, 0.24965177144791229, 0.0, 0.0, 0.0, 0.2612799700464537, 0.0, 0.0, 0.7855830533894625, 0.0, 1.0000000000000002, 0.0, 0.3401115946523349, 0.24817322797805758, 0.0, 0.0, 0.24234608302845126, 0.0, 0.0, 0.21377640595029837, 0.0, 0.0], [0.24231127513104725, 0.1863579511554418, 0.3791961763570666, 0.0, 0.18613157814021317, 0.2947580380534186, 0.35443989875979515, 0.0, 0.28413392796564174, 0.38693520943273635, 0.0, 0.3715060499219968, 0.28464891626203354, 0.0, 0.27809415494333084, 0.0, 0.2928698182889296, 0.3515754690254233, 0.0, 0.0, 0.0, 0.33290450513510916, 0.30065093078227634, 0.0, 0.2782111074021964, 0.3349239573223123, 0.0, 0.0, 0.29118423753959183, 0.0, 0.0, 0.0, 0.0, 0.0, 0.0, 0.0, 0.0, 0.2729430532629039, 0.0, 0.0, 0.0, 0.32873943797483846, 0.26653005339153035, 0.0, 0.27404180984946436, 0.0, 0.0, 0.32304217612147407, 0.0, 0.0, 0.0, 0.27161145820355836, 0.0, 0.2907596898300219, 0.0, 0.29143378809377857, 0.0, 0.0, 0.0, 0.0, 0.27590304869748766, 0.3420663154297025, 0.0, 0.0, 0.0, 0.0, 0.0, 0.0, 0.0, 0.0, 0.32621371955879364, 0.297070137775396, 0.0, 0.0, 0.0, 0.0, 0.0, 0.2424451904047686, 0.0, 0.0, 0.0, 0.0, 0.0, 0.0, 0.0, 0.0, 0.0, 0.0, 0.0, 0.0, 0.0, 0.0, 0.0, 0.0, 0.2765093889462874, 0.0, 0.29629528857719356, 0.0, 0.7562438169845198, 0.0, 0.0, 0.0, 0.0, 0.0, 0.6051637968884765, 0.0, 0.0, 0.3678028498658673, 0.0, 0.3331233954484541, 0.0, 0.0, 0.5704103063680371, 0.6980389599042943, 0.0, 0.1676964160648965, 0.6247580232474859, 0.0, 0.0, 0.0, 0.0, 0.6361377545914447, 0.255881114467251, 0.0, 0.0, 0.31213186090171846, 0.0, 0.0, 0.2921995637727952, 0.0, 0.0, 0.5646468342814989, 0.0, 1.0000000000000002, 0.0, 0.0, 0.0, 0.0, 0.0, 0.44078530072775896, 0.0, 0.0, 0.0, 0.0], [0.0, 0.18412376730363128, 0.0, 0.18050262725915192, 0.0, 0.0, 0.0, 0.0, 0.16103693246355025, 0.0, 0.0, 0.0, 0.20844636813610623, 0.0, 0.18441738251076942, 0.32320179926594145, 0.1873746310869153, 0.24572240577435123, 0.28231754378751955, 0.2848934499236167, 0.3861041914674924, 0.20205362697720183, 0.20863346099227706, 0.28178841666379195, 0.17696054459342495, 0.21264019684222654, 0.1701539172904005, 0.0, 0.22869419977668962, 0.25518829353370126, 0.0, 0.2501181642129508, 0.0, 0.24009335153650915, 0.2019569404159924, 0.5005730237087371, 0.5030744261350705, 0.0, 0.30561709534673426, 0.27147809594406125, 0.2339351902394793, 0.0, 0.17639945961710266, 0.0, 0.17794777593333233, 0.0, 0.2512555352554023, 0.0, 0.22805824632745575, 0.2460734968557073, 0.3106860464588856, 0.0, 0.0, 0.18999547183787543, 0.17608368427410473, 0.44132784539975733, 0.0, 0.25335142004419875, 0.25004998012587004, 0.5038072524499047, 0.25408337263687564, 0.30144664714021785, 0.0, 0.33542182419180405, 0.28041222618269274, 0.0, 0.0, 0.0, 0.26195810494898264, 0.2372922653849916, 0.0, 0.0, 0.4513521233663789, 0.2339351902394793, 0.23484577249486402, 0.22875572526023036, 0.1643564067150818, 0.0, 0.23865890797109765, 0.5645293159457971, 0.49574659011455513, 0.45147806460744355, 0.48744387504681425, 0.5433187665918103, 0.61915788581137, 0.21537053719505092, 0.22784255176518817, 0.7811843968666292, 0.30007826905558965, 0.0, 0.4714023834319854, 0.5444143691488645, 0.3044128152154761, 0.4998159826966782, 0.0, 0.2641295503517141, 0.0, 0.0, 0.0, 0.8971659596328831, 0.3438594911613157, 0.40604424018360535, 0.4224347787910405, 0.24797357813038878, 0.18488416789584713, 0.4095575715260779, 0.2569207892380198, 0.22108406101895428, 0.3066536497314613, 0.0, 0.6377040861452906, 0.0, 0.0, 0.0, 0.24096180659655075, 0.25385485513790473, 0.19973288897076502, 0.5700413958627941, 0.0, 0.4757743924035838, 0.4868461276603025, 0.0, 0.16615521276772338, 0.31497420129994397, 0.22915795541877973, 0.20286162554977047, 0.450859804413726, 0.33548730502861474, 0.20851933639256484, 0.0, 0.43294161347408855, 0.195401808862397, 0.3401115946523349, 0.0, 1.0000000000000002, 0.26555124081003156, 0.0, 0.2027691015042677, 0.0, 0.0, 0.42303577601211434, 0.0, 0.25783092507242544, 0.0], [0.0, 0.24606245811234778, 0.0, 0.21894223589529407, 0.24572548963231822, 0.0, 0.0, 0.3406825146869639, 0.0, 0.0, 0.0, 0.0, 0.0, 0.40359106816143336, 0.0, 0.5990928340752983, 0.0, 0.0, 0.5383809125545183, 0.3082419144682815, 0.41767876363101225, 0.0, 0.0, 0.304917186423958, 0.0, 0.0, 0.0, 0.23730307356131358, 0.0, 0.46158915879849904, 0.21917717546886437, 0.2704774534025772, 0.3016838814567064, 0.43753553714443877, 0.22586942386272682, 0.3001448409409634, 0.31485721497520125, 0.4214187359353515, 0.330493924444841, 0.2936166592771608, 0.4300737600475025, 0.2943973961576552, 0.0, 0.5774892525490097, 0.0, 0.25528729035422026, 0.2717074049500953, 0.2927534928732252, 0.6284155348168914, 0.4561498674156641, 0.33590869141792196, 0.252122695467241, 0.0, 0.0, 0.43266965175344085, 0.0, 0.22984729821963537, 0.47054049950009674, 0.48149907089082633, 0.293600316958302, 0.22160584662254293, 0.2531894081190491, 0.24957850353086392, 0.27643040018874293, 0.5197294523949543, 0.0, 0.0, 0.0, 0.7822287260641664, 0.4341082027289791, 0.44774520231659576, 0.27195886578493916, 0.5024001573462392, 0.4300737600475025, 0.4270144351349697, 0.4246452362280988, 0.4122011742746919, 0.24358368906834335, 0.4421391799415135, 0.34685919092821976, 0.30618271573722805, 0.27123388113792707, 0.30104331952799257, 0.5886458370920257, 0.3223754775423112, 0.5918642386633015, 0.0, 0.5059121055402012, 0.0, 0.4655064586912203, 0.4154698390261289, 0.5149197227617732, 0.2392797732870575, 0.4685353500485362, 0.0, 0.4770578128283995, 0.0, 0.0, 0.0, 0.2573232417892183, 0.0, 0.0, 0.2638184439036676, 0.2681583008370717, 0.0, 0.25450526462404877, 0.6594991184277708, 0.23514424361983596, 0.23546819575207273, 0.2922484117864203, 0.24098250754924094, 0.0, 0.0, 0.0, 0.43917971366332964, 0.2745231139149295, 0.0, 0.0, 0.0, 0.288270704191891, 0.29516889513959754, 0.0, 0.0, 0.26445997897806867, 0.4257247898637959, 0.0, 0.2731750077038909, 0.2764843647569934, 0.2616746906396359, 0.0, 0.31590959976452376, 0.20060833284924057, 0.24817322797805758, 0.0, 0.26555124081003156, 0.9999999999999997, 0.0, 0.0, 0.48039686345242194, 0.0, 0.2729628087234175, 0.226391504144801, 0.4721884239170563, 0.0], [0.0, 0.0, 0.0, 0.0, 0.0, 0.0, 0.0, 0.0, 0.0, 0.0, 0.0, 0.0, 0.0, 0.0, 0.0, 0.0, 0.0, 0.0, 0.0, 0.0, 0.0, 0.0, 0.0, 0.0, 0.324879879828079, 0.0, 0.0, 0.2606991684901066, 0.0, 0.0, 0.0, 0.0, 0.0, 0.0, 0.0, 0.0, 0.0, 0.0, 0.0, 0.0, 0.0, 0.0, 0.0, 0.0, 0.0, 0.0, 0.1855514072852211, 0.0, 0.0, 0.0, 0.0, 0.0, 0.0, 0.0, 0.0, 0.0, 0.0, 0.0, 0.0, 0.0, 0.0, 0.0, 0.0, 0.0, 0.2280843672495203, 0.2650223706388248, 0.0, 0.0, 0.0, 0.0, 0.0, 0.0, 0.0, 0.0, 0.0, 0.0, 0.0, 0.37434213982178405, 0.0, 0.24174118915269938, 0.2784128127785207, 0.19487016490920403, 0.0, 0.0, 0.0, 0.0, 0.0, 0.0, 0.0, 0.0, 0.0, 0.0, 0.0, 0.0, 0.0, 0.0, 0.0, 0.2655593897538259, 0.0, 0.0, 0.0, 0.0, 0.0, 0.0, 0.0, 0.0, 0.0, 0.0, 0.0, 0.0, 0.0, 0.0, 0.0, 0.0, 0.0, 0.0, 0.0, 0.0, 0.0, 0.0, 0.0, 0.19423471539726458, 0.0, 0.0, 0.17761887335464074, 0.0, 0.0, 0.0, 0.0, 0.0, 0.0, 0.0, 0.0, 0.0, 0.0, 0.0, 1.0000000000000002, 0.0, 0.0, 0.0, 0.0, 0.0, 0.0, 0.0], [0.0, 0.0, 0.0, 0.0, 0.0, 0.0, 0.0, 0.0, 0.0, 0.0, 0.0, 0.0, 0.20973177073859714, 0.0, 0.3661145650947161, 0.0, 0.19524469197317892, 0.2472376742949639, 0.0, 0.2895069605037753, 0.0, 0.21424044317326518, 0.0, 0.0, 0.18439319570706802, 0.22156391975819995, 0.668420115214943, 0.0, 0.0, 0.19307544209775762, 0.0, 0.18438731049382387, 0.0, 0.0, 0.2009666143669333, 0.45419015909859023, 0.4380258845736614, 0.0, 0.0, 0.25533527886942253, 0.0, 0.0, 0.1823394318111148, 0.0, 0.1854155862040358, 0.0, 0.0, 0.0, 0.0, 0.0, 0.0, 0.0, 0.0, 0.1963932681925519, 0.0, 0.19300840842105962, 0.0, 0.0, 0.0, 0.23390514389075215, 0.0, 0.0, 0.0, 0.0, 0.0, 0.0, 0.0, 0.0, 0.0, 0.0, 0.0, 0.3558934592197894, 0.20403035104123274, 0.0, 0.0, 0.1744028967958477, 0.0, 0.0, 0.0, 0.2541645262890033, 0.22156872676012027, 0.20758569241351316, 0.21786156881842628, 0.24337346014166056, 0.0, 0.0, 0.2354142665825801, 0.0, 0.22732319391473546, 0.0, 0.17378446031327124, 0.0, 0.0, 0.0, 0.0, 0.0, 0.0, 0.0, 0.0, 0.38939094792236784, 0.0, 0.0, 0.3656738694815016, 0.1828063199203067, 0.19264307289289714, 0.4053394286063803, 0.0, 0.23915978842489083, 0.0, 0.0, 0.36904706186965586, 0.0, 0.0, 0.0, 0.0, 0.0, 0.20645857741273255, 0.24866366850340182, 0.0, 0.42244998775462267, 0.22123988466609967, 0.0, 0.17312813276028674, 0.0, 0.0, 0.21130315622124696, 0.20505707336782264, 0.0, 0.2097868307641318, 0.0, 0.0, 0.19660677105909571, 0.0, 0.0, 0.2027691015042677, 0.0, 0.0, 0.9999999999999998, 0.0, 0.0, 0.5311000424046771, 0.0, 0.0, 0.0], [0.2174244861944817, 0.469985573891677, 0.0, 0.45136560866876035, 0.4720110819375814, 0.0, 0.0, 0.5815932317514677, 0.0, 0.0, 0.29973112753916964, 0.0, 0.0, 0.3640086611882614, 0.0, 0.26491721268982915, 0.0, 0.0, 0.47066590160285365, 0.0, 0.0, 0.0, 0.0, 0.0, 0.0, 0.0, 0.0, 0.4416094227076733, 0.0, 0.6103780254700788, 0.41855428493126046, 0.0, 0.2945818116634576, 0.19373511407377966, 0.2173627664730521, 0.22178759922339406, 0.0, 0.44709129877270115, 0.0, 0.0, 0.19124235089746783, 0.0, 0.0, 0.28991181532835525, 0.0, 0.4561867607509494, 0.0, 0.0, 0.39348184655986684, 0.20691618941434742, 0.0, 0.0, 0.0, 0.0, 0.23586883981342807, 0.0, 0.6798225675842032, 0.21400664541827122, 0.20599763130596468, 0.0, 0.2163889282319887, 0.24722896754565749, 0.6927866385520698, 0.2708623457436279, 0.2356765774343969, 0.0, 0.0, 0.23409318780445165, 0.25067518731478555, 0.19333786060068325, 0.24410109111631337, 0.0, 0.4312594716508111, 0.19124235089746783, 0.188491955291241, 0.19302467989398736, 0.42664145010869364, 0.47951029761755715, 0.20027446365823945, 0.0, 0.0, 0.0, 0.0, 0.26175513176868276, 0.0, 0.3762748756179415, 0.2554917740502992, 0.2209979447330143, 0.0, 0.23278733952795563, 0.18058648739029315, 0.23407110264665862, 0.24009861735580085, 0.2124547689836462, 0.0, 0.20854154001583664, 0.0, 0.0, 0.0, 0.0, 0.0, 0.0, 0.0, 0.0, 0.0, 0.17985552358644674, 0.2075074314205942, 0.2541549000262344, 0.23764235801665864, 0.0, 0.0, 0.23318157479435034, 0.21445768739467186, 0.0, 0.1945299937861543, 0.0, 0.0, 0.0, 0.0, 0.0, 0.21905123402266952, 0.0, 0.0, 0.5388490124757139, 0.19411682485364457, 0.0, 0.0, 0.2709152233198039, 0.0, 0.0, 0.3084919945546549, 0.2296619253497956, 0.24234608302845126, 0.0, 0.0, 0.48039686345242194, 0.0, 0.0, 1.0, 0.0, 0.20145270091601808, 0.43311434464669724, 0.2096111100367766, 0.25595055421793506], [0.35628929689858624, 0.2563052812499198, 0.5598283382962685, 0.0, 0.255993941706982, 0.43246619108765866, 0.5200308497044774, 0.0, 0.41861302999560573, 0.570694021410724, 0.0, 0.5462545201361108, 0.41746483028740683, 0.0, 0.4089036751706257, 0.0, 0.4312431193648242, 0.517974299706494, 0.0, 0.0, 0.0, 0.4905568679626216, 0.44111218727411516, 0.0, 0.6380522633371855, 0.493532664699144, 0.0, 0.0, 0.42722274495085927, 0.0, 0.0, 0.0, 0.0, 0.0, 0.0, 0.0, 0.0, 0.39929431943941784, 0.0, 0.0, 0.0, 0.48337141206304624, 0.39197548319611036, 0.0, 0.40294519394228295, 0.0, 0.0, 0.4750856853351817, 0.0, 0.0, 0.0, 0.39850574919273307, 0.0, 0.42813601060163264, 0.0, 0.4293678757426894, 0.0, 0.0, 0.0, 0.0, 0.4052069496196486, 0.506268168483931, 0.0, 0.0, 0.0, 0.0, 0.0, 0.0, 0.0, 0.0, 0.4813081715575183, 0.43585848181798703, 0.0, 0.0, 0.0, 0.0, 0.0, 0.34687645352415525, 0.0, 0.0, 0.0, 0.0, 0.0, 0.0, 0.0, 0.0, 0.28371403555912666, 0.0, 0.0, 0.0, 0.0, 0.0, 0.0, 0.0, 0.4066517076078687, 0.0, 0.4357500680726876, 0.0, 0.4351169974769544, 0.0, 0.0, 0.0, 0.0, 0.0, 0.41865196965181667, 0.0, 0.0, 0.5398539065347944, 0.0, 0.4907889562135093, 0.0, 0.0, 0.5039834238133228, 0.4871226335350671, 0.0, 0.0, 0.4438244642835635, 0.0, 0.0, 0.0, 0.0, 0.43032882533702976, 0.37624209733475267, 0.0, 0.0, 0.4589519872741217, 0.0, 0.0, 0.42964396549182104, 0.0, 0.0, 0.3952769925979357, 0.0, 0.44078530072775896, 0.0, 0.0, 0.0, 0.0, 0.0, 1.0000000000000002, 0.0, 0.0, 0.0, 0.2859540648266945], [0.1745464033061655, 0.1777300629113584, 0.0, 0.1752723011106006, 0.17997732854245924, 0.0, 0.0, 0.20744422108354546, 0.0, 0.0, 0.23143771501275043, 0.0, 0.17911317972752092, 0.0, 0.16028864606430387, 0.33437929862397703, 0.16341978827469686, 0.21114362328348288, 0.4785242591629781, 0.5307531401462054, 0.4021876812755944, 0.17755192208572312, 0.0, 0.2899266863792261, 0.15433708695078524, 0.18545257862901846, 0.3064141775011092, 0.0, 0.0, 0.58382191249362, 0.15823593285617252, 0.4149524546647662, 0.0, 0.25009463890340794, 0.17273350161133008, 0.8348637096759185, 0.66811823154253, 0.0, 0.323256706124792, 0.4936925096928566, 0.24069142137431618, 0.0, 0.15331976933817001, 0.0, 0.15519583972460793, 0.0, 0.2657575049266654, 0.0, 0.23755820142123535, 0.25318029177276435, 0.3314514149116695, 0.0, 0.0, 0.16513691130749675, 0.0, 0.16150408774879774, 0.18221522195750356, 0.26029897042965494, 0.2667626069982588, 0.479191336487319, 0.0, 0.0, 0.18277108368118436, 0.0, 0.2885107504414201, 0.0, 0.0, 0.1813020601482921, 0.269269387996913, 0.24653629277625783, 0.0, 0.0, 0.5923770808107084, 0.24069142137431618, 0.24504501743643664, 0.37739437324785774, 0.30074532438773344, 0.18824779611399986, 0.24555156376602033, 0.5453968111549126, 0.4803158338236408, 0.4321986240721066, 0.47226709261384314, 0.5279473276267822, 0.31215361189648433, 0.22138155547572025, 0.3958710236782982, 0.2784740998523306, 0.1854191931959207, 0.0, 0.38100894985304423, 0.2672306973582934, 0.0, 0.245339177611478, 0.0, 0.27691785091270615, 0.0, 0.0, 0.0, 0.5711695233557713, 0.0, 0.0, 0.5583027872203523, 0.41139453130482445, 0.16124536279189716, 0.7182916903845206, 0.26762303745628896, 0.19597849924685498, 0.0, 0.0, 0.5396013563314201, 0.0, 0.0, 0.0, 0.2509992701780974, 0.26830290608552443, 0.17360030769207066, 0.21739319973160642, 0.0, 0.6255514153286624, 0.4682774824339674, 0.0, 0.1449110427756546, 0.22274125666613992, 0.23577621627816978, 0.1768984587844793, 0.4335183689129889, 0.0, 0.17916928217272457, 0.0, 0.0, 0.16790428935178367, 0.0, 0.0, 0.42303577601211434, 0.2729628087234175, 0.0, 0.5311000424046771, 0.20145270091601808, 0.0, 0.9999999999999999, 0.16390265233136916, 0.2667476607033043, 0.19823029969830808], [0.17420187975363344, 0.3995106828925336, 0.0, 0.3771643858059617, 0.4009054328370214, 0.0, 0.0, 0.5074393418681352, 0.0, 0.0, 0.24496535610097706, 0.0, 0.0, 0.33906347087817845, 0.0, 0.2209351679222319, 0.0, 0.0, 0.3951817170830187, 0.0, 0.0, 0.0, 0.17216979312169023, 0.0, 0.0, 0.0, 0.0, 0.20503706599585172, 0.30667641575728316, 0.17182139341087696, 0.5490878395659289, 0.0, 0.4743517191959928, 0.0, 0.19364997028151082, 0.18263218855613172, 0.0, 0.18883370802152866, 0.1891940493014592, 0.17012559095303165, 0.0, 0.0, 0.2740549855157287, 0.25558249360199886, 0.2823366624380807, 0.21887148488228916, 0.1555412077666782, 0.0, 0.18051963172164096, 0.0, 0.0, 0.0, 0.429152805389434, 0.0, 0.37980888581840083, 0.0, 0.3917546207319252, 0.0, 0.3316232165968916, 0.0, 0.19088739047688086, 0.21809291654002244, 0.4071575544361673, 0.23838036132422513, 0.0, 0.2429979400335396, 0.18834217547610035, 0.19103364868284375, 0.2233282330800598, 0.0, 0.21542498983647737, 0.0, 0.36781558051117014, 0.0, 0.0, 0.0, 0.365865573143234, 0.4056831237107845, 0.0, 0.0, 0.0, 0.16946281832365528, 0.18008730195296835, 0.0, 0.0, 0.16605804088742449, 0.2084961389224723, 0.19066985068905834, 0.0, 0.2025066159568018, 0.0, 0.20308093462761298, 0.2079522383122726, 0.18329907605805312, 0.0, 0.0, 0.0, 0.0, 0.0, 0.0, 0.21695189049518102, 0.0, 0.0, 0.0, 0.0, 0.1482922679425512, 0.0, 0.20955267751611487, 0.205030110009268, 0.0, 0.0, 0.47372590834770034, 0.17682201918132848, 0.0, 0.0, 0.0, 0.0, 0.0, 0.35486637349739364, 0.0, 0.0, 0.0, 0.2636262688503819, 0.4539610599951638, 0.0, 0.0, 0.0, 0.23842689778790443, 0.0, 0.24902837607835585, 0.2721245131599295, 0.0, 0.21377640595029837, 0.0, 0.0, 0.226391504144801, 0.0, 0.0, 0.43311434464669724, 0.0, 0.16390265233136916, 1.0000000000000002, 0.0, 0.20887053020736532], [0.0, 0.0, 0.0, 0.0, 0.0, 0.0, 0.0, 0.0, 0.0, 0.0, 0.0, 0.0, 0.0, 0.0, 0.0, 0.33980996491486437, 0.0, 0.0, 0.2973983780136185, 0.29951517929992916, 0.4063118869993704, 0.0, 0.0, 0.2960523927749632, 0.0, 0.0, 0.0, 0.0, 0.0, 0.44479231913092365, 0.0, 0.2637489596071635, 0.0, 0.4194680239305198, 0.0, 0.29187847752165097, 0.30673387785219475, 0.1784680665416415, 0.32227243946679646, 0.2860413299062675, 0.41399887290034987, 0.0, 0.0, 0.0, 0.0, 0.0, 0.2649483144404194, 0.0, 0.39941361674552583, 0.7905224353104622, 0.32799863630095255, 0.0, 0.18369602671504084, 0.0, 0.0, 0.0, 0.0, 0.6333347879899739, 0.26398370130606813, 0.2851057327068947, 0.0, 0.0, 0.0, 0.0, 0.4975275692220056, 0.0, 0.0, 0.0, 0.27518408757197366, 0.7465005664979069, 0.0, 0.0, 0.26413774140839963, 0.5822208836974706, 0.5706307727316257, 0.4063828973583719, 0.16959907500009808, 0.0, 0.5950031559865026, 0.3372143673481602, 0.2978501370677491, 0.26331006786631345, 0.4849770353851501, 0.5666439939666735, 0.31386920010473285, 0.38301554927657344, 0.0, 0.2794628043019162, 0.0, 0.0, 0.4003512424563996, 0.27287687230130575, 0.0, 0.2505228183041935, 0.0, 0.4576840635735208, 0.0, 0.0, 0.0, 0.25023623864034966, 0.0, 0.0, 0.2569473001896714, 0.26148749910970776, 0.0, 0.2478766823940701, 0.448905793663227, 0.0, 0.0, 0.0, 0.23432965820028098, 0.0, 0.0, 0.0, 0.42100397652692695, 0.2676618643035248, 0.0, 0.0, 0.0, 0.2801093803284035, 0.28683234576323435, 0.0, 0.0, 0.0, 0.40688965339858074, 0.0, 0.2654410629191372, 0.0, 0.0, 0.0, 0.0, 0.1721944748267121, 0.0, 0.0, 0.25783092507242544, 0.4721884239170563, 0.0, 0.0, 0.2096111100367766, 0.0, 0.2667476607033043, 0.0, 0.9999999999999996, 0.0], [0.5382056782808106, 0.2264915908684107, 0.24483162100198708, 0.22397793167943225, 0.22864152562723208, 0.20275678846229958, 0.0, 0.2650899616353201, 0.0, 0.0, 0.29569016174247326, 0.0, 0.1968572323658122, 0.0, 0.0, 0.0, 0.0, 0.0, 0.23218492212105984, 0.0, 0.0, 0.0, 0.0, 0.0, 0.2716100178516948, 0.0, 0.0, 0.0, 0.0, 0.20706690226963184, 0.201670837301951, 0.0, 0.0, 0.0, 0.0, 0.21973250693934393, 0.0, 0.0, 0.0, 0.0, 0.0, 0.0, 0.0, 0.0, 0.0, 0.0, 0.0, 0.0, 0.0, 0.0, 0.0, 0.0, 0.0, 0.0, 0.0, 0.0, 0.2315088695008842, 0.0, 0.0, 0.0, 0.0, 0.0, 0.23219068619273261, 0.0, 0.0, 0.0, 0.0, 0.6593444399467172, 0.0, 0.0, 0.0, 0.0, 0.2036692137223129, 0.0, 0.0, 0.18597207686162937, 0.19933218309749354, 0.2367659194414023, 0.0, 0.0, 0.0, 0.0, 0.0, 0.0, 0.0, 0.0, 0.4827637701708062, 0.0, 0.0, 0.0, 0.0, 0.0, 0.0, 0.0, 0.0, 0.0, 0.0, 0.0, 0.0, 0.0, 0.0, 0.0, 0.0, 0.0, 0.0, 0.17831826866694417, 0.19992566757113478, 0.0, 0.0, 0.0, 0.0, 0.0, 0.0, 0.0, 0.0, 0.0, 0.0, 0.0, 0.0, 0.0, 0.0, 0.0, 0.0, 0.2746578961832419, 0.1857357546852446, 0.0, 0.0, 0.0, 0.0, 0.0, 0.0, 0.0, 0.0, 0.0, 0.0, 0.0, 0.0, 0.0, 0.25595055421793506, 0.2859540648266945, 0.19823029969830808, 0.20887053020736532, 0.0, 1.0]]}],\n",
              "                        {\"template\": {\"data\": {\"bar\": [{\"error_x\": {\"color\": \"#2a3f5f\"}, \"error_y\": {\"color\": \"#2a3f5f\"}, \"marker\": {\"line\": {\"color\": \"#E5ECF6\", \"width\": 0.5}}, \"type\": \"bar\"}], \"barpolar\": [{\"marker\": {\"line\": {\"color\": \"#E5ECF6\", \"width\": 0.5}}, \"type\": \"barpolar\"}], \"carpet\": [{\"aaxis\": {\"endlinecolor\": \"#2a3f5f\", \"gridcolor\": \"white\", \"linecolor\": \"white\", \"minorgridcolor\": \"white\", \"startlinecolor\": \"#2a3f5f\"}, \"baxis\": {\"endlinecolor\": \"#2a3f5f\", \"gridcolor\": \"white\", \"linecolor\": \"white\", \"minorgridcolor\": \"white\", \"startlinecolor\": \"#2a3f5f\"}, \"type\": \"carpet\"}], \"choropleth\": [{\"colorbar\": {\"outlinewidth\": 0, \"ticks\": \"\"}, \"type\": \"choropleth\"}], \"contour\": [{\"colorbar\": {\"outlinewidth\": 0, \"ticks\": \"\"}, \"colorscale\": [[0.0, \"#0d0887\"], [0.1111111111111111, \"#46039f\"], [0.2222222222222222, \"#7201a8\"], [0.3333333333333333, \"#9c179e\"], [0.4444444444444444, \"#bd3786\"], [0.5555555555555556, \"#d8576b\"], [0.6666666666666666, \"#ed7953\"], [0.7777777777777778, \"#fb9f3a\"], [0.8888888888888888, \"#fdca26\"], [1.0, \"#f0f921\"]], \"type\": \"contour\"}], \"contourcarpet\": [{\"colorbar\": {\"outlinewidth\": 0, \"ticks\": \"\"}, \"type\": \"contourcarpet\"}], \"heatmap\": [{\"colorbar\": {\"outlinewidth\": 0, \"ticks\": \"\"}, \"colorscale\": [[0.0, \"#0d0887\"], [0.1111111111111111, \"#46039f\"], [0.2222222222222222, \"#7201a8\"], [0.3333333333333333, \"#9c179e\"], [0.4444444444444444, \"#bd3786\"], [0.5555555555555556, \"#d8576b\"], [0.6666666666666666, \"#ed7953\"], [0.7777777777777778, \"#fb9f3a\"], [0.8888888888888888, \"#fdca26\"], [1.0, \"#f0f921\"]], \"type\": \"heatmap\"}], \"heatmapgl\": [{\"colorbar\": {\"outlinewidth\": 0, \"ticks\": \"\"}, \"colorscale\": [[0.0, \"#0d0887\"], [0.1111111111111111, \"#46039f\"], [0.2222222222222222, \"#7201a8\"], [0.3333333333333333, \"#9c179e\"], [0.4444444444444444, \"#bd3786\"], [0.5555555555555556, \"#d8576b\"], [0.6666666666666666, \"#ed7953\"], [0.7777777777777778, \"#fb9f3a\"], [0.8888888888888888, \"#fdca26\"], [1.0, \"#f0f921\"]], \"type\": \"heatmapgl\"}], \"histogram\": [{\"marker\": {\"colorbar\": {\"outlinewidth\": 0, \"ticks\": \"\"}}, \"type\": \"histogram\"}], \"histogram2d\": [{\"colorbar\": {\"outlinewidth\": 0, \"ticks\": \"\"}, \"colorscale\": [[0.0, \"#0d0887\"], [0.1111111111111111, \"#46039f\"], [0.2222222222222222, \"#7201a8\"], [0.3333333333333333, \"#9c179e\"], [0.4444444444444444, \"#bd3786\"], [0.5555555555555556, \"#d8576b\"], [0.6666666666666666, \"#ed7953\"], [0.7777777777777778, \"#fb9f3a\"], [0.8888888888888888, \"#fdca26\"], [1.0, \"#f0f921\"]], \"type\": \"histogram2d\"}], \"histogram2dcontour\": [{\"colorbar\": {\"outlinewidth\": 0, \"ticks\": \"\"}, \"colorscale\": [[0.0, \"#0d0887\"], [0.1111111111111111, \"#46039f\"], [0.2222222222222222, \"#7201a8\"], [0.3333333333333333, \"#9c179e\"], [0.4444444444444444, \"#bd3786\"], [0.5555555555555556, \"#d8576b\"], [0.6666666666666666, \"#ed7953\"], [0.7777777777777778, \"#fb9f3a\"], [0.8888888888888888, \"#fdca26\"], [1.0, \"#f0f921\"]], \"type\": \"histogram2dcontour\"}], \"mesh3d\": [{\"colorbar\": {\"outlinewidth\": 0, \"ticks\": \"\"}, \"type\": \"mesh3d\"}], \"parcoords\": [{\"line\": {\"colorbar\": {\"outlinewidth\": 0, \"ticks\": \"\"}}, \"type\": \"parcoords\"}], \"pie\": [{\"automargin\": true, \"type\": \"pie\"}], \"scatter\": [{\"marker\": {\"colorbar\": {\"outlinewidth\": 0, \"ticks\": \"\"}}, \"type\": \"scatter\"}], \"scatter3d\": [{\"line\": {\"colorbar\": {\"outlinewidth\": 0, \"ticks\": \"\"}}, \"marker\": {\"colorbar\": {\"outlinewidth\": 0, \"ticks\": \"\"}}, \"type\": \"scatter3d\"}], \"scattercarpet\": [{\"marker\": {\"colorbar\": {\"outlinewidth\": 0, \"ticks\": \"\"}}, \"type\": \"scattercarpet\"}], \"scattergeo\": [{\"marker\": {\"colorbar\": {\"outlinewidth\": 0, \"ticks\": \"\"}}, \"type\": \"scattergeo\"}], \"scattergl\": [{\"marker\": {\"colorbar\": {\"outlinewidth\": 0, \"ticks\": \"\"}}, \"type\": \"scattergl\"}], \"scattermapbox\": [{\"marker\": {\"colorbar\": {\"outlinewidth\": 0, \"ticks\": \"\"}}, \"type\": \"scattermapbox\"}], \"scatterpolar\": [{\"marker\": {\"colorbar\": {\"outlinewidth\": 0, \"ticks\": \"\"}}, \"type\": \"scatterpolar\"}], \"scatterpolargl\": [{\"marker\": {\"colorbar\": {\"outlinewidth\": 0, \"ticks\": \"\"}}, \"type\": \"scatterpolargl\"}], \"scatterternary\": [{\"marker\": {\"colorbar\": {\"outlinewidth\": 0, \"ticks\": \"\"}}, \"type\": \"scatterternary\"}], \"surface\": [{\"colorbar\": {\"outlinewidth\": 0, \"ticks\": \"\"}, \"colorscale\": [[0.0, \"#0d0887\"], [0.1111111111111111, \"#46039f\"], [0.2222222222222222, \"#7201a8\"], [0.3333333333333333, \"#9c179e\"], [0.4444444444444444, \"#bd3786\"], [0.5555555555555556, \"#d8576b\"], [0.6666666666666666, \"#ed7953\"], [0.7777777777777778, \"#fb9f3a\"], [0.8888888888888888, \"#fdca26\"], [1.0, \"#f0f921\"]], \"type\": \"surface\"}], \"table\": [{\"cells\": {\"fill\": {\"color\": \"#EBF0F8\"}, \"line\": {\"color\": \"white\"}}, \"header\": {\"fill\": {\"color\": \"#C8D4E3\"}, \"line\": {\"color\": \"white\"}}, \"type\": \"table\"}]}, \"layout\": {\"annotationdefaults\": {\"arrowcolor\": \"#2a3f5f\", \"arrowhead\": 0, \"arrowwidth\": 1}, \"coloraxis\": {\"colorbar\": {\"outlinewidth\": 0, \"ticks\": \"\"}}, \"colorscale\": {\"diverging\": [[0, \"#8e0152\"], [0.1, \"#c51b7d\"], [0.2, \"#de77ae\"], [0.3, \"#f1b6da\"], [0.4, \"#fde0ef\"], [0.5, \"#f7f7f7\"], [0.6, \"#e6f5d0\"], [0.7, \"#b8e186\"], [0.8, \"#7fbc41\"], [0.9, \"#4d9221\"], [1, \"#276419\"]], \"sequential\": [[0.0, \"#0d0887\"], [0.1111111111111111, \"#46039f\"], [0.2222222222222222, \"#7201a8\"], [0.3333333333333333, \"#9c179e\"], [0.4444444444444444, \"#bd3786\"], [0.5555555555555556, \"#d8576b\"], [0.6666666666666666, \"#ed7953\"], [0.7777777777777778, \"#fb9f3a\"], [0.8888888888888888, \"#fdca26\"], [1.0, \"#f0f921\"]], \"sequentialminus\": [[0.0, \"#0d0887\"], [0.1111111111111111, \"#46039f\"], [0.2222222222222222, \"#7201a8\"], [0.3333333333333333, \"#9c179e\"], [0.4444444444444444, \"#bd3786\"], [0.5555555555555556, \"#d8576b\"], [0.6666666666666666, \"#ed7953\"], [0.7777777777777778, \"#fb9f3a\"], [0.8888888888888888, \"#fdca26\"], [1.0, \"#f0f921\"]]}, \"colorway\": [\"#636efa\", \"#EF553B\", \"#00cc96\", \"#ab63fa\", \"#FFA15A\", \"#19d3f3\", \"#FF6692\", \"#B6E880\", \"#FF97FF\", \"#FECB52\"], \"font\": {\"color\": \"#2a3f5f\"}, \"geo\": {\"bgcolor\": \"white\", \"lakecolor\": \"white\", \"landcolor\": \"#E5ECF6\", \"showlakes\": true, \"showland\": true, \"subunitcolor\": \"white\"}, \"hoverlabel\": {\"align\": \"left\"}, \"hovermode\": \"closest\", \"mapbox\": {\"style\": \"light\"}, \"paper_bgcolor\": \"white\", \"plot_bgcolor\": \"#E5ECF6\", \"polar\": {\"angularaxis\": {\"gridcolor\": \"white\", \"linecolor\": \"white\", \"ticks\": \"\"}, \"bgcolor\": \"#E5ECF6\", \"radialaxis\": {\"gridcolor\": \"white\", \"linecolor\": \"white\", \"ticks\": \"\"}}, \"scene\": {\"xaxis\": {\"backgroundcolor\": \"#E5ECF6\", \"gridcolor\": \"white\", \"gridwidth\": 2, \"linecolor\": \"white\", \"showbackground\": true, \"ticks\": \"\", \"zerolinecolor\": \"white\"}, \"yaxis\": {\"backgroundcolor\": \"#E5ECF6\", \"gridcolor\": \"white\", \"gridwidth\": 2, \"linecolor\": \"white\", \"showbackground\": true, \"ticks\": \"\", \"zerolinecolor\": \"white\"}, \"zaxis\": {\"backgroundcolor\": \"#E5ECF6\", \"gridcolor\": \"white\", \"gridwidth\": 2, \"linecolor\": \"white\", \"showbackground\": true, \"ticks\": \"\", \"zerolinecolor\": \"white\"}}, \"shapedefaults\": {\"line\": {\"color\": \"#2a3f5f\"}}, \"ternary\": {\"aaxis\": {\"gridcolor\": \"white\", \"linecolor\": \"white\", \"ticks\": \"\"}, \"baxis\": {\"gridcolor\": \"white\", \"linecolor\": \"white\", \"ticks\": \"\"}, \"bgcolor\": \"#E5ECF6\", \"caxis\": {\"gridcolor\": \"white\", \"linecolor\": \"white\", \"ticks\": \"\"}}, \"title\": {\"x\": 0.05}, \"xaxis\": {\"automargin\": true, \"gridcolor\": \"white\", \"linecolor\": \"white\", \"ticks\": \"\", \"title\": {\"standoff\": 15}, \"zerolinecolor\": \"white\", \"zerolinewidth\": 2}, \"yaxis\": {\"automargin\": true, \"gridcolor\": \"white\", \"linecolor\": \"white\", \"ticks\": \"\", \"title\": {\"standoff\": 15}, \"zerolinecolor\": \"white\", \"zerolinewidth\": 2}}}, \"title\": {\"text\": \"Matrice vicinanza\"}, \"xaxis\": {\"nticks\": 36}},\n",
              "                        {\"responsive\": true}\n",
              "                    ).then(function(){\n",
              "                            \n",
              "var gd = document.getElementById('a90d5907-7ff7-48bd-b679-1564de116ae1');\n",
              "var x = new MutationObserver(function (mutations, observer) {{\n",
              "        var display = window.getComputedStyle(gd).display;\n",
              "        if (!display || display === 'none') {{\n",
              "            console.log([gd, 'removed!']);\n",
              "            Plotly.purge(gd);\n",
              "            observer.disconnect();\n",
              "        }}\n",
              "}});\n",
              "\n",
              "// Listen for the removal of the full notebook cells\n",
              "var notebookContainer = gd.closest('#notebook-container');\n",
              "if (notebookContainer) {{\n",
              "    x.observe(notebookContainer, {childList: true});\n",
              "}}\n",
              "\n",
              "// Listen for the clearing of the current output cell\n",
              "var outputEl = gd.closest('.output');\n",
              "if (outputEl) {{\n",
              "    x.observe(outputEl, {childList: true});\n",
              "}}\n",
              "\n",
              "                        })\n",
              "                };\n",
              "                \n",
              "            </script>\n",
              "        </div>\n",
              "</body>\n",
              "</html>"
            ]
          },
          "metadata": {
            "tags": []
          }
        }
      ]
    },
    {
      "cell_type": "code",
      "metadata": {
        "id": "e9DqjKZrefYe"
      },
      "source": [
        "MatriceVicinanza.to_excel(base_dir + 'MatriceVicinanzaF.xlsx', index=True)"
      ],
      "execution_count": null,
      "outputs": []
    },
    {
      "cell_type": "markdown",
      "metadata": {
        "id": "QQBd7csTY__l"
      },
      "source": [
        "#Dataset Platooning"
      ]
    },
    {
      "cell_type": "code",
      "metadata": {
        "colab": {
          "base_uri": "https://localhost:8080/"
        },
        "id": "suhZ6kEDZFAy",
        "outputId": "af11c0a5-8490-4fc9-a733-570370fe79fe"
      },
      "source": [
        "!pip install skope-rules"
      ],
      "execution_count": null,
      "outputs": [
        {
          "output_type": "stream",
          "text": [
            "Collecting skope-rules\n",
            "  Downloading https://files.pythonhosted.org/packages/3f/5b/d3ea2e1635601557945c0a166b206b0b6e8b284cb74cb4bdb1b423ec7dd4/skope_rules-1.0.1-py3-none-any.whl\n",
            "Requirement already satisfied: pandas>=0.18.1 in /usr/local/lib/python3.7/dist-packages (from skope-rules) (1.1.5)\n",
            "Requirement already satisfied: numpy>=1.10.4 in /usr/local/lib/python3.7/dist-packages (from skope-rules) (1.19.5)\n",
            "Requirement already satisfied: scikit-learn>=0.17.1 in /usr/local/lib/python3.7/dist-packages (from skope-rules) (0.22.2.post1)\n",
            "Requirement already satisfied: scipy>=0.17.0 in /usr/local/lib/python3.7/dist-packages (from skope-rules) (1.4.1)\n",
            "Requirement already satisfied: python-dateutil>=2.7.3 in /usr/local/lib/python3.7/dist-packages (from pandas>=0.18.1->skope-rules) (2.8.1)\n",
            "Requirement already satisfied: pytz>=2017.2 in /usr/local/lib/python3.7/dist-packages (from pandas>=0.18.1->skope-rules) (2018.9)\n",
            "Requirement already satisfied: joblib>=0.11 in /usr/local/lib/python3.7/dist-packages (from scikit-learn>=0.17.1->skope-rules) (1.0.1)\n",
            "Requirement already satisfied: six>=1.5 in /usr/local/lib/python3.7/dist-packages (from python-dateutil>=2.7.3->pandas>=0.18.1->skope-rules) (1.15.0)\n",
            "Installing collected packages: skope-rules\n",
            "Successfully installed skope-rules-1.0.1\n"
          ],
          "name": "stdout"
        }
      ]
    },
    {
      "cell_type": "code",
      "metadata": {
        "colab": {
          "base_uri": "https://localhost:8080/"
        },
        "id": "FKEej3oQZKe-",
        "outputId": "7515560a-bd1f-41be-a45d-589009de5707"
      },
      "source": [
        "# Import skope-rules\n",
        "from skrules import SkopeRules\n",
        "\n",
        "\n",
        "# Import librairies\n",
        "import pandas as pd\n",
        "from sklearn.ensemble import GradientBoostingClassifier, RandomForestClassifier\n",
        "from sklearn.model_selection import train_test_split\n",
        "from sklearn.tree import DecisionTreeClassifier\n",
        "import matplotlib.pyplot as plt\n",
        "from sklearn.metrics import roc_curve, precision_recall_curve\n",
        "from matplotlib import cm\n",
        "import numpy as np\n",
        "from sklearn.metrics import confusion_matrix\n",
        "from IPython.display import display"
      ],
      "execution_count": null,
      "outputs": [
        {
          "output_type": "stream",
          "text": [
            "/usr/local/lib/python3.7/dist-packages/sklearn/externals/six.py:31: FutureWarning: The module is deprecated in version 0.21 and will be removed in version 0.23 since we've dropped support for Python 2.7. Please rely on the official version of six (https://pypi.org/project/six/).\n",
            "  \"(https://pypi.org/project/six/).\", FutureWarning)\n"
          ],
          "name": "stderr"
        }
      ]
    },
    {
      "cell_type": "code",
      "metadata": {
        "id": "hPKOo-EXZTHb"
      },
      "source": [
        "# Load the data\n",
        "platooning_test = pd.read_excel(base_dir + \"platooning_test.xlsx\") \n",
        "platooning_training = pd.read_excel(base_dir + \"platooning_training.xlsx\") "
      ],
      "execution_count": null,
      "outputs": []
    },
    {
      "cell_type": "code",
      "metadata": {
        "id": "whkJVjSfh0SR"
      },
      "source": [
        "def non_collisioni (row):\n",
        "   if row['collision'] == 0 :\n",
        "      return 1\n",
        "   else:\n",
        "      return 0"
      ],
      "execution_count": null,
      "outputs": []
    },
    {
      "cell_type": "markdown",
      "metadata": {
        "id": "WEORfxiRZ6qs"
      },
      "source": [
        "##Regole di collisione"
      ]
    },
    {
      "cell_type": "code",
      "metadata": {
        "id": "4RRhJ78jajjW"
      },
      "source": [
        "platooning_test['non_collision'] = platooning_test.apply (lambda row: non_collisioni(row), axis=1)\n",
        "platooning_training['non_collision'] = platooning_training.apply (lambda row: non_collisioni(row), axis=1)\n",
        "y_testNC = platooning_test['collision']\n",
        "y_trainNC = platooning_training['collision']\n",
        "training_set = platooning_training.drop(['collision', 'non_collision'], axis=1)\n",
        "test_set = platooning_test.drop(['collision', 'non_collision'], axis=1)\n",
        "feature_labels = training_set.columns"
      ],
      "execution_count": null,
      "outputs": []
    },
    {
      "cell_type": "code",
      "metadata": {
        "colab": {
          "base_uri": "https://localhost:8080/"
        },
        "id": "paxzjbZhawAX",
        "outputId": "05fdf7dd-7fb2-4681-a4ab-fe20bd45594a"
      },
      "source": [
        "n_estimators = 75\n",
        "max_depth_duplication = 2\n",
        "skope_rules = SkopeRules(feature_names=feature_labels, random_state=42, n_estimators=n_estimators,\n",
        "                               recall_min=0.05, precision_min=1,\n",
        "                               max_samples=0.7,\n",
        "                               max_depth_duplication= max_depth_duplication, max_depth = 5)\n",
        "skope_rules.fit(training_set, y_trainNC)\n",
        "\n",
        "# Compute prediction scores\n",
        "for i_rule, rule in enumerate(skope_rules.rules_):\n",
        "    print(rule[0])"
      ],
      "execution_count": null,
      "outputs": [
        {
          "output_type": "stream",
          "text": [
            "N > 5.5 and F0 <= -7.5 and PER > 0.42499999701976776 and v0 > 64.5\n",
            "N > 5.5 and F0 <= -4.5 and PER <= 0.4449999928474426 and PER > 0.4350000023841858 and v0 > 57.5\n"
          ],
          "name": "stdout"
        }
      ]
    },
    {
      "cell_type": "code",
      "metadata": {
        "id": "wCpL4zS9iAyx"
      },
      "source": [
        "#del Regole\n",
        "columns = ['Regola', 'Class', 'Precision', 'Recall']\n",
        "Regole = pd.DataFrame(columns=columns)"
      ],
      "execution_count": null,
      "outputs": []
    },
    {
      "cell_type": "code",
      "metadata": {
        "id": "gm259HqniE1-"
      },
      "source": [
        "for i_rule, rule in enumerate(skope_rules.rules_):\n",
        "  Regole.loc[i_rule, 'Regola'] = rule[0]\n",
        "  Regole.loc[i_rule, 'Class'] = 'Collision'\n",
        "  Regole.loc[i_rule, 'Precision'] = rule[1][0]\n",
        "  Regole.loc[i_rule, 'Recall'] = rule[1][1]"
      ],
      "execution_count": null,
      "outputs": []
    },
    {
      "cell_type": "code",
      "metadata": {
        "colab": {
          "base_uri": "https://localhost:8080/",
          "height": 110
        },
        "id": "gByGhB-aimhh",
        "outputId": "cccd47f9-77de-4d63-ed71-90cc0c3820e3"
      },
      "source": [
        "Regole"
      ],
      "execution_count": null,
      "outputs": [
        {
          "output_type": "execute_result",
          "data": {
            "text/html": [
              "<div>\n",
              "<style scoped>\n",
              "    .dataframe tbody tr th:only-of-type {\n",
              "        vertical-align: middle;\n",
              "    }\n",
              "\n",
              "    .dataframe tbody tr th {\n",
              "        vertical-align: top;\n",
              "    }\n",
              "\n",
              "    .dataframe thead th {\n",
              "        text-align: right;\n",
              "    }\n",
              "</style>\n",
              "<table border=\"1\" class=\"dataframe\">\n",
              "  <thead>\n",
              "    <tr style=\"text-align: right;\">\n",
              "      <th></th>\n",
              "      <th>Regola</th>\n",
              "      <th>Class</th>\n",
              "      <th>Precision</th>\n",
              "      <th>Recall</th>\n",
              "    </tr>\n",
              "  </thead>\n",
              "  <tbody>\n",
              "    <tr>\n",
              "      <th>0</th>\n",
              "      <td>N &gt; 5.5 and F0 &lt;= -7.5 and PER &gt; 0.42499999701...</td>\n",
              "      <td>Collision</td>\n",
              "      <td>1</td>\n",
              "      <td>0.0802469</td>\n",
              "    </tr>\n",
              "    <tr>\n",
              "      <th>1</th>\n",
              "      <td>N &gt; 5.5 and F0 &lt;= -4.5 and PER &lt;= 0.4449999928...</td>\n",
              "      <td>Collision</td>\n",
              "      <td>1</td>\n",
              "      <td>0.0691824</td>\n",
              "    </tr>\n",
              "  </tbody>\n",
              "</table>\n",
              "</div>"
            ],
            "text/plain": [
              "                                              Regola  ...     Recall\n",
              "0  N > 5.5 and F0 <= -7.5 and PER > 0.42499999701...  ...  0.0802469\n",
              "1  N > 5.5 and F0 <= -4.5 and PER <= 0.4449999928...  ...  0.0691824\n",
              "\n",
              "[2 rows x 4 columns]"
            ]
          },
          "metadata": {
            "tags": []
          },
          "execution_count": 10
        }
      ]
    },
    {
      "cell_type": "markdown",
      "metadata": {
        "id": "Pw0qIENjZ_h5"
      },
      "source": [
        "##Regole di non collisione"
      ]
    },
    {
      "cell_type": "code",
      "metadata": {
        "id": "EBAMXzeHaDHO"
      },
      "source": [
        "platooning_test['non_collision'] = platooning_test.apply (lambda row: non_collisioni(row), axis=1)\n",
        "platooning_training['non_collision'] = platooning_training.apply (lambda row: non_collisioni(row), axis=1)\n",
        "y_testNC = platooning_test['non_collision']\n",
        "y_trainNC = platooning_training['non_collision']\n",
        "training_set = platooning_training.drop(['collision', 'non_collision'], axis=1)\n",
        "test_set = platooning_test.drop(['collision', 'non_collision'], axis=1)\n",
        "feature_labels = training_set.columns"
      ],
      "execution_count": null,
      "outputs": []
    },
    {
      "cell_type": "code",
      "metadata": {
        "colab": {
          "base_uri": "https://localhost:8080/"
        },
        "id": "jm3MNsY0aKRp",
        "outputId": "8ada3481-eca1-42af-f9b6-84d19bc032a9"
      },
      "source": [
        "n_estimators = 75\n",
        "max_depth_duplication = 2\n",
        "skope_rules = SkopeRules(feature_names=feature_labels, random_state=42, n_estimators=n_estimators,\n",
        "                               recall_min=0.05, precision_min=1,\n",
        "                               max_samples=0.7,\n",
        "                               max_depth_duplication= max_depth_duplication, max_depth = 5)\n",
        "skope_rules.fit(training_set, y_trainNC)\n",
        "\n",
        "# Compute prediction scores\n",
        "for i_rule, rule in enumerate(skope_rules.rules_):\n",
        "    print(rule[0])"
      ],
      "execution_count": null,
      "outputs": [
        {
          "output_type": "stream",
          "text": [
            "PER <= 0.41499999165534973 and v0 <= 45.5\n",
            "N <= 7.5 and F0 > -7.5 and PER <= 0.32500000298023224\n",
            "N <= 5.5 and v0 <= 54.5\n",
            "F0 > -4.5 and PER <= 0.41499999165534973 and v0 > 64.5\n",
            "N <= 5.5 and PER > 0.35500000417232513 and v0 <= 45.5\n",
            "N <= 7.5 and F0 <= -6.5 and F0 > -7.5 and PER <= 0.32500000298023224\n"
          ],
          "name": "stdout"
        }
      ]
    },
    {
      "cell_type": "code",
      "metadata": {
        "id": "imbmrOsuiQu1"
      },
      "source": [
        "indice = len(Regole)\n",
        "for i_rule, rule in enumerate(skope_rules.rules_):\n",
        "  #print(i_rule+indice)\n",
        "  Regole.loc[i_rule+indice, 'Regola'] = rule[0]\n",
        "  Regole.loc[i_rule+indice, 'Class'] = 'Non collision'\n",
        "  Regole.loc[i_rule+indice, 'Precision'] = rule[1][0]\n",
        "  Regole.loc[i_rule+indice, 'Recall'] = rule[1][1]"
      ],
      "execution_count": null,
      "outputs": []
    },
    {
      "cell_type": "markdown",
      "metadata": {
        "id": "pU5SzIyZkRW4"
      },
      "source": [
        "##Creazione della BOW"
      ]
    },
    {
      "cell_type": "code",
      "metadata": {
        "colab": {
          "base_uri": "https://localhost:8080/"
        },
        "id": "hoF87O-2ndKE",
        "outputId": "c3b10d13-e919-4bfa-c3e3-08a8f3421951"
      },
      "source": [
        "from collections import Counter\n",
        "terms = []\n",
        "for index, value in Regole.loc[:,'Regola'].items():\n",
        "    for r in value.split(' and '):\n",
        "      if r.find('>')>0:\n",
        "        terms.append(r[:r.find('>')+2].replace(\" \", \"\"))\n",
        "      else:\n",
        "        terms.append(r[:r.find('<')+2].replace(\" \", \"\"))\n",
        "counter = Counter(terms)\n",
        "counter"
      ],
      "execution_count": null,
      "outputs": [
        {
          "output_type": "execute_result",
          "data": {
            "text/plain": [
              "Counter({'F0<=': 3,\n",
              "         'F0>': 3,\n",
              "         'N<=': 4,\n",
              "         'N>': 2,\n",
              "         'PER<=': 5,\n",
              "         'PER>': 3,\n",
              "         'v0<=': 3,\n",
              "         'v0>': 3})"
            ]
          },
          "metadata": {
            "tags": []
          },
          "execution_count": 15
        }
      ]
    },
    {
      "cell_type": "code",
      "metadata": {
        "id": "FGdhw_TSnnEp"
      },
      "source": [
        "for i in counter:\n",
        "  Regole.loc[:,i]= 0\n",
        "  Regole[i+'Value']=0.0\n",
        "  Regole[i+'ValueNorm']=0.0"
      ],
      "execution_count": null,
      "outputs": []
    },
    {
      "cell_type": "code",
      "metadata": {
        "id": "YBQh_9AgoDoQ"
      },
      "source": [
        "for c in counter:\n",
        "  for index, value in Regole.loc[:,'Regola'].items():\n",
        "    for r in value.split(' and '):\n",
        "      if r[:r.find('>')+2].replace(\" \", \"\") == c:\n",
        "        Regole.loc[index, c] = 1\n",
        "        Regole.loc[index, c+'Value'] = float(r.split('>')[1].strip())\n",
        "      if r[:r.find('<')+2].replace(\" \", \"\") == c:\n",
        "        Regole.loc[index, c] = 1\n",
        "        Regole.loc[index, c+'Value'] = float(r.split('<=')[1].strip())"
      ],
      "execution_count": null,
      "outputs": []
    },
    {
      "cell_type": "code",
      "metadata": {
        "id": "WB_YReYFoRhQ"
      },
      "source": [
        "for c in counter:\n",
        "  MAX = Regole.loc[Regole[c] == 1, c+'Value'].max()\n",
        "  MIN = Regole.loc[Regole[c] == 1, c+'Value'].min()\n",
        "  denominatore = MAX-MIN\n",
        "\n",
        "  for index, value in Regole.loc[:,c+'Value'].items():\n",
        "    if Regole.loc[index, c] == 1:\n",
        "      if denominatore == 0:\n",
        "        Regole.loc[index, c+'ValueNorm'] = 1\n",
        "      else:  \n",
        "        Regole.loc[index, c+'ValueNorm'] = (Regole.loc[index, c+'Value']-MIN)/denominatore\n",
        "    else:\n",
        "      Regole.loc[index, c+'Value'] = 0"
      ],
      "execution_count": null,
      "outputs": []
    },
    {
      "cell_type": "code",
      "metadata": {
        "id": "BEM_2zbpoga5"
      },
      "source": [
        "for c in counter:\n",
        "  del Regole[c+'Value']"
      ],
      "execution_count": null,
      "outputs": []
    },
    {
      "cell_type": "code",
      "metadata": {
        "id": "ZfJfKM-BpBVP"
      },
      "source": [
        "Regole"
      ],
      "execution_count": null,
      "outputs": []
    },
    {
      "cell_type": "markdown",
      "metadata": {
        "id": "MnCGek49nk6h"
      },
      "source": [
        "##Visualizzazione"
      ]
    },
    {
      "cell_type": "code",
      "metadata": {
        "id": "jFCNOoJJnoFd"
      },
      "source": [
        "from matplotlib import pyplot\n",
        "import random"
      ],
      "execution_count": null,
      "outputs": []
    },
    {
      "cell_type": "code",
      "metadata": {
        "id": "asdyfIqziYjW"
      },
      "source": [
        "#del matrice\n",
        "matrice = Regole.iloc[:,4:Regole.shape[1]].to_numpy()"
      ],
      "execution_count": null,
      "outputs": []
    },
    {
      "cell_type": "markdown",
      "metadata": {
        "id": "SCS2VR4kiVpq"
      },
      "source": [
        "###Visualizzazione PCA"
      ]
    },
    {
      "cell_type": "code",
      "metadata": {
        "id": "oZSA735Pieqk"
      },
      "source": [
        "from sklearn.decomposition import PCA\n",
        "\n",
        "pca = PCA(n_components=2)\n",
        "result = pca.fit_transform(matrice)"
      ],
      "execution_count": null,
      "outputs": []
    },
    {
      "cell_type": "code",
      "metadata": {
        "colab": {
          "base_uri": "https://localhost:8080/"
        },
        "id": "d9A9KYluksVL",
        "outputId": "0683d2fa-f6ab-47a4-fe8b-d36715643dc6"
      },
      "source": [
        "import numpy as np\n",
        "\n",
        "data = {\n",
        "        'x':  result[: , 0],\n",
        "        'y':  result[: , 1]\n",
        "        }\n",
        "\n",
        "Grafico = pd.DataFrame (data, columns = ['x', 'y'])\n",
        "#matriceNLP['Regola'] = matriceNLP['Regola'].astype(str)\n",
        "Grafico['Class'] = Regole['Class']\n",
        "Grafico['Regola'] = Regole['Regola']\n",
        "Grafico['Recall'] = Regole['Recall'].astype(np.float)\n",
        "Grafico.info()"
      ],
      "execution_count": null,
      "outputs": [
        {
          "output_type": "stream",
          "text": [
            "<class 'pandas.core.frame.DataFrame'>\n",
            "RangeIndex: 8 entries, 0 to 7\n",
            "Data columns (total 5 columns):\n",
            " #   Column  Non-Null Count  Dtype  \n",
            "---  ------  --------------  -----  \n",
            " 0   x       8 non-null      float64\n",
            " 1   y       8 non-null      float64\n",
            " 2   Class   8 non-null      object \n",
            " 3   Regola  8 non-null      object \n",
            " 4   Recall  8 non-null      float64\n",
            "dtypes: float64(3), object(2)\n",
            "memory usage: 448.0+ bytes\n"
          ],
          "name": "stdout"
        }
      ]
    },
    {
      "cell_type": "code",
      "metadata": {
        "colab": {
          "base_uri": "https://localhost:8080/",
          "height": 542
        },
        "id": "Ornh5EVBkvi2",
        "outputId": "d763c8f2-c052-4c9d-88ea-22034ef1500c"
      },
      "source": [
        "import plotly.express as px\n",
        "fig = px.scatter(Grafico, x='x', y='y', color='Class', size='Recall', hover_data=['Regola'])\n",
        "\n",
        "fig.show()\n",
        "#fig.write_html(\"graficoPlattoning.html\")"
      ],
      "execution_count": null,
      "outputs": [
        {
          "output_type": "display_data",
          "data": {
            "text/html": [
              "<html>\n",
              "<head><meta charset=\"utf-8\" /></head>\n",
              "<body>\n",
              "    <div>\n",
              "            <script src=\"https://cdnjs.cloudflare.com/ajax/libs/mathjax/2.7.5/MathJax.js?config=TeX-AMS-MML_SVG\"></script><script type=\"text/javascript\">if (window.MathJax) {MathJax.Hub.Config({SVG: {font: \"STIX-Web\"}});}</script>\n",
              "                <script type=\"text/javascript\">window.PlotlyConfig = {MathJaxConfig: 'local'};</script>\n",
              "        <script src=\"https://cdn.plot.ly/plotly-latest.min.js\"></script>    \n",
              "            <div id=\"a623bcfb-8767-4a41-938b-e3edfd69a933\" class=\"plotly-graph-div\" style=\"height:525px; width:100%;\"></div>\n",
              "            <script type=\"text/javascript\">\n",
              "                \n",
              "                    window.PLOTLYENV=window.PLOTLYENV || {};\n",
              "                    \n",
              "                if (document.getElementById(\"a623bcfb-8767-4a41-938b-e3edfd69a933\")) {\n",
              "                    Plotly.newPlot(\n",
              "                        'a623bcfb-8767-4a41-938b-e3edfd69a933',\n",
              "                        [{\"customdata\": [[\"N > 5.5 and F0 <= -7.5 and PER > 0.42499999701976776 and v0 > 64.5\"], [\"N > 5.5 and F0 <= -4.5 and PER <= 0.4449999928474426 and PER > 0.4350000023841858 and v0 > 57.5\"]], \"hoverlabel\": {\"namelength\": 0}, \"hovertemplate\": \"Class=Collision<br>x=%{x}<br>y=%{y}<br>Recall=%{marker.size}<br>Regola=%{customdata[0]}\", \"legendgroup\": \"Class=Collision\", \"marker\": {\"color\": \"#636efa\", \"size\": [0.08024691358024691, 0.06918238993710692], \"sizemode\": \"area\", \"sizeref\": 0.0008437211449676824, \"symbol\": \"circle\"}, \"mode\": \"markers\", \"name\": \"Class=Collision\", \"showlegend\": true, \"type\": \"scatter\", \"x\": [1.7914407284534166, 1.9641679126570448], \"xaxis\": \"x\", \"y\": [0.4600042273544098, -0.09543112712476695], \"yaxis\": \"y\"}, {\"customdata\": [[\"PER <= 0.41499999165534973 and v0 <= 45.5\"], [\"N <= 7.5 and F0 > -7.5 and PER <= 0.32500000298023224\"], [\"N <= 5.5 and v0 <= 54.5\"], [\"F0 > -4.5 and PER <= 0.41499999165534973 and v0 > 64.5\"], [\"N <= 5.5 and PER > 0.35500000417232513 and v0 <= 45.5\"], [\"N <= 7.5 and F0 <= -6.5 and F0 > -7.5 and PER <= 0.32500000298023224\"]], \"hoverlabel\": {\"namelength\": 0}, \"hovertemplate\": \"Class=Non collision<br>x=%{x}<br>y=%{y}<br>Recall=%{marker.size}<br>Regola=%{customdata[0]}\", \"legendgroup\": \"Class=Non collision\", \"marker\": {\"color\": \"#EF553B\", \"size\": [0.33748845798707294, 0.3127828898482844, 0.29542302357836336, 0.1099815157116451, 0.10803324099722991, 0.05411655874190564], \"sizemode\": \"area\", \"sizeref\": 0.0008437211449676824, \"symbol\": \"circle\"}, \"mode\": \"markers\", \"name\": \"Class=Non collision\", \"showlegend\": true, \"type\": \"scatter\", \"x\": [-0.4843164894047057, -1.0595509763563462, -1.0198738630606194, 0.1376867040244116, -0.6191281807525207, -0.7104258355606797], \"xaxis\": \"x\", \"y\": [0.2351794739398627, -0.8003019001363779, 1.1077006826764118, -1.1714862980475673, 1.1842201258304983, -0.91988518449247], \"yaxis\": \"y\"}],\n",
              "                        {\"legend\": {\"itemsizing\": \"constant\", \"tracegroupgap\": 0}, \"margin\": {\"t\": 60}, \"template\": {\"data\": {\"bar\": [{\"error_x\": {\"color\": \"#2a3f5f\"}, \"error_y\": {\"color\": \"#2a3f5f\"}, \"marker\": {\"line\": {\"color\": \"#E5ECF6\", \"width\": 0.5}}, \"type\": \"bar\"}], \"barpolar\": [{\"marker\": {\"line\": {\"color\": \"#E5ECF6\", \"width\": 0.5}}, \"type\": \"barpolar\"}], \"carpet\": [{\"aaxis\": {\"endlinecolor\": \"#2a3f5f\", \"gridcolor\": \"white\", \"linecolor\": \"white\", \"minorgridcolor\": \"white\", \"startlinecolor\": \"#2a3f5f\"}, \"baxis\": {\"endlinecolor\": \"#2a3f5f\", \"gridcolor\": \"white\", \"linecolor\": \"white\", \"minorgridcolor\": \"white\", \"startlinecolor\": \"#2a3f5f\"}, \"type\": \"carpet\"}], \"choropleth\": [{\"colorbar\": {\"outlinewidth\": 0, \"ticks\": \"\"}, \"type\": \"choropleth\"}], \"contour\": [{\"colorbar\": {\"outlinewidth\": 0, \"ticks\": \"\"}, \"colorscale\": [[0.0, \"#0d0887\"], [0.1111111111111111, \"#46039f\"], [0.2222222222222222, \"#7201a8\"], [0.3333333333333333, \"#9c179e\"], [0.4444444444444444, \"#bd3786\"], [0.5555555555555556, \"#d8576b\"], [0.6666666666666666, \"#ed7953\"], [0.7777777777777778, \"#fb9f3a\"], [0.8888888888888888, \"#fdca26\"], [1.0, \"#f0f921\"]], \"type\": \"contour\"}], \"contourcarpet\": [{\"colorbar\": {\"outlinewidth\": 0, \"ticks\": \"\"}, \"type\": \"contourcarpet\"}], \"heatmap\": [{\"colorbar\": {\"outlinewidth\": 0, \"ticks\": \"\"}, \"colorscale\": [[0.0, \"#0d0887\"], [0.1111111111111111, \"#46039f\"], [0.2222222222222222, \"#7201a8\"], [0.3333333333333333, \"#9c179e\"], [0.4444444444444444, \"#bd3786\"], [0.5555555555555556, \"#d8576b\"], [0.6666666666666666, \"#ed7953\"], [0.7777777777777778, \"#fb9f3a\"], [0.8888888888888888, \"#fdca26\"], [1.0, \"#f0f921\"]], \"type\": \"heatmap\"}], \"heatmapgl\": [{\"colorbar\": {\"outlinewidth\": 0, \"ticks\": \"\"}, \"colorscale\": [[0.0, \"#0d0887\"], [0.1111111111111111, \"#46039f\"], [0.2222222222222222, \"#7201a8\"], [0.3333333333333333, \"#9c179e\"], [0.4444444444444444, \"#bd3786\"], [0.5555555555555556, \"#d8576b\"], [0.6666666666666666, \"#ed7953\"], [0.7777777777777778, \"#fb9f3a\"], [0.8888888888888888, \"#fdca26\"], [1.0, \"#f0f921\"]], \"type\": \"heatmapgl\"}], \"histogram\": [{\"marker\": {\"colorbar\": {\"outlinewidth\": 0, \"ticks\": \"\"}}, \"type\": \"histogram\"}], \"histogram2d\": [{\"colorbar\": {\"outlinewidth\": 0, \"ticks\": \"\"}, \"colorscale\": [[0.0, \"#0d0887\"], [0.1111111111111111, \"#46039f\"], [0.2222222222222222, \"#7201a8\"], [0.3333333333333333, \"#9c179e\"], [0.4444444444444444, \"#bd3786\"], [0.5555555555555556, \"#d8576b\"], [0.6666666666666666, \"#ed7953\"], [0.7777777777777778, \"#fb9f3a\"], [0.8888888888888888, \"#fdca26\"], [1.0, \"#f0f921\"]], \"type\": \"histogram2d\"}], \"histogram2dcontour\": [{\"colorbar\": {\"outlinewidth\": 0, \"ticks\": \"\"}, \"colorscale\": [[0.0, \"#0d0887\"], [0.1111111111111111, \"#46039f\"], [0.2222222222222222, \"#7201a8\"], [0.3333333333333333, \"#9c179e\"], [0.4444444444444444, \"#bd3786\"], [0.5555555555555556, \"#d8576b\"], [0.6666666666666666, \"#ed7953\"], [0.7777777777777778, \"#fb9f3a\"], [0.8888888888888888, \"#fdca26\"], [1.0, \"#f0f921\"]], \"type\": \"histogram2dcontour\"}], \"mesh3d\": [{\"colorbar\": {\"outlinewidth\": 0, \"ticks\": \"\"}, \"type\": \"mesh3d\"}], \"parcoords\": [{\"line\": {\"colorbar\": {\"outlinewidth\": 0, \"ticks\": \"\"}}, \"type\": \"parcoords\"}], \"pie\": [{\"automargin\": true, \"type\": \"pie\"}], \"scatter\": [{\"marker\": {\"colorbar\": {\"outlinewidth\": 0, \"ticks\": \"\"}}, \"type\": \"scatter\"}], \"scatter3d\": [{\"line\": {\"colorbar\": {\"outlinewidth\": 0, \"ticks\": \"\"}}, \"marker\": {\"colorbar\": {\"outlinewidth\": 0, \"ticks\": \"\"}}, \"type\": \"scatter3d\"}], \"scattercarpet\": [{\"marker\": {\"colorbar\": {\"outlinewidth\": 0, \"ticks\": \"\"}}, \"type\": \"scattercarpet\"}], \"scattergeo\": [{\"marker\": {\"colorbar\": {\"outlinewidth\": 0, \"ticks\": \"\"}}, \"type\": \"scattergeo\"}], \"scattergl\": [{\"marker\": {\"colorbar\": {\"outlinewidth\": 0, \"ticks\": \"\"}}, \"type\": \"scattergl\"}], \"scattermapbox\": [{\"marker\": {\"colorbar\": {\"outlinewidth\": 0, \"ticks\": \"\"}}, \"type\": \"scattermapbox\"}], \"scatterpolar\": [{\"marker\": {\"colorbar\": {\"outlinewidth\": 0, \"ticks\": \"\"}}, \"type\": \"scatterpolar\"}], \"scatterpolargl\": [{\"marker\": {\"colorbar\": {\"outlinewidth\": 0, \"ticks\": \"\"}}, \"type\": \"scatterpolargl\"}], \"scatterternary\": [{\"marker\": {\"colorbar\": {\"outlinewidth\": 0, \"ticks\": \"\"}}, \"type\": \"scatterternary\"}], \"surface\": [{\"colorbar\": {\"outlinewidth\": 0, \"ticks\": \"\"}, \"colorscale\": [[0.0, \"#0d0887\"], [0.1111111111111111, \"#46039f\"], [0.2222222222222222, \"#7201a8\"], [0.3333333333333333, \"#9c179e\"], [0.4444444444444444, \"#bd3786\"], [0.5555555555555556, \"#d8576b\"], [0.6666666666666666, \"#ed7953\"], [0.7777777777777778, \"#fb9f3a\"], [0.8888888888888888, \"#fdca26\"], [1.0, \"#f0f921\"]], \"type\": \"surface\"}], \"table\": [{\"cells\": {\"fill\": {\"color\": \"#EBF0F8\"}, \"line\": {\"color\": \"white\"}}, \"header\": {\"fill\": {\"color\": \"#C8D4E3\"}, \"line\": {\"color\": \"white\"}}, \"type\": \"table\"}]}, \"layout\": {\"annotationdefaults\": {\"arrowcolor\": \"#2a3f5f\", \"arrowhead\": 0, \"arrowwidth\": 1}, \"coloraxis\": {\"colorbar\": {\"outlinewidth\": 0, \"ticks\": \"\"}}, \"colorscale\": {\"diverging\": [[0, \"#8e0152\"], [0.1, \"#c51b7d\"], [0.2, \"#de77ae\"], [0.3, \"#f1b6da\"], [0.4, \"#fde0ef\"], [0.5, \"#f7f7f7\"], [0.6, \"#e6f5d0\"], [0.7, \"#b8e186\"], [0.8, \"#7fbc41\"], [0.9, \"#4d9221\"], [1, \"#276419\"]], \"sequential\": [[0.0, \"#0d0887\"], [0.1111111111111111, \"#46039f\"], [0.2222222222222222, \"#7201a8\"], [0.3333333333333333, \"#9c179e\"], [0.4444444444444444, \"#bd3786\"], [0.5555555555555556, \"#d8576b\"], [0.6666666666666666, \"#ed7953\"], [0.7777777777777778, \"#fb9f3a\"], [0.8888888888888888, \"#fdca26\"], [1.0, \"#f0f921\"]], \"sequentialminus\": [[0.0, \"#0d0887\"], [0.1111111111111111, \"#46039f\"], [0.2222222222222222, \"#7201a8\"], [0.3333333333333333, \"#9c179e\"], [0.4444444444444444, \"#bd3786\"], [0.5555555555555556, \"#d8576b\"], [0.6666666666666666, \"#ed7953\"], [0.7777777777777778, \"#fb9f3a\"], [0.8888888888888888, \"#fdca26\"], [1.0, \"#f0f921\"]]}, \"colorway\": [\"#636efa\", \"#EF553B\", \"#00cc96\", \"#ab63fa\", \"#FFA15A\", \"#19d3f3\", \"#FF6692\", \"#B6E880\", \"#FF97FF\", \"#FECB52\"], \"font\": {\"color\": \"#2a3f5f\"}, \"geo\": {\"bgcolor\": \"white\", \"lakecolor\": \"white\", \"landcolor\": \"#E5ECF6\", \"showlakes\": true, \"showland\": true, \"subunitcolor\": \"white\"}, \"hoverlabel\": {\"align\": \"left\"}, \"hovermode\": \"closest\", \"mapbox\": {\"style\": \"light\"}, \"paper_bgcolor\": \"white\", \"plot_bgcolor\": \"#E5ECF6\", \"polar\": {\"angularaxis\": {\"gridcolor\": \"white\", \"linecolor\": \"white\", \"ticks\": \"\"}, \"bgcolor\": \"#E5ECF6\", \"radialaxis\": {\"gridcolor\": \"white\", \"linecolor\": \"white\", \"ticks\": \"\"}}, \"scene\": {\"xaxis\": {\"backgroundcolor\": \"#E5ECF6\", \"gridcolor\": \"white\", \"gridwidth\": 2, \"linecolor\": \"white\", \"showbackground\": true, \"ticks\": \"\", \"zerolinecolor\": \"white\"}, \"yaxis\": {\"backgroundcolor\": \"#E5ECF6\", \"gridcolor\": \"white\", \"gridwidth\": 2, \"linecolor\": \"white\", \"showbackground\": true, \"ticks\": \"\", \"zerolinecolor\": \"white\"}, \"zaxis\": {\"backgroundcolor\": \"#E5ECF6\", \"gridcolor\": \"white\", \"gridwidth\": 2, \"linecolor\": \"white\", \"showbackground\": true, \"ticks\": \"\", \"zerolinecolor\": \"white\"}}, \"shapedefaults\": {\"line\": {\"color\": \"#2a3f5f\"}}, \"ternary\": {\"aaxis\": {\"gridcolor\": \"white\", \"linecolor\": \"white\", \"ticks\": \"\"}, \"baxis\": {\"gridcolor\": \"white\", \"linecolor\": \"white\", \"ticks\": \"\"}, \"bgcolor\": \"#E5ECF6\", \"caxis\": {\"gridcolor\": \"white\", \"linecolor\": \"white\", \"ticks\": \"\"}}, \"title\": {\"x\": 0.05}, \"xaxis\": {\"automargin\": true, \"gridcolor\": \"white\", \"linecolor\": \"white\", \"ticks\": \"\", \"title\": {\"standoff\": 15}, \"zerolinecolor\": \"white\", \"zerolinewidth\": 2}, \"yaxis\": {\"automargin\": true, \"gridcolor\": \"white\", \"linecolor\": \"white\", \"ticks\": \"\", \"title\": {\"standoff\": 15}, \"zerolinecolor\": \"white\", \"zerolinewidth\": 2}}}, \"xaxis\": {\"anchor\": \"y\", \"domain\": [0.0, 1.0], \"title\": {\"text\": \"x\"}}, \"yaxis\": {\"anchor\": \"x\", \"domain\": [0.0, 1.0], \"title\": {\"text\": \"y\"}}},\n",
              "                        {\"responsive\": true}\n",
              "                    ).then(function(){\n",
              "                            \n",
              "var gd = document.getElementById('a623bcfb-8767-4a41-938b-e3edfd69a933');\n",
              "var x = new MutationObserver(function (mutations, observer) {{\n",
              "        var display = window.getComputedStyle(gd).display;\n",
              "        if (!display || display === 'none') {{\n",
              "            console.log([gd, 'removed!']);\n",
              "            Plotly.purge(gd);\n",
              "            observer.disconnect();\n",
              "        }}\n",
              "}});\n",
              "\n",
              "// Listen for the removal of the full notebook cells\n",
              "var notebookContainer = gd.closest('#notebook-container');\n",
              "if (notebookContainer) {{\n",
              "    x.observe(notebookContainer, {childList: true});\n",
              "}}\n",
              "\n",
              "// Listen for the clearing of the current output cell\n",
              "var outputEl = gd.closest('.output');\n",
              "if (outputEl) {{\n",
              "    x.observe(outputEl, {childList: true});\n",
              "}}\n",
              "\n",
              "                        })\n",
              "                };\n",
              "                \n",
              "            </script>\n",
              "        </div>\n",
              "</body>\n",
              "</html>"
            ]
          },
          "metadata": {
            "tags": []
          }
        }
      ]
    },
    {
      "cell_type": "markdown",
      "metadata": {
        "id": "vUaKT-GImZiD"
      },
      "source": [
        "###Visualizzazione T_SNE"
      ]
    },
    {
      "cell_type": "code",
      "metadata": {
        "id": "F6jFJvtLmfGk"
      },
      "source": [
        "from sklearn.manifold import TSNE\n",
        "tsne = TSNE(n_components=2)\n",
        "tsne_results = tsne.fit_transform(matrice)"
      ],
      "execution_count": null,
      "outputs": []
    },
    {
      "cell_type": "code",
      "metadata": {
        "id": "e6IoW23VmlKi"
      },
      "source": [
        "import numpy as np\n",
        "\n",
        "data = {\n",
        "        'x':  tsne_results[: , 0],\n",
        "        'y':  tsne_results[: , 1]\n",
        "        }\n",
        "\n",
        "tsne_Grafico = pd.DataFrame (data, columns = ['x', 'y'])\n",
        "#matriceNLP['Regola'] = matriceNLP['Regola'].astype(str)\n",
        "tsne_Grafico['Class'] = Regole['Class']\n",
        "tsne_Grafico['Regola'] = Regole['Regola']\n",
        "tsne_Grafico['Recall'] = Regole['Recall'].astype(np.float)\n",
        "tsne_Grafico.info()"
      ],
      "execution_count": null,
      "outputs": []
    },
    {
      "cell_type": "code",
      "metadata": {
        "colab": {
          "base_uri": "https://localhost:8080/",
          "height": 542
        },
        "id": "lotNsVvbmqsC",
        "outputId": "bdb48096-1ee7-4244-f044-d6faaf931b28"
      },
      "source": [
        "import plotly.express as px\n",
        "fig = px.scatter(Grafico, x='x', y='y', color='Class', size='Recall', hover_data=['Regola'])\n",
        "\n",
        "fig.show()\n",
        "#fig.write_html(\"graficoPlattoning.html\")"
      ],
      "execution_count": null,
      "outputs": [
        {
          "output_type": "display_data",
          "data": {
            "text/html": [
              "<html>\n",
              "<head><meta charset=\"utf-8\" /></head>\n",
              "<body>\n",
              "    <div>\n",
              "            <script src=\"https://cdnjs.cloudflare.com/ajax/libs/mathjax/2.7.5/MathJax.js?config=TeX-AMS-MML_SVG\"></script><script type=\"text/javascript\">if (window.MathJax) {MathJax.Hub.Config({SVG: {font: \"STIX-Web\"}});}</script>\n",
              "                <script type=\"text/javascript\">window.PlotlyConfig = {MathJaxConfig: 'local'};</script>\n",
              "        <script src=\"https://cdn.plot.ly/plotly-latest.min.js\"></script>    \n",
              "            <div id=\"5f56c3b9-dd2e-4bf1-bf32-2f0ae6c47389\" class=\"plotly-graph-div\" style=\"height:525px; width:100%;\"></div>\n",
              "            <script type=\"text/javascript\">\n",
              "                \n",
              "                    window.PLOTLYENV=window.PLOTLYENV || {};\n",
              "                    \n",
              "                if (document.getElementById(\"5f56c3b9-dd2e-4bf1-bf32-2f0ae6c47389\")) {\n",
              "                    Plotly.newPlot(\n",
              "                        '5f56c3b9-dd2e-4bf1-bf32-2f0ae6c47389',\n",
              "                        [{\"customdata\": [[\"N > 5.5 and F0 <= -7.5 and PER > 0.42499999701976776 and v0 > 64.5\"], [\"N > 5.5 and F0 <= -4.5 and PER <= 0.4449999928474426 and PER > 0.4350000023841858 and v0 > 57.5\"]], \"hoverlabel\": {\"namelength\": 0}, \"hovertemplate\": \"Class=Collision<br>x=%{x}<br>y=%{y}<br>Recall=%{marker.size}<br>Regola=%{customdata[0]}\", \"legendgroup\": \"Class=Collision\", \"marker\": {\"color\": \"#636efa\", \"size\": [0.08024691358024691, 0.06918238993710692], \"sizemode\": \"area\", \"sizeref\": 0.0008437211449676824, \"symbol\": \"circle\"}, \"mode\": \"markers\", \"name\": \"Class=Collision\", \"showlegend\": true, \"type\": \"scatter\", \"x\": [1.7914407284534166, 1.9641679126570448], \"xaxis\": \"x\", \"y\": [0.4600042273544098, -0.09543112712476695], \"yaxis\": \"y\"}, {\"customdata\": [[\"PER <= 0.41499999165534973 and v0 <= 45.5\"], [\"N <= 7.5 and F0 > -7.5 and PER <= 0.32500000298023224\"], [\"N <= 5.5 and v0 <= 54.5\"], [\"F0 > -4.5 and PER <= 0.41499999165534973 and v0 > 64.5\"], [\"N <= 5.5 and PER > 0.35500000417232513 and v0 <= 45.5\"], [\"N <= 7.5 and F0 <= -6.5 and F0 > -7.5 and PER <= 0.32500000298023224\"]], \"hoverlabel\": {\"namelength\": 0}, \"hovertemplate\": \"Class=Non collision<br>x=%{x}<br>y=%{y}<br>Recall=%{marker.size}<br>Regola=%{customdata[0]}\", \"legendgroup\": \"Class=Non collision\", \"marker\": {\"color\": \"#EF553B\", \"size\": [0.33748845798707294, 0.3127828898482844, 0.29542302357836336, 0.1099815157116451, 0.10803324099722991, 0.05411655874190564], \"sizemode\": \"area\", \"sizeref\": 0.0008437211449676824, \"symbol\": \"circle\"}, \"mode\": \"markers\", \"name\": \"Class=Non collision\", \"showlegend\": true, \"type\": \"scatter\", \"x\": [-0.4843164894047057, -1.0595509763563462, -1.0198738630606194, 0.1376867040244116, -0.6191281807525207, -0.7104258355606797], \"xaxis\": \"x\", \"y\": [0.2351794739398627, -0.8003019001363779, 1.1077006826764118, -1.1714862980475673, 1.1842201258304983, -0.91988518449247], \"yaxis\": \"y\"}],\n",
              "                        {\"legend\": {\"itemsizing\": \"constant\", \"tracegroupgap\": 0}, \"margin\": {\"t\": 60}, \"template\": {\"data\": {\"bar\": [{\"error_x\": {\"color\": \"#2a3f5f\"}, \"error_y\": {\"color\": \"#2a3f5f\"}, \"marker\": {\"line\": {\"color\": \"#E5ECF6\", \"width\": 0.5}}, \"type\": \"bar\"}], \"barpolar\": [{\"marker\": {\"line\": {\"color\": \"#E5ECF6\", \"width\": 0.5}}, \"type\": \"barpolar\"}], \"carpet\": [{\"aaxis\": {\"endlinecolor\": \"#2a3f5f\", \"gridcolor\": \"white\", \"linecolor\": \"white\", \"minorgridcolor\": \"white\", \"startlinecolor\": \"#2a3f5f\"}, \"baxis\": {\"endlinecolor\": \"#2a3f5f\", \"gridcolor\": \"white\", \"linecolor\": \"white\", \"minorgridcolor\": \"white\", \"startlinecolor\": \"#2a3f5f\"}, \"type\": \"carpet\"}], \"choropleth\": [{\"colorbar\": {\"outlinewidth\": 0, \"ticks\": \"\"}, \"type\": \"choropleth\"}], \"contour\": [{\"colorbar\": {\"outlinewidth\": 0, \"ticks\": \"\"}, \"colorscale\": [[0.0, \"#0d0887\"], [0.1111111111111111, \"#46039f\"], [0.2222222222222222, \"#7201a8\"], [0.3333333333333333, \"#9c179e\"], [0.4444444444444444, \"#bd3786\"], [0.5555555555555556, \"#d8576b\"], [0.6666666666666666, \"#ed7953\"], [0.7777777777777778, \"#fb9f3a\"], [0.8888888888888888, \"#fdca26\"], [1.0, \"#f0f921\"]], \"type\": \"contour\"}], \"contourcarpet\": [{\"colorbar\": {\"outlinewidth\": 0, \"ticks\": \"\"}, \"type\": \"contourcarpet\"}], \"heatmap\": [{\"colorbar\": {\"outlinewidth\": 0, \"ticks\": \"\"}, \"colorscale\": [[0.0, \"#0d0887\"], [0.1111111111111111, \"#46039f\"], [0.2222222222222222, \"#7201a8\"], [0.3333333333333333, \"#9c179e\"], [0.4444444444444444, \"#bd3786\"], [0.5555555555555556, \"#d8576b\"], [0.6666666666666666, \"#ed7953\"], [0.7777777777777778, \"#fb9f3a\"], [0.8888888888888888, \"#fdca26\"], [1.0, \"#f0f921\"]], \"type\": \"heatmap\"}], \"heatmapgl\": [{\"colorbar\": {\"outlinewidth\": 0, \"ticks\": \"\"}, \"colorscale\": [[0.0, \"#0d0887\"], [0.1111111111111111, \"#46039f\"], [0.2222222222222222, \"#7201a8\"], [0.3333333333333333, \"#9c179e\"], [0.4444444444444444, \"#bd3786\"], [0.5555555555555556, \"#d8576b\"], [0.6666666666666666, \"#ed7953\"], [0.7777777777777778, \"#fb9f3a\"], [0.8888888888888888, \"#fdca26\"], [1.0, \"#f0f921\"]], \"type\": \"heatmapgl\"}], \"histogram\": [{\"marker\": {\"colorbar\": {\"outlinewidth\": 0, \"ticks\": \"\"}}, \"type\": \"histogram\"}], \"histogram2d\": [{\"colorbar\": {\"outlinewidth\": 0, \"ticks\": \"\"}, \"colorscale\": [[0.0, \"#0d0887\"], [0.1111111111111111, \"#46039f\"], [0.2222222222222222, \"#7201a8\"], [0.3333333333333333, \"#9c179e\"], [0.4444444444444444, \"#bd3786\"], [0.5555555555555556, \"#d8576b\"], [0.6666666666666666, \"#ed7953\"], [0.7777777777777778, \"#fb9f3a\"], [0.8888888888888888, \"#fdca26\"], [1.0, \"#f0f921\"]], \"type\": \"histogram2d\"}], \"histogram2dcontour\": [{\"colorbar\": {\"outlinewidth\": 0, \"ticks\": \"\"}, \"colorscale\": [[0.0, \"#0d0887\"], [0.1111111111111111, \"#46039f\"], [0.2222222222222222, \"#7201a8\"], [0.3333333333333333, \"#9c179e\"], [0.4444444444444444, \"#bd3786\"], [0.5555555555555556, \"#d8576b\"], [0.6666666666666666, \"#ed7953\"], [0.7777777777777778, \"#fb9f3a\"], [0.8888888888888888, \"#fdca26\"], [1.0, \"#f0f921\"]], \"type\": \"histogram2dcontour\"}], \"mesh3d\": [{\"colorbar\": {\"outlinewidth\": 0, \"ticks\": \"\"}, \"type\": \"mesh3d\"}], \"parcoords\": [{\"line\": {\"colorbar\": {\"outlinewidth\": 0, \"ticks\": \"\"}}, \"type\": \"parcoords\"}], \"pie\": [{\"automargin\": true, \"type\": \"pie\"}], \"scatter\": [{\"marker\": {\"colorbar\": {\"outlinewidth\": 0, \"ticks\": \"\"}}, \"type\": \"scatter\"}], \"scatter3d\": [{\"line\": {\"colorbar\": {\"outlinewidth\": 0, \"ticks\": \"\"}}, \"marker\": {\"colorbar\": {\"outlinewidth\": 0, \"ticks\": \"\"}}, \"type\": \"scatter3d\"}], \"scattercarpet\": [{\"marker\": {\"colorbar\": {\"outlinewidth\": 0, \"ticks\": \"\"}}, \"type\": \"scattercarpet\"}], \"scattergeo\": [{\"marker\": {\"colorbar\": {\"outlinewidth\": 0, \"ticks\": \"\"}}, \"type\": \"scattergeo\"}], \"scattergl\": [{\"marker\": {\"colorbar\": {\"outlinewidth\": 0, \"ticks\": \"\"}}, \"type\": \"scattergl\"}], \"scattermapbox\": [{\"marker\": {\"colorbar\": {\"outlinewidth\": 0, \"ticks\": \"\"}}, \"type\": \"scattermapbox\"}], \"scatterpolar\": [{\"marker\": {\"colorbar\": {\"outlinewidth\": 0, \"ticks\": \"\"}}, \"type\": \"scatterpolar\"}], \"scatterpolargl\": [{\"marker\": {\"colorbar\": {\"outlinewidth\": 0, \"ticks\": \"\"}}, \"type\": \"scatterpolargl\"}], \"scatterternary\": [{\"marker\": {\"colorbar\": {\"outlinewidth\": 0, \"ticks\": \"\"}}, \"type\": \"scatterternary\"}], \"surface\": [{\"colorbar\": {\"outlinewidth\": 0, \"ticks\": \"\"}, \"colorscale\": [[0.0, \"#0d0887\"], [0.1111111111111111, \"#46039f\"], [0.2222222222222222, \"#7201a8\"], [0.3333333333333333, \"#9c179e\"], [0.4444444444444444, \"#bd3786\"], [0.5555555555555556, \"#d8576b\"], [0.6666666666666666, \"#ed7953\"], [0.7777777777777778, \"#fb9f3a\"], [0.8888888888888888, \"#fdca26\"], [1.0, \"#f0f921\"]], \"type\": \"surface\"}], \"table\": [{\"cells\": {\"fill\": {\"color\": \"#EBF0F8\"}, \"line\": {\"color\": \"white\"}}, \"header\": {\"fill\": {\"color\": \"#C8D4E3\"}, \"line\": {\"color\": \"white\"}}, \"type\": \"table\"}]}, \"layout\": {\"annotationdefaults\": {\"arrowcolor\": \"#2a3f5f\", \"arrowhead\": 0, \"arrowwidth\": 1}, \"coloraxis\": {\"colorbar\": {\"outlinewidth\": 0, \"ticks\": \"\"}}, \"colorscale\": {\"diverging\": [[0, \"#8e0152\"], [0.1, \"#c51b7d\"], [0.2, \"#de77ae\"], [0.3, \"#f1b6da\"], [0.4, \"#fde0ef\"], [0.5, \"#f7f7f7\"], [0.6, \"#e6f5d0\"], [0.7, \"#b8e186\"], [0.8, \"#7fbc41\"], [0.9, \"#4d9221\"], [1, \"#276419\"]], \"sequential\": [[0.0, \"#0d0887\"], [0.1111111111111111, \"#46039f\"], [0.2222222222222222, \"#7201a8\"], [0.3333333333333333, \"#9c179e\"], [0.4444444444444444, \"#bd3786\"], [0.5555555555555556, \"#d8576b\"], [0.6666666666666666, \"#ed7953\"], [0.7777777777777778, \"#fb9f3a\"], [0.8888888888888888, \"#fdca26\"], [1.0, \"#f0f921\"]], \"sequentialminus\": [[0.0, \"#0d0887\"], [0.1111111111111111, \"#46039f\"], [0.2222222222222222, \"#7201a8\"], [0.3333333333333333, \"#9c179e\"], [0.4444444444444444, \"#bd3786\"], [0.5555555555555556, \"#d8576b\"], [0.6666666666666666, \"#ed7953\"], [0.7777777777777778, \"#fb9f3a\"], [0.8888888888888888, \"#fdca26\"], [1.0, \"#f0f921\"]]}, \"colorway\": [\"#636efa\", \"#EF553B\", \"#00cc96\", \"#ab63fa\", \"#FFA15A\", \"#19d3f3\", \"#FF6692\", \"#B6E880\", \"#FF97FF\", \"#FECB52\"], \"font\": {\"color\": \"#2a3f5f\"}, \"geo\": {\"bgcolor\": \"white\", \"lakecolor\": \"white\", \"landcolor\": \"#E5ECF6\", \"showlakes\": true, \"showland\": true, \"subunitcolor\": \"white\"}, \"hoverlabel\": {\"align\": \"left\"}, \"hovermode\": \"closest\", \"mapbox\": {\"style\": \"light\"}, \"paper_bgcolor\": \"white\", \"plot_bgcolor\": \"#E5ECF6\", \"polar\": {\"angularaxis\": {\"gridcolor\": \"white\", \"linecolor\": \"white\", \"ticks\": \"\"}, \"bgcolor\": \"#E5ECF6\", \"radialaxis\": {\"gridcolor\": \"white\", \"linecolor\": \"white\", \"ticks\": \"\"}}, \"scene\": {\"xaxis\": {\"backgroundcolor\": \"#E5ECF6\", \"gridcolor\": \"white\", \"gridwidth\": 2, \"linecolor\": \"white\", \"showbackground\": true, \"ticks\": \"\", \"zerolinecolor\": \"white\"}, \"yaxis\": {\"backgroundcolor\": \"#E5ECF6\", \"gridcolor\": \"white\", \"gridwidth\": 2, \"linecolor\": \"white\", \"showbackground\": true, \"ticks\": \"\", \"zerolinecolor\": \"white\"}, \"zaxis\": {\"backgroundcolor\": \"#E5ECF6\", \"gridcolor\": \"white\", \"gridwidth\": 2, \"linecolor\": \"white\", \"showbackground\": true, \"ticks\": \"\", \"zerolinecolor\": \"white\"}}, \"shapedefaults\": {\"line\": {\"color\": \"#2a3f5f\"}}, \"ternary\": {\"aaxis\": {\"gridcolor\": \"white\", \"linecolor\": \"white\", \"ticks\": \"\"}, \"baxis\": {\"gridcolor\": \"white\", \"linecolor\": \"white\", \"ticks\": \"\"}, \"bgcolor\": \"#E5ECF6\", \"caxis\": {\"gridcolor\": \"white\", \"linecolor\": \"white\", \"ticks\": \"\"}}, \"title\": {\"x\": 0.05}, \"xaxis\": {\"automargin\": true, \"gridcolor\": \"white\", \"linecolor\": \"white\", \"ticks\": \"\", \"title\": {\"standoff\": 15}, \"zerolinecolor\": \"white\", \"zerolinewidth\": 2}, \"yaxis\": {\"automargin\": true, \"gridcolor\": \"white\", \"linecolor\": \"white\", \"ticks\": \"\", \"title\": {\"standoff\": 15}, \"zerolinecolor\": \"white\", \"zerolinewidth\": 2}}}, \"xaxis\": {\"anchor\": \"y\", \"domain\": [0.0, 1.0], \"title\": {\"text\": \"x\"}}, \"yaxis\": {\"anchor\": \"x\", \"domain\": [0.0, 1.0], \"title\": {\"text\": \"y\"}}},\n",
              "                        {\"responsive\": true}\n",
              "                    ).then(function(){\n",
              "                            \n",
              "var gd = document.getElementById('5f56c3b9-dd2e-4bf1-bf32-2f0ae6c47389');\n",
              "var x = new MutationObserver(function (mutations, observer) {{\n",
              "        var display = window.getComputedStyle(gd).display;\n",
              "        if (!display || display === 'none') {{\n",
              "            console.log([gd, 'removed!']);\n",
              "            Plotly.purge(gd);\n",
              "            observer.disconnect();\n",
              "        }}\n",
              "}});\n",
              "\n",
              "// Listen for the removal of the full notebook cells\n",
              "var notebookContainer = gd.closest('#notebook-container');\n",
              "if (notebookContainer) {{\n",
              "    x.observe(notebookContainer, {childList: true});\n",
              "}}\n",
              "\n",
              "// Listen for the clearing of the current output cell\n",
              "var outputEl = gd.closest('.output');\n",
              "if (outputEl) {{\n",
              "    x.observe(outputEl, {childList: true});\n",
              "}}\n",
              "\n",
              "                        })\n",
              "                };\n",
              "                \n",
              "            </script>\n",
              "        </div>\n",
              "</body>\n",
              "</html>"
            ]
          },
          "metadata": {
            "tags": []
          }
        }
      ]
    },
    {
      "cell_type": "markdown",
      "metadata": {
        "id": "FOMajvHRlEsq"
      },
      "source": [
        "##Calcolo della similitudine"
      ]
    },
    {
      "cell_type": "code",
      "metadata": {
        "id": "ijwnEzN_lI1J"
      },
      "source": [
        "from sklearn.metrics.pairwise import cosine_similarity\n",
        "Vicinanza = cosine_similarity (matrice, matrice)"
      ],
      "execution_count": null,
      "outputs": []
    },
    {
      "cell_type": "code",
      "metadata": {
        "colab": {
          "base_uri": "https://localhost:8080/",
          "height": 556
        },
        "id": "Zx8zvhn5lO5O",
        "outputId": "e5926070-64df-4dba-e629-c5ff7837cd11"
      },
      "source": [
        "MatriceVicinanza = pd.DataFrame(Vicinanza,\n",
        "                   index = Regole['Regola'],\n",
        "                   columns = Regole['Regola'])\n",
        "\n",
        "MatriceVicinanza.head()"
      ],
      "execution_count": null,
      "outputs": [
        {
          "output_type": "execute_result",
          "data": {
            "text/html": [
              "<div>\n",
              "<style scoped>\n",
              "    .dataframe tbody tr th:only-of-type {\n",
              "        vertical-align: middle;\n",
              "    }\n",
              "\n",
              "    .dataframe tbody tr th {\n",
              "        vertical-align: top;\n",
              "    }\n",
              "\n",
              "    .dataframe thead th {\n",
              "        text-align: right;\n",
              "    }\n",
              "</style>\n",
              "<table border=\"1\" class=\"dataframe\">\n",
              "  <thead>\n",
              "    <tr style=\"text-align: right;\">\n",
              "      <th>Regola</th>\n",
              "      <th>N &gt; 5.5 and F0 &lt;= -7.5 and PER &gt; 0.42499999701976776 and v0 &gt; 64.5</th>\n",
              "      <th>N &gt; 5.5 and F0 &lt;= -4.5 and PER &lt;= 0.4449999928474426 and PER &gt; 0.4350000023841858 and v0 &gt; 57.5</th>\n",
              "      <th>PER &lt;= 0.41499999165534973 and v0 &lt;= 45.5</th>\n",
              "      <th>N &lt;= 7.5 and F0 &gt; -7.5 and PER &lt;= 0.32500000298023224</th>\n",
              "      <th>N &lt;= 5.5 and v0 &lt;= 54.5</th>\n",
              "      <th>F0 &gt; -4.5 and PER &lt;= 0.41499999165534973 and v0 &gt; 64.5</th>\n",
              "      <th>N &lt;= 5.5 and PER &gt; 0.35500000417232513 and v0 &lt;= 45.5</th>\n",
              "      <th>N &lt;= 7.5 and F0 &lt;= -6.5 and F0 &gt; -7.5 and PER &lt;= 0.32500000298023224</th>\n",
              "    </tr>\n",
              "    <tr>\n",
              "      <th>Regola</th>\n",
              "      <th></th>\n",
              "      <th></th>\n",
              "      <th></th>\n",
              "      <th></th>\n",
              "      <th></th>\n",
              "      <th></th>\n",
              "      <th></th>\n",
              "      <th></th>\n",
              "    </tr>\n",
              "  </thead>\n",
              "  <tbody>\n",
              "    <tr>\n",
              "      <th>N &gt; 5.5 and F0 &lt;= -7.5 and PER &gt; 0.42499999701976776 and v0 &gt; 64.5</th>\n",
              "      <td>1.000000</td>\n",
              "      <td>0.752892</td>\n",
              "      <td>0.000000</td>\n",
              "      <td>0.000000</td>\n",
              "      <td>0.000000</td>\n",
              "      <td>0.326018</td>\n",
              "      <td>0.221965</td>\n",
              "      <td>0.170055</td>\n",
              "    </tr>\n",
              "    <tr>\n",
              "      <th>N &gt; 5.5 and F0 &lt;= -4.5 and PER &lt;= 0.4449999928474426 and PER &gt; 0.4350000023841858 and v0 &gt; 57.5</th>\n",
              "      <td>0.752892</td>\n",
              "      <td>1.000000</td>\n",
              "      <td>0.364405</td>\n",
              "      <td>0.166667</td>\n",
              "      <td>0.000000</td>\n",
              "      <td>0.388666</td>\n",
              "      <td>0.192450</td>\n",
              "      <td>0.344031</td>\n",
              "    </tr>\n",
              "    <tr>\n",
              "      <th>PER &lt;= 0.41499999165534973 and v0 &lt;= 45.5</th>\n",
              "      <td>0.000000</td>\n",
              "      <td>0.364405</td>\n",
              "      <td>1.000000</td>\n",
              "      <td>0.312348</td>\n",
              "      <td>0.360668</td>\n",
              "      <td>0.413860</td>\n",
              "      <td>0.360668</td>\n",
              "      <td>0.276319</td>\n",
              "    </tr>\n",
              "    <tr>\n",
              "      <th>N &lt;= 7.5 and F0 &gt; -7.5 and PER &lt;= 0.32500000298023224</th>\n",
              "      <td>0.000000</td>\n",
              "      <td>0.166667</td>\n",
              "      <td>0.312348</td>\n",
              "      <td>1.000000</td>\n",
              "      <td>0.288675</td>\n",
              "      <td>0.423999</td>\n",
              "      <td>0.288675</td>\n",
              "      <td>0.884652</td>\n",
              "    </tr>\n",
              "    <tr>\n",
              "      <th>N &lt;= 5.5 and v0 &lt;= 54.5</th>\n",
              "      <td>0.000000</td>\n",
              "      <td>0.000000</td>\n",
              "      <td>0.360668</td>\n",
              "      <td>0.288675</td>\n",
              "      <td>1.000000</td>\n",
              "      <td>0.000000</td>\n",
              "      <td>0.666667</td>\n",
              "      <td>0.255377</td>\n",
              "    </tr>\n",
              "  </tbody>\n",
              "</table>\n",
              "</div>"
            ],
            "text/plain": [
              "Regola                                              N > 5.5 and F0 <= -7.5 and PER > 0.42499999701976776 and v0 > 64.5  ...  N <= 7.5 and F0 <= -6.5 and F0 > -7.5 and PER <= 0.32500000298023224\n",
              "Regola                                                                                                                  ...                                                                      \n",
              "N > 5.5 and F0 <= -7.5 and PER > 0.424999997019...                                           1.000000                   ...                                           0.170055                   \n",
              "N > 5.5 and F0 <= -4.5 and PER <= 0.44499999284...                                           0.752892                   ...                                           0.344031                   \n",
              "PER <= 0.41499999165534973 and v0 <= 45.5                                                    0.000000                   ...                                           0.276319                   \n",
              "N <= 7.5 and F0 > -7.5 and PER <= 0.32500000298...                                           0.000000                   ...                                           0.884652                   \n",
              "N <= 5.5 and v0 <= 54.5                                                                      0.000000                   ...                                           0.255377                   \n",
              "\n",
              "[5 rows x 8 columns]"
            ]
          },
          "metadata": {
            "tags": []
          },
          "execution_count": 220
        }
      ]
    },
    {
      "cell_type": "code",
      "metadata": {
        "id": "v1mzip58lhXA"
      },
      "source": [
        "MatriceVicinanza.to_excel(base_dir + 'MatriceVicinanzaP.xlsx', index=True)"
      ],
      "execution_count": null,
      "outputs": []
    },
    {
      "cell_type": "markdown",
      "metadata": {
        "id": "_e8ok0m9s_om"
      },
      "source": [
        "#Dataset utilizzato per generare le regole"
      ]
    },
    {
      "cell_type": "code",
      "metadata": {
        "id": "0k5CDZRJtF5V"
      },
      "source": [
        "# Import librairies\n",
        "import pandas as pd\n",
        "# Load the data\n",
        "datiBilanciati = pd.read_csv(base_dir+\"sample.txt\", sep=\"\\t\") "
      ],
      "execution_count": null,
      "outputs": []
    },
    {
      "cell_type": "code",
      "metadata": {
        "colab": {
          "base_uri": "https://localhost:8080/",
          "height": 417
        },
        "id": "kmMN8_x9tfwc",
        "outputId": "a5d5a074-67c0-4369-87aa-cb3a778853c2"
      },
      "source": [
        "#Per> = datiBilanciati.loc('PER'>0.5)\n",
        "\n",
        "#datiBilanciati.PER == 0.5\n",
        "\n",
        "PERAlta = datiBilanciati.loc[(datiBilanciati.PER<0.5) & (datiBilanciati.collision==1) ]\n",
        "PERAlta"
      ],
      "execution_count": null,
      "outputs": [
        {
          "output_type": "execute_result",
          "data": {
            "text/html": [
              "<div>\n",
              "<style scoped>\n",
              "    .dataframe tbody tr th:only-of-type {\n",
              "        vertical-align: middle;\n",
              "    }\n",
              "\n",
              "    .dataframe tbody tr th {\n",
              "        vertical-align: top;\n",
              "    }\n",
              "\n",
              "    .dataframe thead th {\n",
              "        text-align: right;\n",
              "    }\n",
              "</style>\n",
              "<table border=\"1\" class=\"dataframe\">\n",
              "  <thead>\n",
              "    <tr style=\"text-align: right;\">\n",
              "      <th></th>\n",
              "      <th>N</th>\n",
              "      <th>F0</th>\n",
              "      <th>PER</th>\n",
              "      <th>d0</th>\n",
              "      <th>v0</th>\n",
              "      <th>collision</th>\n",
              "    </tr>\n",
              "  </thead>\n",
              "  <tbody>\n",
              "    <tr>\n",
              "      <th>0</th>\n",
              "      <td>10</td>\n",
              "      <td>-6</td>\n",
              "      <td>0.26</td>\n",
              "      <td>8.057</td>\n",
              "      <td>26</td>\n",
              "      <td>1</td>\n",
              "    </tr>\n",
              "    <tr>\n",
              "      <th>4</th>\n",
              "      <td>10</td>\n",
              "      <td>-6</td>\n",
              "      <td>0.20</td>\n",
              "      <td>4.910</td>\n",
              "      <td>65</td>\n",
              "      <td>1</td>\n",
              "    </tr>\n",
              "    <tr>\n",
              "      <th>22</th>\n",
              "      <td>10</td>\n",
              "      <td>-2</td>\n",
              "      <td>0.12</td>\n",
              "      <td>5.969</td>\n",
              "      <td>85</td>\n",
              "      <td>1</td>\n",
              "    </tr>\n",
              "    <tr>\n",
              "      <th>32</th>\n",
              "      <td>9</td>\n",
              "      <td>-5</td>\n",
              "      <td>0.31</td>\n",
              "      <td>6.197</td>\n",
              "      <td>55</td>\n",
              "      <td>1</td>\n",
              "    </tr>\n",
              "    <tr>\n",
              "      <th>35</th>\n",
              "      <td>10</td>\n",
              "      <td>-3</td>\n",
              "      <td>0.18</td>\n",
              "      <td>5.474</td>\n",
              "      <td>86</td>\n",
              "      <td>1</td>\n",
              "    </tr>\n",
              "    <tr>\n",
              "      <th>...</th>\n",
              "      <td>...</td>\n",
              "      <td>...</td>\n",
              "      <td>...</td>\n",
              "      <td>...</td>\n",
              "      <td>...</td>\n",
              "      <td>...</td>\n",
              "    </tr>\n",
              "    <tr>\n",
              "      <th>19940</th>\n",
              "      <td>9</td>\n",
              "      <td>-3</td>\n",
              "      <td>0.37</td>\n",
              "      <td>8.384</td>\n",
              "      <td>31</td>\n",
              "      <td>1</td>\n",
              "    </tr>\n",
              "    <tr>\n",
              "      <th>19944</th>\n",
              "      <td>9</td>\n",
              "      <td>-3</td>\n",
              "      <td>0.37</td>\n",
              "      <td>5.489</td>\n",
              "      <td>89</td>\n",
              "      <td>1</td>\n",
              "    </tr>\n",
              "    <tr>\n",
              "      <th>19957</th>\n",
              "      <td>8</td>\n",
              "      <td>-8</td>\n",
              "      <td>0.49</td>\n",
              "      <td>7.751</td>\n",
              "      <td>68</td>\n",
              "      <td>1</td>\n",
              "    </tr>\n",
              "    <tr>\n",
              "      <th>19988</th>\n",
              "      <td>9</td>\n",
              "      <td>-2</td>\n",
              "      <td>0.37</td>\n",
              "      <td>4.636</td>\n",
              "      <td>64</td>\n",
              "      <td>1</td>\n",
              "    </tr>\n",
              "    <tr>\n",
              "      <th>19994</th>\n",
              "      <td>10</td>\n",
              "      <td>-2</td>\n",
              "      <td>0.05</td>\n",
              "      <td>8.523</td>\n",
              "      <td>60</td>\n",
              "      <td>1</td>\n",
              "    </tr>\n",
              "  </tbody>\n",
              "</table>\n",
              "<p>1941 rows × 6 columns</p>\n",
              "</div>"
            ],
            "text/plain": [
              "        N  F0   PER     d0  v0  collision\n",
              "0      10  -6  0.26  8.057  26          1\n",
              "4      10  -6  0.20  4.910  65          1\n",
              "22     10  -2  0.12  5.969  85          1\n",
              "32      9  -5  0.31  6.197  55          1\n",
              "35     10  -3  0.18  5.474  86          1\n",
              "...    ..  ..   ...    ...  ..        ...\n",
              "19940   9  -3  0.37  8.384  31          1\n",
              "19944   9  -3  0.37  5.489  89          1\n",
              "19957   8  -8  0.49  7.751  68          1\n",
              "19988   9  -2  0.37  4.636  64          1\n",
              "19994  10  -2  0.05  8.523  60          1\n",
              "\n",
              "[1941 rows x 6 columns]"
            ]
          },
          "metadata": {
            "tags": []
          },
          "execution_count": 13
        }
      ]
    }
  ]
}